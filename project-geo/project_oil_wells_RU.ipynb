{
 "cells": [
  {
   "cell_type": "markdown",
   "metadata": {},
   "source": [
    "# Выбор локации для скважины"
   ]
  },
  {
   "cell_type": "markdown",
   "metadata": {},
   "source": [
    "Изучить данные о проба нефти в трёх регионах: в каждом 10 000 месторождений, где измерили качество нефти и объём её запасов. Построить модель машинного обучения, которая поможет определить регион, где добыча принесёт наибольшую прибыль. Проанализировать возможную прибыль и риски.\n",
    "\n",
    "Шаги для выбора локации:\n",
    "\n",
    "- В избранном регионе ищут месторождения, для каждого определяют значения признаков;\n",
    "- Строят модель и оценивают объём запасов;\n",
    "- Выбирают месторождения с самым высокими оценками значений. Количество месторождений зависит от бюджета компании и стоимости разработки одной скважины;\n",
    "- Прибыль равна суммарной прибыли отобранных месторождений."
   ]
  },
  {
   "cell_type": "markdown",
   "metadata": {
    "toc": true
   },
   "source": [
    "<h1>Table of Contents<span class=\"tocSkip\"></span></h1>\n",
    "<div class=\"toc\"><ul class=\"toc-item\"><li><span><a href=\"#Загрузка-и-подготовка-данных\" data-toc-modified-id=\"Загрузка-и-подготовка-данных-1\"><span class=\"toc-item-num\">1&nbsp;&nbsp;</span>Загрузка и подготовка данных</a></span></li><li><span><a href=\"#Обучение-и-проверка-модели\" data-toc-modified-id=\"Обучение-и-проверка-модели-2\"><span class=\"toc-item-num\">2&nbsp;&nbsp;</span>Обучение и проверка модели</a></span><ul class=\"toc-item\"><li><span><a href=\"#Вывод\" data-toc-modified-id=\"Вывод-2.1\"><span class=\"toc-item-num\">2.1&nbsp;&nbsp;</span>Вывод</a></span></li></ul></li><li><span><a href=\"#Подготовка-к-расчёту-прибыли\" data-toc-modified-id=\"Подготовка-к-расчёту-прибыли-3\"><span class=\"toc-item-num\">3&nbsp;&nbsp;</span>Подготовка к расчёту прибыли</a></span><ul class=\"toc-item\"><li><span><a href=\"#Вывод\" data-toc-modified-id=\"Вывод-3.1\"><span class=\"toc-item-num\">3.1&nbsp;&nbsp;</span>Вывод</a></span></li></ul></li><li><span><a href=\"#Расчёт-прибыли-и-рисков\" data-toc-modified-id=\"Расчёт-прибыли-и-рисков-4\"><span class=\"toc-item-num\">4&nbsp;&nbsp;</span>Расчёт прибыли и рисков</a></span><ul class=\"toc-item\"><li><span><a href=\"#Вывод\" data-toc-modified-id=\"Вывод-4.1\"><span class=\"toc-item-num\">4.1&nbsp;&nbsp;</span>Вывод</a></span></li></ul></li><li><span><a href=\"#Общий-вывод\" data-toc-modified-id=\"Общий-вывод-5\"><span class=\"toc-item-num\">5&nbsp;&nbsp;</span>Общий вывод</a></span></li><li><span><a href=\"#Чек-лист-готовности-проекта\" data-toc-modified-id=\"Чек-лист-готовности-проекта-6\"><span class=\"toc-item-num\">6&nbsp;&nbsp;</span>Чек-лист готовности проекта</a></span></li></ul></div>"
   ]
  },
  {
   "cell_type": "markdown",
   "metadata": {},
   "source": [
    "## Загрузка и подготовка данных"
   ]
  },
  {
   "cell_type": "code",
   "execution_count": 1,
   "metadata": {},
   "outputs": [],
   "source": [
    "import pandas as pd\n",
    "import numpy as np\n",
    "\n",
    "from sklearn.model_selection import train_test_split\n",
    "from sklearn.linear_model import LinearRegression\n",
    "from sklearn.metrics import mean_squared_error"
   ]
  },
  {
   "cell_type": "code",
   "execution_count": 2,
   "metadata": {},
   "outputs": [],
   "source": [
    "df0 = pd.read_csv('/datasets/geo_data_0.csv')\n",
    "df1 = pd.read_csv('/datasets/geo_data_1.csv')\n",
    "df2 = pd.read_csv('/datasets/geo_data_2.csv')\n",
    "\n",
    "# df0 = pd.read_csv('geo_data_0.csv')\n",
    "# df1 = pd.read_csv('geo_data_1.csv')\n",
    "# df2 = pd.read_csv('geo_data_2.csv')"
   ]
  },
  {
   "cell_type": "code",
   "execution_count": 3,
   "metadata": {},
   "outputs": [
    {
     "data": {
      "text/html": [
       "<div>\n",
       "<style scoped>\n",
       "    .dataframe tbody tr th:only-of-type {\n",
       "        vertical-align: middle;\n",
       "    }\n",
       "\n",
       "    .dataframe tbody tr th {\n",
       "        vertical-align: top;\n",
       "    }\n",
       "\n",
       "    .dataframe thead th {\n",
       "        text-align: right;\n",
       "    }\n",
       "</style>\n",
       "<table border=\"1\" class=\"dataframe\">\n",
       "  <thead>\n",
       "    <tr style=\"text-align: right;\">\n",
       "      <th></th>\n",
       "      <th>id</th>\n",
       "      <th>f0</th>\n",
       "      <th>f1</th>\n",
       "      <th>f2</th>\n",
       "      <th>product</th>\n",
       "    </tr>\n",
       "  </thead>\n",
       "  <tbody>\n",
       "    <tr>\n",
       "      <th>0</th>\n",
       "      <td>txEyH</td>\n",
       "      <td>0.705745</td>\n",
       "      <td>-0.497823</td>\n",
       "      <td>1.221170</td>\n",
       "      <td>105.280062</td>\n",
       "    </tr>\n",
       "    <tr>\n",
       "      <th>1</th>\n",
       "      <td>2acmU</td>\n",
       "      <td>1.334711</td>\n",
       "      <td>-0.340164</td>\n",
       "      <td>4.365080</td>\n",
       "      <td>73.037750</td>\n",
       "    </tr>\n",
       "    <tr>\n",
       "      <th>2</th>\n",
       "      <td>409Wp</td>\n",
       "      <td>1.022732</td>\n",
       "      <td>0.151990</td>\n",
       "      <td>1.419926</td>\n",
       "      <td>85.265647</td>\n",
       "    </tr>\n",
       "    <tr>\n",
       "      <th>3</th>\n",
       "      <td>iJLyR</td>\n",
       "      <td>-0.032172</td>\n",
       "      <td>0.139033</td>\n",
       "      <td>2.978566</td>\n",
       "      <td>168.620776</td>\n",
       "    </tr>\n",
       "    <tr>\n",
       "      <th>4</th>\n",
       "      <td>Xdl7t</td>\n",
       "      <td>1.988431</td>\n",
       "      <td>0.155413</td>\n",
       "      <td>4.751769</td>\n",
       "      <td>154.036647</td>\n",
       "    </tr>\n",
       "  </tbody>\n",
       "</table>\n",
       "</div>"
      ],
      "text/plain": [
       "      id        f0        f1        f2     product\n",
       "0  txEyH  0.705745 -0.497823  1.221170  105.280062\n",
       "1  2acmU  1.334711 -0.340164  4.365080   73.037750\n",
       "2  409Wp  1.022732  0.151990  1.419926   85.265647\n",
       "3  iJLyR -0.032172  0.139033  2.978566  168.620776\n",
       "4  Xdl7t  1.988431  0.155413  4.751769  154.036647"
      ]
     },
     "metadata": {},
     "output_type": "display_data"
    },
    {
     "name": "stdout",
     "output_type": "stream",
     "text": [
      "<class 'pandas.core.frame.DataFrame'>\n",
      "RangeIndex: 100000 entries, 0 to 99999\n",
      "Data columns (total 5 columns):\n",
      " #   Column   Non-Null Count   Dtype  \n",
      "---  ------   --------------   -----  \n",
      " 0   id       100000 non-null  object \n",
      " 1   f0       100000 non-null  float64\n",
      " 2   f1       100000 non-null  float64\n",
      " 3   f2       100000 non-null  float64\n",
      " 4   product  100000 non-null  float64\n",
      "dtypes: float64(4), object(1)\n",
      "memory usage: 3.8+ MB\n",
      "\n"
     ]
    },
    {
     "data": {
      "text/html": [
       "<div>\n",
       "<style scoped>\n",
       "    .dataframe tbody tr th:only-of-type {\n",
       "        vertical-align: middle;\n",
       "    }\n",
       "\n",
       "    .dataframe tbody tr th {\n",
       "        vertical-align: top;\n",
       "    }\n",
       "\n",
       "    .dataframe thead th {\n",
       "        text-align: right;\n",
       "    }\n",
       "</style>\n",
       "<table border=\"1\" class=\"dataframe\">\n",
       "  <thead>\n",
       "    <tr style=\"text-align: right;\">\n",
       "      <th></th>\n",
       "      <th>id</th>\n",
       "      <th>f0</th>\n",
       "      <th>f1</th>\n",
       "      <th>f2</th>\n",
       "      <th>product</th>\n",
       "    </tr>\n",
       "  </thead>\n",
       "  <tbody>\n",
       "    <tr>\n",
       "      <th>0</th>\n",
       "      <td>kBEdx</td>\n",
       "      <td>-15.001348</td>\n",
       "      <td>-8.276000</td>\n",
       "      <td>-0.005876</td>\n",
       "      <td>3.179103</td>\n",
       "    </tr>\n",
       "    <tr>\n",
       "      <th>1</th>\n",
       "      <td>62mP7</td>\n",
       "      <td>14.272088</td>\n",
       "      <td>-3.475083</td>\n",
       "      <td>0.999183</td>\n",
       "      <td>26.953261</td>\n",
       "    </tr>\n",
       "    <tr>\n",
       "      <th>2</th>\n",
       "      <td>vyE1P</td>\n",
       "      <td>6.263187</td>\n",
       "      <td>-5.948386</td>\n",
       "      <td>5.001160</td>\n",
       "      <td>134.766305</td>\n",
       "    </tr>\n",
       "    <tr>\n",
       "      <th>3</th>\n",
       "      <td>KcrkZ</td>\n",
       "      <td>-13.081196</td>\n",
       "      <td>-11.506057</td>\n",
       "      <td>4.999415</td>\n",
       "      <td>137.945408</td>\n",
       "    </tr>\n",
       "    <tr>\n",
       "      <th>4</th>\n",
       "      <td>AHL4O</td>\n",
       "      <td>12.702195</td>\n",
       "      <td>-8.147433</td>\n",
       "      <td>5.004363</td>\n",
       "      <td>134.766305</td>\n",
       "    </tr>\n",
       "  </tbody>\n",
       "</table>\n",
       "</div>"
      ],
      "text/plain": [
       "      id         f0         f1        f2     product\n",
       "0  kBEdx -15.001348  -8.276000 -0.005876    3.179103\n",
       "1  62mP7  14.272088  -3.475083  0.999183   26.953261\n",
       "2  vyE1P   6.263187  -5.948386  5.001160  134.766305\n",
       "3  KcrkZ -13.081196 -11.506057  4.999415  137.945408\n",
       "4  AHL4O  12.702195  -8.147433  5.004363  134.766305"
      ]
     },
     "metadata": {},
     "output_type": "display_data"
    },
    {
     "name": "stdout",
     "output_type": "stream",
     "text": [
      "<class 'pandas.core.frame.DataFrame'>\n",
      "RangeIndex: 100000 entries, 0 to 99999\n",
      "Data columns (total 5 columns):\n",
      " #   Column   Non-Null Count   Dtype  \n",
      "---  ------   --------------   -----  \n",
      " 0   id       100000 non-null  object \n",
      " 1   f0       100000 non-null  float64\n",
      " 2   f1       100000 non-null  float64\n",
      " 3   f2       100000 non-null  float64\n",
      " 4   product  100000 non-null  float64\n",
      "dtypes: float64(4), object(1)\n",
      "memory usage: 3.8+ MB\n",
      "\n"
     ]
    },
    {
     "data": {
      "text/html": [
       "<div>\n",
       "<style scoped>\n",
       "    .dataframe tbody tr th:only-of-type {\n",
       "        vertical-align: middle;\n",
       "    }\n",
       "\n",
       "    .dataframe tbody tr th {\n",
       "        vertical-align: top;\n",
       "    }\n",
       "\n",
       "    .dataframe thead th {\n",
       "        text-align: right;\n",
       "    }\n",
       "</style>\n",
       "<table border=\"1\" class=\"dataframe\">\n",
       "  <thead>\n",
       "    <tr style=\"text-align: right;\">\n",
       "      <th></th>\n",
       "      <th>id</th>\n",
       "      <th>f0</th>\n",
       "      <th>f1</th>\n",
       "      <th>f2</th>\n",
       "      <th>product</th>\n",
       "    </tr>\n",
       "  </thead>\n",
       "  <tbody>\n",
       "    <tr>\n",
       "      <th>0</th>\n",
       "      <td>fwXo0</td>\n",
       "      <td>-1.146987</td>\n",
       "      <td>0.963328</td>\n",
       "      <td>-0.828965</td>\n",
       "      <td>27.758673</td>\n",
       "    </tr>\n",
       "    <tr>\n",
       "      <th>1</th>\n",
       "      <td>WJtFt</td>\n",
       "      <td>0.262778</td>\n",
       "      <td>0.269839</td>\n",
       "      <td>-2.530187</td>\n",
       "      <td>56.069697</td>\n",
       "    </tr>\n",
       "    <tr>\n",
       "      <th>2</th>\n",
       "      <td>ovLUW</td>\n",
       "      <td>0.194587</td>\n",
       "      <td>0.289035</td>\n",
       "      <td>-5.586433</td>\n",
       "      <td>62.871910</td>\n",
       "    </tr>\n",
       "    <tr>\n",
       "      <th>3</th>\n",
       "      <td>q6cA6</td>\n",
       "      <td>2.236060</td>\n",
       "      <td>-0.553760</td>\n",
       "      <td>0.930038</td>\n",
       "      <td>114.572842</td>\n",
       "    </tr>\n",
       "    <tr>\n",
       "      <th>4</th>\n",
       "      <td>WPMUX</td>\n",
       "      <td>-0.515993</td>\n",
       "      <td>1.716266</td>\n",
       "      <td>5.899011</td>\n",
       "      <td>149.600746</td>\n",
       "    </tr>\n",
       "  </tbody>\n",
       "</table>\n",
       "</div>"
      ],
      "text/plain": [
       "      id        f0        f1        f2     product\n",
       "0  fwXo0 -1.146987  0.963328 -0.828965   27.758673\n",
       "1  WJtFt  0.262778  0.269839 -2.530187   56.069697\n",
       "2  ovLUW  0.194587  0.289035 -5.586433   62.871910\n",
       "3  q6cA6  2.236060 -0.553760  0.930038  114.572842\n",
       "4  WPMUX -0.515993  1.716266  5.899011  149.600746"
      ]
     },
     "metadata": {},
     "output_type": "display_data"
    },
    {
     "name": "stdout",
     "output_type": "stream",
     "text": [
      "<class 'pandas.core.frame.DataFrame'>\n",
      "RangeIndex: 100000 entries, 0 to 99999\n",
      "Data columns (total 5 columns):\n",
      " #   Column   Non-Null Count   Dtype  \n",
      "---  ------   --------------   -----  \n",
      " 0   id       100000 non-null  object \n",
      " 1   f0       100000 non-null  float64\n",
      " 2   f1       100000 non-null  float64\n",
      " 3   f2       100000 non-null  float64\n",
      " 4   product  100000 non-null  float64\n",
      "dtypes: float64(4), object(1)\n",
      "memory usage: 3.8+ MB\n"
     ]
    }
   ],
   "source": [
    "display(df0.head())\n",
    "df0.info()\n",
    "print()\n",
    "display(df1.head())\n",
    "df1.info()\n",
    "print()\n",
    "display(df2.head())\n",
    "df2.info()"
   ]
  },
  {
   "cell_type": "code",
   "execution_count": 4,
   "metadata": {},
   "outputs": [
    {
     "name": "stdout",
     "output_type": "stream",
     "text": [
      "Количество дубликатов в каждом датасете: 0 0 0\n"
     ]
    }
   ],
   "source": [
    "print(\"Количество дубликатов в каждом датасете:\",\n",
    "    df0[['f0', 'f1', 'f2']].duplicated().sum(),\n",
    "      df1[['f0', 'f1', 'f2']].duplicated().sum(),\n",
    "      df2[['f0', 'f1', 'f2']].duplicated().sum())"
   ]
  },
  {
   "cell_type": "code",
   "execution_count": 5,
   "metadata": {
    "scrolled": true
   },
   "outputs": [],
   "source": [
    "df0.drop('id', axis=1, inplace=True)\n",
    "df1.drop('id', axis=1, inplace=True)\n",
    "df2.drop('id', axis=1, inplace=True)"
   ]
  },
  {
   "cell_type": "markdown",
   "metadata": {},
   "source": [
    "## Обучение и проверка модели"
   ]
  },
  {
   "cell_type": "code",
   "execution_count": 20,
   "metadata": {},
   "outputs": [],
   "source": [
    "# функция для автоматизации проверки модели, возвращает словарь со значением RMSE, массивы предсказаний и истинных значений\n",
    "def check(df):\n",
    "    # разделяем выборку на обучающую и валидационную\n",
    "    X_train, X_valid, y_train, y_valid = train_test_split(df.drop(['product'], axis=1), \n",
    "                                                      df['product'], \n",
    "                                                      test_size=.25, random_state=25)\n",
    "    model = LinearRegression() \n",
    "    model.fit(X_train, y_train) \n",
    "    predictions = model.predict(X_valid)\n",
    "    \n",
    "    result = {}\n",
    "    result['RMSE'] = mean_squared_error(y_valid, predictions) ** 0.5\n",
    "    result['predictions'] = predictions\n",
    "    result['true'] = y_valid.values\n",
    "    \n",
    "    return result"
   ]
  },
  {
   "cell_type": "code",
   "execution_count": 21,
   "metadata": {
    "scrolled": false
   },
   "outputs": [
    {
     "name": "stdout",
     "output_type": "stream",
     "text": [
      "RMSE в регионе 0: 37.65\n",
      "RMSE в регионе 1: 0.89\n",
      "RMSE в регионе 2: 40.08\n",
      "\n",
      "Cредний запас предсказанного сырья\n",
      "в регионе 0: 92.65\n",
      "в регионе 1: 69.27\n",
      "в регионе 2: 94.90\n"
     ]
    }
   ],
   "source": [
    "results = [check(d) for d in [df0, df1, df2]]\n",
    "\n",
    "for i in range(3):\n",
    "    print (f\"RMSE в регионе {i}: {results[i]['RMSE']:.2f}\" )\n",
    "\n",
    "print(\"\\nCредний запас предсказанного сырья\")    \n",
    "for i in range(3):\n",
    "    mean = np.mean(results[i]['predictions'])\n",
    "    print (f\"в регионе {i}: {mean:.2f}\" )"
   ]
  },
  {
   "cell_type": "markdown",
   "metadata": {},
   "source": [
    "### Вывод\n",
    "RMSE для модели с предсказаниями для второго региона меньше. Можно предположить, что она работает лучше."
   ]
  },
  {
   "cell_type": "markdown",
   "metadata": {},
   "source": [
    "## Подготовка к расчёту прибыли"
   ]
  },
  {
   "cell_type": "code",
   "execution_count": 22,
   "metadata": {},
   "outputs": [
    {
     "name": "stdout",
     "output_type": "stream",
     "text": [
      "Необходимый объём запасов в скважине (тыс. баррелей): 111.11\n"
     ]
    }
   ],
   "source": [
    "product_price = 450e3\n",
    "investments = 10e9\n",
    "\n",
    "budget_per_well = investments / 200\n",
    "required_product = budget_per_well / product_price\n",
    "\n",
    "print(\"Необходимый объём запасов в скважине (тыс. баррелей):\", round(required_product, 2))"
   ]
  },
  {
   "cell_type": "code",
   "execution_count": 23,
   "metadata": {},
   "outputs": [],
   "source": [
    "def revenue(predictions, target):\n",
    "    predictions_sorted = predictions.sort_values(ascending=False)\n",
    "    selected = target[predictions_sorted.index][:200]\n",
    "    return selected.sum() * product_price - investments"
   ]
  },
  {
   "cell_type": "markdown",
   "metadata": {},
   "source": [
    "### Вывод\n",
    "Необходимый объём запасов в скважине превышает средние запасы по регионам. Однако для регионов 0 и 2 это превышение составляет всего 20%, тогда как для региона 1 - порядка 50%.\n"
   ]
  },
  {
   "cell_type": "markdown",
   "metadata": {},
   "source": [
    "## Расчёт прибыли и рисков "
   ]
  },
  {
   "cell_type": "code",
   "execution_count": 25,
   "metadata": {
    "scrolled": false
   },
   "outputs": [
    {
     "name": "stdout",
     "output_type": "stream",
     "text": [
      "Регион 0\n",
      "Средняя выручка: 0.4\n",
      "Доверительный интервал: (-0.1, 0.9)\n",
      "Риск убытков составляет: 5.90 %\n",
      "\n",
      "Регион 1\n",
      "Средняя выручка: 0.55\n",
      "Доверительный интервал: (0.14, 0.99)\n",
      "Риск убытков составляет: 0.10 %\n",
      "\n",
      "Регион 2\n",
      "Средняя выручка: 0.37\n",
      "Доверительный интервал: (-0.17, 0.91)\n",
      "Риск убытков составляет: 8.90 %\n",
      "\n"
     ]
    }
   ],
   "source": [
    "state = np.random.RandomState(25)\n",
    "\n",
    "for n in range(3):  #цикл по каждому региону\n",
    "    data = pd.DataFrame.from_dict(data= results[n], orient='columns').drop('RMSE', axis=1)    \n",
    "    \n",
    "    # Bootstrap с 1000 выборок\n",
    "    values = []\n",
    "    for i in range(1000): \n",
    "        target_subsample = data['true'].sample(n=500, replace=True, random_state=state)\n",
    "        predictions_subsample = data['predictions'][target_subsample.index]\n",
    "        result = revenue(predictions_subsample, target_subsample)\n",
    "        values.append(result)\n",
    "\n",
    "    values = pd.Series(values) / 1e9\n",
    "    percentage_of_negative = values[values<0].count() / len(values) * 100\n",
    "\n",
    "    mean = values.mean()\n",
    "    lower = values.quantile(0.025)\n",
    "    upper = values.quantile(0.975)\n",
    "    \n",
    "    print(f\"Регион {n}\")\n",
    "    print(\"Средняя выручка:\", round(mean, 2))\n",
    "    print(\"Доверительный интервал:\", (round(lower, 2), round(upper, 2)))\n",
    "    print(f\"Риск убытков составляет: {percentage_of_negative:.2f} %\\n\")"
   ]
  },
  {
   "cell_type": "code",
   "execution_count": 38,
   "metadata": {},
   "outputs": [
    {
     "name": "stdout",
     "output_type": "stream",
     "text": [
      "7.325000000000001 5.194250000000002 7.5500000000000025\n"
     ]
    }
   ],
   "source": [
    "print(df0['product'].mean() * 200 *450e3 /1e9 - 1,\n",
    "    df1['product'].mean() * 200 *450e3 /1e9 - 1,\n",
    "    df2['product'].mean() * 200 *450e3 /1e9 - 1)"
   ]
  },
  {
   "cell_type": "markdown",
   "metadata": {},
   "source": [
    "### Вывод\n",
    "Максимальной выручки и наименьшего риска можно достичь в регионе 1 (0.55 млрд руб.). Для региона 0 средняя выручка - 0.40, для региона 2 - 0.37, риск убытков составляет 6 и 7 %, соответственно.\n",
    "Оптимальный регион для разработки скважин - регион 1."
   ]
  },
  {
   "cell_type": "markdown",
   "metadata": {},
   "source": [
    "## Общий вывод\n",
    "Проанализировали датасеты с характеристиками скважин из 3 трех регионов. Каждая выборка разделена на обучающую и валидационную 3:1. В качестве модели регрессии использовали линейную регрессию.\n",
    "\n",
    "Посчитали риски и прибыль для каждого региона (построили распределение средних техникой bootstrap и выбрали 95%-й доверительный интервал).\n",
    "\n",
    "Оптимальный регион для разработки скважин - регион 1 со средней выручкой 0.55 млрд и риском убытков 0.10%."
   ]
  }
 ],
 "metadata": {
  "ExecuteTimeLog": [
   {
    "duration": 527,
    "start_time": "2022-03-26T10:17:21.635Z"
   },
   {
    "duration": 418,
    "start_time": "2022-03-26T10:18:44.657Z"
   },
   {
    "duration": 430,
    "start_time": "2022-03-26T10:19:23.880Z"
   },
   {
    "duration": 435,
    "start_time": "2022-03-26T10:19:51.461Z"
   },
   {
    "duration": 415,
    "start_time": "2022-03-26T10:19:57.846Z"
   },
   {
    "duration": 31,
    "start_time": "2022-03-26T10:20:01.738Z"
   },
   {
    "duration": 46,
    "start_time": "2022-03-26T10:20:22.601Z"
   },
   {
    "duration": 69,
    "start_time": "2022-03-26T10:20:29.897Z"
   },
   {
    "duration": 57,
    "start_time": "2022-03-26T10:20:46.681Z"
   },
   {
    "duration": 65,
    "start_time": "2022-03-26T10:20:51.850Z"
   },
   {
    "duration": 59,
    "start_time": "2022-03-26T10:20:54.238Z"
   },
   {
    "duration": 60,
    "start_time": "2022-03-26T10:21:05.324Z"
   },
   {
    "duration": 30,
    "start_time": "2022-03-26T10:21:21.678Z"
   },
   {
    "duration": 30,
    "start_time": "2022-03-26T10:21:29.957Z"
   },
   {
    "duration": 31,
    "start_time": "2022-03-26T10:21:32.215Z"
   },
   {
    "duration": 76,
    "start_time": "2022-03-26T10:21:42.497Z"
   },
   {
    "duration": 70,
    "start_time": "2022-03-26T10:22:05.735Z"
   },
   {
    "duration": 72,
    "start_time": "2022-03-26T10:22:18.334Z"
   },
   {
    "duration": 33,
    "start_time": "2022-03-26T10:22:29.971Z"
   },
   {
    "duration": 1671,
    "start_time": "2022-03-26T10:23:12.401Z"
   },
   {
    "duration": 23,
    "start_time": "2022-03-26T10:23:15.130Z"
   },
   {
    "duration": 29,
    "start_time": "2022-03-26T10:24:33.360Z"
   },
   {
    "duration": 89,
    "start_time": "2022-03-26T10:24:39.421Z"
   },
   {
    "duration": 38,
    "start_time": "2022-03-26T10:24:42.881Z"
   },
   {
    "duration": 2516,
    "start_time": "2022-03-26T10:29:40.430Z"
   },
   {
    "duration": 90,
    "start_time": "2022-03-26T10:29:48.580Z"
   },
   {
    "duration": 42,
    "start_time": "2022-03-26T10:29:52.351Z"
   },
   {
    "duration": 35,
    "start_time": "2022-03-26T10:30:05.894Z"
   },
   {
    "duration": 36,
    "start_time": "2022-03-26T10:30:08.215Z"
   },
   {
    "duration": 101,
    "start_time": "2022-03-26T10:30:16.551Z"
   },
   {
    "duration": 90,
    "start_time": "2022-03-26T10:30:26.925Z"
   },
   {
    "duration": 108,
    "start_time": "2022-03-26T10:30:33.478Z"
   },
   {
    "duration": 88,
    "start_time": "2022-03-26T10:30:53.868Z"
   },
   {
    "duration": 100,
    "start_time": "2022-03-26T10:30:58.437Z"
   },
   {
    "duration": 90,
    "start_time": "2022-03-26T10:31:01.723Z"
   },
   {
    "duration": 28,
    "start_time": "2022-03-26T10:31:35.212Z"
   },
   {
    "duration": 25,
    "start_time": "2022-03-26T10:31:42.678Z"
   },
   {
    "duration": 29,
    "start_time": "2022-03-26T10:32:22.615Z"
   },
   {
    "duration": 18,
    "start_time": "2022-03-26T10:32:43.798Z"
   },
   {
    "duration": 11,
    "start_time": "2022-03-26T10:32:53.600Z"
   },
   {
    "duration": 18,
    "start_time": "2022-03-26T10:33:24.194Z"
   },
   {
    "duration": 8,
    "start_time": "2022-03-26T10:33:27.895Z"
   },
   {
    "duration": 16,
    "start_time": "2022-03-26T10:33:29.467Z"
   },
   {
    "duration": 16,
    "start_time": "2022-03-26T10:33:43.127Z"
   },
   {
    "duration": 951,
    "start_time": "2022-03-26T10:33:46.528Z"
   },
   {
    "duration": 17,
    "start_time": "2022-03-26T10:33:48.940Z"
   },
   {
    "duration": 68,
    "start_time": "2022-03-26T10:34:00.736Z"
   },
   {
    "duration": 88,
    "start_time": "2022-03-26T10:34:06.228Z"
   },
   {
    "duration": 403,
    "start_time": "2022-03-26T10:34:12.687Z"
   },
   {
    "duration": 96,
    "start_time": "2022-03-26T10:34:14.671Z"
   },
   {
    "duration": 95,
    "start_time": "2022-03-26T10:34:19.387Z"
   },
   {
    "duration": 18,
    "start_time": "2022-03-26T10:34:20.876Z"
   },
   {
    "duration": 14,
    "start_time": "2022-03-26T10:42:17.228Z"
   },
   {
    "duration": 21,
    "start_time": "2022-03-26T10:42:24.649Z"
   },
   {
    "duration": 15,
    "start_time": "2022-03-26T10:42:40.434Z"
   },
   {
    "duration": 26,
    "start_time": "2022-03-26T10:42:51.087Z"
   },
   {
    "duration": 24,
    "start_time": "2022-03-26T10:42:54.497Z"
   },
   {
    "duration": 10,
    "start_time": "2022-03-26T10:42:58.561Z"
   },
   {
    "duration": 19,
    "start_time": "2022-03-26T10:43:00.577Z"
   },
   {
    "duration": 23,
    "start_time": "2022-03-26T10:43:08.656Z"
   },
   {
    "duration": 29,
    "start_time": "2022-03-26T10:43:34.113Z"
   },
   {
    "duration": 29,
    "start_time": "2022-03-26T10:43:52.388Z"
   },
   {
    "duration": 19,
    "start_time": "2022-03-26T10:43:59.403Z"
   },
   {
    "duration": 15,
    "start_time": "2022-03-26T10:44:04.744Z"
   },
   {
    "duration": 26,
    "start_time": "2022-03-26T10:45:14.930Z"
   },
   {
    "duration": 20,
    "start_time": "2022-03-26T10:47:23.417Z"
   },
   {
    "duration": 26,
    "start_time": "2022-03-26T10:47:35.403Z"
   },
   {
    "duration": 31,
    "start_time": "2022-03-26T10:47:41.895Z"
   },
   {
    "duration": 22,
    "start_time": "2022-03-26T10:47:58.458Z"
   },
   {
    "duration": 17,
    "start_time": "2022-03-26T10:48:28.500Z"
   },
   {
    "duration": 1446,
    "start_time": "2022-03-26T10:48:37.336Z"
   },
   {
    "duration": 12,
    "start_time": "2022-03-26T10:48:46.567Z"
   },
   {
    "duration": 17,
    "start_time": "2022-03-26T10:48:51.116Z"
   },
   {
    "duration": 6,
    "start_time": "2022-03-26T10:50:04.868Z"
   },
   {
    "duration": 22,
    "start_time": "2022-03-26T10:50:06.415Z"
   },
   {
    "duration": 407,
    "start_time": "2022-03-26T10:50:11.672Z"
   },
   {
    "duration": 21,
    "start_time": "2022-03-26T10:50:58.822Z"
   },
   {
    "duration": 18,
    "start_time": "2022-03-26T10:51:03.321Z"
   },
   {
    "duration": 21,
    "start_time": "2022-03-26T10:51:21.218Z"
   },
   {
    "duration": 10,
    "start_time": "2022-03-26T10:51:31.662Z"
   },
   {
    "duration": 18,
    "start_time": "2022-03-26T10:51:35.746Z"
   },
   {
    "duration": 9,
    "start_time": "2022-03-26T10:51:51.720Z"
   },
   {
    "duration": 19,
    "start_time": "2022-03-26T10:52:04.865Z"
   },
   {
    "duration": 12,
    "start_time": "2022-03-26T10:52:20.835Z"
   },
   {
    "duration": 20,
    "start_time": "2022-03-26T10:52:25.233Z"
   },
   {
    "duration": 39,
    "start_time": "2022-03-26T10:52:29.104Z"
   },
   {
    "duration": 12,
    "start_time": "2022-03-26T10:52:37.695Z"
   },
   {
    "duration": 41,
    "start_time": "2022-03-26T10:52:44.956Z"
   },
   {
    "duration": 50,
    "start_time": "2022-03-26T10:53:25.195Z"
   },
   {
    "duration": 18,
    "start_time": "2022-03-26T10:55:46.126Z"
   },
   {
    "duration": 32,
    "start_time": "2022-03-26T10:55:56.599Z"
   },
   {
    "duration": 1451,
    "start_time": "2022-03-26T10:56:58.204Z"
   },
   {
    "duration": 1794,
    "start_time": "2022-03-26T10:57:46.491Z"
   },
   {
    "duration": 805,
    "start_time": "2022-03-26T10:58:06.077Z"
   },
   {
    "duration": 8,
    "start_time": "2022-03-26T11:00:27.029Z"
   },
   {
    "duration": 33,
    "start_time": "2022-03-26T11:00:31.065Z"
   },
   {
    "duration": 6,
    "start_time": "2022-03-26T11:00:36.406Z"
   },
   {
    "duration": 21,
    "start_time": "2022-03-26T11:00:38.366Z"
   },
   {
    "duration": 53,
    "start_time": "2022-03-26T11:01:00.040Z"
   },
   {
    "duration": 51,
    "start_time": "2022-03-26T11:01:03.601Z"
   },
   {
    "duration": 57,
    "start_time": "2022-03-26T11:01:13.163Z"
   },
   {
    "duration": 495,
    "start_time": "2022-03-27T13:08:00.869Z"
   },
   {
    "duration": 399,
    "start_time": "2022-03-27T13:08:01.367Z"
   },
   {
    "duration": 95,
    "start_time": "2022-03-27T13:08:01.768Z"
   },
   {
    "duration": 108,
    "start_time": "2022-03-27T13:08:01.883Z"
   },
   {
    "duration": 1012,
    "start_time": "2022-03-27T13:10:12.568Z"
   },
   {
    "duration": 23,
    "start_time": "2022-03-27T13:11:04.700Z"
   },
   {
    "duration": 21,
    "start_time": "2022-03-27T13:14:38.403Z"
   },
   {
    "duration": 19,
    "start_time": "2022-03-27T13:14:52.790Z"
   },
   {
    "duration": 28,
    "start_time": "2022-03-27T13:19:07.921Z"
   },
   {
    "duration": 4,
    "start_time": "2022-03-27T13:22:01.098Z"
   },
   {
    "duration": 4,
    "start_time": "2022-03-27T13:23:34.555Z"
   },
   {
    "duration": 5,
    "start_time": "2022-03-27T13:23:40.804Z"
   },
   {
    "duration": 6,
    "start_time": "2022-03-27T13:25:59.643Z"
   },
   {
    "duration": 80,
    "start_time": "2022-03-27T13:26:13.105Z"
   },
   {
    "duration": 6,
    "start_time": "2022-03-27T13:26:29.680Z"
   },
   {
    "duration": 44,
    "start_time": "2022-03-27T13:26:31.038Z"
   },
   {
    "duration": 6,
    "start_time": "2022-03-27T13:26:56.643Z"
   },
   {
    "duration": 33,
    "start_time": "2022-03-27T13:26:57.849Z"
   },
   {
    "duration": 574,
    "start_time": "2022-03-27T13:27:31.458Z"
   },
   {
    "duration": 517,
    "start_time": "2022-03-27T13:27:44.062Z"
   },
   {
    "duration": 494,
    "start_time": "2022-03-27T13:27:53.332Z"
   },
   {
    "duration": 1212,
    "start_time": "2022-03-27T13:28:13.028Z"
   },
   {
    "duration": 448,
    "start_time": "2022-03-27T13:28:31.906Z"
   },
   {
    "duration": 9,
    "start_time": "2022-03-27T13:29:13.536Z"
   },
   {
    "duration": 44,
    "start_time": "2022-03-27T13:29:15.050Z"
   },
   {
    "duration": 6,
    "start_time": "2022-03-27T13:29:27.177Z"
   },
   {
    "duration": 43,
    "start_time": "2022-03-27T13:29:28.565Z"
   },
   {
    "duration": 65,
    "start_time": "2022-03-27T13:32:46.919Z"
   },
   {
    "duration": 363,
    "start_time": "2022-03-27T13:34:31.724Z"
   },
   {
    "duration": 119,
    "start_time": "2022-03-27T13:35:28.666Z"
   },
   {
    "duration": 377,
    "start_time": "2022-03-27T13:36:02.824Z"
   },
   {
    "duration": 436,
    "start_time": "2022-03-27T13:36:10.449Z"
   },
   {
    "duration": 456,
    "start_time": "2022-03-27T13:36:14.628Z"
   },
   {
    "duration": 136,
    "start_time": "2022-03-27T13:38:03.045Z"
   },
   {
    "duration": 387,
    "start_time": "2022-03-27T13:38:08.905Z"
   },
   {
    "duration": 412,
    "start_time": "2022-03-27T13:39:03.175Z"
   },
   {
    "duration": 373,
    "start_time": "2022-03-27T13:39:09.127Z"
   },
   {
    "duration": 70,
    "start_time": "2022-03-29T10:24:45.963Z"
   },
   {
    "duration": 5903,
    "start_time": "2022-03-29T10:27:28.618Z"
   },
   {
    "duration": 2276,
    "start_time": "2022-03-29T10:27:45.025Z"
   },
   {
    "duration": 95,
    "start_time": "2022-03-29T10:28:12.590Z"
   },
   {
    "duration": 3,
    "start_time": "2022-03-29T10:28:15.786Z"
   },
   {
    "duration": 11,
    "start_time": "2022-03-29T10:28:18.207Z"
   },
   {
    "duration": 106,
    "start_time": "2022-03-29T10:28:24.807Z"
   },
   {
    "duration": 456,
    "start_time": "2022-03-29T10:28:26.259Z"
   },
   {
    "duration": 5983,
    "start_time": "2022-03-29T10:28:33.179Z"
   },
   {
    "duration": 26,
    "start_time": "2022-03-29T10:29:13.242Z"
   },
   {
    "duration": 6113,
    "start_time": "2022-03-29T10:29:21.141Z"
   },
   {
    "duration": 6499,
    "start_time": "2022-03-29T10:29:36.424Z"
   },
   {
    "duration": 4,
    "start_time": "2022-03-29T10:33:33.992Z"
   },
   {
    "duration": 451,
    "start_time": "2022-03-29T10:33:33.999Z"
   },
   {
    "duration": 91,
    "start_time": "2022-03-29T10:33:34.452Z"
   },
   {
    "duration": 125,
    "start_time": "2022-03-29T10:33:34.546Z"
   },
   {
    "duration": 26,
    "start_time": "2022-03-29T10:33:34.673Z"
   },
   {
    "duration": 8,
    "start_time": "2022-03-29T10:33:34.702Z"
   },
   {
    "duration": 4778,
    "start_time": "2022-03-29T10:33:34.712Z"
   },
   {
    "duration": 8,
    "start_time": "2022-03-29T10:33:39.493Z"
   },
   {
    "duration": 393,
    "start_time": "2022-03-29T10:33:39.504Z"
   },
   {
    "duration": 85,
    "start_time": "2022-03-29T10:33:39.902Z"
   },
   {
    "duration": 105,
    "start_time": "2022-03-29T10:33:39.990Z"
   },
   {
    "duration": 18,
    "start_time": "2022-03-29T10:33:40.098Z"
   },
   {
    "duration": 0,
    "start_time": "2022-03-29T10:33:40.119Z"
   },
   {
    "duration": 6266,
    "start_time": "2022-03-29T10:34:38.257Z"
   },
   {
    "duration": 7,
    "start_time": "2022-03-29T10:35:10.430Z"
   },
   {
    "duration": 9,
    "start_time": "2022-03-29T10:35:28.158Z"
   },
   {
    "duration": 6,
    "start_time": "2022-03-29T10:38:28.540Z"
   },
   {
    "duration": 5,
    "start_time": "2022-03-29T10:38:33.395Z"
   },
   {
    "duration": 13,
    "start_time": "2022-03-29T10:40:05.969Z"
   },
   {
    "duration": 11,
    "start_time": "2022-03-29T10:40:17.785Z"
   },
   {
    "duration": 8,
    "start_time": "2022-03-29T10:40:30.422Z"
   },
   {
    "duration": 8,
    "start_time": "2022-03-29T10:40:33.895Z"
   },
   {
    "duration": 7,
    "start_time": "2022-03-29T10:40:39.052Z"
   },
   {
    "duration": 8,
    "start_time": "2022-03-29T10:41:00.206Z"
   },
   {
    "duration": 9,
    "start_time": "2022-03-29T10:43:04.865Z"
   },
   {
    "duration": 8,
    "start_time": "2022-03-29T10:43:24.393Z"
   },
   {
    "duration": 8,
    "start_time": "2022-03-29T10:43:31.032Z"
   },
   {
    "duration": 1607,
    "start_time": "2022-03-30T12:27:08.403Z"
   },
   {
    "duration": 433,
    "start_time": "2022-03-30T12:27:10.012Z"
   },
   {
    "duration": 108,
    "start_time": "2022-03-30T12:27:10.447Z"
   },
   {
    "duration": 107,
    "start_time": "2022-03-30T12:27:10.559Z"
   },
   {
    "duration": 22,
    "start_time": "2022-03-30T12:27:10.669Z"
   },
   {
    "duration": 157,
    "start_time": "2022-03-30T12:27:10.693Z"
   },
   {
    "duration": 198,
    "start_time": "2022-03-30T12:27:26.893Z"
   },
   {
    "duration": 201,
    "start_time": "2022-03-30T12:27:34.686Z"
   },
   {
    "duration": 227,
    "start_time": "2022-03-30T12:27:55.574Z"
   },
   {
    "duration": 1536,
    "start_time": "2022-03-30T12:28:05.677Z"
   },
   {
    "duration": 203,
    "start_time": "2022-03-30T12:28:11.740Z"
   },
   {
    "duration": 6978,
    "start_time": "2022-03-30T12:28:18.433Z"
   },
   {
    "duration": 5686,
    "start_time": "2022-03-30T12:28:46.333Z"
   }
  ],
  "kernelspec": {
   "display_name": "Python 3",
   "language": "python",
   "name": "python3"
  },
  "language_info": {
   "codemirror_mode": {
    "name": "ipython",
    "version": 3
   },
   "file_extension": ".py",
   "mimetype": "text/x-python",
   "name": "python",
   "nbconvert_exporter": "python",
   "pygments_lexer": "ipython3",
   "version": "3.8.3"
  },
  "toc": {
   "base_numbering": 1,
   "nav_menu": {
    "height": "186.99px",
    "width": "269.988px"
   },
   "number_sections": true,
   "sideBar": true,
   "skip_h1_title": true,
   "title_cell": "Table of Contents",
   "title_sidebar": "Contents",
   "toc_cell": true,
   "toc_position": {},
   "toc_section_display": true,
   "toc_window_display": true
  }
 },
 "nbformat": 4,
 "nbformat_minor": 2
}
