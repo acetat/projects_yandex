{
 "cells": [
  {
   "cell_type": "markdown",
   "metadata": {
    "toc": true
   },
   "source": [
    "<h1>Содержание<span class=\"tocSkip\"></span></h1>\n",
    "<div class=\"toc\"><ul class=\"toc-item\"><li><span><a href=\"#Подготовка-данных\" data-toc-modified-id=\"Подготовка-данных-1\"><span class=\"toc-item-num\">1&nbsp;&nbsp;</span>Подготовка данных</a></span><ul class=\"toc-item\"><li><span><a href=\"#Вывод\" data-toc-modified-id=\"Вывод-1.1\"><span class=\"toc-item-num\">1.1&nbsp;&nbsp;</span>Вывод</a></span></li></ul></li><li><span><a href=\"#Исследование-задачи\" data-toc-modified-id=\"Исследование-задачи-2\"><span class=\"toc-item-num\">2&nbsp;&nbsp;</span>Исследование задачи</a></span><ul class=\"toc-item\"><li><span><a href=\"#Логистическая-регрессия\" data-toc-modified-id=\"Логистическая-регрессия-2.1\"><span class=\"toc-item-num\">2.1&nbsp;&nbsp;</span>Логистическая регрессия</a></span></li><li><span><a href=\"#Случайный-лес\" data-toc-modified-id=\"Случайный-лес-2.2\"><span class=\"toc-item-num\">2.2&nbsp;&nbsp;</span>Случайный лес</a></span></li><li><span><a href=\"#Вывод\" data-toc-modified-id=\"Вывод-2.3\"><span class=\"toc-item-num\">2.3&nbsp;&nbsp;</span>Вывод</a></span></li></ul></li><li><span><a href=\"#Борьба-с-дисбалансом\" data-toc-modified-id=\"Борьба-с-дисбалансом-3\"><span class=\"toc-item-num\">3&nbsp;&nbsp;</span>Борьба с дисбалансом</a></span><ul class=\"toc-item\"><li><span><a href=\"#Логистическая-регрессия¶\" data-toc-modified-id=\"Логистическая-регрессия¶-3.1\"><span class=\"toc-item-num\">3.1&nbsp;&nbsp;</span>Логистическая регрессия¶</a></span></li><li><span><a href=\"#Случайный-лес\" data-toc-modified-id=\"Случайный-лес-3.2\"><span class=\"toc-item-num\">3.2&nbsp;&nbsp;</span>Случайный лес</a></span></li><li><span><a href=\"#Вывод\" data-toc-modified-id=\"Вывод-3.3\"><span class=\"toc-item-num\">3.3&nbsp;&nbsp;</span>Вывод</a></span></li></ul></li><li><span><a href=\"#Тестирование-модели\" data-toc-modified-id=\"Тестирование-модели-4\"><span class=\"toc-item-num\">4&nbsp;&nbsp;</span>Тестирование модели</a></span><ul class=\"toc-item\"><li><span><a href=\"#Вывод\" data-toc-modified-id=\"Вывод-4.1\"><span class=\"toc-item-num\">4.1&nbsp;&nbsp;</span>Вывод</a></span></li></ul></li><li><span><a href=\"#Общий-вывод\" data-toc-modified-id=\"Общий-вывод-5\"><span class=\"toc-item-num\">5&nbsp;&nbsp;</span>Общий вывод</a></span></li><li><span><a href=\"#Чек-лист-готовности-проекта\" data-toc-modified-id=\"Чек-лист-готовности-проекта-6\"><span class=\"toc-item-num\">6&nbsp;&nbsp;</span>Чек-лист готовности проекта</a></span></li></ul></div>"
   ]
  },
  {
   "cell_type": "markdown",
   "metadata": {},
   "source": [
    "# Отток клиентов"
   ]
  },
  {
   "cell_type": "markdown",
   "metadata": {},
   "source": [
    "Из «Бета-Банка» стали уходить клиенты. Каждый месяц. Немного, но заметно. Банковские маркетологи посчитали: сохранять текущих клиентов дешевле, чем привлекать новых.\n",
    "\n",
    "Нужно спрогнозировать, уйдёт клиент из банка в ближайшее время или нет. Вам предоставлены исторические данные о поведении клиентов и расторжении договоров с банком. \n",
    "\n",
    "Постройте модель с предельно большим значением *F1*-меры. Чтобы сдать проект успешно, нужно довести метрику до 0.59. Проверьте *F1*-меру на тестовой выборке самостоятельно.\n",
    "\n",
    "Дополнительно измеряйте *AUC-ROC*, сравнивайте её значение с *F1*-мерой.\n",
    "\n",
    "Источник данных: [https://www.kaggle.com/barelydedicated/bank-customer-churn-modeling](https://www.kaggle.com/barelydedicated/bank-customer-churn-modeling)"
   ]
  },
  {
   "cell_type": "markdown",
   "metadata": {},
   "source": [
    "## Подготовка данных"
   ]
  },
  {
   "cell_type": "code",
   "execution_count": 15,
   "metadata": {},
   "outputs": [],
   "source": [
    "import pandas as pd\n",
    "import numpy as np\n",
    "from sklearn.model_selection import train_test_split\n",
    "from sklearn.linear_model import LogisticRegression\n",
    "from sklearn.model_selection import train_test_split\n",
    "from sklearn.preprocessing import StandardScaler\n",
    "\n",
    "from sklearn.linear_model import LinearRegression\n",
    "from sklearn.ensemble import RandomForestClassifier\n",
    "\n",
    "from sklearn.metrics import f1_score, r2_score, accuracy_score, precision_score, recall_score, roc_auc_score\n",
    "from sklearn.utils import shuffle\n",
    "\n",
    "import matplotlib.pyplot as plt"
   ]
  },
  {
   "cell_type": "code",
   "execution_count": 16,
   "metadata": {
    "scrolled": true
   },
   "outputs": [
    {
     "data": {
      "text/html": [
       "<div>\n",
       "<style scoped>\n",
       "    .dataframe tbody tr th:only-of-type {\n",
       "        vertical-align: middle;\n",
       "    }\n",
       "\n",
       "    .dataframe tbody tr th {\n",
       "        vertical-align: top;\n",
       "    }\n",
       "\n",
       "    .dataframe thead th {\n",
       "        text-align: right;\n",
       "    }\n",
       "</style>\n",
       "<table border=\"1\" class=\"dataframe\">\n",
       "  <thead>\n",
       "    <tr style=\"text-align: right;\">\n",
       "      <th></th>\n",
       "      <th>RowNumber</th>\n",
       "      <th>CustomerId</th>\n",
       "      <th>Surname</th>\n",
       "      <th>CreditScore</th>\n",
       "      <th>Geography</th>\n",
       "      <th>Gender</th>\n",
       "      <th>Age</th>\n",
       "      <th>Tenure</th>\n",
       "      <th>Balance</th>\n",
       "      <th>NumOfProducts</th>\n",
       "      <th>HasCrCard</th>\n",
       "      <th>IsActiveMember</th>\n",
       "      <th>EstimatedSalary</th>\n",
       "      <th>Exited</th>\n",
       "    </tr>\n",
       "  </thead>\n",
       "  <tbody>\n",
       "    <tr>\n",
       "      <td>0</td>\n",
       "      <td>1</td>\n",
       "      <td>15634602</td>\n",
       "      <td>Hargrave</td>\n",
       "      <td>619</td>\n",
       "      <td>France</td>\n",
       "      <td>Female</td>\n",
       "      <td>42</td>\n",
       "      <td>2.0</td>\n",
       "      <td>0.00</td>\n",
       "      <td>1</td>\n",
       "      <td>1</td>\n",
       "      <td>1</td>\n",
       "      <td>101348.88</td>\n",
       "      <td>1</td>\n",
       "    </tr>\n",
       "    <tr>\n",
       "      <td>1</td>\n",
       "      <td>2</td>\n",
       "      <td>15647311</td>\n",
       "      <td>Hill</td>\n",
       "      <td>608</td>\n",
       "      <td>Spain</td>\n",
       "      <td>Female</td>\n",
       "      <td>41</td>\n",
       "      <td>1.0</td>\n",
       "      <td>83807.86</td>\n",
       "      <td>1</td>\n",
       "      <td>0</td>\n",
       "      <td>1</td>\n",
       "      <td>112542.58</td>\n",
       "      <td>0</td>\n",
       "    </tr>\n",
       "    <tr>\n",
       "      <td>2</td>\n",
       "      <td>3</td>\n",
       "      <td>15619304</td>\n",
       "      <td>Onio</td>\n",
       "      <td>502</td>\n",
       "      <td>France</td>\n",
       "      <td>Female</td>\n",
       "      <td>42</td>\n",
       "      <td>8.0</td>\n",
       "      <td>159660.80</td>\n",
       "      <td>3</td>\n",
       "      <td>1</td>\n",
       "      <td>0</td>\n",
       "      <td>113931.57</td>\n",
       "      <td>1</td>\n",
       "    </tr>\n",
       "    <tr>\n",
       "      <td>3</td>\n",
       "      <td>4</td>\n",
       "      <td>15701354</td>\n",
       "      <td>Boni</td>\n",
       "      <td>699</td>\n",
       "      <td>France</td>\n",
       "      <td>Female</td>\n",
       "      <td>39</td>\n",
       "      <td>1.0</td>\n",
       "      <td>0.00</td>\n",
       "      <td>2</td>\n",
       "      <td>0</td>\n",
       "      <td>0</td>\n",
       "      <td>93826.63</td>\n",
       "      <td>0</td>\n",
       "    </tr>\n",
       "    <tr>\n",
       "      <td>4</td>\n",
       "      <td>5</td>\n",
       "      <td>15737888</td>\n",
       "      <td>Mitchell</td>\n",
       "      <td>850</td>\n",
       "      <td>Spain</td>\n",
       "      <td>Female</td>\n",
       "      <td>43</td>\n",
       "      <td>2.0</td>\n",
       "      <td>125510.82</td>\n",
       "      <td>1</td>\n",
       "      <td>1</td>\n",
       "      <td>1</td>\n",
       "      <td>79084.10</td>\n",
       "      <td>0</td>\n",
       "    </tr>\n",
       "  </tbody>\n",
       "</table>\n",
       "</div>"
      ],
      "text/plain": [
       "   RowNumber  CustomerId   Surname  CreditScore Geography  Gender  Age  \\\n",
       "0          1    15634602  Hargrave          619    France  Female   42   \n",
       "1          2    15647311      Hill          608     Spain  Female   41   \n",
       "2          3    15619304      Onio          502    France  Female   42   \n",
       "3          4    15701354      Boni          699    France  Female   39   \n",
       "4          5    15737888  Mitchell          850     Spain  Female   43   \n",
       "\n",
       "   Tenure    Balance  NumOfProducts  HasCrCard  IsActiveMember  \\\n",
       "0     2.0       0.00              1          1               1   \n",
       "1     1.0   83807.86              1          0               1   \n",
       "2     8.0  159660.80              3          1               0   \n",
       "3     1.0       0.00              2          0               0   \n",
       "4     2.0  125510.82              1          1               1   \n",
       "\n",
       "   EstimatedSalary  Exited  \n",
       "0        101348.88       1  \n",
       "1        112542.58       0  \n",
       "2        113931.57       1  \n",
       "3         93826.63       0  \n",
       "4         79084.10       0  "
      ]
     },
     "execution_count": 16,
     "metadata": {},
     "output_type": "execute_result"
    }
   ],
   "source": [
    "data = pd.read_csv('/datasets/Churn.csv') \n",
    "data.head()"
   ]
  },
  {
   "cell_type": "code",
   "execution_count": 17,
   "metadata": {},
   "outputs": [],
   "source": [
    "data.columns = ['row_number', 'customer_id', 'surname', 'credit_score', 'geography',\n",
    "       'gender', 'age', 'tenure', 'balance', 'num_of_products', 'has_cr_card',\n",
    "       'is_active_member', 'estimated_salary', 'exited']"
   ]
  },
  {
   "cell_type": "code",
   "execution_count": 18,
   "metadata": {},
   "outputs": [
    {
     "name": "stdout",
     "output_type": "stream",
     "text": [
      "<class 'pandas.core.frame.DataFrame'>\n",
      "RangeIndex: 10000 entries, 0 to 9999\n",
      "Data columns (total 14 columns):\n",
      "row_number          10000 non-null int64\n",
      "customer_id         10000 non-null int64\n",
      "surname             10000 non-null object\n",
      "credit_score        10000 non-null int64\n",
      "geography           10000 non-null object\n",
      "gender              10000 non-null object\n",
      "age                 10000 non-null int64\n",
      "tenure              9091 non-null float64\n",
      "balance             10000 non-null float64\n",
      "num_of_products     10000 non-null int64\n",
      "has_cr_card         10000 non-null int64\n",
      "is_active_member    10000 non-null int64\n",
      "estimated_salary    10000 non-null float64\n",
      "exited              10000 non-null int64\n",
      "dtypes: float64(3), int64(8), object(3)\n",
      "memory usage: 1.1+ MB\n"
     ]
    }
   ],
   "source": [
    "data.info()"
   ]
  },
  {
   "cell_type": "code",
   "execution_count": 19,
   "metadata": {
    "scrolled": true
   },
   "outputs": [],
   "source": [
    "#удалм колонку с фамилиями и строки, где tenure равно 0\n",
    "data = data.drop(['surname', 'row_number', 'customer_id'], axis=1)\n",
    "data = data.dropna(subset=['tenure'])"
   ]
  },
  {
   "cell_type": "code",
   "execution_count": 20,
   "metadata": {},
   "outputs": [
    {
     "data": {
      "text/plain": [
       "<matplotlib.axes._subplots.AxesSubplot at 0x7f9b0073ebd0>"
      ]
     },
     "execution_count": 20,
     "metadata": {},
     "output_type": "execute_result"
    },
    {
     "data": {
      "image/png": "[encoded data removed]",
      "text/plain": [
       "<Figure size 432x288 with 1 Axes>"
      ]
     },
     "metadata": {
      "needs_background": "light"
     },
     "output_type": "display_data"
    }
   ],
   "source": [
    "data.tenure.hist()"
   ]
  },
  {
   "cell_type": "code",
   "execution_count": 21,
   "metadata": {
    "scrolled": true
   },
   "outputs": [
    {
     "data": {
      "text/plain": [
       "0"
      ]
     },
     "execution_count": 21,
     "metadata": {},
     "output_type": "execute_result"
    }
   ],
   "source": [
    "#проверим полные дубликаты\n",
    "data.duplicated().sum()"
   ]
  },
  {
   "cell_type": "code",
   "execution_count": 22,
   "metadata": {
    "scrolled": true
   },
   "outputs": [
    {
     "name": "stdout",
     "output_type": "stream",
     "text": [
      "<class 'pandas.core.frame.DataFrame'>\n",
      "Int64Index: 9091 entries, 0 to 9998\n",
      "Data columns (total 12 columns):\n",
      "credit_score         9091 non-null int64\n",
      "age                  9091 non-null int64\n",
      "tenure               9091 non-null float64\n",
      "balance              9091 non-null float64\n",
      "num_of_products      9091 non-null int64\n",
      "has_cr_card          9091 non-null int64\n",
      "is_active_member     9091 non-null int64\n",
      "estimated_salary     9091 non-null float64\n",
      "exited               9091 non-null int64\n",
      "geography_Germany    9091 non-null uint8\n",
      "geography_Spain      9091 non-null uint8\n",
      "gender_Male          9091 non-null uint8\n",
      "dtypes: float64(3), int64(6), uint8(3)\n",
      "memory usage: 736.9 KB\n"
     ]
    }
   ],
   "source": [
    "data = pd.get_dummies(data, drop_first=True)\n",
    "data.info()"
   ]
  },
  {
   "cell_type": "markdown",
   "metadata": {},
   "source": [
    "### Вывод\n",
    "Исследовали данные. Дубликатов не обнаружено. Привели названия признаков к удобному формату.\n",
    "\n",
    "Обнаружены пропуски в столбце tenure, удалили эти строки. \n",
    "\n",
    "Категориальные признаки sex и geography перевели в количественные с помощью one-hot encoding, при этом убрали исходный столбец (чтобы избежать дамми-ловушки). Категориальный признак surname предварительно удалили из датасета.\n",
    "\n"
   ]
  },
  {
   "cell_type": "markdown",
   "metadata": {},
   "source": [
    "## Исследование задачи"
   ]
  },
  {
   "cell_type": "code",
   "execution_count": 23,
   "metadata": {},
   "outputs": [
    {
     "name": "stdout",
     "output_type": "stream",
     "text": [
      "(5454, 11)\n",
      "(5454,)\n",
      "(1818, 11)\n",
      "(1818,)\n",
      "(1819, 11)\n",
      "(1819,)\n"
     ]
    }
   ],
   "source": [
    "# разделяем выборку на обучающую, валидационную и тестовую\n",
    "\n",
    "features = data.drop(['exited'], axis=1)\n",
    "target = data['exited']\n",
    "\n",
    "X, X_test, y, y_test = train_test_split(features, target, test_size=.2, random_state=25)\n",
    "X_train, X_valid, y_train, y_valid = train_test_split(X, y, test_size=.25, random_state=25)\n",
    "\n",
    "for i in [X_train, y_train, X_valid, y_valid, X_test, y_test]:\n",
    "    print(i.shape)"
   ]
  },
  {
   "cell_type": "markdown",
   "metadata": {},
   "source": [
    "Посмотрим на баланс классов"
   ]
  },
  {
   "cell_type": "code",
   "execution_count": 24,
   "metadata": {},
   "outputs": [
    {
     "data": {
      "text/plain": [
       "0    0.796062\n",
       "1    0.203938\n",
       "Name: exited, dtype: float64"
      ]
     },
     "execution_count": 24,
     "metadata": {},
     "output_type": "execute_result"
    }
   ],
   "source": [
    "target.value_counts(normalize=True)"
   ]
  },
  {
   "cell_type": "markdown",
   "metadata": {},
   "source": [
    "<b>Вывод: </b>  20% клиентов уходят, классы несбалансированы. Тем не менее попробуем обучить модели без балансировки."
   ]
  },
  {
   "cell_type": "code",
   "execution_count": 25,
   "metadata": {},
   "outputs": [],
   "source": [
    "# функция для автоматизации проверки, возвращает F1 и ROC-AUC на валидационной выборке\n",
    "def check(Model, features_train, target_train):\n",
    "    model = Model \n",
    "    model.fit(features_train, target_train) \n",
    "    predictions = model.predict(X_valid) \n",
    "    return f1_score(y_valid, predictions), roc_auc_score(y_valid, predictions)"
   ]
  },
  {
   "cell_type": "markdown",
   "metadata": {},
   "source": [
    "### Логистическая регрессия"
   ]
  },
  {
   "cell_type": "code",
   "execution_count": 26,
   "metadata": {},
   "outputs": [
    {
     "name": "stdout",
     "output_type": "stream",
     "text": [
      "F1:0.1, ROC-AUC:0.517324224968883\n"
     ]
    }
   ],
   "source": [
    "model = LogisticRegression(random_state=25, solver='liblinear')\n",
    "result = check(model, X_train, y_train)\n",
    "print(f\"F1:{result[0]}, ROC-AUC:{result[1]}\")"
   ]
  },
  {
   "cell_type": "code",
   "execution_count": 27,
   "metadata": {},
   "outputs": [
    {
     "data": {
      "text/plain": [
       "(0.1, 0.517324224968883)"
      ]
     },
     "execution_count": 27,
     "metadata": {},
     "output_type": "execute_result"
    }
   ],
   "source": [
    "check(model, X_train, y_train)"
   ]
  },
  {
   "cell_type": "markdown",
   "metadata": {},
   "source": [
    "<b>Вывод: </b>  f1-метрика для логистической регрессии дает 0, что связано с тем что precision или recall равны 0. Это как раз можно ожидать, если предсказания равны 0. Значение ROC-AUC = 0.5 говорит о том, что модель выдает случайные значения."
   ]
  },
  {
   "cell_type": "code",
   "execution_count": 28,
   "metadata": {},
   "outputs": [
    {
     "data": {
      "text/plain": [
       "0.6943891522503242"
      ]
     },
     "execution_count": 28,
     "metadata": {},
     "output_type": "execute_result"
    }
   ],
   "source": [
    "#код ревьюера\n",
    "model.fit(X_train, y_train) \n",
    "predictions = model.predict_proba(X_valid)[:, 1]\n",
    "predictions.max()"
   ]
  },
  {
   "cell_type": "markdown",
   "metadata": {},
   "source": [
    "### Случайный лес "
   ]
  },
  {
   "cell_type": "code",
   "execution_count": 29,
   "metadata": {
    "scrolled": false
   },
   "outputs": [
    {
     "name": "stderr",
     "output_type": "stream",
     "text": [
      "/opt/conda/lib/python3.7/site-packages/sklearn/metrics/classification.py:1437: UndefinedMetricWarning: F-score is ill-defined and being set to 0.0 due to no predicted samples.\n",
      "  'precision', 'predicted', average, warn_for)\n",
      "/opt/conda/lib/python3.7/site-packages/sklearn/metrics/classification.py:1437: UndefinedMetricWarning: F-score is ill-defined and being set to 0.0 due to no predicted samples.\n",
      "  'precision', 'predicted', average, warn_for)\n",
      "/opt/conda/lib/python3.7/site-packages/sklearn/metrics/classification.py:1437: UndefinedMetricWarning: F-score is ill-defined and being set to 0.0 due to no predicted samples.\n",
      "  'precision', 'predicted', average, warn_for)\n"
     ]
    },
    {
     "name": "stdout",
     "output_type": "stream",
     "text": [
      "Accuracy наилучшей модели на валидационной выборке: 0.565\n",
      "Количество деревьев: 61, глубина: 13\n"
     ]
    },
    {
     "data": {
      "image/png": "[encoded data removed]",
      "text/plain": [
       "<Figure size 432x288 with 1 Axes>"
      ]
     },
     "metadata": {
      "needs_background": "light"
     },
     "output_type": "display_data"
    },
    {
     "data": {
      "image/png": "[encoded data removed]",
      "text/plain": [
       "<Figure size 432x288 with 1 Axes>"
      ]
     },
     "metadata": {
      "needs_background": "light"
     },
     "output_type": "display_data"
    }
   ],
   "source": [
    "#случайный лес\n",
    "best_model = None\n",
    "best_result = 0\n",
    "best_est, best_depth = 0,0\n",
    "estimators = list(range(1, 102, 5))\n",
    "new = pd.DataFrame(index=estimators)\n",
    "new_rocauc = pd.DataFrame(index=estimators)\n",
    "\n",
    "\n",
    "for depth in range(2, 15):\n",
    "    results = []\n",
    "    results_rocauc = []\n",
    "    for est in estimators: \n",
    "        result = check(RandomForestClassifier(random_state=101, n_estimators=est, max_depth=depth),\n",
    "                       X_train,\n",
    "                       y_train)\n",
    "        results.append(result[0])\n",
    "        results_rocauc.append(result[1])      \n",
    "        \n",
    "        if result[0] > best_result:\n",
    "            best_result = result[0]\n",
    "            best_est, best_depth = est, depth\n",
    "            \n",
    "    new[str(depth)] = results\n",
    "    new_rocauc[str(depth)] = results_rocauc\n",
    "\n",
    "print(\"Accuracy наилучшей модели на валидационной выборке:\", round(best_result,3))\n",
    "print(f'Количество деревьев: {best_est}, глубина: {best_depth}')\n",
    "\n",
    "plt.plot(new)    \n",
    "plt.legend(title='depth', labels=new.columns)\n",
    "plt.plot(best_est, best_result, 'ro')\n",
    "plt.title('F1-metrics')\n",
    "plt.xlabel('no. of trees')\n",
    "plt.show()\n",
    "\n",
    "plt.plot(new_rocauc)    \n",
    "plt.legend(title='depth', labels=new_rocauc.columns)\n",
    "plt.title('ROC-AUC-metrics')\n",
    "plt.xlabel('no. of trees')\n",
    "plt.show()"
   ]
  },
  {
   "cell_type": "markdown",
   "metadata": {},
   "source": [
    "<b>Вывод: </b>  Модель случайного леса на исходных данных дает наилучшее значение для F1-метрики 0.554 для 86 деревьев глубиной 14. ROC-AUC при этом составляет примерно 0.7."
   ]
  },
  {
   "cell_type": "markdown",
   "metadata": {},
   "source": [
    "### Вывод\n",
    "Значение F1 для логистической регрессии равно 0. Модель не работает, так как классы не сбалансированы. \n",
    "\n",
    "Модель случайного леса на исходных данных дает наилучшее значение для  F1-метрики 0.554 для 86 деревьев глубиной 14. ROC-AUC при этом составляет примерно 0.7."
   ]
  },
  {
   "cell_type": "markdown",
   "metadata": {},
   "source": [
    "## Борьба с дисбалансом"
   ]
  },
  {
   "cell_type": "markdown",
   "metadata": {},
   "source": [
    "### Логистическая регрессия¶"
   ]
  },
  {
   "cell_type": "markdown",
   "metadata": {},
   "source": [
    "Попробуем применить разные способы борьбы с дисбалансом.\n",
    "\n",
    "Встроенный способ метода LogisticRegression:"
   ]
  },
  {
   "cell_type": "code",
   "execution_count": 30,
   "metadata": {},
   "outputs": [
    {
     "name": "stdout",
     "output_type": "stream",
     "text": [
      "F1:0.502, ROC-AUC:0.705\n"
     ]
    }
   ],
   "source": [
    "model = LogisticRegression(random_state=25, solver='liblinear', class_weight='balanced')\n",
    "result = check(model, X_train, y_train)\n",
    "print(f\"F1:{result[0]:.3f}, ROC-AUC:{result[1]:.3f}\")"
   ]
  },
  {
   "cell_type": "markdown",
   "metadata": {},
   "source": [
    "Увеличение размера класса \"1\":"
   ]
  },
  {
   "cell_type": "code",
   "execution_count": 31,
   "metadata": {
    "scrolled": true
   },
   "outputs": [],
   "source": [
    "def upsample(features, target, repeat):\n",
    "    features_zeros = features[target == 0]\n",
    "    features_ones = features[target == 1]\n",
    "    target_zeros = target[target == 0]\n",
    "    target_ones = target[target == 1]\n",
    "\n",
    "    features_upsampled = pd.concat([features_zeros] + [features_ones] * repeat)\n",
    "    target_upsampled = pd.concat([target_zeros] + [target_ones] * repeat)\n",
    "    \n",
    "    features_upsampled, target_upsampled = shuffle(\n",
    "        features_upsampled, target_upsampled, random_state=25)\n",
    "    \n",
    "    return features_upsampled, target_upsampled "
   ]
  },
  {
   "cell_type": "code",
   "execution_count": 32,
   "metadata": {},
   "outputs": [
    {
     "name": "stdout",
     "output_type": "stream",
     "text": [
      "1:1 F1:0.100 ROC-AUC:0.517\n",
      "1:2 F1:0.343 ROC-AUC:0.592\n",
      "1:3 F1:0.448 ROC-AUC:0.651\n",
      "1:4 F1:0.446 ROC-AUC:0.655\n",
      "1:5 F1:0.436 ROC-AUC:0.647\n",
      "1:6 F1:0.418 ROC-AUC:0.627\n",
      "1:7 F1:0.402 ROC-AUC:0.603\n",
      "1:8 F1:0.391 ROC-AUC:0.586\n",
      "1:9 F1:0.384 ROC-AUC:0.573\n"
     ]
    }
   ],
   "source": [
    "for n in range(1,10):\n",
    "    features_upsampled, target_upsampled = upsample(X_train, y_train, n)\n",
    "\n",
    "    model = LogisticRegression(random_state=25, solver='liblinear')\n",
    "    result = check(model, features_upsampled, target_upsampled)    \n",
    "    print(f\"1:{n} F1:{result[0]:.3f} ROC-AUC:{result[1]:.3f}\")   "
   ]
  },
  {
   "cell_type": "markdown",
   "metadata": {},
   "source": [
    "<b>Вывод: </b>  Путем приведения отношения размеров классов к 1:1 удается увеличить значение метрики f1 до 0.49. Как и ожидалось, это достигается, если увеличить размер класса \"1\" в 4 раза, или уменьшить размер класса \"0\" в 4 раза. При дальнейшем изменении соотношения размеров классов модель становится опять случайной.\n",
    "\n",
    "Для модели случайного леса возьмем, например upsampled-классы."
   ]
  },
  {
   "cell_type": "markdown",
   "metadata": {},
   "source": [
    "### Случайный лес"
   ]
  },
  {
   "cell_type": "code",
   "execution_count": 38,
   "metadata": {
    "scrolled": false
   },
   "outputs": [
    {
     "name": "stdout",
     "output_type": "stream",
     "text": [
      "Accuracy наилучшей модели на валидационной выборке: 0.634\n",
      "Количество деревьев: 66, глубина: 14\n"
     ]
    },
    {
     "data": {
      "image/png": "[encoded data removed]",
      "text/plain": [
       "<Figure size 432x288 with 1 Axes>"
      ]
     },
     "metadata": {
      "needs_background": "light"
     },
     "output_type": "display_data"
    }
   ],
   "source": [
    "#случайный лес\n",
    "best_result = 0\n",
    "best_est, best_depth = 0,0\n",
    "estimators = list(range(1, 102, 5))\n",
    "new = pd.DataFrame(index=estimators)\n",
    "\n",
    "features_upsampled, target_upsampled = upsample(X_train, y_train, 4)\n",
    "\n",
    "\n",
    "for depth in range(1, 16):\n",
    "    results = []\n",
    "    for est in estimators:\n",
    "        result = check(RandomForestClassifier(random_state=25, n_estimators=est, max_depth=depth),\n",
    "                    features_upsampled,\n",
    "                    target_upsampled)\n",
    "        results.append(result[0])      \n",
    "        \n",
    "        if result[0] > best_result:\n",
    "            best_result = result[0]\n",
    "            best_est, best_depth = est, depth\n",
    "            \n",
    "    new[str(depth)] = results\n",
    "    \n",
    "plt.plot(new)    \n",
    "plt.legend(title='no.of trees', labels=new.columns)\n",
    "plt.plot(best_est, best_result, 'ro')\n",
    "print(\"Accuracy наилучшей модели на валидационной выборке:\", round(best_result,3))\n",
    "print(f'Количество деревьев: {best_est}, глубина: {best_depth}')"
   ]
  },
  {
   "cell_type": "markdown",
   "metadata": {},
   "source": [
    "### Вывод\n",
    "При учете несбалансированности классов (исходные размеры классов соотносятся как 4:1), можно добиться улучшения качества обучения модели. Для Логистической регрессии значение F1 метрики достигает 0.49. Для случайного леса протестировали модели с количеством деревьев до 100 и глубиной до 15. Наилучшего значения метрики  F1 = 0.642 можно добиться для модели с 21 деревом и глубиной 12. "
   ]
  },
  {
   "cell_type": "markdown",
   "metadata": {},
   "source": [
    "## Тестирование модели"
   ]
  },
  {
   "cell_type": "code",
   "execution_count": 39,
   "metadata": {
    "scrolled": true
   },
   "outputs": [
    {
     "name": "stdout",
     "output_type": "stream",
     "text": [
      "F1: 0.59\n",
      "ROC-AUC: 0.738\n"
     ]
    }
   ],
   "source": [
    "model = RandomForestClassifier(random_state=25, n_estimators=21, max_depth=12)\n",
    "model.fit(features_upsampled, target_upsampled)\n",
    "predictions = model.predict(X_test)\n",
    "print(\"F1:\", round(f1_score(y_test, predictions), 3))\n",
    "print(\"ROC-AUC:\", round(roc_auc_score(y_test, predictions), 3))"
   ]
  },
  {
   "cell_type": "markdown",
   "metadata": {},
   "source": [
    "### Вывод\n",
    "На тестовых данных протестировали модель, показавшую лучшее качество на валидационной выборке. Метрика F1 = 0.607, а ROC-AUC - 0.751.  "
   ]
  },
  {
   "cell_type": "markdown",
   "metadata": {},
   "source": [
    "## Общий вывод\n",
    "Был проанализирован предложенный датасет с информацией от \"Бета-Банка\". Выборка разделена на обучающую, валидационную и тестовую в соотношении 3:1:1.\n",
    "\n",
    "Проверили качество моделей бинарной классификации (случайный лес, логистическая регрессия) с использованием метрик F1 и AUC-ROC сначала на исходных классах (соотношение \"0\":\"1\" = 4:1), затем на сбалансированных. Для модели случайного леса варьировали параметры количества деревьев от 1 до 100, а глубину от 1 до 15. \n",
    "\n",
    "На несбалансированных классах логистическая регрессия не работает (предсказания случайны), наилучшее значение метрики F1 для модели случайного леса равно 0.554. \n",
    "\n",
    "При учете размера классов наилучшее значение F1-метрики для модели логистической регрессии равно 0.496, для модели случайного леса равно 0.642 (21 дерево с глубиной 12). \n",
    "\n",
    "На тестовых данных протестировали модель, показавшую лучшее качество на валидационной выборке. Метрика F1 = 0.607, а ROC-AUC - 0.751.\n",
    "\n",
    "\n"
   ]
  }
 ],
 "metadata": {
  "ExecuteTimeLog": [
   {
    "duration": 514,
    "start_time": "2022-03-12T07:10:06.288Z"
   },
   {
    "duration": 4,
    "start_time": "2022-03-12T07:13:37.479Z"
   },
   {
    "duration": 40,
    "start_time": "2022-03-12T07:13:39.628Z"
   },
   {
    "duration": 310,
    "start_time": "2022-03-12T07:14:00.313Z"
   },
   {
    "duration": 4,
    "start_time": "2022-03-12T07:14:17.627Z"
   },
   {
    "duration": 19,
    "start_time": "2022-03-12T07:14:25.800Z"
   },
   {
    "duration": 5,
    "start_time": "2022-03-12T07:15:55.623Z"
   },
   {
    "duration": 4,
    "start_time": "2022-03-12T07:16:39.708Z"
   },
   {
    "duration": 29,
    "start_time": "2022-03-12T07:16:41.354Z"
   },
   {
    "duration": 4,
    "start_time": "2022-03-12T07:17:10.800Z"
   },
   {
    "duration": 18,
    "start_time": "2022-03-12T07:17:12.483Z"
   },
   {
    "duration": 12,
    "start_time": "2022-03-12T07:17:19.804Z"
   },
   {
    "duration": 33,
    "start_time": "2022-03-12T07:17:55.304Z"
   },
   {
    "duration": 34,
    "start_time": "2022-03-12T07:18:25.010Z"
   },
   {
    "duration": 7,
    "start_time": "2022-03-12T07:18:38.765Z"
   },
   {
    "duration": 18,
    "start_time": "2022-03-12T07:19:12.573Z"
   },
   {
    "duration": 16,
    "start_time": "2022-03-12T07:19:18.425Z"
   },
   {
    "duration": 15,
    "start_time": "2022-03-12T07:19:53.955Z"
   },
   {
    "duration": 22,
    "start_time": "2022-03-12T07:20:01.437Z"
   },
   {
    "duration": 6,
    "start_time": "2022-03-12T07:21:43.933Z"
   },
   {
    "duration": 15,
    "start_time": "2022-03-12T07:22:30.225Z"
   },
   {
    "duration": 14,
    "start_time": "2022-03-12T07:22:51.439Z"
   },
   {
    "duration": 6,
    "start_time": "2022-03-12T18:07:33.585Z"
   },
   {
    "duration": 1304,
    "start_time": "2022-03-12T18:07:41.498Z"
   },
   {
    "duration": 55,
    "start_time": "2022-03-12T18:07:42.804Z"
   },
   {
    "duration": 4,
    "start_time": "2022-03-12T18:07:42.861Z"
   },
   {
    "duration": 13,
    "start_time": "2022-03-12T18:07:43.973Z"
   },
   {
    "duration": 23,
    "start_time": "2022-03-12T18:07:44.440Z"
   },
   {
    "duration": 16,
    "start_time": "2022-03-12T18:07:46.127Z"
   },
   {
    "duration": 5,
    "start_time": "2022-03-12T18:07:47.852Z"
   },
   {
    "duration": 628,
    "start_time": "2022-03-12T18:08:46.109Z"
   },
   {
    "duration": 7,
    "start_time": "2022-03-12T18:09:21.410Z"
   },
   {
    "duration": 7,
    "start_time": "2022-03-12T18:09:31.140Z"
   },
   {
    "duration": 267,
    "start_time": "2022-03-12T18:09:43.156Z"
   },
   {
    "duration": 13,
    "start_time": "2022-03-12T18:09:53.933Z"
   },
   {
    "duration": 335,
    "start_time": "2022-03-12T18:10:13.525Z"
   },
   {
    "duration": 5,
    "start_time": "2022-03-12T18:10:46.595Z"
   },
   {
    "duration": 24,
    "start_time": "2022-03-12T18:11:45.661Z"
   },
   {
    "duration": 262,
    "start_time": "2022-03-12T18:16:09.189Z"
   },
   {
    "duration": 256,
    "start_time": "2022-03-12T18:16:13.554Z"
   },
   {
    "duration": 17,
    "start_time": "2022-03-12T18:16:22.731Z"
   },
   {
    "duration": 18,
    "start_time": "2022-03-12T18:16:26.208Z"
   },
   {
    "duration": 5,
    "start_time": "2022-03-12T18:16:30.075Z"
   },
   {
    "duration": 33,
    "start_time": "2022-03-12T18:16:40.496Z"
   },
   {
    "duration": 46,
    "start_time": "2022-03-12T18:16:51.340Z"
   },
   {
    "duration": 1138,
    "start_time": "2022-03-13T08:07:50.769Z"
   },
   {
    "duration": 46,
    "start_time": "2022-03-13T08:07:51.909Z"
   },
   {
    "duration": 3,
    "start_time": "2022-03-13T08:07:51.957Z"
   },
   {
    "duration": 14,
    "start_time": "2022-03-13T08:07:51.963Z"
   },
   {
    "duration": 12,
    "start_time": "2022-03-13T08:07:51.978Z"
   },
   {
    "duration": 3,
    "start_time": "2022-03-13T08:07:51.992Z"
   },
   {
    "duration": 31,
    "start_time": "2022-03-13T08:07:51.997Z"
   },
   {
    "duration": 10,
    "start_time": "2022-03-13T08:07:52.030Z"
   },
   {
    "duration": 36,
    "start_time": "2022-03-13T08:07:52.042Z"
   },
   {
    "duration": 648,
    "start_time": "2022-03-13T08:07:52.080Z"
   },
   {
    "duration": 20,
    "start_time": "2022-03-13T08:08:46.533Z"
   },
   {
    "duration": 550,
    "start_time": "2022-03-13T08:09:01.760Z"
   },
   {
    "duration": 9,
    "start_time": "2022-03-13T08:09:17.286Z"
   },
   {
    "duration": 4,
    "start_time": "2022-03-13T08:09:18.986Z"
   },
   {
    "duration": 537,
    "start_time": "2022-03-13T08:09:20.854Z"
   },
   {
    "duration": 285,
    "start_time": "2022-03-13T08:11:27.615Z"
   },
   {
    "duration": 40,
    "start_time": "2022-03-13T08:11:38.241Z"
   },
   {
    "duration": 3,
    "start_time": "2022-03-13T08:11:42.031Z"
   },
   {
    "duration": 295,
    "start_time": "2022-03-13T08:11:44.234Z"
   },
   {
    "duration": 283,
    "start_time": "2022-03-13T08:12:10.783Z"
   },
   {
    "duration": 47,
    "start_time": "2022-03-13T08:12:19.570Z"
   },
   {
    "duration": 4,
    "start_time": "2022-03-13T08:12:21.713Z"
   },
   {
    "duration": 8,
    "start_time": "2022-03-13T08:12:23.569Z"
   },
   {
    "duration": 13,
    "start_time": "2022-03-13T08:12:28.199Z"
   },
   {
    "duration": 19,
    "start_time": "2022-03-13T08:12:29.852Z"
   },
   {
    "duration": 9,
    "start_time": "2022-03-13T08:12:53.706Z"
   },
   {
    "duration": 526,
    "start_time": "2022-03-13T08:12:56.113Z"
   },
   {
    "duration": 4,
    "start_time": "2022-03-13T08:13:10.911Z"
   },
   {
    "duration": 22,
    "start_time": "2022-03-13T08:13:13.546Z"
   },
   {
    "duration": 25,
    "start_time": "2022-03-13T08:14:12.864Z"
   },
   {
    "duration": 283,
    "start_time": "2022-03-13T08:14:39.914Z"
   },
   {
    "duration": 4,
    "start_time": "2022-03-13T08:15:39.128Z"
   },
   {
    "duration": 3,
    "start_time": "2022-03-13T08:15:42.188Z"
   },
   {
    "duration": 64,
    "start_time": "2022-03-13T08:15:45.097Z"
   },
   {
    "duration": 303,
    "start_time": "2022-03-13T08:18:00.021Z"
   },
   {
    "duration": 338,
    "start_time": "2022-03-13T08:18:29.585Z"
   },
   {
    "duration": 332,
    "start_time": "2022-03-13T08:18:35.842Z"
   },
   {
    "duration": 366,
    "start_time": "2022-03-13T08:19:16.841Z"
   },
   {
    "duration": 274,
    "start_time": "2022-03-13T08:19:42.956Z"
   },
   {
    "duration": 80,
    "start_time": "2022-03-13T08:19:47.702Z"
   },
   {
    "duration": 270,
    "start_time": "2022-03-13T08:19:52.175Z"
   },
   {
    "duration": 2780,
    "start_time": "2022-03-13T08:21:38.073Z"
   },
   {
    "duration": 41580,
    "start_time": "2022-03-13T08:21:53.197Z"
   },
   {
    "duration": 3,
    "start_time": "2022-03-13T08:23:59.179Z"
   },
   {
    "duration": 4,
    "start_time": "2022-03-13T08:24:43.436Z"
   },
   {
    "duration": 24,
    "start_time": "2022-03-13T08:24:50.695Z"
   },
   {
    "duration": 3,
    "start_time": "2022-03-13T08:25:01.382Z"
   },
   {
    "duration": 23,
    "start_time": "2022-03-13T08:25:03.217Z"
   },
   {
    "duration": 3,
    "start_time": "2022-03-13T08:25:54.305Z"
   },
   {
    "duration": 24,
    "start_time": "2022-03-13T08:25:57.730Z"
   },
   {
    "duration": 5,
    "start_time": "2022-03-13T08:26:02.218Z"
   },
   {
    "duration": 4,
    "start_time": "2022-03-13T08:26:47.014Z"
   },
   {
    "duration": 3,
    "start_time": "2022-03-13T08:27:26.812Z"
   },
   {
    "duration": 27,
    "start_time": "2022-03-13T08:27:35.655Z"
   },
   {
    "duration": 480,
    "start_time": "2022-03-13T08:28:30.488Z"
   },
   {
    "duration": 1475,
    "start_time": "2022-03-13T08:28:47.715Z"
   },
   {
    "duration": 6311,
    "start_time": "2022-03-13T08:29:07.941Z"
   },
   {
    "duration": 5,
    "start_time": "2022-03-13T08:30:49.133Z"
   },
   {
    "duration": 308,
    "start_time": "2022-03-13T08:30:59.925Z"
   },
   {
    "duration": 6,
    "start_time": "2022-03-13T08:31:04.917Z"
   },
   {
    "duration": 8,
    "start_time": "2022-03-13T08:31:20.874Z"
   },
   {
    "duration": 100,
    "start_time": "2022-03-13T08:51:12.581Z"
   },
   {
    "duration": 106,
    "start_time": "2022-03-13T08:51:15.673Z"
   },
   {
    "duration": 6,
    "start_time": "2022-03-13T08:51:46.405Z"
   },
   {
    "duration": 6,
    "start_time": "2022-03-13T08:52:01.653Z"
   },
   {
    "duration": 7,
    "start_time": "2022-03-13T08:52:09.031Z"
   },
   {
    "duration": 94,
    "start_time": "2022-03-13T08:52:25.690Z"
   },
   {
    "duration": 136,
    "start_time": "2022-03-13T08:53:30.943Z"
   },
   {
    "duration": 6,
    "start_time": "2022-03-13T08:53:40.638Z"
   },
   {
    "duration": 462,
    "start_time": "2022-03-13T08:56:53.635Z"
   },
   {
    "duration": 4,
    "start_time": "2022-03-13T08:57:14.076Z"
   },
   {
    "duration": 321,
    "start_time": "2022-03-13T08:57:22.604Z"
   },
   {
    "duration": 46,
    "start_time": "2022-03-13T08:58:25.631Z"
   },
   {
    "duration": 81,
    "start_time": "2022-03-13T08:58:54.997Z"
   },
   {
    "duration": 63,
    "start_time": "2022-03-13T08:59:06.626Z"
   },
   {
    "duration": 44,
    "start_time": "2022-03-13T08:59:11.747Z"
   },
   {
    "duration": 458,
    "start_time": "2022-03-13T08:59:20.330Z"
   },
   {
    "duration": 56,
    "start_time": "2022-03-13T08:59:32.131Z"
   },
   {
    "duration": 80,
    "start_time": "2022-03-13T08:59:38.500Z"
   },
   {
    "duration": 1689,
    "start_time": "2022-03-13T09:00:00.588Z"
   },
   {
    "duration": 4751,
    "start_time": "2022-03-13T09:00:24.831Z"
   },
   {
    "duration": 1685,
    "start_time": "2022-03-13T09:00:36.892Z"
   },
   {
    "duration": 1699,
    "start_time": "2022-03-13T09:01:03.681Z"
   },
   {
    "duration": 5,
    "start_time": "2022-03-13T09:05:33.172Z"
   },
   {
    "duration": 253,
    "start_time": "2022-03-13T09:06:37.361Z"
   },
   {
    "duration": 1629,
    "start_time": "2022-03-13T09:06:55.849Z"
   },
   {
    "duration": 1769,
    "start_time": "2022-03-13T09:07:03.714Z"
   },
   {
    "duration": 1481,
    "start_time": "2022-03-13T09:07:38.512Z"
   },
   {
    "duration": 12,
    "start_time": "2022-03-13T09:27:17.737Z"
   },
   {
    "duration": 14,
    "start_time": "2022-03-13T09:27:53.212Z"
   },
   {
    "duration": 7,
    "start_time": "2022-03-13T09:27:55.953Z"
   },
   {
    "duration": 8,
    "start_time": "2022-03-13T09:28:04.711Z"
   },
   {
    "duration": 8,
    "start_time": "2022-03-13T09:28:07.688Z"
   },
   {
    "duration": 8,
    "start_time": "2022-03-13T09:28:18.028Z"
   },
   {
    "duration": 4,
    "start_time": "2022-03-13T09:42:18.616Z"
   },
   {
    "duration": 4,
    "start_time": "2022-03-13T09:42:24.744Z"
   },
   {
    "duration": 1432,
    "start_time": "2022-03-13T09:44:40.057Z"
   },
   {
    "duration": 1626,
    "start_time": "2022-03-13T09:46:18.287Z"
   },
   {
    "duration": 283,
    "start_time": "2022-03-13T09:48:17.432Z"
   },
   {
    "duration": 7610,
    "start_time": "2022-03-13T09:49:20.121Z"
   },
   {
    "duration": 3346,
    "start_time": "2022-03-13T09:49:50.994Z"
   },
   {
    "duration": 104579,
    "start_time": "2022-03-13T09:51:00.217Z"
   },
   {
    "duration": 104746,
    "start_time": "2022-03-13T10:05:56.683Z"
   },
   {
    "duration": 1017,
    "start_time": "2022-03-13T10:07:41.431Z"
   },
   {
    "duration": 224,
    "start_time": "2022-03-13T10:11:43.170Z"
   },
   {
    "duration": 232,
    "start_time": "2022-03-13T10:17:56.738Z"
   },
   {
    "duration": 217,
    "start_time": "2022-03-13T10:18:10.264Z"
   },
   {
    "duration": 1655,
    "start_time": "2022-03-13T10:21:24.052Z"
   },
   {
    "duration": 1626,
    "start_time": "2022-03-13T10:21:29.882Z"
   },
   {
    "duration": 1546,
    "start_time": "2022-03-13T10:22:39.837Z"
   },
   {
    "duration": 5762,
    "start_time": "2022-03-13T10:24:29.207Z"
   },
   {
    "duration": 7,
    "start_time": "2022-03-13T10:50:58.056Z"
   },
   {
    "duration": 11,
    "start_time": "2022-03-13T10:54:23.178Z"
   },
   {
    "duration": 4,
    "start_time": "2022-03-13T11:17:04.540Z"
   },
   {
    "duration": 98,
    "start_time": "2022-03-13T11:17:30.781Z"
   },
   {
    "duration": 84,
    "start_time": "2022-03-13T11:21:09.676Z"
   },
   {
    "duration": 43,
    "start_time": "2022-03-13T11:21:13.735Z"
   },
   {
    "duration": 3,
    "start_time": "2022-03-13T11:23:16.237Z"
   },
   {
    "duration": 280,
    "start_time": "2022-03-13T11:25:50.218Z"
   },
   {
    "duration": 5268,
    "start_time": "2022-03-13T11:26:15.732Z"
   },
   {
    "duration": 5711,
    "start_time": "2022-03-13T11:28:38.988Z"
   },
   {
    "duration": 1332,
    "start_time": "2022-03-13T11:29:53.452Z"
   },
   {
    "duration": 81562,
    "start_time": "2022-03-13T11:32:49.224Z"
   },
   {
    "duration": 4,
    "start_time": "2022-03-13T11:38:22.791Z"
   },
   {
    "duration": 54,
    "start_time": "2022-03-13T11:38:22.799Z"
   },
   {
    "duration": 3,
    "start_time": "2022-03-13T11:38:22.854Z"
   },
   {
    "duration": 13,
    "start_time": "2022-03-13T11:38:22.859Z"
   },
   {
    "duration": 7,
    "start_time": "2022-03-13T11:38:22.874Z"
   },
   {
    "duration": 11,
    "start_time": "2022-03-13T11:38:22.882Z"
   },
   {
    "duration": 18,
    "start_time": "2022-03-13T11:38:22.895Z"
   },
   {
    "duration": 106,
    "start_time": "2022-03-13T11:38:22.914Z"
   },
   {
    "duration": 6,
    "start_time": "2022-03-13T11:38:23.022Z"
   },
   {
    "duration": 6,
    "start_time": "2022-03-13T11:38:23.030Z"
   },
   {
    "duration": 48,
    "start_time": "2022-03-13T11:38:23.038Z"
   },
   {
    "duration": 18943,
    "start_time": "2022-03-13T11:38:23.178Z"
   },
   {
    "duration": 1631,
    "start_time": "2022-03-13T11:39:30.260Z"
   },
   {
    "duration": 94,
    "start_time": "2022-03-13T11:43:50.485Z"
   },
   {
    "duration": 83,
    "start_time": "2022-03-13T11:44:08.523Z"
   },
   {
    "duration": 342,
    "start_time": "2022-03-13T11:44:19.233Z"
   },
   {
    "duration": 81,
    "start_time": "2022-03-13T11:45:22.016Z"
   },
   {
    "duration": 117,
    "start_time": "2022-03-13T11:45:32.061Z"
   },
   {
    "duration": 1691,
    "start_time": "2022-03-13T11:47:03.994Z"
   },
   {
    "duration": 1661,
    "start_time": "2022-03-13T11:47:21.617Z"
   },
   {
    "duration": 1766,
    "start_time": "2022-03-13T11:47:41.112Z"
   },
   {
    "duration": 1577,
    "start_time": "2022-03-13T11:48:30.212Z"
   },
   {
    "duration": 4,
    "start_time": "2022-03-13T11:49:44.582Z"
   },
   {
    "duration": 50,
    "start_time": "2022-03-13T11:49:44.589Z"
   },
   {
    "duration": 3,
    "start_time": "2022-03-13T11:49:44.642Z"
   },
   {
    "duration": 15,
    "start_time": "2022-03-13T11:49:44.648Z"
   },
   {
    "duration": 17,
    "start_time": "2022-03-13T11:49:44.666Z"
   },
   {
    "duration": 15,
    "start_time": "2022-03-13T11:49:44.685Z"
   },
   {
    "duration": 22,
    "start_time": "2022-03-13T11:49:44.702Z"
   },
   {
    "duration": 14,
    "start_time": "2022-03-13T11:49:44.726Z"
   },
   {
    "duration": 7,
    "start_time": "2022-03-13T11:49:44.778Z"
   },
   {
    "duration": 5,
    "start_time": "2022-03-13T11:49:44.787Z"
   },
   {
    "duration": 90,
    "start_time": "2022-03-13T11:49:44.794Z"
   },
   {
    "duration": 79274,
    "start_time": "2022-03-13T11:49:44.887Z"
   },
   {
    "duration": 117,
    "start_time": "2022-03-13T11:51:04.163Z"
   },
   {
    "duration": 1798,
    "start_time": "2022-03-13T11:51:04.282Z"
   },
   {
    "duration": 1594,
    "start_time": "2022-03-13T11:51:06.083Z"
   },
   {
    "duration": 3484,
    "start_time": "2022-03-13T11:51:07.686Z"
   },
   {
    "duration": 589,
    "start_time": "2022-03-13T11:51:10.583Z"
   },
   {
    "duration": 125324,
    "start_time": "2022-03-13T11:53:47.122Z"
   },
   {
    "duration": 123370,
    "start_time": "2022-03-13T11:57:37.609Z"
   },
   {
    "duration": 239,
    "start_time": "2022-03-13T12:00:26.894Z"
   },
   {
    "duration": 1156,
    "start_time": "2022-03-13T16:23:23.788Z"
   },
   {
    "duration": 36,
    "start_time": "2022-03-13T16:23:24.947Z"
   },
   {
    "duration": 3,
    "start_time": "2022-03-13T16:23:24.985Z"
   },
   {
    "duration": 15,
    "start_time": "2022-03-13T16:23:24.990Z"
   },
   {
    "duration": 8,
    "start_time": "2022-03-13T16:23:25.007Z"
   },
   {
    "duration": 25,
    "start_time": "2022-03-13T16:23:25.017Z"
   },
   {
    "duration": 21,
    "start_time": "2022-03-13T16:23:25.044Z"
   },
   {
    "duration": 13,
    "start_time": "2022-03-13T16:23:25.067Z"
   },
   {
    "duration": 8,
    "start_time": "2022-03-13T16:23:25.081Z"
   },
   {
    "duration": 3,
    "start_time": "2022-03-13T16:23:25.090Z"
   },
   {
    "duration": 145,
    "start_time": "2022-03-13T16:23:25.095Z"
   },
   {
    "duration": 22,
    "start_time": "2022-03-13T16:23:34.378Z"
   },
   {
    "duration": 290,
    "start_time": "2022-03-13T16:24:54.479Z"
   },
   {
    "duration": 200,
    "start_time": "2022-03-13T16:25:00.041Z"
   },
   {
    "duration": 19,
    "start_time": "2022-03-13T16:25:18.189Z"
   },
   {
    "duration": 4,
    "start_time": "2022-03-13T16:25:21.106Z"
   },
   {
    "duration": 4,
    "start_time": "2022-03-13T16:25:23.552Z"
   },
   {
    "duration": 22,
    "start_time": "2022-03-13T16:25:40.368Z"
   },
   {
    "duration": 27,
    "start_time": "2022-03-13T16:25:44.727Z"
   },
   {
    "duration": 23,
    "start_time": "2022-03-13T16:26:02.013Z"
   },
   {
    "duration": 62,
    "start_time": "2022-03-13T16:27:47.192Z"
   },
   {
    "duration": 52,
    "start_time": "2022-03-13T16:31:10.891Z"
   },
   {
    "duration": 1693,
    "start_time": "2022-03-13T16:32:15.647Z"
   },
   {
    "duration": 6,
    "start_time": "2022-03-13T16:32:34.018Z"
   },
   {
    "duration": 1605,
    "start_time": "2022-03-13T16:35:08.538Z"
   },
   {
    "duration": 5,
    "start_time": "2022-03-13T16:35:25.829Z"
   },
   {
    "duration": 346,
    "start_time": "2022-03-14T07:30:03.830Z"
   },
   {
    "duration": 1146,
    "start_time": "2022-03-14T07:30:08.270Z"
   },
   {
    "duration": 40,
    "start_time": "2022-03-14T07:30:09.418Z"
   },
   {
    "duration": 2,
    "start_time": "2022-03-14T07:30:09.460Z"
   },
   {
    "duration": 10,
    "start_time": "2022-03-14T07:30:09.464Z"
   },
   {
    "duration": 8,
    "start_time": "2022-03-14T07:30:14.061Z"
   },
   {
    "duration": 7269,
    "start_time": "2022-03-14T07:30:19.095Z"
   },
   {
    "duration": 110,
    "start_time": "2022-03-14T07:30:29.072Z"
   },
   {
    "duration": 307,
    "start_time": "2022-03-14T07:30:32.511Z"
   },
   {
    "duration": 8,
    "start_time": "2022-03-14T07:30:39.515Z"
   },
   {
    "duration": 7,
    "start_time": "2022-03-14T07:30:47.361Z"
   },
   {
    "duration": 167,
    "start_time": "2022-03-14T07:31:09.291Z"
   },
   {
    "duration": 20,
    "start_time": "2022-03-14T07:32:30.396Z"
   },
   {
    "duration": 294,
    "start_time": "2022-03-14T07:33:27.505Z"
   },
   {
    "duration": 3,
    "start_time": "2022-03-14T07:35:17.344Z"
   },
   {
    "duration": 37,
    "start_time": "2022-03-14T07:35:17.349Z"
   },
   {
    "duration": 2,
    "start_time": "2022-03-14T07:35:17.388Z"
   },
   {
    "duration": 9,
    "start_time": "2022-03-14T07:35:17.392Z"
   },
   {
    "duration": 6,
    "start_time": "2022-03-14T07:35:17.402Z"
   },
   {
    "duration": 163,
    "start_time": "2022-03-14T07:35:17.410Z"
   },
   {
    "duration": 8,
    "start_time": "2022-03-14T07:35:17.574Z"
   },
   {
    "duration": 26,
    "start_time": "2022-03-14T07:35:17.583Z"
   },
   {
    "duration": 11,
    "start_time": "2022-03-14T07:35:17.611Z"
   },
   {
    "duration": 259,
    "start_time": "2022-03-14T07:35:17.623Z"
   },
   {
    "duration": 3,
    "start_time": "2022-03-14T07:35:17.883Z"
   },
   {
    "duration": 38,
    "start_time": "2022-03-14T07:35:17.887Z"
   },
   {
    "duration": 200,
    "start_time": "2022-03-14T07:35:18.002Z"
   },
   {
    "duration": 121,
    "start_time": "2022-03-14T07:35:18.204Z"
   },
   {
    "duration": 57455,
    "start_time": "2022-03-14T07:35:18.327Z"
   },
   {
    "duration": 43,
    "start_time": "2022-03-14T07:36:15.784Z"
   },
   {
    "duration": 5,
    "start_time": "2022-03-14T07:36:15.914Z"
   },
   {
    "duration": 1825,
    "start_time": "2022-03-14T07:36:15.923Z"
   },
   {
    "duration": 12,
    "start_time": "2022-03-14T07:36:17.802Z"
   },
   {
    "duration": 91,
    "start_time": "2022-03-14T07:36:17.816Z"
   },
   {
    "duration": 9,
    "start_time": "2022-03-14T07:36:17.909Z"
   },
   {
    "duration": 1100,
    "start_time": "2022-03-14T07:36:17.920Z"
   },
   {
    "duration": 15,
    "start_time": "2022-03-14T07:36:19.103Z"
   },
   {
    "duration": 87979,
    "start_time": "2022-03-14T07:36:19.124Z"
   },
   {
    "duration": 165,
    "start_time": "2022-03-14T07:37:47.105Z"
   },
   {
    "duration": 6,
    "start_time": "2022-03-14T07:42:55.029Z"
   },
   {
    "duration": 26,
    "start_time": "2022-03-14T07:43:45.022Z"
   }
  ],
  "kernelspec": {
   "display_name": "Python 3",
   "language": "python",
   "name": "python3"
  },
  "language_info": {
   "codemirror_mode": {
    "name": "ipython",
    "version": 3
   },
   "file_extension": ".py",
   "mimetype": "text/x-python",
   "name": "python",
   "nbconvert_exporter": "python",
   "pygments_lexer": "ipython3",
   "version": "3.8.3"
  },
  "toc": {
   "base_numbering": 1,
   "nav_menu": {},
   "number_sections": true,
   "sideBar": true,
   "skip_h1_title": true,
   "title_cell": "Содержание",
   "title_sidebar": "Contents",
   "toc_cell": true,
   "toc_position": {},
   "toc_section_display": true,
   "toc_window_display": true
  }
 },
 "nbformat": 4,
 "nbformat_minor": 2
}
