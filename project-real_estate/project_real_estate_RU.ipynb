{
 "cells": [
  {
   "cell_type": "markdown",
   "metadata": {
    "toc": true
   },
   "source": [
    "<h1>Содержание<span class=\"tocSkip\"></span></h1>\n",
    "<div class=\"toc\"><ul class=\"toc-item\"><li><span><a href=\"#Изучение-данных-из-файла\" data-toc-modified-id=\"Изучение-данных-из-файла-1\"><span class=\"toc-item-num\">1&nbsp;&nbsp;</span>Изучение данных из файла</a></span><ul class=\"toc-item\"><li><span><a href=\"#Вывод\" data-toc-modified-id=\"Вывод-1.1\"><span class=\"toc-item-num\">1.1&nbsp;&nbsp;</span>Вывод</a></span></li></ul></li><li><span><a href=\"#Предобработка-данных\" data-toc-modified-id=\"Предобработка-данных-2\"><span class=\"toc-item-num\">2&nbsp;&nbsp;</span>Предобработка данных</a></span><ul class=\"toc-item\"><li><span><a href=\"#Вывод\" data-toc-modified-id=\"Вывод-2.1\"><span class=\"toc-item-num\">2.1&nbsp;&nbsp;</span>Вывод</a></span></li></ul></li><li><span><a href=\"#Расчёты-и-добавление-результатов-в-таблицу\" data-toc-modified-id=\"Расчёты-и-добавление-результатов-в-таблицу-3\"><span class=\"toc-item-num\">3&nbsp;&nbsp;</span>Расчёты и добавление результатов в таблицу</a></span><ul class=\"toc-item\"><li><span><a href=\"#Вывод\" data-toc-modified-id=\"Вывод-3.1\"><span class=\"toc-item-num\">3.1&nbsp;&nbsp;</span>Вывод</a></span></li></ul></li><li><span><a href=\"#Исследовательский-анализ-данных\" data-toc-modified-id=\"Исследовательский-анализ-данных-4\"><span class=\"toc-item-num\">4&nbsp;&nbsp;</span>Исследовательский анализ данных</a></span><ul class=\"toc-item\"><li><ul class=\"toc-item\"><li><span><a href=\"#Вывод\" data-toc-modified-id=\"Вывод-4.0.1\"><span class=\"toc-item-num\">4.0.1&nbsp;&nbsp;</span>Вывод</a></span></li><li><span><a href=\"#Вывод\" data-toc-modified-id=\"Вывод-4.0.2\"><span class=\"toc-item-num\">4.0.2&nbsp;&nbsp;</span>Вывод</a></span></li><li><span><a href=\"#Вывод\" data-toc-modified-id=\"Вывод-4.0.3\"><span class=\"toc-item-num\">4.0.3&nbsp;&nbsp;</span>Вывод</a></span></li><li><span><a href=\"#Вывод\" data-toc-modified-id=\"Вывод-4.0.4\"><span class=\"toc-item-num\">4.0.4&nbsp;&nbsp;</span>Вывод</a></span></li><li><span><a href=\"#Вывод\" data-toc-modified-id=\"Вывод-4.0.5\"><span class=\"toc-item-num\">4.0.5&nbsp;&nbsp;</span>Вывод</a></span></li></ul></li></ul></li><li><span><a href=\"#Общий-вывод\" data-toc-modified-id=\"Общий-вывод-5\"><span class=\"toc-item-num\">5&nbsp;&nbsp;</span>Общий вывод</a></span></li></ul></div>"
   ]
  },
  {
   "cell_type": "markdown",
   "metadata": {},
   "source": [
    "# Исследование объявлений о продаже квартир\n",
    "\n",
    "В вашем распоряжении данные сервиса Яндекс.Недвижимость — архив объявлений о продаже квартир в Санкт-Петербурге и соседних населённых пунктах за несколько лет. Необходимо научиться определять рыночную стоимость объектов недвижимости.\n",
    "\n",
    "Задача — установить параметры. Это позволит построить автоматизированную систему: она отследит аномалии и мошенническую деятельность. \n",
    "\n",
    "По каждой квартире на продажу доступны два вида данных. Первые вписаны пользователем, вторые получены автоматически на основе картографических данных. Например, расстояние до центра, аэропорта, ближайшего парка и водоёма. "
   ]
  },
  {
   "cell_type": "markdown",
   "metadata": {},
   "source": [
    "## Изучение данных из файла"
   ]
  },
  {
   "cell_type": "code",
   "execution_count": 1,
   "metadata": {},
   "outputs": [],
   "source": [
    "import pandas as pd\n",
    "import numpy as np\n",
    "import matplotlib.pyplot as plt\n",
    "import math"
   ]
  },
  {
   "cell_type": "code",
   "execution_count": 2,
   "metadata": {
    "scrolled": true
   },
   "outputs": [],
   "source": [
    "df = pd.read_csv('datasets/real_estate_data.csv', sep='\\t')"
   ]
  },
  {
   "cell_type": "code",
   "execution_count": 7,
   "metadata": {
    "scrolled": true
   },
   "outputs": [
    {
     "data": {
      "text/html": [
       "<div>\n",
       "<style scoped>\n",
       "    .dataframe tbody tr th:only-of-type {\n",
       "        vertical-align: middle;\n",
       "    }\n",
       "\n",
       "    .dataframe tbody tr th {\n",
       "        vertical-align: top;\n",
       "    }\n",
       "\n",
       "    .dataframe thead th {\n",
       "        text-align: right;\n",
       "    }\n",
       "</style>\n",
       "<table border=\"1\" class=\"dataframe\">\n",
       "  <thead>\n",
       "    <tr style=\"text-align: right;\">\n",
       "      <th></th>\n",
       "      <th>total_images</th>\n",
       "      <th>last_price</th>\n",
       "      <th>total_area</th>\n",
       "      <th>first_day_exposition</th>\n",
       "      <th>rooms</th>\n",
       "      <th>ceiling_height</th>\n",
       "      <th>floors_total</th>\n",
       "      <th>living_area</th>\n",
       "      <th>floor</th>\n",
       "      <th>is_apartment</th>\n",
       "      <th>studio</th>\n",
       "      <th>open_plan</th>\n",
       "      <th>kitchen_area</th>\n",
       "      <th>balcony</th>\n",
       "      <th>locality_name</th>\n",
       "      <th>airports_nearest</th>\n",
       "      <th>cityCenters_nearest</th>\n",
       "      <th>parks_around3000</th>\n",
       "      <th>parks_nearest</th>\n",
       "      <th>ponds_around3000</th>\n",
       "      <th>ponds_nearest</th>\n",
       "      <th>days_exposition</th>\n",
       "    </tr>\n",
       "  </thead>\n",
       "  <tbody>\n",
       "    <tr>\n",
       "      <th>0</th>\n",
       "      <td>20</td>\n",
       "      <td>13000000.0</td>\n",
       "      <td>108.00</td>\n",
       "      <td>2019-03-07T00:00:00</td>\n",
       "      <td>3</td>\n",
       "      <td>2.70</td>\n",
       "      <td>16.0</td>\n",
       "      <td>51.00</td>\n",
       "      <td>8</td>\n",
       "      <td>NaN</td>\n",
       "      <td>False</td>\n",
       "      <td>False</td>\n",
       "      <td>25.00</td>\n",
       "      <td>NaN</td>\n",
       "      <td>Санкт-Петербург</td>\n",
       "      <td>18863.0</td>\n",
       "      <td>16028.0</td>\n",
       "      <td>1.0</td>\n",
       "      <td>482.0</td>\n",
       "      <td>2.0</td>\n",
       "      <td>755.0</td>\n",
       "      <td>NaN</td>\n",
       "    </tr>\n",
       "    <tr>\n",
       "      <th>1</th>\n",
       "      <td>7</td>\n",
       "      <td>3350000.0</td>\n",
       "      <td>40.40</td>\n",
       "      <td>2018-12-04T00:00:00</td>\n",
       "      <td>1</td>\n",
       "      <td>NaN</td>\n",
       "      <td>11.0</td>\n",
       "      <td>18.60</td>\n",
       "      <td>1</td>\n",
       "      <td>NaN</td>\n",
       "      <td>False</td>\n",
       "      <td>False</td>\n",
       "      <td>11.00</td>\n",
       "      <td>2.0</td>\n",
       "      <td>посёлок Шушары</td>\n",
       "      <td>12817.0</td>\n",
       "      <td>18603.0</td>\n",
       "      <td>0.0</td>\n",
       "      <td>NaN</td>\n",
       "      <td>0.0</td>\n",
       "      <td>NaN</td>\n",
       "      <td>81.0</td>\n",
       "    </tr>\n",
       "    <tr>\n",
       "      <th>2</th>\n",
       "      <td>10</td>\n",
       "      <td>5196000.0</td>\n",
       "      <td>56.00</td>\n",
       "      <td>2015-08-20T00:00:00</td>\n",
       "      <td>2</td>\n",
       "      <td>NaN</td>\n",
       "      <td>5.0</td>\n",
       "      <td>34.30</td>\n",
       "      <td>4</td>\n",
       "      <td>NaN</td>\n",
       "      <td>False</td>\n",
       "      <td>False</td>\n",
       "      <td>8.30</td>\n",
       "      <td>0.0</td>\n",
       "      <td>Санкт-Петербург</td>\n",
       "      <td>21741.0</td>\n",
       "      <td>13933.0</td>\n",
       "      <td>1.0</td>\n",
       "      <td>90.0</td>\n",
       "      <td>2.0</td>\n",
       "      <td>574.0</td>\n",
       "      <td>558.0</td>\n",
       "    </tr>\n",
       "    <tr>\n",
       "      <th>3</th>\n",
       "      <td>0</td>\n",
       "      <td>64900000.0</td>\n",
       "      <td>159.00</td>\n",
       "      <td>2015-07-24T00:00:00</td>\n",
       "      <td>3</td>\n",
       "      <td>NaN</td>\n",
       "      <td>14.0</td>\n",
       "      <td>NaN</td>\n",
       "      <td>9</td>\n",
       "      <td>NaN</td>\n",
       "      <td>False</td>\n",
       "      <td>False</td>\n",
       "      <td>NaN</td>\n",
       "      <td>0.0</td>\n",
       "      <td>Санкт-Петербург</td>\n",
       "      <td>28098.0</td>\n",
       "      <td>6800.0</td>\n",
       "      <td>2.0</td>\n",
       "      <td>84.0</td>\n",
       "      <td>3.0</td>\n",
       "      <td>234.0</td>\n",
       "      <td>424.0</td>\n",
       "    </tr>\n",
       "    <tr>\n",
       "      <th>4</th>\n",
       "      <td>2</td>\n",
       "      <td>10000000.0</td>\n",
       "      <td>100.00</td>\n",
       "      <td>2018-06-19T00:00:00</td>\n",
       "      <td>2</td>\n",
       "      <td>3.03</td>\n",
       "      <td>14.0</td>\n",
       "      <td>32.00</td>\n",
       "      <td>13</td>\n",
       "      <td>NaN</td>\n",
       "      <td>False</td>\n",
       "      <td>False</td>\n",
       "      <td>41.00</td>\n",
       "      <td>NaN</td>\n",
       "      <td>Санкт-Петербург</td>\n",
       "      <td>31856.0</td>\n",
       "      <td>8098.0</td>\n",
       "      <td>2.0</td>\n",
       "      <td>112.0</td>\n",
       "      <td>1.0</td>\n",
       "      <td>48.0</td>\n",
       "      <td>121.0</td>\n",
       "    </tr>\n",
       "    <tr>\n",
       "      <th>5</th>\n",
       "      <td>10</td>\n",
       "      <td>2890000.0</td>\n",
       "      <td>30.40</td>\n",
       "      <td>2018-09-10T00:00:00</td>\n",
       "      <td>1</td>\n",
       "      <td>NaN</td>\n",
       "      <td>12.0</td>\n",
       "      <td>14.40</td>\n",
       "      <td>5</td>\n",
       "      <td>NaN</td>\n",
       "      <td>False</td>\n",
       "      <td>False</td>\n",
       "      <td>9.10</td>\n",
       "      <td>NaN</td>\n",
       "      <td>городской посёлок Янино-1</td>\n",
       "      <td>NaN</td>\n",
       "      <td>NaN</td>\n",
       "      <td>NaN</td>\n",
       "      <td>NaN</td>\n",
       "      <td>NaN</td>\n",
       "      <td>NaN</td>\n",
       "      <td>55.0</td>\n",
       "    </tr>\n",
       "    <tr>\n",
       "      <th>6</th>\n",
       "      <td>6</td>\n",
       "      <td>3700000.0</td>\n",
       "      <td>37.30</td>\n",
       "      <td>2017-11-02T00:00:00</td>\n",
       "      <td>1</td>\n",
       "      <td>NaN</td>\n",
       "      <td>26.0</td>\n",
       "      <td>10.60</td>\n",
       "      <td>6</td>\n",
       "      <td>NaN</td>\n",
       "      <td>False</td>\n",
       "      <td>False</td>\n",
       "      <td>14.40</td>\n",
       "      <td>1.0</td>\n",
       "      <td>посёлок Парголово</td>\n",
       "      <td>52996.0</td>\n",
       "      <td>19143.0</td>\n",
       "      <td>0.0</td>\n",
       "      <td>NaN</td>\n",
       "      <td>0.0</td>\n",
       "      <td>NaN</td>\n",
       "      <td>155.0</td>\n",
       "    </tr>\n",
       "    <tr>\n",
       "      <th>7</th>\n",
       "      <td>5</td>\n",
       "      <td>7915000.0</td>\n",
       "      <td>71.60</td>\n",
       "      <td>2019-04-18T00:00:00</td>\n",
       "      <td>2</td>\n",
       "      <td>NaN</td>\n",
       "      <td>24.0</td>\n",
       "      <td>NaN</td>\n",
       "      <td>22</td>\n",
       "      <td>NaN</td>\n",
       "      <td>False</td>\n",
       "      <td>False</td>\n",
       "      <td>18.90</td>\n",
       "      <td>2.0</td>\n",
       "      <td>Санкт-Петербург</td>\n",
       "      <td>23982.0</td>\n",
       "      <td>11634.0</td>\n",
       "      <td>0.0</td>\n",
       "      <td>NaN</td>\n",
       "      <td>0.0</td>\n",
       "      <td>NaN</td>\n",
       "      <td>NaN</td>\n",
       "    </tr>\n",
       "    <tr>\n",
       "      <th>8</th>\n",
       "      <td>20</td>\n",
       "      <td>2900000.0</td>\n",
       "      <td>33.16</td>\n",
       "      <td>2018-05-23T00:00:00</td>\n",
       "      <td>1</td>\n",
       "      <td>NaN</td>\n",
       "      <td>27.0</td>\n",
       "      <td>15.43</td>\n",
       "      <td>26</td>\n",
       "      <td>NaN</td>\n",
       "      <td>False</td>\n",
       "      <td>False</td>\n",
       "      <td>8.81</td>\n",
       "      <td>NaN</td>\n",
       "      <td>посёлок Мурино</td>\n",
       "      <td>NaN</td>\n",
       "      <td>NaN</td>\n",
       "      <td>NaN</td>\n",
       "      <td>NaN</td>\n",
       "      <td>NaN</td>\n",
       "      <td>NaN</td>\n",
       "      <td>189.0</td>\n",
       "    </tr>\n",
       "    <tr>\n",
       "      <th>9</th>\n",
       "      <td>18</td>\n",
       "      <td>5400000.0</td>\n",
       "      <td>61.00</td>\n",
       "      <td>2017-02-26T00:00:00</td>\n",
       "      <td>3</td>\n",
       "      <td>2.50</td>\n",
       "      <td>9.0</td>\n",
       "      <td>43.60</td>\n",
       "      <td>7</td>\n",
       "      <td>NaN</td>\n",
       "      <td>False</td>\n",
       "      <td>False</td>\n",
       "      <td>6.50</td>\n",
       "      <td>2.0</td>\n",
       "      <td>Санкт-Петербург</td>\n",
       "      <td>50898.0</td>\n",
       "      <td>15008.0</td>\n",
       "      <td>0.0</td>\n",
       "      <td>NaN</td>\n",
       "      <td>0.0</td>\n",
       "      <td>NaN</td>\n",
       "      <td>289.0</td>\n",
       "    </tr>\n",
       "  </tbody>\n",
       "</table>\n",
       "</div>"
      ],
      "text/plain": [
       "   total_images  last_price  total_area first_day_exposition  rooms  \\\n",
       "0            20  13000000.0      108.00  2019-03-07T00:00:00      3   \n",
       "1             7   3350000.0       40.40  2018-12-04T00:00:00      1   \n",
       "2            10   5196000.0       56.00  2015-08-20T00:00:00      2   \n",
       "3             0  64900000.0      159.00  2015-07-24T00:00:00      3   \n",
       "4             2  10000000.0      100.00  2018-06-19T00:00:00      2   \n",
       "5            10   2890000.0       30.40  2018-09-10T00:00:00      1   \n",
       "6             6   3700000.0       37.30  2017-11-02T00:00:00      1   \n",
       "7             5   7915000.0       71.60  2019-04-18T00:00:00      2   \n",
       "8            20   2900000.0       33.16  2018-05-23T00:00:00      1   \n",
       "9            18   5400000.0       61.00  2017-02-26T00:00:00      3   \n",
       "\n",
       "   ceiling_height  floors_total  living_area  floor is_apartment  studio  \\\n",
       "0            2.70          16.0        51.00      8          NaN   False   \n",
       "1             NaN          11.0        18.60      1          NaN   False   \n",
       "2             NaN           5.0        34.30      4          NaN   False   \n",
       "3             NaN          14.0          NaN      9          NaN   False   \n",
       "4            3.03          14.0        32.00     13          NaN   False   \n",
       "5             NaN          12.0        14.40      5          NaN   False   \n",
       "6             NaN          26.0        10.60      6          NaN   False   \n",
       "7             NaN          24.0          NaN     22          NaN   False   \n",
       "8             NaN          27.0        15.43     26          NaN   False   \n",
       "9            2.50           9.0        43.60      7          NaN   False   \n",
       "\n",
       "   open_plan  kitchen_area  balcony              locality_name  \\\n",
       "0      False         25.00      NaN            Санкт-Петербург   \n",
       "1      False         11.00      2.0             посёлок Шушары   \n",
       "2      False          8.30      0.0            Санкт-Петербург   \n",
       "3      False           NaN      0.0            Санкт-Петербург   \n",
       "4      False         41.00      NaN            Санкт-Петербург   \n",
       "5      False          9.10      NaN  городской посёлок Янино-1   \n",
       "6      False         14.40      1.0          посёлок Парголово   \n",
       "7      False         18.90      2.0            Санкт-Петербург   \n",
       "8      False          8.81      NaN             посёлок Мурино   \n",
       "9      False          6.50      2.0            Санкт-Петербург   \n",
       "\n",
       "   airports_nearest  cityCenters_nearest  parks_around3000  parks_nearest  \\\n",
       "0           18863.0              16028.0               1.0          482.0   \n",
       "1           12817.0              18603.0               0.0            NaN   \n",
       "2           21741.0              13933.0               1.0           90.0   \n",
       "3           28098.0               6800.0               2.0           84.0   \n",
       "4           31856.0               8098.0               2.0          112.0   \n",
       "5               NaN                  NaN               NaN            NaN   \n",
       "6           52996.0              19143.0               0.0            NaN   \n",
       "7           23982.0              11634.0               0.0            NaN   \n",
       "8               NaN                  NaN               NaN            NaN   \n",
       "9           50898.0              15008.0               0.0            NaN   \n",
       "\n",
       "   ponds_around3000  ponds_nearest  days_exposition  \n",
       "0               2.0          755.0              NaN  \n",
       "1               0.0            NaN             81.0  \n",
       "2               2.0          574.0            558.0  \n",
       "3               3.0          234.0            424.0  \n",
       "4               1.0           48.0            121.0  \n",
       "5               NaN            NaN             55.0  \n",
       "6               0.0            NaN            155.0  \n",
       "7               0.0            NaN              NaN  \n",
       "8               NaN            NaN            189.0  \n",
       "9               0.0            NaN            289.0  "
      ]
     },
     "execution_count": 7,
     "metadata": {},
     "output_type": "execute_result"
    }
   ],
   "source": [
    "pd.set_option('display.max_columns', None)\n",
    "df.head(10)"
   ]
  },
  {
   "cell_type": "code",
   "execution_count": 8,
   "metadata": {
    "scrolled": true
   },
   "outputs": [
    {
     "name": "stdout",
     "output_type": "stream",
     "text": [
      "<class 'pandas.core.frame.DataFrame'>\n",
      "RangeIndex: 23699 entries, 0 to 23698\n",
      "Data columns (total 22 columns):\n",
      " #   Column                Non-Null Count  Dtype  \n",
      "---  ------                --------------  -----  \n",
      " 0   total_images          23699 non-null  int64  \n",
      " 1   last_price            23699 non-null  float64\n",
      " 2   total_area            23699 non-null  float64\n",
      " 3   first_day_exposition  23699 non-null  object \n",
      " 4   rooms                 23699 non-null  int64  \n",
      " 5   ceiling_height        14504 non-null  float64\n",
      " 6   floors_total          23613 non-null  float64\n",
      " 7   living_area           21796 non-null  float64\n",
      " 8   floor                 23699 non-null  int64  \n",
      " 9   is_apartment          2775 non-null   object \n",
      " 10  studio                23699 non-null  bool   \n",
      " 11  open_plan             23699 non-null  bool   \n",
      " 12  kitchen_area          21421 non-null  float64\n",
      " 13  balcony               12180 non-null  float64\n",
      " 14  locality_name         23650 non-null  object \n",
      " 15  airports_nearest      18157 non-null  float64\n",
      " 16  city_centers_nearest  18180 non-null  float64\n",
      " 17  parks_around3000      18181 non-null  float64\n",
      " 18  parks_nearest         8079 non-null   float64\n",
      " 19  ponds_around3000      18181 non-null  float64\n",
      " 20  ponds_nearest         9110 non-null   float64\n",
      " 21  days_exposition       20518 non-null  float64\n",
      "dtypes: bool(2), float64(14), int64(3), object(3)\n",
      "memory usage: 3.7+ MB\n"
     ]
    },
    {
     "data": {
      "text/plain": [
       "None"
      ]
     },
     "metadata": {},
     "output_type": "display_data"
    },
    {
     "data": {
      "text/html": [
       "<div>\n",
       "<style scoped>\n",
       "    .dataframe tbody tr th:only-of-type {\n",
       "        vertical-align: middle;\n",
       "    }\n",
       "\n",
       "    .dataframe tbody tr th {\n",
       "        vertical-align: top;\n",
       "    }\n",
       "\n",
       "    .dataframe thead th {\n",
       "        text-align: right;\n",
       "    }\n",
       "</style>\n",
       "<table border=\"1\" class=\"dataframe\">\n",
       "  <thead>\n",
       "    <tr style=\"text-align: right;\">\n",
       "      <th></th>\n",
       "      <th>total_images</th>\n",
       "      <th>last_price</th>\n",
       "      <th>total_area</th>\n",
       "      <th>rooms</th>\n",
       "      <th>ceiling_height</th>\n",
       "      <th>floors_total</th>\n",
       "      <th>living_area</th>\n",
       "      <th>floor</th>\n",
       "      <th>kitchen_area</th>\n",
       "      <th>balcony</th>\n",
       "      <th>airports_nearest</th>\n",
       "      <th>city_centers_nearest</th>\n",
       "      <th>parks_around3000</th>\n",
       "      <th>parks_nearest</th>\n",
       "      <th>ponds_around3000</th>\n",
       "      <th>ponds_nearest</th>\n",
       "      <th>days_exposition</th>\n",
       "    </tr>\n",
       "  </thead>\n",
       "  <tbody>\n",
       "    <tr>\n",
       "      <th>count</th>\n",
       "      <td>23699.000000</td>\n",
       "      <td>2.369900e+04</td>\n",
       "      <td>23699.000000</td>\n",
       "      <td>23699.000000</td>\n",
       "      <td>14504.000000</td>\n",
       "      <td>23613.000000</td>\n",
       "      <td>21796.000000</td>\n",
       "      <td>23699.000000</td>\n",
       "      <td>21421.000000</td>\n",
       "      <td>12180.000000</td>\n",
       "      <td>18157.000000</td>\n",
       "      <td>18180.000000</td>\n",
       "      <td>18181.000000</td>\n",
       "      <td>8079.000000</td>\n",
       "      <td>18181.000000</td>\n",
       "      <td>9110.000000</td>\n",
       "      <td>20518.000000</td>\n",
       "    </tr>\n",
       "    <tr>\n",
       "      <th>mean</th>\n",
       "      <td>9.858475</td>\n",
       "      <td>6.541549e+06</td>\n",
       "      <td>60.348651</td>\n",
       "      <td>2.070636</td>\n",
       "      <td>2.771499</td>\n",
       "      <td>10.673824</td>\n",
       "      <td>34.457852</td>\n",
       "      <td>5.892358</td>\n",
       "      <td>10.569807</td>\n",
       "      <td>1.150082</td>\n",
       "      <td>28793.672193</td>\n",
       "      <td>14191.277833</td>\n",
       "      <td>0.611408</td>\n",
       "      <td>490.804555</td>\n",
       "      <td>0.770255</td>\n",
       "      <td>517.980900</td>\n",
       "      <td>180.888634</td>\n",
       "    </tr>\n",
       "    <tr>\n",
       "      <th>std</th>\n",
       "      <td>5.682529</td>\n",
       "      <td>1.088701e+07</td>\n",
       "      <td>35.654083</td>\n",
       "      <td>1.078405</td>\n",
       "      <td>1.261056</td>\n",
       "      <td>6.597173</td>\n",
       "      <td>22.030445</td>\n",
       "      <td>4.885249</td>\n",
       "      <td>5.905438</td>\n",
       "      <td>1.071300</td>\n",
       "      <td>12630.880622</td>\n",
       "      <td>8608.386210</td>\n",
       "      <td>0.802074</td>\n",
       "      <td>342.317995</td>\n",
       "      <td>0.938346</td>\n",
       "      <td>277.720643</td>\n",
       "      <td>219.727988</td>\n",
       "    </tr>\n",
       "    <tr>\n",
       "      <th>min</th>\n",
       "      <td>0.000000</td>\n",
       "      <td>1.219000e+04</td>\n",
       "      <td>12.000000</td>\n",
       "      <td>0.000000</td>\n",
       "      <td>1.000000</td>\n",
       "      <td>1.000000</td>\n",
       "      <td>2.000000</td>\n",
       "      <td>1.000000</td>\n",
       "      <td>1.300000</td>\n",
       "      <td>0.000000</td>\n",
       "      <td>0.000000</td>\n",
       "      <td>181.000000</td>\n",
       "      <td>0.000000</td>\n",
       "      <td>1.000000</td>\n",
       "      <td>0.000000</td>\n",
       "      <td>13.000000</td>\n",
       "      <td>1.000000</td>\n",
       "    </tr>\n",
       "    <tr>\n",
       "      <th>25%</th>\n",
       "      <td>6.000000</td>\n",
       "      <td>3.400000e+06</td>\n",
       "      <td>40.000000</td>\n",
       "      <td>1.000000</td>\n",
       "      <td>2.520000</td>\n",
       "      <td>5.000000</td>\n",
       "      <td>18.600000</td>\n",
       "      <td>2.000000</td>\n",
       "      <td>7.000000</td>\n",
       "      <td>0.000000</td>\n",
       "      <td>18585.000000</td>\n",
       "      <td>9238.000000</td>\n",
       "      <td>0.000000</td>\n",
       "      <td>288.000000</td>\n",
       "      <td>0.000000</td>\n",
       "      <td>294.000000</td>\n",
       "      <td>45.000000</td>\n",
       "    </tr>\n",
       "    <tr>\n",
       "      <th>50%</th>\n",
       "      <td>9.000000</td>\n",
       "      <td>4.650000e+06</td>\n",
       "      <td>52.000000</td>\n",
       "      <td>2.000000</td>\n",
       "      <td>2.650000</td>\n",
       "      <td>9.000000</td>\n",
       "      <td>30.000000</td>\n",
       "      <td>4.000000</td>\n",
       "      <td>9.100000</td>\n",
       "      <td>1.000000</td>\n",
       "      <td>26726.000000</td>\n",
       "      <td>13098.500000</td>\n",
       "      <td>0.000000</td>\n",
       "      <td>455.000000</td>\n",
       "      <td>1.000000</td>\n",
       "      <td>502.000000</td>\n",
       "      <td>95.000000</td>\n",
       "    </tr>\n",
       "    <tr>\n",
       "      <th>75%</th>\n",
       "      <td>14.000000</td>\n",
       "      <td>6.800000e+06</td>\n",
       "      <td>69.900000</td>\n",
       "      <td>3.000000</td>\n",
       "      <td>2.800000</td>\n",
       "      <td>16.000000</td>\n",
       "      <td>42.300000</td>\n",
       "      <td>8.000000</td>\n",
       "      <td>12.000000</td>\n",
       "      <td>2.000000</td>\n",
       "      <td>37273.000000</td>\n",
       "      <td>16293.000000</td>\n",
       "      <td>1.000000</td>\n",
       "      <td>612.000000</td>\n",
       "      <td>1.000000</td>\n",
       "      <td>729.000000</td>\n",
       "      <td>232.000000</td>\n",
       "    </tr>\n",
       "    <tr>\n",
       "      <th>max</th>\n",
       "      <td>50.000000</td>\n",
       "      <td>7.630000e+08</td>\n",
       "      <td>900.000000</td>\n",
       "      <td>19.000000</td>\n",
       "      <td>100.000000</td>\n",
       "      <td>60.000000</td>\n",
       "      <td>409.700000</td>\n",
       "      <td>33.000000</td>\n",
       "      <td>112.000000</td>\n",
       "      <td>5.000000</td>\n",
       "      <td>84869.000000</td>\n",
       "      <td>65968.000000</td>\n",
       "      <td>3.000000</td>\n",
       "      <td>3190.000000</td>\n",
       "      <td>3.000000</td>\n",
       "      <td>1344.000000</td>\n",
       "      <td>1580.000000</td>\n",
       "    </tr>\n",
       "  </tbody>\n",
       "</table>\n",
       "</div>"
      ],
      "text/plain": [
       "       total_images    last_price    total_area         rooms  ceiling_height  \\\n",
       "count  23699.000000  2.369900e+04  23699.000000  23699.000000    14504.000000   \n",
       "mean       9.858475  6.541549e+06     60.348651      2.070636        2.771499   \n",
       "std        5.682529  1.088701e+07     35.654083      1.078405        1.261056   \n",
       "min        0.000000  1.219000e+04     12.000000      0.000000        1.000000   \n",
       "25%        6.000000  3.400000e+06     40.000000      1.000000        2.520000   \n",
       "50%        9.000000  4.650000e+06     52.000000      2.000000        2.650000   \n",
       "75%       14.000000  6.800000e+06     69.900000      3.000000        2.800000   \n",
       "max       50.000000  7.630000e+08    900.000000     19.000000      100.000000   \n",
       "\n",
       "       floors_total   living_area         floor  kitchen_area       balcony  \\\n",
       "count  23613.000000  21796.000000  23699.000000  21421.000000  12180.000000   \n",
       "mean      10.673824     34.457852      5.892358     10.569807      1.150082   \n",
       "std        6.597173     22.030445      4.885249      5.905438      1.071300   \n",
       "min        1.000000      2.000000      1.000000      1.300000      0.000000   \n",
       "25%        5.000000     18.600000      2.000000      7.000000      0.000000   \n",
       "50%        9.000000     30.000000      4.000000      9.100000      1.000000   \n",
       "75%       16.000000     42.300000      8.000000     12.000000      2.000000   \n",
       "max       60.000000    409.700000     33.000000    112.000000      5.000000   \n",
       "\n",
       "       airports_nearest  city_centers_nearest  parks_around3000  \\\n",
       "count      18157.000000          18180.000000      18181.000000   \n",
       "mean       28793.672193          14191.277833          0.611408   \n",
       "std        12630.880622           8608.386210          0.802074   \n",
       "min            0.000000            181.000000          0.000000   \n",
       "25%        18585.000000           9238.000000          0.000000   \n",
       "50%        26726.000000          13098.500000          0.000000   \n",
       "75%        37273.000000          16293.000000          1.000000   \n",
       "max        84869.000000          65968.000000          3.000000   \n",
       "\n",
       "       parks_nearest  ponds_around3000  ponds_nearest  days_exposition  \n",
       "count    8079.000000      18181.000000    9110.000000     20518.000000  \n",
       "mean      490.804555          0.770255     517.980900       180.888634  \n",
       "std       342.317995          0.938346     277.720643       219.727988  \n",
       "min         1.000000          0.000000      13.000000         1.000000  \n",
       "25%       288.000000          0.000000     294.000000        45.000000  \n",
       "50%       455.000000          1.000000     502.000000        95.000000  \n",
       "75%       612.000000          1.000000     729.000000       232.000000  \n",
       "max      3190.000000          3.000000    1344.000000      1580.000000  "
      ]
     },
     "execution_count": 8,
     "metadata": {},
     "output_type": "execute_result"
    }
   ],
   "source": [
    "#renaming some columns\n",
    "df = df.rename(columns={\"cityCenters_nearest\":\"city_centers_nearest\"})\n",
    "display(df.info())\n",
    "df.describe()"
   ]
  },
  {
   "cell_type": "code",
   "execution_count": 6,
   "metadata": {
    "scrolled": true
   },
   "outputs": [
    {
     "name": "stdout",
     "output_type": "stream",
     "text": [
      "ceiling_height \t 9195\n",
      "floors_total \t 86\n",
      "living_area \t 1903\n",
      "is_apartment \t 20924\n",
      "kitchen_area \t 2278\n",
      "balcony \t 11519\n",
      "locality_name \t 49\n",
      "airports_nearest \t 5542\n",
      "city_centers_nearest \t 5519\n",
      "parks_around3000 \t 5518\n",
      "parks_nearest \t 15620\n",
      "ponds_around3000 \t 5518\n",
      "ponds_nearest \t 14589\n",
      "days_exposition \t 3181\n"
     ]
    }
   ],
   "source": [
    "for col in df.columns:\n",
    "    if df[col].isna().sum() != 0:\n",
    "        print(col,'\\t', df[col].isna().sum())"
   ]
  },
  {
   "cell_type": "markdown",
   "metadata": {},
   "source": [
    "### Вывод"
   ]
  },
  {
   "cell_type": "markdown",
   "metadata": {},
   "source": [
    "После беглого анализа ясно, что нужно:\n",
    "- Изменить тип:\n",
    "    - first_day_exposition - datetime\n",
    "    - last_price, floors_total, balcony, parks_around3000, ponds_around3000, days_exposition - int\n",
    "- По возможности заполнить пропуски в столбцах   <b>'ceiling_height',\n",
    " 'floors_total',\n",
    " 'living_area',\n",
    " 'is_apartment',\n",
    " 'kitchen_area',\n",
    " 'balcony',\n",
    " 'locality_name',\n",
    " 'airports_nearest',\n",
    " 'cityCenters_nearest',\n",
    " 'parks_around3000',\n",
    " 'parks_nearest',\n",
    " 'ponds_around3000',\n",
    " 'ponds_nearest',\n",
    " 'days_exposition'</b>\n",
    " \n",
    " Также видно, что у значений цены есть выбивающиеся значения (максимум ~800 млн, минимум ~10 тыс). Нужно будет отсекать лишние значения."
   ]
  },
  {
   "cell_type": "markdown",
   "metadata": {},
   "source": [
    "## Предобработка данных"
   ]
  },
  {
   "cell_type": "code",
   "execution_count": 16,
   "metadata": {},
   "outputs": [
    {
     "data": {
      "image/png": "[encoded data removed]",
      "text/plain": [
       "<Figure size 432x288 with 1 Axes>"
      ]
     },
     "metadata": {
      "needs_background": "light"
     },
     "output_type": "display_data"
    }
   ],
   "source": [
    "df.ceiling_height.hist(bins=50, log=True)\n",
    "plt.xlabel('height, m')\n",
    "plt.title('ceiling height distribution')\n",
    "plt.show()"
   ]
  },
  {
   "cell_type": "code",
   "execution_count": 17,
   "metadata": {
    "scrolled": true
   },
   "outputs": [
    {
     "data": {
      "text/plain": [
       "22590    1.00\n",
       "5712     1.20\n",
       "16934    1.75\n",
       "2572     2.00\n",
       "19329    2.00\n",
       "         ... \n",
       "23687     NaN\n",
       "23690     NaN\n",
       "23692     NaN\n",
       "23695     NaN\n",
       "23696     NaN\n",
       "Name: ceiling_height, Length: 23699, dtype: float64"
      ]
     },
     "execution_count": 17,
     "metadata": {},
     "output_type": "execute_result"
    }
   ],
   "source": [
    "df.ceiling_height.sort_values()"
   ]
  },
  {
   "cell_type": "code",
   "execution_count": 18,
   "metadata": {},
   "outputs": [
    {
     "data": {
      "text/html": [
       "<div>\n",
       "<style scoped>\n",
       "    .dataframe tbody tr th:only-of-type {\n",
       "        vertical-align: middle;\n",
       "    }\n",
       "\n",
       "    .dataframe tbody tr th {\n",
       "        vertical-align: top;\n",
       "    }\n",
       "\n",
       "    .dataframe thead th {\n",
       "        text-align: right;\n",
       "    }\n",
       "</style>\n",
       "<table border=\"1\" class=\"dataframe\">\n",
       "  <thead>\n",
       "    <tr style=\"text-align: right;\">\n",
       "      <th></th>\n",
       "      <th>total_images</th>\n",
       "      <th>last_price</th>\n",
       "      <th>total_area</th>\n",
       "      <th>first_day_exposition</th>\n",
       "      <th>rooms</th>\n",
       "      <th>ceiling_height</th>\n",
       "      <th>floors_total</th>\n",
       "      <th>living_area</th>\n",
       "      <th>floor</th>\n",
       "      <th>is_apartment</th>\n",
       "      <th>studio</th>\n",
       "      <th>open_plan</th>\n",
       "      <th>kitchen_area</th>\n",
       "      <th>balcony</th>\n",
       "      <th>locality_name</th>\n",
       "      <th>airports_nearest</th>\n",
       "      <th>city_centers_nearest</th>\n",
       "      <th>parks_around3000</th>\n",
       "      <th>parks_nearest</th>\n",
       "      <th>ponds_around3000</th>\n",
       "      <th>ponds_nearest</th>\n",
       "      <th>days_exposition</th>\n",
       "    </tr>\n",
       "  </thead>\n",
       "  <tbody>\n",
       "    <tr>\n",
       "      <th>186</th>\n",
       "      <td>12</td>\n",
       "      <td>11640000.0</td>\n",
       "      <td>65.2</td>\n",
       "      <td>2018-10-02T00:00:00</td>\n",
       "      <td>2</td>\n",
       "      <td>NaN</td>\n",
       "      <td>NaN</td>\n",
       "      <td>30.80</td>\n",
       "      <td>4</td>\n",
       "      <td>NaN</td>\n",
       "      <td>False</td>\n",
       "      <td>False</td>\n",
       "      <td>12.00</td>\n",
       "      <td>NaN</td>\n",
       "      <td>Санкт-Петербург</td>\n",
       "      <td>39197.0</td>\n",
       "      <td>12373.0</td>\n",
       "      <td>1.0</td>\n",
       "      <td>123.0</td>\n",
       "      <td>0.0</td>\n",
       "      <td>NaN</td>\n",
       "      <td>49.0</td>\n",
       "    </tr>\n",
       "    <tr>\n",
       "      <th>237</th>\n",
       "      <td>4</td>\n",
       "      <td>2438033.0</td>\n",
       "      <td>28.1</td>\n",
       "      <td>2016-11-23T00:00:00</td>\n",
       "      <td>1</td>\n",
       "      <td>NaN</td>\n",
       "      <td>NaN</td>\n",
       "      <td>20.75</td>\n",
       "      <td>1</td>\n",
       "      <td>NaN</td>\n",
       "      <td>False</td>\n",
       "      <td>False</td>\n",
       "      <td>NaN</td>\n",
       "      <td>0.0</td>\n",
       "      <td>Санкт-Петербург</td>\n",
       "      <td>22041.0</td>\n",
       "      <td>17369.0</td>\n",
       "      <td>0.0</td>\n",
       "      <td>NaN</td>\n",
       "      <td>1.0</td>\n",
       "      <td>374.0</td>\n",
       "      <td>251.0</td>\n",
       "    </tr>\n",
       "    <tr>\n",
       "      <th>457</th>\n",
       "      <td>4</td>\n",
       "      <td>9788348.0</td>\n",
       "      <td>70.8</td>\n",
       "      <td>2015-08-01T00:00:00</td>\n",
       "      <td>2</td>\n",
       "      <td>NaN</td>\n",
       "      <td>NaN</td>\n",
       "      <td>38.40</td>\n",
       "      <td>12</td>\n",
       "      <td>NaN</td>\n",
       "      <td>False</td>\n",
       "      <td>False</td>\n",
       "      <td>10.63</td>\n",
       "      <td>0.0</td>\n",
       "      <td>Санкт-Петербург</td>\n",
       "      <td>37364.0</td>\n",
       "      <td>8322.0</td>\n",
       "      <td>2.0</td>\n",
       "      <td>309.0</td>\n",
       "      <td>2.0</td>\n",
       "      <td>706.0</td>\n",
       "      <td>727.0</td>\n",
       "    </tr>\n",
       "    <tr>\n",
       "      <th>671</th>\n",
       "      <td>4</td>\n",
       "      <td>6051191.0</td>\n",
       "      <td>93.6</td>\n",
       "      <td>2017-04-06T00:00:00</td>\n",
       "      <td>3</td>\n",
       "      <td>NaN</td>\n",
       "      <td>NaN</td>\n",
       "      <td>47.10</td>\n",
       "      <td>8</td>\n",
       "      <td>NaN</td>\n",
       "      <td>False</td>\n",
       "      <td>False</td>\n",
       "      <td>16.80</td>\n",
       "      <td>0.0</td>\n",
       "      <td>Санкт-Петербург</td>\n",
       "      <td>22041.0</td>\n",
       "      <td>17369.0</td>\n",
       "      <td>0.0</td>\n",
       "      <td>NaN</td>\n",
       "      <td>1.0</td>\n",
       "      <td>374.0</td>\n",
       "      <td>123.0</td>\n",
       "    </tr>\n",
       "    <tr>\n",
       "      <th>1757</th>\n",
       "      <td>5</td>\n",
       "      <td>3600000.0</td>\n",
       "      <td>39.0</td>\n",
       "      <td>2017-04-22T00:00:00</td>\n",
       "      <td>1</td>\n",
       "      <td>NaN</td>\n",
       "      <td>NaN</td>\n",
       "      <td>NaN</td>\n",
       "      <td>9</td>\n",
       "      <td>NaN</td>\n",
       "      <td>False</td>\n",
       "      <td>False</td>\n",
       "      <td>NaN</td>\n",
       "      <td>0.0</td>\n",
       "      <td>Санкт-Петербург</td>\n",
       "      <td>22735.0</td>\n",
       "      <td>11618.0</td>\n",
       "      <td>1.0</td>\n",
       "      <td>835.0</td>\n",
       "      <td>1.0</td>\n",
       "      <td>652.0</td>\n",
       "      <td>77.0</td>\n",
       "    </tr>\n",
       "    <tr>\n",
       "      <th>...</th>\n",
       "      <td>...</td>\n",
       "      <td>...</td>\n",
       "      <td>...</td>\n",
       "      <td>...</td>\n",
       "      <td>...</td>\n",
       "      <td>...</td>\n",
       "      <td>...</td>\n",
       "      <td>...</td>\n",
       "      <td>...</td>\n",
       "      <td>...</td>\n",
       "      <td>...</td>\n",
       "      <td>...</td>\n",
       "      <td>...</td>\n",
       "      <td>...</td>\n",
       "      <td>...</td>\n",
       "      <td>...</td>\n",
       "      <td>...</td>\n",
       "      <td>...</td>\n",
       "      <td>...</td>\n",
       "      <td>...</td>\n",
       "      <td>...</td>\n",
       "      <td>...</td>\n",
       "    </tr>\n",
       "    <tr>\n",
       "      <th>22542</th>\n",
       "      <td>5</td>\n",
       "      <td>8500000.0</td>\n",
       "      <td>63.5</td>\n",
       "      <td>2017-05-24T00:00:00</td>\n",
       "      <td>2</td>\n",
       "      <td>2.8</td>\n",
       "      <td>NaN</td>\n",
       "      <td>NaN</td>\n",
       "      <td>3</td>\n",
       "      <td>NaN</td>\n",
       "      <td>False</td>\n",
       "      <td>False</td>\n",
       "      <td>NaN</td>\n",
       "      <td>NaN</td>\n",
       "      <td>Санкт-Петербург</td>\n",
       "      <td>51340.0</td>\n",
       "      <td>15363.0</td>\n",
       "      <td>0.0</td>\n",
       "      <td>NaN</td>\n",
       "      <td>1.0</td>\n",
       "      <td>853.0</td>\n",
       "      <td>512.0</td>\n",
       "    </tr>\n",
       "    <tr>\n",
       "      <th>22656</th>\n",
       "      <td>4</td>\n",
       "      <td>4574160.0</td>\n",
       "      <td>64.5</td>\n",
       "      <td>2017-04-02T00:00:00</td>\n",
       "      <td>2</td>\n",
       "      <td>NaN</td>\n",
       "      <td>NaN</td>\n",
       "      <td>31.70</td>\n",
       "      <td>20</td>\n",
       "      <td>NaN</td>\n",
       "      <td>False</td>\n",
       "      <td>False</td>\n",
       "      <td>14.40</td>\n",
       "      <td>0.0</td>\n",
       "      <td>Санкт-Петербург</td>\n",
       "      <td>22041.0</td>\n",
       "      <td>17369.0</td>\n",
       "      <td>0.0</td>\n",
       "      <td>NaN</td>\n",
       "      <td>1.0</td>\n",
       "      <td>374.0</td>\n",
       "      <td>127.0</td>\n",
       "    </tr>\n",
       "    <tr>\n",
       "      <th>22808</th>\n",
       "      <td>0</td>\n",
       "      <td>14569263.0</td>\n",
       "      <td>110.4</td>\n",
       "      <td>2016-11-20T00:00:00</td>\n",
       "      <td>3</td>\n",
       "      <td>NaN</td>\n",
       "      <td>NaN</td>\n",
       "      <td>45.38</td>\n",
       "      <td>6</td>\n",
       "      <td>NaN</td>\n",
       "      <td>False</td>\n",
       "      <td>False</td>\n",
       "      <td>23.42</td>\n",
       "      <td>0.0</td>\n",
       "      <td>Санкт-Петербург</td>\n",
       "      <td>19095.0</td>\n",
       "      <td>4529.0</td>\n",
       "      <td>0.0</td>\n",
       "      <td>NaN</td>\n",
       "      <td>0.0</td>\n",
       "      <td>NaN</td>\n",
       "      <td>260.0</td>\n",
       "    </tr>\n",
       "    <tr>\n",
       "      <th>23590</th>\n",
       "      <td>0</td>\n",
       "      <td>21187872.0</td>\n",
       "      <td>123.3</td>\n",
       "      <td>2017-04-25T00:00:00</td>\n",
       "      <td>3</td>\n",
       "      <td>NaN</td>\n",
       "      <td>NaN</td>\n",
       "      <td>50.40</td>\n",
       "      <td>18</td>\n",
       "      <td>NaN</td>\n",
       "      <td>False</td>\n",
       "      <td>False</td>\n",
       "      <td>23.60</td>\n",
       "      <td>0.0</td>\n",
       "      <td>Санкт-Петербург</td>\n",
       "      <td>19095.0</td>\n",
       "      <td>4529.0</td>\n",
       "      <td>0.0</td>\n",
       "      <td>NaN</td>\n",
       "      <td>0.0</td>\n",
       "      <td>NaN</td>\n",
       "      <td>104.0</td>\n",
       "    </tr>\n",
       "    <tr>\n",
       "      <th>23658</th>\n",
       "      <td>6</td>\n",
       "      <td>3063600.0</td>\n",
       "      <td>43.8</td>\n",
       "      <td>2016-11-28T00:00:00</td>\n",
       "      <td>1</td>\n",
       "      <td>2.7</td>\n",
       "      <td>NaN</td>\n",
       "      <td>14.00</td>\n",
       "      <td>8</td>\n",
       "      <td>NaN</td>\n",
       "      <td>False</td>\n",
       "      <td>False</td>\n",
       "      <td>15.50</td>\n",
       "      <td>2.0</td>\n",
       "      <td>Санкт-Петербург</td>\n",
       "      <td>8426.0</td>\n",
       "      <td>12082.0</td>\n",
       "      <td>2.0</td>\n",
       "      <td>24.0</td>\n",
       "      <td>1.0</td>\n",
       "      <td>271.0</td>\n",
       "      <td>246.0</td>\n",
       "    </tr>\n",
       "  </tbody>\n",
       "</table>\n",
       "<p>86 rows × 22 columns</p>\n",
       "</div>"
      ],
      "text/plain": [
       "       total_images  last_price  total_area first_day_exposition  rooms  \\\n",
       "186              12  11640000.0        65.2  2018-10-02T00:00:00      2   \n",
       "237               4   2438033.0        28.1  2016-11-23T00:00:00      1   \n",
       "457               4   9788348.0        70.8  2015-08-01T00:00:00      2   \n",
       "671               4   6051191.0        93.6  2017-04-06T00:00:00      3   \n",
       "1757              5   3600000.0        39.0  2017-04-22T00:00:00      1   \n",
       "...             ...         ...         ...                  ...    ...   \n",
       "22542             5   8500000.0        63.5  2017-05-24T00:00:00      2   \n",
       "22656             4   4574160.0        64.5  2017-04-02T00:00:00      2   \n",
       "22808             0  14569263.0       110.4  2016-11-20T00:00:00      3   \n",
       "23590             0  21187872.0       123.3  2017-04-25T00:00:00      3   \n",
       "23658             6   3063600.0        43.8  2016-11-28T00:00:00      1   \n",
       "\n",
       "       ceiling_height  floors_total  living_area  floor is_apartment  studio  \\\n",
       "186               NaN           NaN        30.80      4          NaN   False   \n",
       "237               NaN           NaN        20.75      1          NaN   False   \n",
       "457               NaN           NaN        38.40     12          NaN   False   \n",
       "671               NaN           NaN        47.10      8          NaN   False   \n",
       "1757              NaN           NaN          NaN      9          NaN   False   \n",
       "...               ...           ...          ...    ...          ...     ...   \n",
       "22542             2.8           NaN          NaN      3          NaN   False   \n",
       "22656             NaN           NaN        31.70     20          NaN   False   \n",
       "22808             NaN           NaN        45.38      6          NaN   False   \n",
       "23590             NaN           NaN        50.40     18          NaN   False   \n",
       "23658             2.7           NaN        14.00      8          NaN   False   \n",
       "\n",
       "       open_plan  kitchen_area  balcony    locality_name  airports_nearest  \\\n",
       "186        False         12.00      NaN  Санкт-Петербург           39197.0   \n",
       "237        False           NaN      0.0  Санкт-Петербург           22041.0   \n",
       "457        False         10.63      0.0  Санкт-Петербург           37364.0   \n",
       "671        False         16.80      0.0  Санкт-Петербург           22041.0   \n",
       "1757       False           NaN      0.0  Санкт-Петербург           22735.0   \n",
       "...          ...           ...      ...              ...               ...   \n",
       "22542      False           NaN      NaN  Санкт-Петербург           51340.0   \n",
       "22656      False         14.40      0.0  Санкт-Петербург           22041.0   \n",
       "22808      False         23.42      0.0  Санкт-Петербург           19095.0   \n",
       "23590      False         23.60      0.0  Санкт-Петербург           19095.0   \n",
       "23658      False         15.50      2.0  Санкт-Петербург            8426.0   \n",
       "\n",
       "       city_centers_nearest  parks_around3000  parks_nearest  \\\n",
       "186                 12373.0               1.0          123.0   \n",
       "237                 17369.0               0.0            NaN   \n",
       "457                  8322.0               2.0          309.0   \n",
       "671                 17369.0               0.0            NaN   \n",
       "1757                11618.0               1.0          835.0   \n",
       "...                     ...               ...            ...   \n",
       "22542               15363.0               0.0            NaN   \n",
       "22656               17369.0               0.0            NaN   \n",
       "22808                4529.0               0.0            NaN   \n",
       "23590                4529.0               0.0            NaN   \n",
       "23658               12082.0               2.0           24.0   \n",
       "\n",
       "       ponds_around3000  ponds_nearest  days_exposition  \n",
       "186                 0.0            NaN             49.0  \n",
       "237                 1.0          374.0            251.0  \n",
       "457                 2.0          706.0            727.0  \n",
       "671                 1.0          374.0            123.0  \n",
       "1757                1.0          652.0             77.0  \n",
       "...                 ...            ...              ...  \n",
       "22542               1.0          853.0            512.0  \n",
       "22656               1.0          374.0            127.0  \n",
       "22808               0.0            NaN            260.0  \n",
       "23590               0.0            NaN            104.0  \n",
       "23658               1.0          271.0            246.0  \n",
       "\n",
       "[86 rows x 22 columns]"
      ]
     },
     "execution_count": 18,
     "metadata": {},
     "output_type": "execute_result"
    }
   ],
   "source": [
    "df[df.floors_total.isna()]"
   ]
  },
  {
   "cell_type": "code",
   "execution_count": 20,
   "metadata": {
    "scrolled": true
   },
   "outputs": [
    {
     "data": {
      "text/plain": [
       "0"
      ]
     },
     "execution_count": 20,
     "metadata": {},
     "output_type": "execute_result"
    }
   ],
   "source": [
    "#missing values in \"balcony\" are 0\n",
    "df.balcony = df.balcony.fillna(0)\n",
    "df.balcony.astype('int')\n",
    "df.balcony.isna().sum()"
   ]
  },
  {
   "cell_type": "code",
   "execution_count": 25,
   "metadata": {},
   "outputs": [
    {
     "data": {
      "text/plain": [
       "0   2019-03-07\n",
       "1   2018-12-04\n",
       "2   2015-08-20\n",
       "3   2015-07-24\n",
       "4   2018-06-19\n",
       "Name: first_day_exposition, dtype: datetime64[ns]"
      ]
     },
     "execution_count": 25,
     "metadata": {},
     "output_type": "execute_result"
    }
   ],
   "source": [
    "df['first_day_exposition'] = pd.to_datetime(df['first_day_exposition'])\n",
    "df['first_day_exposition'].head()"
   ]
  },
  {
   "cell_type": "code",
   "execution_count": 26,
   "metadata": {
    "scrolled": true
   },
   "outputs": [
    {
     "data": {
      "text/plain": [
       "count    23699.000000\n",
       "mean         2.724358\n",
       "std          0.988298\n",
       "min          1.000000\n",
       "25%          2.600000\n",
       "50%          2.650000\n",
       "75%          2.700000\n",
       "max        100.000000\n",
       "Name: ceiling_height, dtype: float64"
      ]
     },
     "execution_count": 26,
     "metadata": {},
     "output_type": "execute_result"
    }
   ],
   "source": [
    "df.ceiling_height.describe()"
   ]
  },
  {
   "cell_type": "code",
   "execution_count": 27,
   "metadata": {},
   "outputs": [
    {
     "data": {
      "text/plain": [
       "0"
      ]
     },
     "execution_count": 27,
     "metadata": {},
     "output_type": "execute_result"
    }
   ],
   "source": [
    "# filling missinig ceiling heghts with median value\n",
    "df.ceiling_height = df.ceiling_height.fillna(df.ceiling_height.median())\n",
    "df.ceiling_height.isna().sum()"
   ]
  },
  {
   "cell_type": "code",
   "execution_count": 28,
   "metadata": {
    "scrolled": false
   },
   "outputs": [
    {
     "name": "stdout",
     "output_type": "stream",
     "text": [
      "<class 'pandas.core.frame.DataFrame'>\n",
      "RangeIndex: 23699 entries, 0 to 23698\n",
      "Data columns (total 22 columns):\n",
      " #   Column                Non-Null Count  Dtype         \n",
      "---  ------                --------------  -----         \n",
      " 0   total_images          23699 non-null  int64         \n",
      " 1   last_price            23699 non-null  float64       \n",
      " 2   total_area            23699 non-null  float64       \n",
      " 3   first_day_exposition  23699 non-null  datetime64[ns]\n",
      " 4   rooms                 23699 non-null  int64         \n",
      " 5   ceiling_height        23699 non-null  float64       \n",
      " 6   floors_total          23613 non-null  float64       \n",
      " 7   living_area           21796 non-null  float64       \n",
      " 8   floor                 23699 non-null  int64         \n",
      " 9   is_apartment          2775 non-null   object        \n",
      " 10  studio                23699 non-null  bool          \n",
      " 11  open_plan             23699 non-null  bool          \n",
      " 12  kitchen_area          21421 non-null  float64       \n",
      " 13  balcony               23699 non-null  float64       \n",
      " 14  locality_name         23650 non-null  object        \n",
      " 15  airports_nearest      18157 non-null  float64       \n",
      " 16  city_centers_nearest  18180 non-null  float64       \n",
      " 17  parks_around3000      18181 non-null  float64       \n",
      " 18  parks_nearest         8079 non-null   float64       \n",
      " 19  ponds_around3000      18181 non-null  float64       \n",
      " 20  ponds_nearest         9110 non-null   float64       \n",
      " 21  days_exposition       20518 non-null  float64       \n",
      "dtypes: bool(2), datetime64[ns](1), float64(14), int64(3), object(2)\n",
      "memory usage: 3.7+ MB\n"
     ]
    }
   ],
   "source": [
    "df.info()"
   ]
  },
  {
   "cell_type": "code",
   "execution_count": 29,
   "metadata": {
    "scrolled": true
   },
   "outputs": [
    {
     "data": {
      "text/html": [
       "<div>\n",
       "<style scoped>\n",
       "    .dataframe tbody tr th:only-of-type {\n",
       "        vertical-align: middle;\n",
       "    }\n",
       "\n",
       "    .dataframe tbody tr th {\n",
       "        vertical-align: top;\n",
       "    }\n",
       "\n",
       "    .dataframe thead th {\n",
       "        text-align: right;\n",
       "    }\n",
       "</style>\n",
       "<table border=\"1\" class=\"dataframe\">\n",
       "  <thead>\n",
       "    <tr style=\"text-align: right;\">\n",
       "      <th></th>\n",
       "      <th>total_images</th>\n",
       "      <th>last_price</th>\n",
       "      <th>total_area</th>\n",
       "      <th>rooms</th>\n",
       "      <th>ceiling_height</th>\n",
       "      <th>floors_total</th>\n",
       "      <th>living_area</th>\n",
       "      <th>floor</th>\n",
       "      <th>kitchen_area</th>\n",
       "      <th>balcony</th>\n",
       "      <th>airports_nearest</th>\n",
       "      <th>city_centers_nearest</th>\n",
       "      <th>parks_around3000</th>\n",
       "      <th>parks_nearest</th>\n",
       "      <th>ponds_around3000</th>\n",
       "      <th>ponds_nearest</th>\n",
       "      <th>days_exposition</th>\n",
       "    </tr>\n",
       "  </thead>\n",
       "  <tbody>\n",
       "    <tr>\n",
       "      <th>count</th>\n",
       "      <td>23699.000000</td>\n",
       "      <td>2.369900e+04</td>\n",
       "      <td>23699.000000</td>\n",
       "      <td>23699.000000</td>\n",
       "      <td>23699.000000</td>\n",
       "      <td>23613.000000</td>\n",
       "      <td>21796.000000</td>\n",
       "      <td>23699.000000</td>\n",
       "      <td>21421.000000</td>\n",
       "      <td>23699.000000</td>\n",
       "      <td>18157.000000</td>\n",
       "      <td>18180.000000</td>\n",
       "      <td>18181.000000</td>\n",
       "      <td>8079.000000</td>\n",
       "      <td>18181.000000</td>\n",
       "      <td>9110.000000</td>\n",
       "      <td>20518.000000</td>\n",
       "    </tr>\n",
       "    <tr>\n",
       "      <th>mean</th>\n",
       "      <td>9.858475</td>\n",
       "      <td>6.541549e+06</td>\n",
       "      <td>60.348651</td>\n",
       "      <td>2.070636</td>\n",
       "      <td>2.724358</td>\n",
       "      <td>10.673824</td>\n",
       "      <td>34.457852</td>\n",
       "      <td>5.892358</td>\n",
       "      <td>10.569807</td>\n",
       "      <td>0.591080</td>\n",
       "      <td>28793.672193</td>\n",
       "      <td>14191.277833</td>\n",
       "      <td>0.611408</td>\n",
       "      <td>490.804555</td>\n",
       "      <td>0.770255</td>\n",
       "      <td>517.980900</td>\n",
       "      <td>180.888634</td>\n",
       "    </tr>\n",
       "    <tr>\n",
       "      <th>std</th>\n",
       "      <td>5.682529</td>\n",
       "      <td>1.088701e+07</td>\n",
       "      <td>35.654083</td>\n",
       "      <td>1.078405</td>\n",
       "      <td>0.988298</td>\n",
       "      <td>6.597173</td>\n",
       "      <td>22.030445</td>\n",
       "      <td>4.885249</td>\n",
       "      <td>5.905438</td>\n",
       "      <td>0.959298</td>\n",
       "      <td>12630.880622</td>\n",
       "      <td>8608.386210</td>\n",
       "      <td>0.802074</td>\n",
       "      <td>342.317995</td>\n",
       "      <td>0.938346</td>\n",
       "      <td>277.720643</td>\n",
       "      <td>219.727988</td>\n",
       "    </tr>\n",
       "    <tr>\n",
       "      <th>min</th>\n",
       "      <td>0.000000</td>\n",
       "      <td>1.219000e+04</td>\n",
       "      <td>12.000000</td>\n",
       "      <td>0.000000</td>\n",
       "      <td>1.000000</td>\n",
       "      <td>1.000000</td>\n",
       "      <td>2.000000</td>\n",
       "      <td>1.000000</td>\n",
       "      <td>1.300000</td>\n",
       "      <td>0.000000</td>\n",
       "      <td>0.000000</td>\n",
       "      <td>181.000000</td>\n",
       "      <td>0.000000</td>\n",
       "      <td>1.000000</td>\n",
       "      <td>0.000000</td>\n",
       "      <td>13.000000</td>\n",
       "      <td>1.000000</td>\n",
       "    </tr>\n",
       "    <tr>\n",
       "      <th>25%</th>\n",
       "      <td>6.000000</td>\n",
       "      <td>3.400000e+06</td>\n",
       "      <td>40.000000</td>\n",
       "      <td>1.000000</td>\n",
       "      <td>2.600000</td>\n",
       "      <td>5.000000</td>\n",
       "      <td>18.600000</td>\n",
       "      <td>2.000000</td>\n",
       "      <td>7.000000</td>\n",
       "      <td>0.000000</td>\n",
       "      <td>18585.000000</td>\n",
       "      <td>9238.000000</td>\n",
       "      <td>0.000000</td>\n",
       "      <td>288.000000</td>\n",
       "      <td>0.000000</td>\n",
       "      <td>294.000000</td>\n",
       "      <td>45.000000</td>\n",
       "    </tr>\n",
       "    <tr>\n",
       "      <th>50%</th>\n",
       "      <td>9.000000</td>\n",
       "      <td>4.650000e+06</td>\n",
       "      <td>52.000000</td>\n",
       "      <td>2.000000</td>\n",
       "      <td>2.650000</td>\n",
       "      <td>9.000000</td>\n",
       "      <td>30.000000</td>\n",
       "      <td>4.000000</td>\n",
       "      <td>9.100000</td>\n",
       "      <td>0.000000</td>\n",
       "      <td>26726.000000</td>\n",
       "      <td>13098.500000</td>\n",
       "      <td>0.000000</td>\n",
       "      <td>455.000000</td>\n",
       "      <td>1.000000</td>\n",
       "      <td>502.000000</td>\n",
       "      <td>95.000000</td>\n",
       "    </tr>\n",
       "    <tr>\n",
       "      <th>75%</th>\n",
       "      <td>14.000000</td>\n",
       "      <td>6.800000e+06</td>\n",
       "      <td>69.900000</td>\n",
       "      <td>3.000000</td>\n",
       "      <td>2.700000</td>\n",
       "      <td>16.000000</td>\n",
       "      <td>42.300000</td>\n",
       "      <td>8.000000</td>\n",
       "      <td>12.000000</td>\n",
       "      <td>1.000000</td>\n",
       "      <td>37273.000000</td>\n",
       "      <td>16293.000000</td>\n",
       "      <td>1.000000</td>\n",
       "      <td>612.000000</td>\n",
       "      <td>1.000000</td>\n",
       "      <td>729.000000</td>\n",
       "      <td>232.000000</td>\n",
       "    </tr>\n",
       "    <tr>\n",
       "      <th>max</th>\n",
       "      <td>50.000000</td>\n",
       "      <td>7.630000e+08</td>\n",
       "      <td>900.000000</td>\n",
       "      <td>19.000000</td>\n",
       "      <td>100.000000</td>\n",
       "      <td>60.000000</td>\n",
       "      <td>409.700000</td>\n",
       "      <td>33.000000</td>\n",
       "      <td>112.000000</td>\n",
       "      <td>5.000000</td>\n",
       "      <td>84869.000000</td>\n",
       "      <td>65968.000000</td>\n",
       "      <td>3.000000</td>\n",
       "      <td>3190.000000</td>\n",
       "      <td>3.000000</td>\n",
       "      <td>1344.000000</td>\n",
       "      <td>1580.000000</td>\n",
       "    </tr>\n",
       "  </tbody>\n",
       "</table>\n",
       "</div>"
      ],
      "text/plain": [
       "       total_images    last_price    total_area         rooms  ceiling_height  \\\n",
       "count  23699.000000  2.369900e+04  23699.000000  23699.000000    23699.000000   \n",
       "mean       9.858475  6.541549e+06     60.348651      2.070636        2.724358   \n",
       "std        5.682529  1.088701e+07     35.654083      1.078405        0.988298   \n",
       "min        0.000000  1.219000e+04     12.000000      0.000000        1.000000   \n",
       "25%        6.000000  3.400000e+06     40.000000      1.000000        2.600000   \n",
       "50%        9.000000  4.650000e+06     52.000000      2.000000        2.650000   \n",
       "75%       14.000000  6.800000e+06     69.900000      3.000000        2.700000   \n",
       "max       50.000000  7.630000e+08    900.000000     19.000000      100.000000   \n",
       "\n",
       "       floors_total   living_area         floor  kitchen_area       balcony  \\\n",
       "count  23613.000000  21796.000000  23699.000000  21421.000000  23699.000000   \n",
       "mean      10.673824     34.457852      5.892358     10.569807      0.591080   \n",
       "std        6.597173     22.030445      4.885249      5.905438      0.959298   \n",
       "min        1.000000      2.000000      1.000000      1.300000      0.000000   \n",
       "25%        5.000000     18.600000      2.000000      7.000000      0.000000   \n",
       "50%        9.000000     30.000000      4.000000      9.100000      0.000000   \n",
       "75%       16.000000     42.300000      8.000000     12.000000      1.000000   \n",
       "max       60.000000    409.700000     33.000000    112.000000      5.000000   \n",
       "\n",
       "       airports_nearest  city_centers_nearest  parks_around3000  \\\n",
       "count      18157.000000          18180.000000      18181.000000   \n",
       "mean       28793.672193          14191.277833          0.611408   \n",
       "std        12630.880622           8608.386210          0.802074   \n",
       "min            0.000000            181.000000          0.000000   \n",
       "25%        18585.000000           9238.000000          0.000000   \n",
       "50%        26726.000000          13098.500000          0.000000   \n",
       "75%        37273.000000          16293.000000          1.000000   \n",
       "max        84869.000000          65968.000000          3.000000   \n",
       "\n",
       "       parks_nearest  ponds_around3000  ponds_nearest  days_exposition  \n",
       "count    8079.000000      18181.000000    9110.000000     20518.000000  \n",
       "mean      490.804555          0.770255     517.980900       180.888634  \n",
       "std       342.317995          0.938346     277.720643       219.727988  \n",
       "min         1.000000          0.000000      13.000000         1.000000  \n",
       "25%       288.000000          0.000000     294.000000        45.000000  \n",
       "50%       455.000000          1.000000     502.000000        95.000000  \n",
       "75%       612.000000          1.000000     729.000000       232.000000  \n",
       "max      3190.000000          3.000000    1344.000000      1580.000000  "
      ]
     },
     "execution_count": 29,
     "metadata": {},
     "output_type": "execute_result"
    }
   ],
   "source": [
    "df.describe()"
   ]
  },
  {
   "cell_type": "markdown",
   "metadata": {},
   "source": [
    "### Вывод\n",
    "Заполнили пропуски в значении высоты потолков медианным значением (можно и средним)\n",
    "Пропуски в количестве балконов заполнили нулями (вероятно их не указали при заполении таблицы)\n",
    "Заполнить пропуски в остальных столбцах на основе логических рассуждений не представляется возможным."
   ]
  },
  {
   "cell_type": "markdown",
   "metadata": {},
   "source": [
    "## Расчёты и добавление результатов в таблицу"
   ]
  },
  {
   "cell_type": "code",
   "execution_count": 30,
   "metadata": {},
   "outputs": [],
   "source": [
    "#рассчитываем цену квадратного метра\n",
    "# df['price_m2'] = df['last_price'] / df['total_area']\n",
    "df.insert(3, 'price_m2', df['last_price'] / df['total_area'])"
   ]
  },
  {
   "cell_type": "code",
   "execution_count": 31,
   "metadata": {},
   "outputs": [],
   "source": [
    "#день недели, месяц и год публикации объявления;\n",
    "df['publication_day'] = df['first_day_exposition'].dt.weekday\n",
    "df['publication_month'] = df['first_day_exposition'].dt.month\n",
    "df['publication_year'] = df['first_day_exposition'].dt.year"
   ]
  },
  {
   "cell_type": "code",
   "execution_count": 32,
   "metadata": {},
   "outputs": [],
   "source": [
    "# этаж квартиры; варианты — первый, последний, другой;\n",
    "def floor_cat(row):\n",
    "    floor = row['floor']\n",
    "    floors_total = row['floors_total']\n",
    "    if floor == 1:\n",
    "        return 'first'\n",
    "    if floor == floors_total:\n",
    "        return 'last'\n",
    "    if math.isnan(floors_total):\n",
    "        return float(\"nan\")\n",
    "    return 'other'\n",
    "df['floor_cat'] = df.apply(floor_cat, axis=1)"
   ]
  },
  {
   "cell_type": "code",
   "execution_count": 33,
   "metadata": {},
   "outputs": [
    {
     "data": {
      "text/plain": [
       "83"
      ]
     },
     "execution_count": 33,
     "metadata": {},
     "output_type": "execute_result"
    }
   ],
   "source": [
    "df['floor_cat'].isna().sum()"
   ]
  },
  {
   "cell_type": "code",
   "execution_count": 34,
   "metadata": {},
   "outputs": [],
   "source": [
    "#соотношение жилой и общей площади, а также отношение площади кухни к общей.\n",
    "df['living/total'] = df.living_area / df.total_area\n",
    "df['kitchen/total'] = df.kitchen_area / df.total_area"
   ]
  },
  {
   "cell_type": "code",
   "execution_count": 35,
   "metadata": {
    "scrolled": true
   },
   "outputs": [
    {
     "data": {
      "text/html": [
       "<div>\n",
       "<style scoped>\n",
       "    .dataframe tbody tr th:only-of-type {\n",
       "        vertical-align: middle;\n",
       "    }\n",
       "\n",
       "    .dataframe tbody tr th {\n",
       "        vertical-align: top;\n",
       "    }\n",
       "\n",
       "    .dataframe thead th {\n",
       "        text-align: right;\n",
       "    }\n",
       "</style>\n",
       "<table border=\"1\" class=\"dataframe\">\n",
       "  <thead>\n",
       "    <tr style=\"text-align: right;\">\n",
       "      <th></th>\n",
       "      <th>total_images</th>\n",
       "      <th>last_price</th>\n",
       "      <th>total_area</th>\n",
       "      <th>price_m2</th>\n",
       "      <th>first_day_exposition</th>\n",
       "      <th>rooms</th>\n",
       "      <th>ceiling_height</th>\n",
       "      <th>floors_total</th>\n",
       "      <th>living_area</th>\n",
       "      <th>floor</th>\n",
       "      <th>is_apartment</th>\n",
       "      <th>studio</th>\n",
       "      <th>open_plan</th>\n",
       "      <th>kitchen_area</th>\n",
       "      <th>balcony</th>\n",
       "      <th>locality_name</th>\n",
       "      <th>airports_nearest</th>\n",
       "      <th>city_centers_nearest</th>\n",
       "      <th>parks_around3000</th>\n",
       "      <th>parks_nearest</th>\n",
       "      <th>ponds_around3000</th>\n",
       "      <th>ponds_nearest</th>\n",
       "      <th>days_exposition</th>\n",
       "      <th>publication_day</th>\n",
       "      <th>publication_month</th>\n",
       "      <th>publication_year</th>\n",
       "      <th>floor_cat</th>\n",
       "      <th>living/total</th>\n",
       "      <th>kitchen/total</th>\n",
       "    </tr>\n",
       "  </thead>\n",
       "  <tbody>\n",
       "    <tr>\n",
       "      <th>0</th>\n",
       "      <td>20</td>\n",
       "      <td>13000000.0</td>\n",
       "      <td>108.0</td>\n",
       "      <td>120370.370370</td>\n",
       "      <td>2019-03-07</td>\n",
       "      <td>3</td>\n",
       "      <td>2.70</td>\n",
       "      <td>16.0</td>\n",
       "      <td>51.0</td>\n",
       "      <td>8</td>\n",
       "      <td>NaN</td>\n",
       "      <td>False</td>\n",
       "      <td>False</td>\n",
       "      <td>25.0</td>\n",
       "      <td>0.0</td>\n",
       "      <td>Санкт-Петербург</td>\n",
       "      <td>18863.0</td>\n",
       "      <td>16028.0</td>\n",
       "      <td>1.0</td>\n",
       "      <td>482.0</td>\n",
       "      <td>2.0</td>\n",
       "      <td>755.0</td>\n",
       "      <td>NaN</td>\n",
       "      <td>3</td>\n",
       "      <td>3</td>\n",
       "      <td>2019</td>\n",
       "      <td>other</td>\n",
       "      <td>0.472222</td>\n",
       "      <td>0.231481</td>\n",
       "    </tr>\n",
       "    <tr>\n",
       "      <th>1</th>\n",
       "      <td>7</td>\n",
       "      <td>3350000.0</td>\n",
       "      <td>40.4</td>\n",
       "      <td>82920.792079</td>\n",
       "      <td>2018-12-04</td>\n",
       "      <td>1</td>\n",
       "      <td>2.65</td>\n",
       "      <td>11.0</td>\n",
       "      <td>18.6</td>\n",
       "      <td>1</td>\n",
       "      <td>NaN</td>\n",
       "      <td>False</td>\n",
       "      <td>False</td>\n",
       "      <td>11.0</td>\n",
       "      <td>2.0</td>\n",
       "      <td>посёлок Шушары</td>\n",
       "      <td>12817.0</td>\n",
       "      <td>18603.0</td>\n",
       "      <td>0.0</td>\n",
       "      <td>NaN</td>\n",
       "      <td>0.0</td>\n",
       "      <td>NaN</td>\n",
       "      <td>81.0</td>\n",
       "      <td>1</td>\n",
       "      <td>12</td>\n",
       "      <td>2018</td>\n",
       "      <td>first</td>\n",
       "      <td>0.460396</td>\n",
       "      <td>0.272277</td>\n",
       "    </tr>\n",
       "    <tr>\n",
       "      <th>2</th>\n",
       "      <td>10</td>\n",
       "      <td>5196000.0</td>\n",
       "      <td>56.0</td>\n",
       "      <td>92785.714286</td>\n",
       "      <td>2015-08-20</td>\n",
       "      <td>2</td>\n",
       "      <td>2.65</td>\n",
       "      <td>5.0</td>\n",
       "      <td>34.3</td>\n",
       "      <td>4</td>\n",
       "      <td>NaN</td>\n",
       "      <td>False</td>\n",
       "      <td>False</td>\n",
       "      <td>8.3</td>\n",
       "      <td>0.0</td>\n",
       "      <td>Санкт-Петербург</td>\n",
       "      <td>21741.0</td>\n",
       "      <td>13933.0</td>\n",
       "      <td>1.0</td>\n",
       "      <td>90.0</td>\n",
       "      <td>2.0</td>\n",
       "      <td>574.0</td>\n",
       "      <td>558.0</td>\n",
       "      <td>3</td>\n",
       "      <td>8</td>\n",
       "      <td>2015</td>\n",
       "      <td>other</td>\n",
       "      <td>0.612500</td>\n",
       "      <td>0.148214</td>\n",
       "    </tr>\n",
       "    <tr>\n",
       "      <th>3</th>\n",
       "      <td>0</td>\n",
       "      <td>64900000.0</td>\n",
       "      <td>159.0</td>\n",
       "      <td>408176.100629</td>\n",
       "      <td>2015-07-24</td>\n",
       "      <td>3</td>\n",
       "      <td>2.65</td>\n",
       "      <td>14.0</td>\n",
       "      <td>NaN</td>\n",
       "      <td>9</td>\n",
       "      <td>NaN</td>\n",
       "      <td>False</td>\n",
       "      <td>False</td>\n",
       "      <td>NaN</td>\n",
       "      <td>0.0</td>\n",
       "      <td>Санкт-Петербург</td>\n",
       "      <td>28098.0</td>\n",
       "      <td>6800.0</td>\n",
       "      <td>2.0</td>\n",
       "      <td>84.0</td>\n",
       "      <td>3.0</td>\n",
       "      <td>234.0</td>\n",
       "      <td>424.0</td>\n",
       "      <td>4</td>\n",
       "      <td>7</td>\n",
       "      <td>2015</td>\n",
       "      <td>other</td>\n",
       "      <td>NaN</td>\n",
       "      <td>NaN</td>\n",
       "    </tr>\n",
       "    <tr>\n",
       "      <th>4</th>\n",
       "      <td>2</td>\n",
       "      <td>10000000.0</td>\n",
       "      <td>100.0</td>\n",
       "      <td>100000.000000</td>\n",
       "      <td>2018-06-19</td>\n",
       "      <td>2</td>\n",
       "      <td>3.03</td>\n",
       "      <td>14.0</td>\n",
       "      <td>32.0</td>\n",
       "      <td>13</td>\n",
       "      <td>NaN</td>\n",
       "      <td>False</td>\n",
       "      <td>False</td>\n",
       "      <td>41.0</td>\n",
       "      <td>0.0</td>\n",
       "      <td>Санкт-Петербург</td>\n",
       "      <td>31856.0</td>\n",
       "      <td>8098.0</td>\n",
       "      <td>2.0</td>\n",
       "      <td>112.0</td>\n",
       "      <td>1.0</td>\n",
       "      <td>48.0</td>\n",
       "      <td>121.0</td>\n",
       "      <td>1</td>\n",
       "      <td>6</td>\n",
       "      <td>2018</td>\n",
       "      <td>other</td>\n",
       "      <td>0.320000</td>\n",
       "      <td>0.410000</td>\n",
       "    </tr>\n",
       "  </tbody>\n",
       "</table>\n",
       "</div>"
      ],
      "text/plain": [
       "   total_images  last_price  total_area       price_m2 first_day_exposition  \\\n",
       "0            20  13000000.0       108.0  120370.370370           2019-03-07   \n",
       "1             7   3350000.0        40.4   82920.792079           2018-12-04   \n",
       "2            10   5196000.0        56.0   92785.714286           2015-08-20   \n",
       "3             0  64900000.0       159.0  408176.100629           2015-07-24   \n",
       "4             2  10000000.0       100.0  100000.000000           2018-06-19   \n",
       "\n",
       "   rooms  ceiling_height  floors_total  living_area  floor is_apartment  \\\n",
       "0      3            2.70          16.0         51.0      8          NaN   \n",
       "1      1            2.65          11.0         18.6      1          NaN   \n",
       "2      2            2.65           5.0         34.3      4          NaN   \n",
       "3      3            2.65          14.0          NaN      9          NaN   \n",
       "4      2            3.03          14.0         32.0     13          NaN   \n",
       "\n",
       "   studio  open_plan  kitchen_area  balcony    locality_name  \\\n",
       "0   False      False          25.0      0.0  Санкт-Петербург   \n",
       "1   False      False          11.0      2.0   посёлок Шушары   \n",
       "2   False      False           8.3      0.0  Санкт-Петербург   \n",
       "3   False      False           NaN      0.0  Санкт-Петербург   \n",
       "4   False      False          41.0      0.0  Санкт-Петербург   \n",
       "\n",
       "   airports_nearest  city_centers_nearest  parks_around3000  parks_nearest  \\\n",
       "0           18863.0               16028.0               1.0          482.0   \n",
       "1           12817.0               18603.0               0.0            NaN   \n",
       "2           21741.0               13933.0               1.0           90.0   \n",
       "3           28098.0                6800.0               2.0           84.0   \n",
       "4           31856.0                8098.0               2.0          112.0   \n",
       "\n",
       "   ponds_around3000  ponds_nearest  days_exposition  publication_day  \\\n",
       "0               2.0          755.0              NaN                3   \n",
       "1               0.0            NaN             81.0                1   \n",
       "2               2.0          574.0            558.0                3   \n",
       "3               3.0          234.0            424.0                4   \n",
       "4               1.0           48.0            121.0                1   \n",
       "\n",
       "   publication_month  publication_year floor_cat  living/total  kitchen/total  \n",
       "0                  3              2019     other      0.472222       0.231481  \n",
       "1                 12              2018     first      0.460396       0.272277  \n",
       "2                  8              2015     other      0.612500       0.148214  \n",
       "3                  7              2015     other           NaN            NaN  \n",
       "4                  6              2018     other      0.320000       0.410000  "
      ]
     },
     "execution_count": 35,
     "metadata": {},
     "output_type": "execute_result"
    }
   ],
   "source": [
    "df.head()"
   ]
  },
  {
   "cell_type": "markdown",
   "metadata": {},
   "source": [
    "### Вывод\n",
    "Добавили новые параметры в таблицу на основе имеющихся"
   ]
  },
  {
   "cell_type": "markdown",
   "metadata": {},
   "source": [
    "## Исследовательский анализ данных"
   ]
  },
  {
   "cell_type": "code",
   "execution_count": 37,
   "metadata": {
    "scrolled": false
   },
   "outputs": [
    {
     "data": {
      "image/png": "[encoded data removed]",
      "text/plain": [
       "<Figure size 432x288 with 1 Axes>"
      ]
     },
     "metadata": {
      "needs_background": "light"
     },
     "output_type": "display_data"
    },
    {
     "data": {
      "image/png": "[encoded data removed]",
      "text/plain": [
       "<Figure size 432x288 with 1 Axes>"
      ]
     },
     "metadata": {
      "needs_background": "light"
     },
     "output_type": "display_data"
    },
    {
     "data": {
      "image/png": "[encoded data removed]",
      "text/plain": [
       "<Figure size 432x288 with 1 Axes>"
      ]
     },
     "metadata": {
      "needs_background": "light"
     },
     "output_type": "display_data"
    },
    {
     "data": {
      "image/png": "[encoded data removed]",
      "text/plain": [
       "<Figure size 432x288 with 1 Axes>"
      ]
     },
     "metadata": {
      "needs_background": "light"
     },
     "output_type": "display_data"
    }
   ],
   "source": [
    "df.total_area.plot(kind='hist', bins=50, range=(0,350), title='total_area')\n",
    "plt.show()\n",
    "df.last_price.plot(kind='hist', bins=50, range=(1e5,100e6), title='last_price', logx=True)\n",
    "plt.show()\n",
    "df.rooms.plot(kind='hist', bins=10, range=(0,9), title='rooms')\n",
    "plt.show()\n",
    "df.ceiling_height.plot(kind='hist', bins=50, range=(2,4), title='ceiling_height')\n",
    "plt.show()"
   ]
  },
  {
   "cell_type": "code",
   "execution_count": 38,
   "metadata": {
    "scrolled": false
   },
   "outputs": [
    {
     "data": {
      "text/html": [
       "<div>\n",
       "<style scoped>\n",
       "    .dataframe tbody tr th:only-of-type {\n",
       "        vertical-align: middle;\n",
       "    }\n",
       "\n",
       "    .dataframe tbody tr th {\n",
       "        vertical-align: top;\n",
       "    }\n",
       "\n",
       "    .dataframe thead th {\n",
       "        text-align: right;\n",
       "    }\n",
       "</style>\n",
       "<table border=\"1\" class=\"dataframe\">\n",
       "  <thead>\n",
       "    <tr style=\"text-align: right;\">\n",
       "      <th></th>\n",
       "      <th>total_images</th>\n",
       "      <th>last_price</th>\n",
       "      <th>total_area</th>\n",
       "      <th>price_m2</th>\n",
       "      <th>first_day_exposition</th>\n",
       "      <th>rooms</th>\n",
       "      <th>ceiling_height</th>\n",
       "      <th>floors_total</th>\n",
       "      <th>living_area</th>\n",
       "      <th>floor</th>\n",
       "      <th>is_apartment</th>\n",
       "      <th>studio</th>\n",
       "      <th>open_plan</th>\n",
       "      <th>kitchen_area</th>\n",
       "      <th>balcony</th>\n",
       "      <th>locality_name</th>\n",
       "      <th>airports_nearest</th>\n",
       "      <th>city_centers_nearest</th>\n",
       "      <th>parks_around3000</th>\n",
       "      <th>parks_nearest</th>\n",
       "      <th>ponds_around3000</th>\n",
       "      <th>ponds_nearest</th>\n",
       "      <th>days_exposition</th>\n",
       "      <th>publication_day</th>\n",
       "      <th>publication_month</th>\n",
       "      <th>publication_year</th>\n",
       "      <th>floor_cat</th>\n",
       "      <th>living/total</th>\n",
       "      <th>kitchen/total</th>\n",
       "    </tr>\n",
       "  </thead>\n",
       "  <tbody>\n",
       "    <tr>\n",
       "      <th>0</th>\n",
       "      <td>20</td>\n",
       "      <td>13000000.0</td>\n",
       "      <td>108.00</td>\n",
       "      <td>120370.370370</td>\n",
       "      <td>2019-03-07</td>\n",
       "      <td>3</td>\n",
       "      <td>2.70</td>\n",
       "      <td>16.0</td>\n",
       "      <td>51.0</td>\n",
       "      <td>8</td>\n",
       "      <td>NaN</td>\n",
       "      <td>False</td>\n",
       "      <td>False</td>\n",
       "      <td>25.00</td>\n",
       "      <td>0.0</td>\n",
       "      <td>Санкт-Петербург</td>\n",
       "      <td>18863.0</td>\n",
       "      <td>16028.0</td>\n",
       "      <td>1.0</td>\n",
       "      <td>482.0</td>\n",
       "      <td>2.0</td>\n",
       "      <td>755.0</td>\n",
       "      <td>NaN</td>\n",
       "      <td>3</td>\n",
       "      <td>3</td>\n",
       "      <td>2019</td>\n",
       "      <td>other</td>\n",
       "      <td>0.472222</td>\n",
       "      <td>0.231481</td>\n",
       "    </tr>\n",
       "    <tr>\n",
       "      <th>7</th>\n",
       "      <td>5</td>\n",
       "      <td>7915000.0</td>\n",
       "      <td>71.60</td>\n",
       "      <td>110544.692737</td>\n",
       "      <td>2019-04-18</td>\n",
       "      <td>2</td>\n",
       "      <td>2.65</td>\n",
       "      <td>24.0</td>\n",
       "      <td>NaN</td>\n",
       "      <td>22</td>\n",
       "      <td>NaN</td>\n",
       "      <td>False</td>\n",
       "      <td>False</td>\n",
       "      <td>18.90</td>\n",
       "      <td>2.0</td>\n",
       "      <td>Санкт-Петербург</td>\n",
       "      <td>23982.0</td>\n",
       "      <td>11634.0</td>\n",
       "      <td>0.0</td>\n",
       "      <td>NaN</td>\n",
       "      <td>0.0</td>\n",
       "      <td>NaN</td>\n",
       "      <td>NaN</td>\n",
       "      <td>3</td>\n",
       "      <td>4</td>\n",
       "      <td>2019</td>\n",
       "      <td>other</td>\n",
       "      <td>NaN</td>\n",
       "      <td>0.263966</td>\n",
       "    </tr>\n",
       "    <tr>\n",
       "      <th>44</th>\n",
       "      <td>13</td>\n",
       "      <td>5350000.0</td>\n",
       "      <td>40.00</td>\n",
       "      <td>133750.000000</td>\n",
       "      <td>2018-11-18</td>\n",
       "      <td>1</td>\n",
       "      <td>2.65</td>\n",
       "      <td>22.0</td>\n",
       "      <td>NaN</td>\n",
       "      <td>3</td>\n",
       "      <td>NaN</td>\n",
       "      <td>False</td>\n",
       "      <td>False</td>\n",
       "      <td>NaN</td>\n",
       "      <td>1.0</td>\n",
       "      <td>Санкт-Петербург</td>\n",
       "      <td>30471.0</td>\n",
       "      <td>11603.0</td>\n",
       "      <td>1.0</td>\n",
       "      <td>620.0</td>\n",
       "      <td>1.0</td>\n",
       "      <td>1152.0</td>\n",
       "      <td>NaN</td>\n",
       "      <td>6</td>\n",
       "      <td>11</td>\n",
       "      <td>2018</td>\n",
       "      <td>other</td>\n",
       "      <td>NaN</td>\n",
       "      <td>NaN</td>\n",
       "    </tr>\n",
       "    <tr>\n",
       "      <th>45</th>\n",
       "      <td>17</td>\n",
       "      <td>5200000.0</td>\n",
       "      <td>50.60</td>\n",
       "      <td>102766.798419</td>\n",
       "      <td>2018-12-02</td>\n",
       "      <td>2</td>\n",
       "      <td>2.65</td>\n",
       "      <td>9.0</td>\n",
       "      <td>30.3</td>\n",
       "      <td>7</td>\n",
       "      <td>NaN</td>\n",
       "      <td>False</td>\n",
       "      <td>False</td>\n",
       "      <td>7.00</td>\n",
       "      <td>0.0</td>\n",
       "      <td>Санкт-Петербург</td>\n",
       "      <td>30011.0</td>\n",
       "      <td>12872.0</td>\n",
       "      <td>0.0</td>\n",
       "      <td>NaN</td>\n",
       "      <td>0.0</td>\n",
       "      <td>NaN</td>\n",
       "      <td>NaN</td>\n",
       "      <td>6</td>\n",
       "      <td>12</td>\n",
       "      <td>2018</td>\n",
       "      <td>other</td>\n",
       "      <td>0.598814</td>\n",
       "      <td>0.138340</td>\n",
       "    </tr>\n",
       "    <tr>\n",
       "      <th>46</th>\n",
       "      <td>17</td>\n",
       "      <td>6600000.0</td>\n",
       "      <td>52.10</td>\n",
       "      <td>126679.462572</td>\n",
       "      <td>2019-01-31</td>\n",
       "      <td>2</td>\n",
       "      <td>2.60</td>\n",
       "      <td>24.0</td>\n",
       "      <td>29.7</td>\n",
       "      <td>9</td>\n",
       "      <td>NaN</td>\n",
       "      <td>False</td>\n",
       "      <td>False</td>\n",
       "      <td>8.30</td>\n",
       "      <td>2.0</td>\n",
       "      <td>Санкт-Петербург</td>\n",
       "      <td>15114.0</td>\n",
       "      <td>12702.0</td>\n",
       "      <td>0.0</td>\n",
       "      <td>NaN</td>\n",
       "      <td>0.0</td>\n",
       "      <td>NaN</td>\n",
       "      <td>NaN</td>\n",
       "      <td>3</td>\n",
       "      <td>1</td>\n",
       "      <td>2019</td>\n",
       "      <td>other</td>\n",
       "      <td>0.570058</td>\n",
       "      <td>0.159309</td>\n",
       "    </tr>\n",
       "    <tr>\n",
       "      <th>...</th>\n",
       "      <td>...</td>\n",
       "      <td>...</td>\n",
       "      <td>...</td>\n",
       "      <td>...</td>\n",
       "      <td>...</td>\n",
       "      <td>...</td>\n",
       "      <td>...</td>\n",
       "      <td>...</td>\n",
       "      <td>...</td>\n",
       "      <td>...</td>\n",
       "      <td>...</td>\n",
       "      <td>...</td>\n",
       "      <td>...</td>\n",
       "      <td>...</td>\n",
       "      <td>...</td>\n",
       "      <td>...</td>\n",
       "      <td>...</td>\n",
       "      <td>...</td>\n",
       "      <td>...</td>\n",
       "      <td>...</td>\n",
       "      <td>...</td>\n",
       "      <td>...</td>\n",
       "      <td>...</td>\n",
       "      <td>...</td>\n",
       "      <td>...</td>\n",
       "      <td>...</td>\n",
       "      <td>...</td>\n",
       "      <td>...</td>\n",
       "      <td>...</td>\n",
       "    </tr>\n",
       "    <tr>\n",
       "      <th>23684</th>\n",
       "      <td>20</td>\n",
       "      <td>21400000.0</td>\n",
       "      <td>145.00</td>\n",
       "      <td>147586.206897</td>\n",
       "      <td>2018-11-02</td>\n",
       "      <td>4</td>\n",
       "      <td>3.00</td>\n",
       "      <td>26.0</td>\n",
       "      <td>71.4</td>\n",
       "      <td>17</td>\n",
       "      <td>NaN</td>\n",
       "      <td>False</td>\n",
       "      <td>False</td>\n",
       "      <td>15.60</td>\n",
       "      <td>0.0</td>\n",
       "      <td>Санкт-Петербург</td>\n",
       "      <td>11827.0</td>\n",
       "      <td>11459.0</td>\n",
       "      <td>0.0</td>\n",
       "      <td>NaN</td>\n",
       "      <td>0.0</td>\n",
       "      <td>NaN</td>\n",
       "      <td>NaN</td>\n",
       "      <td>4</td>\n",
       "      <td>11</td>\n",
       "      <td>2018</td>\n",
       "      <td>other</td>\n",
       "      <td>0.492414</td>\n",
       "      <td>0.107586</td>\n",
       "    </tr>\n",
       "    <tr>\n",
       "      <th>23685</th>\n",
       "      <td>15</td>\n",
       "      <td>2490000.0</td>\n",
       "      <td>31.00</td>\n",
       "      <td>80322.580645</td>\n",
       "      <td>2019-01-24</td>\n",
       "      <td>1</td>\n",
       "      <td>2.50</td>\n",
       "      <td>5.0</td>\n",
       "      <td>17.3</td>\n",
       "      <td>5</td>\n",
       "      <td>NaN</td>\n",
       "      <td>False</td>\n",
       "      <td>False</td>\n",
       "      <td>5.60</td>\n",
       "      <td>1.0</td>\n",
       "      <td>Ломоносов</td>\n",
       "      <td>48393.0</td>\n",
       "      <td>51818.0</td>\n",
       "      <td>0.0</td>\n",
       "      <td>NaN</td>\n",
       "      <td>0.0</td>\n",
       "      <td>NaN</td>\n",
       "      <td>NaN</td>\n",
       "      <td>3</td>\n",
       "      <td>1</td>\n",
       "      <td>2019</td>\n",
       "      <td>last</td>\n",
       "      <td>0.558065</td>\n",
       "      <td>0.180645</td>\n",
       "    </tr>\n",
       "    <tr>\n",
       "      <th>23694</th>\n",
       "      <td>9</td>\n",
       "      <td>9700000.0</td>\n",
       "      <td>133.81</td>\n",
       "      <td>72490.845228</td>\n",
       "      <td>2017-03-21</td>\n",
       "      <td>3</td>\n",
       "      <td>3.70</td>\n",
       "      <td>5.0</td>\n",
       "      <td>73.3</td>\n",
       "      <td>3</td>\n",
       "      <td>NaN</td>\n",
       "      <td>False</td>\n",
       "      <td>False</td>\n",
       "      <td>13.83</td>\n",
       "      <td>0.0</td>\n",
       "      <td>Санкт-Петербург</td>\n",
       "      <td>24665.0</td>\n",
       "      <td>4232.0</td>\n",
       "      <td>1.0</td>\n",
       "      <td>796.0</td>\n",
       "      <td>3.0</td>\n",
       "      <td>381.0</td>\n",
       "      <td>NaN</td>\n",
       "      <td>1</td>\n",
       "      <td>3</td>\n",
       "      <td>2017</td>\n",
       "      <td>other</td>\n",
       "      <td>0.547792</td>\n",
       "      <td>0.103356</td>\n",
       "    </tr>\n",
       "    <tr>\n",
       "      <th>23696</th>\n",
       "      <td>18</td>\n",
       "      <td>2500000.0</td>\n",
       "      <td>56.70</td>\n",
       "      <td>44091.710758</td>\n",
       "      <td>2018-02-11</td>\n",
       "      <td>2</td>\n",
       "      <td>2.65</td>\n",
       "      <td>3.0</td>\n",
       "      <td>29.7</td>\n",
       "      <td>1</td>\n",
       "      <td>NaN</td>\n",
       "      <td>False</td>\n",
       "      <td>False</td>\n",
       "      <td>NaN</td>\n",
       "      <td>0.0</td>\n",
       "      <td>село Рождествено</td>\n",
       "      <td>NaN</td>\n",
       "      <td>NaN</td>\n",
       "      <td>NaN</td>\n",
       "      <td>NaN</td>\n",
       "      <td>NaN</td>\n",
       "      <td>NaN</td>\n",
       "      <td>NaN</td>\n",
       "      <td>6</td>\n",
       "      <td>2</td>\n",
       "      <td>2018</td>\n",
       "      <td>first</td>\n",
       "      <td>0.523810</td>\n",
       "      <td>NaN</td>\n",
       "    </tr>\n",
       "    <tr>\n",
       "      <th>23698</th>\n",
       "      <td>4</td>\n",
       "      <td>1350000.0</td>\n",
       "      <td>32.30</td>\n",
       "      <td>41795.665635</td>\n",
       "      <td>2017-07-21</td>\n",
       "      <td>1</td>\n",
       "      <td>2.50</td>\n",
       "      <td>5.0</td>\n",
       "      <td>12.3</td>\n",
       "      <td>1</td>\n",
       "      <td>NaN</td>\n",
       "      <td>False</td>\n",
       "      <td>False</td>\n",
       "      <td>9.00</td>\n",
       "      <td>0.0</td>\n",
       "      <td>поселок Новый Учхоз</td>\n",
       "      <td>NaN</td>\n",
       "      <td>NaN</td>\n",
       "      <td>NaN</td>\n",
       "      <td>NaN</td>\n",
       "      <td>NaN</td>\n",
       "      <td>NaN</td>\n",
       "      <td>NaN</td>\n",
       "      <td>4</td>\n",
       "      <td>7</td>\n",
       "      <td>2017</td>\n",
       "      <td>first</td>\n",
       "      <td>0.380805</td>\n",
       "      <td>0.278638</td>\n",
       "    </tr>\n",
       "  </tbody>\n",
       "</table>\n",
       "<p>3181 rows × 29 columns</p>\n",
       "</div>"
      ],
      "text/plain": [
       "       total_images  last_price  total_area       price_m2  \\\n",
       "0                20  13000000.0      108.00  120370.370370   \n",
       "7                 5   7915000.0       71.60  110544.692737   \n",
       "44               13   5350000.0       40.00  133750.000000   \n",
       "45               17   5200000.0       50.60  102766.798419   \n",
       "46               17   6600000.0       52.10  126679.462572   \n",
       "...             ...         ...         ...            ...   \n",
       "23684            20  21400000.0      145.00  147586.206897   \n",
       "23685            15   2490000.0       31.00   80322.580645   \n",
       "23694             9   9700000.0      133.81   72490.845228   \n",
       "23696            18   2500000.0       56.70   44091.710758   \n",
       "23698             4   1350000.0       32.30   41795.665635   \n",
       "\n",
       "      first_day_exposition  rooms  ceiling_height  floors_total  living_area  \\\n",
       "0               2019-03-07      3            2.70          16.0         51.0   \n",
       "7               2019-04-18      2            2.65          24.0          NaN   \n",
       "44              2018-11-18      1            2.65          22.0          NaN   \n",
       "45              2018-12-02      2            2.65           9.0         30.3   \n",
       "46              2019-01-31      2            2.60          24.0         29.7   \n",
       "...                    ...    ...             ...           ...          ...   \n",
       "23684           2018-11-02      4            3.00          26.0         71.4   \n",
       "23685           2019-01-24      1            2.50           5.0         17.3   \n",
       "23694           2017-03-21      3            3.70           5.0         73.3   \n",
       "23696           2018-02-11      2            2.65           3.0         29.7   \n",
       "23698           2017-07-21      1            2.50           5.0         12.3   \n",
       "\n",
       "       floor is_apartment  studio  open_plan  kitchen_area  balcony  \\\n",
       "0          8          NaN   False      False         25.00      0.0   \n",
       "7         22          NaN   False      False         18.90      2.0   \n",
       "44         3          NaN   False      False           NaN      1.0   \n",
       "45         7          NaN   False      False          7.00      0.0   \n",
       "46         9          NaN   False      False          8.30      2.0   \n",
       "...      ...          ...     ...        ...           ...      ...   \n",
       "23684     17          NaN   False      False         15.60      0.0   \n",
       "23685      5          NaN   False      False          5.60      1.0   \n",
       "23694      3          NaN   False      False         13.83      0.0   \n",
       "23696      1          NaN   False      False           NaN      0.0   \n",
       "23698      1          NaN   False      False          9.00      0.0   \n",
       "\n",
       "             locality_name  airports_nearest  city_centers_nearest  \\\n",
       "0          Санкт-Петербург           18863.0               16028.0   \n",
       "7          Санкт-Петербург           23982.0               11634.0   \n",
       "44         Санкт-Петербург           30471.0               11603.0   \n",
       "45         Санкт-Петербург           30011.0               12872.0   \n",
       "46         Санкт-Петербург           15114.0               12702.0   \n",
       "...                    ...               ...                   ...   \n",
       "23684      Санкт-Петербург           11827.0               11459.0   \n",
       "23685            Ломоносов           48393.0               51818.0   \n",
       "23694      Санкт-Петербург           24665.0                4232.0   \n",
       "23696     село Рождествено               NaN                   NaN   \n",
       "23698  поселок Новый Учхоз               NaN                   NaN   \n",
       "\n",
       "       parks_around3000  parks_nearest  ponds_around3000  ponds_nearest  \\\n",
       "0                   1.0          482.0               2.0          755.0   \n",
       "7                   0.0            NaN               0.0            NaN   \n",
       "44                  1.0          620.0               1.0         1152.0   \n",
       "45                  0.0            NaN               0.0            NaN   \n",
       "46                  0.0            NaN               0.0            NaN   \n",
       "...                 ...            ...               ...            ...   \n",
       "23684               0.0            NaN               0.0            NaN   \n",
       "23685               0.0            NaN               0.0            NaN   \n",
       "23694               1.0          796.0               3.0          381.0   \n",
       "23696               NaN            NaN               NaN            NaN   \n",
       "23698               NaN            NaN               NaN            NaN   \n",
       "\n",
       "       days_exposition  publication_day  publication_month  publication_year  \\\n",
       "0                  NaN                3                  3              2019   \n",
       "7                  NaN                3                  4              2019   \n",
       "44                 NaN                6                 11              2018   \n",
       "45                 NaN                6                 12              2018   \n",
       "46                 NaN                3                  1              2019   \n",
       "...                ...              ...                ...               ...   \n",
       "23684              NaN                4                 11              2018   \n",
       "23685              NaN                3                  1              2019   \n",
       "23694              NaN                1                  3              2017   \n",
       "23696              NaN                6                  2              2018   \n",
       "23698              NaN                4                  7              2017   \n",
       "\n",
       "      floor_cat  living/total  kitchen/total  \n",
       "0         other      0.472222       0.231481  \n",
       "7         other           NaN       0.263966  \n",
       "44        other           NaN            NaN  \n",
       "45        other      0.598814       0.138340  \n",
       "46        other      0.570058       0.159309  \n",
       "...         ...           ...            ...  \n",
       "23684     other      0.492414       0.107586  \n",
       "23685      last      0.558065       0.180645  \n",
       "23694     other      0.547792       0.103356  \n",
       "23696     first      0.523810            NaN  \n",
       "23698     first      0.380805       0.278638  \n",
       "\n",
       "[3181 rows x 29 columns]"
      ]
     },
     "execution_count": 38,
     "metadata": {},
     "output_type": "execute_result"
    }
   ],
   "source": [
    "df[df.days_exposition.isna()]"
   ]
  },
  {
   "cell_type": "code",
   "execution_count": 39,
   "metadata": {},
   "outputs": [
    {
     "data": {
      "text/html": [
       "<div>\n",
       "<style scoped>\n",
       "    .dataframe tbody tr th:only-of-type {\n",
       "        vertical-align: middle;\n",
       "    }\n",
       "\n",
       "    .dataframe tbody tr th {\n",
       "        vertical-align: top;\n",
       "    }\n",
       "\n",
       "    .dataframe thead th {\n",
       "        text-align: right;\n",
       "    }\n",
       "</style>\n",
       "<table border=\"1\" class=\"dataframe\">\n",
       "  <thead>\n",
       "    <tr style=\"text-align: right;\">\n",
       "      <th></th>\n",
       "      <th>total_images</th>\n",
       "      <th>last_price</th>\n",
       "      <th>total_area</th>\n",
       "      <th>price_m2</th>\n",
       "      <th>rooms</th>\n",
       "      <th>ceiling_height</th>\n",
       "      <th>floors_total</th>\n",
       "      <th>living_area</th>\n",
       "      <th>floor</th>\n",
       "      <th>kitchen_area</th>\n",
       "      <th>balcony</th>\n",
       "      <th>airports_nearest</th>\n",
       "      <th>city_centers_nearest</th>\n",
       "      <th>parks_around3000</th>\n",
       "      <th>parks_nearest</th>\n",
       "      <th>ponds_around3000</th>\n",
       "      <th>ponds_nearest</th>\n",
       "      <th>days_exposition</th>\n",
       "      <th>publication_day</th>\n",
       "      <th>publication_month</th>\n",
       "      <th>publication_year</th>\n",
       "      <th>living/total</th>\n",
       "      <th>kitchen/total</th>\n",
       "    </tr>\n",
       "  </thead>\n",
       "  <tbody>\n",
       "    <tr>\n",
       "      <th>count</th>\n",
       "      <td>22640.000000</td>\n",
       "      <td>2.264000e+04</td>\n",
       "      <td>22640.000000</td>\n",
       "      <td>2.264000e+04</td>\n",
       "      <td>22640.00000</td>\n",
       "      <td>22640.000000</td>\n",
       "      <td>22561.000000</td>\n",
       "      <td>20888.000000</td>\n",
       "      <td>22640.000000</td>\n",
       "      <td>20549.000000</td>\n",
       "      <td>22640.000000</td>\n",
       "      <td>17349.000000</td>\n",
       "      <td>17370.000000</td>\n",
       "      <td>17371.000000</td>\n",
       "      <td>7751.000000</td>\n",
       "      <td>17371.000000</td>\n",
       "      <td>8735.000000</td>\n",
       "      <td>19516.000000</td>\n",
       "      <td>22640.000000</td>\n",
       "      <td>22640.000000</td>\n",
       "      <td>22640.000000</td>\n",
       "      <td>20888.000000</td>\n",
       "      <td>20549.000000</td>\n",
       "    </tr>\n",
       "    <tr>\n",
       "      <th>mean</th>\n",
       "      <td>10.319611</td>\n",
       "      <td>6.598647e+06</td>\n",
       "      <td>60.555976</td>\n",
       "      <td>9.976804e+04</td>\n",
       "      <td>2.07288</td>\n",
       "      <td>2.718435</td>\n",
       "      <td>10.720624</td>\n",
       "      <td>34.535524</td>\n",
       "      <td>5.917933</td>\n",
       "      <td>10.616413</td>\n",
       "      <td>0.592182</td>\n",
       "      <td>28815.234941</td>\n",
       "      <td>14101.146402</td>\n",
       "      <td>0.614530</td>\n",
       "      <td>491.285512</td>\n",
       "      <td>0.773531</td>\n",
       "      <td>516.028163</td>\n",
       "      <td>182.715157</td>\n",
       "      <td>2.565901</td>\n",
       "      <td>6.389973</td>\n",
       "      <td>2017.378445</td>\n",
       "      <td>0.563968</td>\n",
       "      <td>0.187712</td>\n",
       "    </tr>\n",
       "    <tr>\n",
       "      <th>std</th>\n",
       "      <td>5.389126</td>\n",
       "      <td>1.108490e+07</td>\n",
       "      <td>35.907025</td>\n",
       "      <td>5.063574e+04</td>\n",
       "      <td>1.08130</td>\n",
       "      <td>0.715064</td>\n",
       "      <td>6.618854</td>\n",
       "      <td>22.192379</td>\n",
       "      <td>4.908040</td>\n",
       "      <td>5.956931</td>\n",
       "      <td>0.961230</td>\n",
       "      <td>12584.096865</td>\n",
       "      <td>8504.494813</td>\n",
       "      <td>0.803593</td>\n",
       "      <td>344.291628</td>\n",
       "      <td>0.939416</td>\n",
       "      <td>277.160052</td>\n",
       "      <td>220.587248</td>\n",
       "      <td>1.788939</td>\n",
       "      <td>3.487839</td>\n",
       "      <td>1.038239</td>\n",
       "      <td>0.105388</td>\n",
       "      <td>0.073331</td>\n",
       "    </tr>\n",
       "    <tr>\n",
       "      <th>min</th>\n",
       "      <td>1.000000</td>\n",
       "      <td>1.219000e+04</td>\n",
       "      <td>12.000000</td>\n",
       "      <td>1.118349e+02</td>\n",
       "      <td>0.00000</td>\n",
       "      <td>1.000000</td>\n",
       "      <td>1.000000</td>\n",
       "      <td>2.000000</td>\n",
       "      <td>1.000000</td>\n",
       "      <td>1.300000</td>\n",
       "      <td>0.000000</td>\n",
       "      <td>6450.000000</td>\n",
       "      <td>181.000000</td>\n",
       "      <td>0.000000</td>\n",
       "      <td>1.000000</td>\n",
       "      <td>0.000000</td>\n",
       "      <td>13.000000</td>\n",
       "      <td>1.000000</td>\n",
       "      <td>0.000000</td>\n",
       "      <td>1.000000</td>\n",
       "      <td>2014.000000</td>\n",
       "      <td>0.021583</td>\n",
       "      <td>0.025381</td>\n",
       "    </tr>\n",
       "    <tr>\n",
       "      <th>25%</th>\n",
       "      <td>6.000000</td>\n",
       "      <td>3.450000e+06</td>\n",
       "      <td>40.000000</td>\n",
       "      <td>7.692308e+04</td>\n",
       "      <td>1.00000</td>\n",
       "      <td>2.600000</td>\n",
       "      <td>5.000000</td>\n",
       "      <td>18.600000</td>\n",
       "      <td>2.000000</td>\n",
       "      <td>7.000000</td>\n",
       "      <td>0.000000</td>\n",
       "      <td>18641.000000</td>\n",
       "      <td>9163.250000</td>\n",
       "      <td>0.000000</td>\n",
       "      <td>287.500000</td>\n",
       "      <td>0.000000</td>\n",
       "      <td>293.000000</td>\n",
       "      <td>45.000000</td>\n",
       "      <td>1.000000</td>\n",
       "      <td>3.000000</td>\n",
       "      <td>2017.000000</td>\n",
       "      <td>0.494163</td>\n",
       "      <td>0.133333</td>\n",
       "    </tr>\n",
       "    <tr>\n",
       "      <th>50%</th>\n",
       "      <td>10.000000</td>\n",
       "      <td>4.650000e+06</td>\n",
       "      <td>52.000000</td>\n",
       "      <td>9.523202e+04</td>\n",
       "      <td>2.00000</td>\n",
       "      <td>2.650000</td>\n",
       "      <td>9.000000</td>\n",
       "      <td>30.000000</td>\n",
       "      <td>4.000000</td>\n",
       "      <td>9.200000</td>\n",
       "      <td>0.000000</td>\n",
       "      <td>26771.000000</td>\n",
       "      <td>13056.000000</td>\n",
       "      <td>0.000000</td>\n",
       "      <td>453.000000</td>\n",
       "      <td>1.000000</td>\n",
       "      <td>500.000000</td>\n",
       "      <td>98.000000</td>\n",
       "      <td>3.000000</td>\n",
       "      <td>6.000000</td>\n",
       "      <td>2017.000000</td>\n",
       "      <td>0.566728</td>\n",
       "      <td>0.172477</td>\n",
       "    </tr>\n",
       "    <tr>\n",
       "      <th>75%</th>\n",
       "      <td>14.000000</td>\n",
       "      <td>6.800000e+06</td>\n",
       "      <td>70.000000</td>\n",
       "      <td>1.145479e+05</td>\n",
       "      <td>3.00000</td>\n",
       "      <td>2.700000</td>\n",
       "      <td>16.000000</td>\n",
       "      <td>42.400000</td>\n",
       "      <td>8.000000</td>\n",
       "      <td>12.000000</td>\n",
       "      <td>1.000000</td>\n",
       "      <td>37284.000000</td>\n",
       "      <td>16267.000000</td>\n",
       "      <td>1.000000</td>\n",
       "      <td>612.000000</td>\n",
       "      <td>1.000000</td>\n",
       "      <td>724.000000</td>\n",
       "      <td>234.000000</td>\n",
       "      <td>4.000000</td>\n",
       "      <td>10.000000</td>\n",
       "      <td>2018.000000</td>\n",
       "      <td>0.637102</td>\n",
       "      <td>0.232787</td>\n",
       "    </tr>\n",
       "    <tr>\n",
       "      <th>max</th>\n",
       "      <td>50.000000</td>\n",
       "      <td>7.630000e+08</td>\n",
       "      <td>900.000000</td>\n",
       "      <td>1.907500e+06</td>\n",
       "      <td>19.00000</td>\n",
       "      <td>32.000000</td>\n",
       "      <td>60.000000</td>\n",
       "      <td>409.700000</td>\n",
       "      <td>33.000000</td>\n",
       "      <td>112.000000</td>\n",
       "      <td>5.000000</td>\n",
       "      <td>84869.000000</td>\n",
       "      <td>65968.000000</td>\n",
       "      <td>3.000000</td>\n",
       "      <td>3190.000000</td>\n",
       "      <td>3.000000</td>\n",
       "      <td>1344.000000</td>\n",
       "      <td>1580.000000</td>\n",
       "      <td>6.000000</td>\n",
       "      <td>12.000000</td>\n",
       "      <td>2019.000000</td>\n",
       "      <td>1.000000</td>\n",
       "      <td>0.787879</td>\n",
       "    </tr>\n",
       "  </tbody>\n",
       "</table>\n",
       "</div>"
      ],
      "text/plain": [
       "       total_images    last_price    total_area      price_m2        rooms  \\\n",
       "count  22640.000000  2.264000e+04  22640.000000  2.264000e+04  22640.00000   \n",
       "mean      10.319611  6.598647e+06     60.555976  9.976804e+04      2.07288   \n",
       "std        5.389126  1.108490e+07     35.907025  5.063574e+04      1.08130   \n",
       "min        1.000000  1.219000e+04     12.000000  1.118349e+02      0.00000   \n",
       "25%        6.000000  3.450000e+06     40.000000  7.692308e+04      1.00000   \n",
       "50%       10.000000  4.650000e+06     52.000000  9.523202e+04      2.00000   \n",
       "75%       14.000000  6.800000e+06     70.000000  1.145479e+05      3.00000   \n",
       "max       50.000000  7.630000e+08    900.000000  1.907500e+06     19.00000   \n",
       "\n",
       "       ceiling_height  floors_total   living_area         floor  kitchen_area  \\\n",
       "count    22640.000000  22561.000000  20888.000000  22640.000000  20549.000000   \n",
       "mean         2.718435     10.720624     34.535524      5.917933     10.616413   \n",
       "std          0.715064      6.618854     22.192379      4.908040      5.956931   \n",
       "min          1.000000      1.000000      2.000000      1.000000      1.300000   \n",
       "25%          2.600000      5.000000     18.600000      2.000000      7.000000   \n",
       "50%          2.650000      9.000000     30.000000      4.000000      9.200000   \n",
       "75%          2.700000     16.000000     42.400000      8.000000     12.000000   \n",
       "max         32.000000     60.000000    409.700000     33.000000    112.000000   \n",
       "\n",
       "            balcony  airports_nearest  city_centers_nearest  parks_around3000  \\\n",
       "count  22640.000000      17349.000000          17370.000000      17371.000000   \n",
       "mean       0.592182      28815.234941          14101.146402          0.614530   \n",
       "std        0.961230      12584.096865           8504.494813          0.803593   \n",
       "min        0.000000       6450.000000            181.000000          0.000000   \n",
       "25%        0.000000      18641.000000           9163.250000          0.000000   \n",
       "50%        0.000000      26771.000000          13056.000000          0.000000   \n",
       "75%        1.000000      37284.000000          16267.000000          1.000000   \n",
       "max        5.000000      84869.000000          65968.000000          3.000000   \n",
       "\n",
       "       parks_nearest  ponds_around3000  ponds_nearest  days_exposition  \\\n",
       "count    7751.000000      17371.000000    8735.000000     19516.000000   \n",
       "mean      491.285512          0.773531     516.028163       182.715157   \n",
       "std       344.291628          0.939416     277.160052       220.587248   \n",
       "min         1.000000          0.000000      13.000000         1.000000   \n",
       "25%       287.500000          0.000000     293.000000        45.000000   \n",
       "50%       453.000000          1.000000     500.000000        98.000000   \n",
       "75%       612.000000          1.000000     724.000000       234.000000   \n",
       "max      3190.000000          3.000000    1344.000000      1580.000000   \n",
       "\n",
       "       publication_day  publication_month  publication_year  living/total  \\\n",
       "count     22640.000000       22640.000000      22640.000000  20888.000000   \n",
       "mean          2.565901           6.389973       2017.378445      0.563968   \n",
       "std           1.788939           3.487839          1.038239      0.105388   \n",
       "min           0.000000           1.000000       2014.000000      0.021583   \n",
       "25%           1.000000           3.000000       2017.000000      0.494163   \n",
       "50%           3.000000           6.000000       2017.000000      0.566728   \n",
       "75%           4.000000          10.000000       2018.000000      0.637102   \n",
       "max           6.000000          12.000000       2019.000000      1.000000   \n",
       "\n",
       "       kitchen/total  \n",
       "count   20549.000000  \n",
       "mean        0.187712  \n",
       "std         0.073331  \n",
       "min         0.025381  \n",
       "25%         0.133333  \n",
       "50%         0.172477  \n",
       "75%         0.232787  \n",
       "max         0.787879  "
      ]
     },
     "execution_count": 39,
     "metadata": {},
     "output_type": "execute_result"
    }
   ],
   "source": [
    "df.query('total_images != 0').describe()"
   ]
  },
  {
   "cell_type": "code",
   "execution_count": 40,
   "metadata": {
    "scrolled": false
   },
   "outputs": [
    {
     "data": {
      "image/png": "[encoded data removed]",
      "text/plain": [
       "<Figure size 432x288 with 1 Axes>"
      ]
     },
     "metadata": {
      "needs_background": "light"
     },
     "output_type": "display_data"
    },
    {
     "data": {
      "image/png": "[encoded data removed]",
      "text/plain": [
       "<Figure size 432x288 with 1 Axes>"
      ]
     },
     "metadata": {
      "needs_background": "light"
     },
     "output_type": "display_data"
    },
    {
     "data": {
      "text/plain": [
       "count    20518.000000\n",
       "mean       180.888634\n",
       "std        219.727988\n",
       "min          1.000000\n",
       "25%         45.000000\n",
       "50%         95.000000\n",
       "75%        232.000000\n",
       "max       1580.000000\n",
       "Name: days_exposition, dtype: float64"
      ]
     },
     "execution_count": 40,
     "metadata": {},
     "output_type": "execute_result"
    },
    {
     "data": {
      "image/png": "[encoded data removed]",
      "text/plain": [
       "<Figure size 432x288 with 1 Axes>"
      ]
     },
     "metadata": {
      "needs_background": "light"
     },
     "output_type": "display_data"
    }
   ],
   "source": [
    "df.days_exposition.plot(kind='hist', bins=50,  title='days_exposition')\n",
    "plt.show()\n",
    "df.days_exposition.plot(kind='hist', bins=10, range=(0,10),  title='days_exposition')\n",
    "plt.show()\n",
    "df.boxplot(column='days_exposition')\n",
    "df.days_exposition.describe()"
   ]
  },
  {
   "cell_type": "markdown",
   "metadata": {},
   "source": [
    "Среди продолжительности продажи квартир наблюдается монотонное уменьшение (при приближении заметны редкие скачки в диапазоне 0-100 дней, наверное можно отнести к шуму)\n",
    "Судя по boxplot диаграмме, значения более 500 дней можно отнести к высоким. Значения 0-100 дней не являются выбивающимися"
   ]
  },
  {
   "cell_type": "code",
   "execution_count": 26,
   "metadata": {
    "scrolled": true
   },
   "outputs": [
    {
     "data": {
      "text/plain": [
       "45.0    880\n",
       "60.0    538\n",
       "7.0     234\n",
       "30.0    208\n",
       "90.0    204\n",
       "4.0     176\n",
       "3.0     158\n",
       "5.0     152\n",
       "14.0    148\n",
       "9.0     143\n",
       "Name: days_exposition, dtype: int64"
      ]
     },
     "execution_count": 26,
     "metadata": {},
     "output_type": "execute_result"
    }
   ],
   "source": [
    "df.days_exposition.value_counts().head(10)"
   ]
  },
  {
   "cell_type": "markdown",
   "metadata": {},
   "source": [
    "Среди других выделяются значения 45, 60, 90. Возможно они возникают вследствие ручного заполнения колонки с продолжительностью продажи и соответствуют \"круглым\" значениям времени: 1.5, 2 и 3 месяца."
   ]
  },
  {
   "cell_type": "code",
   "execution_count": 27,
   "metadata": {},
   "outputs": [
    {
     "data": {
      "image/png": "[encoded data removed]",
      "text/plain": [
       "<Figure size 432x288 with 1 Axes>"
      ]
     },
     "metadata": {
      "needs_background": "light"
     },
     "output_type": "display_data"
    },
    {
     "data": {
      "image/png": "[encoded data removed]",
      "text/plain": [
       "<Figure size 432x288 with 1 Axes>"
      ]
     },
     "metadata": {
      "needs_background": "light"
     },
     "output_type": "display_data"
    }
   ],
   "source": [
    "df.last_price.plot(kind='hist', bins=50, range=(0,20e6),  title='last_price')\n",
    "plt.show()\n",
    "df.price_m2.plot(kind='hist', bins=50, range=(0,1e5),  title='price_m2')\n",
    "plt.show()"
   ]
  },
  {
   "cell_type": "code",
   "execution_count": 28,
   "metadata": {},
   "outputs": [
    {
     "data": {
      "image/png": "[encoded data removed]",
      "text/plain": [
       "<Figure size 648x648 with 4 Axes>"
      ]
     },
     "metadata": {
      "needs_background": "light"
     },
     "output_type": "display_data"
    }
   ],
   "source": [
    "pd.plotting.scatter_matrix(df[['last_price', 'price_m2']], figsize=(9,9))\n",
    "plt.show()"
   ]
  },
  {
   "cell_type": "code",
   "execution_count": 29,
   "metadata": {
    "scrolled": true
   },
   "outputs": [
    {
     "data": {
      "text/plain": [
       "(0, 100000000.0)"
      ]
     },
     "execution_count": 29,
     "metadata": {},
     "output_type": "execute_result"
    },
    {
     "data": {
      "image/png": "[encoded data removed]",
      "text/plain": [
       "<Figure size 432x288 with 1 Axes>"
      ]
     },
     "metadata": {
      "needs_background": "light"
     },
     "output_type": "display_data"
    }
   ],
   "source": [
    "df.boxplot(column='last_price')\n",
    "plt.ylim(0,10e7)"
   ]
  },
  {
   "cell_type": "code",
   "execution_count": 30,
   "metadata": {},
   "outputs": [],
   "source": [
    "#Оставляем достоверные данные \n",
    "data_good = df.query('last_price < 3e7')\n",
    "data_good = data_good.query('total_images > 1')"
   ]
  },
  {
   "cell_type": "code",
   "execution_count": 31,
   "metadata": {},
   "outputs": [],
   "source": [
    "data_good = data_good.query('last_price > 5e4')\n",
    "data_good = data_good.query('days_exposition > 1')"
   ]
  },
  {
   "cell_type": "code",
   "execution_count": 32,
   "metadata": {
    "scrolled": false
   },
   "outputs": [
    {
     "data": {
      "text/plain": [
       "<matplotlib.axes._subplots.AxesSubplot at 0x7f815e161250>"
      ]
     },
     "execution_count": 32,
     "metadata": {},
     "output_type": "execute_result"
    },
    {
     "data": {
      "image/png": "[encoded data removed]",
      "text/plain": [
       "<Figure size 432x288 with 1 Axes>"
      ]
     },
     "metadata": {
      "needs_background": "light"
     },
     "output_type": "display_data"
    }
   ],
   "source": [
    "data_good.ceiling_height.plot(kind='box', ylim=(2,4))"
   ]
  },
  {
   "cell_type": "code",
   "execution_count": 33,
   "metadata": {},
   "outputs": [],
   "source": [
    "data_good = data_good.query('2.25<= ceiling_height <3.5')"
   ]
  },
  {
   "cell_type": "code",
   "execution_count": 34,
   "metadata": {
    "scrolled": true
   },
   "outputs": [
    {
     "data": {
      "text/html": [
       "<div>\n",
       "<style scoped>\n",
       "    .dataframe tbody tr th:only-of-type {\n",
       "        vertical-align: middle;\n",
       "    }\n",
       "\n",
       "    .dataframe tbody tr th {\n",
       "        vertical-align: top;\n",
       "    }\n",
       "\n",
       "    .dataframe thead th {\n",
       "        text-align: right;\n",
       "    }\n",
       "</style>\n",
       "<table border=\"1\" class=\"dataframe\">\n",
       "  <thead>\n",
       "    <tr style=\"text-align: right;\">\n",
       "      <th></th>\n",
       "      <th>total_images</th>\n",
       "      <th>last_price</th>\n",
       "      <th>total_area</th>\n",
       "      <th>price_m2</th>\n",
       "      <th>rooms</th>\n",
       "      <th>ceiling_height</th>\n",
       "      <th>floors_total</th>\n",
       "      <th>living_area</th>\n",
       "      <th>floor</th>\n",
       "      <th>kitchen_area</th>\n",
       "      <th>balcony</th>\n",
       "      <th>airports_nearest</th>\n",
       "      <th>city_centers_nearest</th>\n",
       "      <th>parks_around3000</th>\n",
       "      <th>parks_nearest</th>\n",
       "      <th>ponds_around3000</th>\n",
       "      <th>ponds_nearest</th>\n",
       "      <th>days_exposition</th>\n",
       "      <th>publication_day</th>\n",
       "      <th>publication_month</th>\n",
       "      <th>publication_year</th>\n",
       "      <th>living/total</th>\n",
       "      <th>kitchen/total</th>\n",
       "    </tr>\n",
       "  </thead>\n",
       "  <tbody>\n",
       "    <tr>\n",
       "      <td>count</td>\n",
       "      <td>18224.000000</td>\n",
       "      <td>1.822400e+04</td>\n",
       "      <td>18224.000000</td>\n",
       "      <td>18224.000000</td>\n",
       "      <td>18224.000000</td>\n",
       "      <td>18224.000000</td>\n",
       "      <td>18163.000000</td>\n",
       "      <td>16802.000000</td>\n",
       "      <td>18224.000000</td>\n",
       "      <td>16518.000000</td>\n",
       "      <td>18224.000000</td>\n",
       "      <td>13993.000000</td>\n",
       "      <td>14009.000000</td>\n",
       "      <td>14009.000000</td>\n",
       "      <td>5991.000000</td>\n",
       "      <td>14009.000000</td>\n",
       "      <td>6842.000000</td>\n",
       "      <td>18224.000000</td>\n",
       "      <td>18224.000000</td>\n",
       "      <td>18224.000000</td>\n",
       "      <td>18224.000000</td>\n",
       "      <td>16802.000000</td>\n",
       "      <td>16518.000000</td>\n",
       "    </tr>\n",
       "    <tr>\n",
       "      <td>mean</td>\n",
       "      <td>10.445292</td>\n",
       "      <td>5.473549e+06</td>\n",
       "      <td>56.476874</td>\n",
       "      <td>95338.371570</td>\n",
       "      <td>1.979532</td>\n",
       "      <td>2.673120</td>\n",
       "      <td>11.011011</td>\n",
       "      <td>32.110517</td>\n",
       "      <td>6.069469</td>\n",
       "      <td>10.184009</td>\n",
       "      <td>0.602831</td>\n",
       "      <td>28966.006503</td>\n",
       "      <td>14458.516668</td>\n",
       "      <td>0.577629</td>\n",
       "      <td>496.322984</td>\n",
       "      <td>0.733314</td>\n",
       "      <td>525.399445</td>\n",
       "      <td>179.580827</td>\n",
       "      <td>2.581102</td>\n",
       "      <td>6.579785</td>\n",
       "      <td>2017.242812</td>\n",
       "      <td>0.561206</td>\n",
       "      <td>0.190554</td>\n",
       "    </tr>\n",
       "    <tr>\n",
       "      <td>std</td>\n",
       "      <td>5.080969</td>\n",
       "      <td>3.650393e+06</td>\n",
       "      <td>26.155599</td>\n",
       "      <td>33069.709701</td>\n",
       "      <td>0.989030</td>\n",
       "      <td>0.155183</td>\n",
       "      <td>6.682504</td>\n",
       "      <td>17.162883</td>\n",
       "      <td>4.997580</td>\n",
       "      <td>4.907212</td>\n",
       "      <td>0.955387</td>\n",
       "      <td>12789.301106</td>\n",
       "      <td>8304.799101</td>\n",
       "      <td>0.776669</td>\n",
       "      <td>351.093419</td>\n",
       "      <td>0.911475</td>\n",
       "      <td>276.140846</td>\n",
       "      <td>216.207011</td>\n",
       "      <td>1.788034</td>\n",
       "      <td>3.475962</td>\n",
       "      <td>0.952316</td>\n",
       "      <td>0.104456</td>\n",
       "      <td>0.071954</td>\n",
       "    </tr>\n",
       "    <tr>\n",
       "      <td>min</td>\n",
       "      <td>2.000000</td>\n",
       "      <td>4.300000e+05</td>\n",
       "      <td>12.000000</td>\n",
       "      <td>7962.962963</td>\n",
       "      <td>0.000000</td>\n",
       "      <td>2.300000</td>\n",
       "      <td>1.000000</td>\n",
       "      <td>2.000000</td>\n",
       "      <td>1.000000</td>\n",
       "      <td>2.000000</td>\n",
       "      <td>0.000000</td>\n",
       "      <td>6450.000000</td>\n",
       "      <td>287.000000</td>\n",
       "      <td>0.000000</td>\n",
       "      <td>1.000000</td>\n",
       "      <td>0.000000</td>\n",
       "      <td>16.000000</td>\n",
       "      <td>2.000000</td>\n",
       "      <td>0.000000</td>\n",
       "      <td>1.000000</td>\n",
       "      <td>2014.000000</td>\n",
       "      <td>0.038462</td>\n",
       "      <td>0.025381</td>\n",
       "    </tr>\n",
       "    <tr>\n",
       "      <td>25%</td>\n",
       "      <td>7.000000</td>\n",
       "      <td>3.400000e+06</td>\n",
       "      <td>39.200000</td>\n",
       "      <td>76626.554470</td>\n",
       "      <td>1.000000</td>\n",
       "      <td>2.600000</td>\n",
       "      <td>5.000000</td>\n",
       "      <td>18.100000</td>\n",
       "      <td>2.000000</td>\n",
       "      <td>7.000000</td>\n",
       "      <td>0.000000</td>\n",
       "      <td>18403.000000</td>\n",
       "      <td>9988.000000</td>\n",
       "      <td>0.000000</td>\n",
       "      <td>288.000000</td>\n",
       "      <td>0.000000</td>\n",
       "      <td>309.000000</td>\n",
       "      <td>45.000000</td>\n",
       "      <td>1.000000</td>\n",
       "      <td>3.000000</td>\n",
       "      <td>2017.000000</td>\n",
       "      <td>0.490450</td>\n",
       "      <td>0.136364</td>\n",
       "    </tr>\n",
       "    <tr>\n",
       "      <td>50%</td>\n",
       "      <td>10.000000</td>\n",
       "      <td>4.500000e+06</td>\n",
       "      <td>50.000000</td>\n",
       "      <td>93939.393939</td>\n",
       "      <td>2.000000</td>\n",
       "      <td>2.650000</td>\n",
       "      <td>9.000000</td>\n",
       "      <td>29.600000</td>\n",
       "      <td>5.000000</td>\n",
       "      <td>9.000000</td>\n",
       "      <td>0.000000</td>\n",
       "      <td>27144.000000</td>\n",
       "      <td>13271.000000</td>\n",
       "      <td>0.000000</td>\n",
       "      <td>454.000000</td>\n",
       "      <td>0.000000</td>\n",
       "      <td>510.000000</td>\n",
       "      <td>97.000000</td>\n",
       "      <td>3.000000</td>\n",
       "      <td>7.000000</td>\n",
       "      <td>2017.000000</td>\n",
       "      <td>0.563792</td>\n",
       "      <td>0.176471</td>\n",
       "    </tr>\n",
       "    <tr>\n",
       "      <td>75%</td>\n",
       "      <td>14.000000</td>\n",
       "      <td>6.300000e+06</td>\n",
       "      <td>66.300000</td>\n",
       "      <td>111538.461538</td>\n",
       "      <td>3.000000</td>\n",
       "      <td>2.700000</td>\n",
       "      <td>16.000000</td>\n",
       "      <td>40.400000</td>\n",
       "      <td>8.000000</td>\n",
       "      <td>11.600000</td>\n",
       "      <td>1.000000</td>\n",
       "      <td>37552.000000</td>\n",
       "      <td>16432.000000</td>\n",
       "      <td>1.000000</td>\n",
       "      <td>616.000000</td>\n",
       "      <td>1.000000</td>\n",
       "      <td>733.000000</td>\n",
       "      <td>229.000000</td>\n",
       "      <td>4.000000</td>\n",
       "      <td>10.000000</td>\n",
       "      <td>2018.000000</td>\n",
       "      <td>0.634070</td>\n",
       "      <td>0.235955</td>\n",
       "    </tr>\n",
       "    <tr>\n",
       "      <td>max</td>\n",
       "      <td>50.000000</td>\n",
       "      <td>2.999900e+07</td>\n",
       "      <td>460.800000</td>\n",
       "      <td>355555.555556</td>\n",
       "      <td>16.000000</td>\n",
       "      <td>3.490000</td>\n",
       "      <td>60.000000</td>\n",
       "      <td>279.600000</td>\n",
       "      <td>33.000000</td>\n",
       "      <td>100.700000</td>\n",
       "      <td>5.000000</td>\n",
       "      <td>84869.000000</td>\n",
       "      <td>65968.000000</td>\n",
       "      <td>3.000000</td>\n",
       "      <td>3190.000000</td>\n",
       "      <td>3.000000</td>\n",
       "      <td>1344.000000</td>\n",
       "      <td>1580.000000</td>\n",
       "      <td>6.000000</td>\n",
       "      <td>12.000000</td>\n",
       "      <td>2019.000000</td>\n",
       "      <td>1.000000</td>\n",
       "      <td>0.787879</td>\n",
       "    </tr>\n",
       "  </tbody>\n",
       "</table>\n",
       "</div>"
      ],
      "text/plain": [
       "       total_images    last_price    total_area       price_m2         rooms  \\\n",
       "count  18224.000000  1.822400e+04  18224.000000   18224.000000  18224.000000   \n",
       "mean      10.445292  5.473549e+06     56.476874   95338.371570      1.979532   \n",
       "std        5.080969  3.650393e+06     26.155599   33069.709701      0.989030   \n",
       "min        2.000000  4.300000e+05     12.000000    7962.962963      0.000000   \n",
       "25%        7.000000  3.400000e+06     39.200000   76626.554470      1.000000   \n",
       "50%       10.000000  4.500000e+06     50.000000   93939.393939      2.000000   \n",
       "75%       14.000000  6.300000e+06     66.300000  111538.461538      3.000000   \n",
       "max       50.000000  2.999900e+07    460.800000  355555.555556     16.000000   \n",
       "\n",
       "       ceiling_height  floors_total   living_area         floor  kitchen_area  \\\n",
       "count    18224.000000  18163.000000  16802.000000  18224.000000  16518.000000   \n",
       "mean         2.673120     11.011011     32.110517      6.069469     10.184009   \n",
       "std          0.155183      6.682504     17.162883      4.997580      4.907212   \n",
       "min          2.300000      1.000000      2.000000      1.000000      2.000000   \n",
       "25%          2.600000      5.000000     18.100000      2.000000      7.000000   \n",
       "50%          2.650000      9.000000     29.600000      5.000000      9.000000   \n",
       "75%          2.700000     16.000000     40.400000      8.000000     11.600000   \n",
       "max          3.490000     60.000000    279.600000     33.000000    100.700000   \n",
       "\n",
       "            balcony  airports_nearest  city_centers_nearest  parks_around3000  \\\n",
       "count  18224.000000      13993.000000          14009.000000      14009.000000   \n",
       "mean       0.602831      28966.006503          14458.516668          0.577629   \n",
       "std        0.955387      12789.301106           8304.799101          0.776669   \n",
       "min        0.000000       6450.000000            287.000000          0.000000   \n",
       "25%        0.000000      18403.000000           9988.000000          0.000000   \n",
       "50%        0.000000      27144.000000          13271.000000          0.000000   \n",
       "75%        1.000000      37552.000000          16432.000000          1.000000   \n",
       "max        5.000000      84869.000000          65968.000000          3.000000   \n",
       "\n",
       "       parks_nearest  ponds_around3000  ponds_nearest  days_exposition  \\\n",
       "count    5991.000000      14009.000000    6842.000000     18224.000000   \n",
       "mean      496.322984          0.733314     525.399445       179.580827   \n",
       "std       351.093419          0.911475     276.140846       216.207011   \n",
       "min         1.000000          0.000000      16.000000         2.000000   \n",
       "25%       288.000000          0.000000     309.000000        45.000000   \n",
       "50%       454.000000          0.000000     510.000000        97.000000   \n",
       "75%       616.000000          1.000000     733.000000       229.000000   \n",
       "max      3190.000000          3.000000    1344.000000      1580.000000   \n",
       "\n",
       "       publication_day  publication_month  publication_year  living/total  \\\n",
       "count     18224.000000       18224.000000      18224.000000  16802.000000   \n",
       "mean          2.581102           6.579785       2017.242812      0.561206   \n",
       "std           1.788034           3.475962          0.952316      0.104456   \n",
       "min           0.000000           1.000000       2014.000000      0.038462   \n",
       "25%           1.000000           3.000000       2017.000000      0.490450   \n",
       "50%           3.000000           7.000000       2017.000000      0.563792   \n",
       "75%           4.000000          10.000000       2018.000000      0.634070   \n",
       "max           6.000000          12.000000       2019.000000      1.000000   \n",
       "\n",
       "       kitchen/total  \n",
       "count   16518.000000  \n",
       "mean        0.190554  \n",
       "std         0.071954  \n",
       "min         0.025381  \n",
       "25%         0.136364  \n",
       "50%         0.176471  \n",
       "75%         0.235955  \n",
       "max         0.787879  "
      ]
     },
     "execution_count": 34,
     "metadata": {},
     "output_type": "execute_result"
    }
   ],
   "source": [
    "data_good.describe()"
   ]
  },
  {
   "cell_type": "markdown",
   "metadata": {},
   "source": [
    "#### Вывод\n",
    "Убрали из датасета редкие и выбивающиеся значения."
   ]
  },
  {
   "cell_type": "code",
   "execution_count": 35,
   "metadata": {},
   "outputs": [
    {
     "data": {
      "image/png": "[encoded data removed]",
      "text/plain": [
       "<Figure size 432x288 with 1 Axes>"
      ]
     },
     "metadata": {
      "needs_background": "light"
     },
     "output_type": "display_data"
    }
   ],
   "source": [
    "data_good.last_price.plot(kind='hist', bins=50, range=(0,20e6),  title='last_price', logx=True)\n",
    "plt.show()"
   ]
  },
  {
   "cell_type": "code",
   "execution_count": 36,
   "metadata": {
    "scrolled": false
   },
   "outputs": [
    {
     "data": {
      "image/png": "[encoded data removed]",
      "text/plain": [
       "<Figure size 648x648 with 16 Axes>"
      ]
     },
     "metadata": {
      "needs_background": "light"
     },
     "output_type": "display_data"
    }
   ],
   "source": [
    "pd.plotting.scatter_matrix(data_good[['last_price', 'total_area', 'rooms', 'city_centers_nearest']], figsize=(9,9))\n",
    "plt.show()"
   ]
  },
  {
   "cell_type": "code",
   "execution_count": 37,
   "metadata": {
    "scrolled": false
   },
   "outputs": [
    {
     "data": {
      "text/html": [
       "<div>\n",
       "<style scoped>\n",
       "    .dataframe tbody tr th:only-of-type {\n",
       "        vertical-align: middle;\n",
       "    }\n",
       "\n",
       "    .dataframe tbody tr th {\n",
       "        vertical-align: top;\n",
       "    }\n",
       "\n",
       "    .dataframe thead th {\n",
       "        text-align: right;\n",
       "    }\n",
       "</style>\n",
       "<table border=\"1\" class=\"dataframe\">\n",
       "  <thead>\n",
       "    <tr style=\"text-align: right;\">\n",
       "      <th></th>\n",
       "      <th>last_price</th>\n",
       "    </tr>\n",
       "    <tr>\n",
       "      <th>floor_cat</th>\n",
       "      <th></th>\n",
       "    </tr>\n",
       "  </thead>\n",
       "  <tbody>\n",
       "    <tr>\n",
       "      <td>first</td>\n",
       "      <td>3794500.0</td>\n",
       "    </tr>\n",
       "    <tr>\n",
       "      <td>last</td>\n",
       "      <td>4200000.0</td>\n",
       "    </tr>\n",
       "    <tr>\n",
       "      <td>other</td>\n",
       "      <td>4680000.0</td>\n",
       "    </tr>\n",
       "  </tbody>\n",
       "</table>\n",
       "</div>"
      ],
      "text/plain": [
       "           last_price\n",
       "floor_cat            \n",
       "first       3794500.0\n",
       "last        4200000.0\n",
       "other       4680000.0"
      ]
     },
     "metadata": {},
     "output_type": "display_data"
    },
    {
     "data": {
      "text/plain": [
       "<matplotlib.axes._subplots.AxesSubplot at 0x7f8154f32250>"
      ]
     },
     "execution_count": 37,
     "metadata": {},
     "output_type": "execute_result"
    },
    {
     "data": {
      "image/png": "[encoded data removed]",
      "text/plain": [
       "<Figure size 432x288 with 1 Axes>"
      ]
     },
     "metadata": {
      "needs_background": "light"
     },
     "output_type": "display_data"
    }
   ],
   "source": [
    "display(data_good.pivot_table(index='floor_cat', values='last_price', aggfunc='median'))\n",
    "data_good.pivot_table(index='floor_cat', values='last_price', aggfunc='median').plot(kind='bar')"
   ]
  },
  {
   "cell_type": "code",
   "execution_count": 38,
   "metadata": {},
   "outputs": [
    {
     "data": {
      "text/html": [
       "<div>\n",
       "<style scoped>\n",
       "    .dataframe tbody tr th:only-of-type {\n",
       "        vertical-align: middle;\n",
       "    }\n",
       "\n",
       "    .dataframe tbody tr th {\n",
       "        vertical-align: top;\n",
       "    }\n",
       "\n",
       "    .dataframe thead th {\n",
       "        text-align: right;\n",
       "    }\n",
       "</style>\n",
       "<table border=\"1\" class=\"dataframe\">\n",
       "  <thead>\n",
       "    <tr style=\"text-align: right;\">\n",
       "      <th></th>\n",
       "      <th>last_price</th>\n",
       "    </tr>\n",
       "    <tr>\n",
       "      <th>publication_day</th>\n",
       "      <th></th>\n",
       "    </tr>\n",
       "  </thead>\n",
       "  <tbody>\n",
       "    <tr>\n",
       "      <td>0</td>\n",
       "      <td>4500000.0</td>\n",
       "    </tr>\n",
       "    <tr>\n",
       "      <td>1</td>\n",
       "      <td>4570000.0</td>\n",
       "    </tr>\n",
       "    <tr>\n",
       "      <td>2</td>\n",
       "      <td>4500000.0</td>\n",
       "    </tr>\n",
       "    <tr>\n",
       "      <td>3</td>\n",
       "      <td>4525000.0</td>\n",
       "    </tr>\n",
       "    <tr>\n",
       "      <td>4</td>\n",
       "      <td>4400000.0</td>\n",
       "    </tr>\n",
       "    <tr>\n",
       "      <td>5</td>\n",
       "      <td>4500000.0</td>\n",
       "    </tr>\n",
       "    <tr>\n",
       "      <td>6</td>\n",
       "      <td>4450000.0</td>\n",
       "    </tr>\n",
       "  </tbody>\n",
       "</table>\n",
       "</div>"
      ],
      "text/plain": [
       "                 last_price\n",
       "publication_day            \n",
       "0                 4500000.0\n",
       "1                 4570000.0\n",
       "2                 4500000.0\n",
       "3                 4525000.0\n",
       "4                 4400000.0\n",
       "5                 4500000.0\n",
       "6                 4450000.0"
      ]
     },
     "metadata": {},
     "output_type": "display_data"
    },
    {
     "data": {
      "text/plain": [
       "<matplotlib.axes._subplots.AxesSubplot at 0x7f8154f1ea10>"
      ]
     },
     "execution_count": 38,
     "metadata": {},
     "output_type": "execute_result"
    },
    {
     "data": {
      "image/png": "[encoded data removed]",
      "text/plain": [
       "<Figure size 432x288 with 1 Axes>"
      ]
     },
     "metadata": {
      "needs_background": "light"
     },
     "output_type": "display_data"
    }
   ],
   "source": [
    "display(data_good.pivot_table(index='publication_day', values='last_price', aggfunc='median'))\n",
    "data_good.pivot_table(index='publication_day', values='last_price', aggfunc='median').plot(kind='bar')"
   ]
  },
  {
   "cell_type": "code",
   "execution_count": 39,
   "metadata": {
    "scrolled": false
   },
   "outputs": [
    {
     "data": {
      "text/html": [
       "<div>\n",
       "<style scoped>\n",
       "    .dataframe tbody tr th:only-of-type {\n",
       "        vertical-align: middle;\n",
       "    }\n",
       "\n",
       "    .dataframe tbody tr th {\n",
       "        vertical-align: top;\n",
       "    }\n",
       "\n",
       "    .dataframe thead th {\n",
       "        text-align: right;\n",
       "    }\n",
       "</style>\n",
       "<table border=\"1\" class=\"dataframe\">\n",
       "  <thead>\n",
       "    <tr style=\"text-align: right;\">\n",
       "      <th></th>\n",
       "      <th>last_price</th>\n",
       "    </tr>\n",
       "    <tr>\n",
       "      <th>publication_month</th>\n",
       "      <th></th>\n",
       "    </tr>\n",
       "  </thead>\n",
       "  <tbody>\n",
       "    <tr>\n",
       "      <td>1</td>\n",
       "      <td>4500000.0</td>\n",
       "    </tr>\n",
       "    <tr>\n",
       "      <td>2</td>\n",
       "      <td>4500000.0</td>\n",
       "    </tr>\n",
       "    <tr>\n",
       "      <td>3</td>\n",
       "      <td>4450000.0</td>\n",
       "    </tr>\n",
       "    <tr>\n",
       "      <td>4</td>\n",
       "      <td>4500000.0</td>\n",
       "    </tr>\n",
       "    <tr>\n",
       "      <td>5</td>\n",
       "      <td>4500000.0</td>\n",
       "    </tr>\n",
       "    <tr>\n",
       "      <td>6</td>\n",
       "      <td>4350000.0</td>\n",
       "    </tr>\n",
       "    <tr>\n",
       "      <td>7</td>\n",
       "      <td>4450000.0</td>\n",
       "    </tr>\n",
       "    <tr>\n",
       "      <td>8</td>\n",
       "      <td>4500000.0</td>\n",
       "    </tr>\n",
       "    <tr>\n",
       "      <td>9</td>\n",
       "      <td>4600000.0</td>\n",
       "    </tr>\n",
       "    <tr>\n",
       "      <td>10</td>\n",
       "      <td>4470000.0</td>\n",
       "    </tr>\n",
       "    <tr>\n",
       "      <td>11</td>\n",
       "      <td>4599000.0</td>\n",
       "    </tr>\n",
       "    <tr>\n",
       "      <td>12</td>\n",
       "      <td>4535000.0</td>\n",
       "    </tr>\n",
       "  </tbody>\n",
       "</table>\n",
       "</div>"
      ],
      "text/plain": [
       "                   last_price\n",
       "publication_month            \n",
       "1                   4500000.0\n",
       "2                   4500000.0\n",
       "3                   4450000.0\n",
       "4                   4500000.0\n",
       "5                   4500000.0\n",
       "6                   4350000.0\n",
       "7                   4450000.0\n",
       "8                   4500000.0\n",
       "9                   4600000.0\n",
       "10                  4470000.0\n",
       "11                  4599000.0\n",
       "12                  4535000.0"
      ]
     },
     "metadata": {},
     "output_type": "display_data"
    },
    {
     "data": {
      "text/plain": [
       "<matplotlib.axes._subplots.AxesSubplot at 0x7f8154576590>"
      ]
     },
     "execution_count": 39,
     "metadata": {},
     "output_type": "execute_result"
    },
    {
     "data": {
      "image/png": "[encoded data removed]",
      "text/plain": [
       "<Figure size 432x288 with 1 Axes>"
      ]
     },
     "metadata": {
      "needs_background": "light"
     },
     "output_type": "display_data"
    }
   ],
   "source": [
    "display(data_good.pivot_table(index='publication_month', values='last_price', aggfunc='median'))\n",
    "data_good.pivot_table(index='publication_month', values='last_price', aggfunc='median').plot(kind='bar')"
   ]
  },
  {
   "cell_type": "code",
   "execution_count": 40,
   "metadata": {
    "scrolled": false
   },
   "outputs": [
    {
     "data": {
      "text/html": [
       "<div>\n",
       "<style scoped>\n",
       "    .dataframe tbody tr th:only-of-type {\n",
       "        vertical-align: middle;\n",
       "    }\n",
       "\n",
       "    .dataframe tbody tr th {\n",
       "        vertical-align: top;\n",
       "    }\n",
       "\n",
       "    .dataframe thead th {\n",
       "        text-align: right;\n",
       "    }\n",
       "</style>\n",
       "<table border=\"1\" class=\"dataframe\">\n",
       "  <thead>\n",
       "    <tr style=\"text-align: right;\">\n",
       "      <th></th>\n",
       "      <th>last_price</th>\n",
       "    </tr>\n",
       "    <tr>\n",
       "      <th>publication_year</th>\n",
       "      <th></th>\n",
       "    </tr>\n",
       "  </thead>\n",
       "  <tbody>\n",
       "    <tr>\n",
       "      <td>2014</td>\n",
       "      <td>6625000.0</td>\n",
       "    </tr>\n",
       "    <tr>\n",
       "      <td>2015</td>\n",
       "      <td>5100000.0</td>\n",
       "    </tr>\n",
       "    <tr>\n",
       "      <td>2016</td>\n",
       "      <td>4450000.0</td>\n",
       "    </tr>\n",
       "    <tr>\n",
       "      <td>2017</td>\n",
       "      <td>4490000.0</td>\n",
       "    </tr>\n",
       "    <tr>\n",
       "      <td>2018</td>\n",
       "      <td>4450000.0</td>\n",
       "    </tr>\n",
       "    <tr>\n",
       "      <td>2019</td>\n",
       "      <td>4800000.0</td>\n",
       "    </tr>\n",
       "  </tbody>\n",
       "</table>\n",
       "</div>"
      ],
      "text/plain": [
       "                  last_price\n",
       "publication_year            \n",
       "2014               6625000.0\n",
       "2015               5100000.0\n",
       "2016               4450000.0\n",
       "2017               4490000.0\n",
       "2018               4450000.0\n",
       "2019               4800000.0"
      ]
     },
     "metadata": {},
     "output_type": "display_data"
    },
    {
     "data": {
      "text/plain": [
       "<matplotlib.axes._subplots.AxesSubplot at 0x7f815450cb90>"
      ]
     },
     "execution_count": 40,
     "metadata": {},
     "output_type": "execute_result"
    },
    {
     "data": {
      "image/png": "[encoded data removed]",
      "text/plain": [
       "<Figure size 432x288 with 1 Axes>"
      ]
     },
     "metadata": {
      "needs_background": "light"
     },
     "output_type": "display_data"
    }
   ],
   "source": [
    "display(data_good.pivot_table(index='publication_year', values='last_price', aggfunc='median'))\n",
    "data_good.pivot_table(index='publication_year', values='last_price', aggfunc='median').plot(kind='bar')"
   ]
  },
  {
   "cell_type": "code",
   "execution_count": 41,
   "metadata": {},
   "outputs": [
    {
     "data": {
      "text/plain": [
       "last_price              1.000000\n",
       "total_area              0.781099\n",
       "rooms                   0.516917\n",
       "city_centers_nearest   -0.337672\n",
       "publication_day        -0.009312\n",
       "publication_month       0.005340\n",
       "publication_year       -0.066480\n",
       "Name: last_price, dtype: float64"
      ]
     },
     "metadata": {},
     "output_type": "display_data"
    }
   ],
   "source": [
    "#Смотрим корреляцию между ценой и другими параметрами\n",
    "display(data_good.corr()\n",
    "        .loc['last_price', \n",
    "             ['last_price', 'total_area', 'rooms', 'city_centers_nearest', 'publication_day', 'publication_month', 'publication_year']\n",
    "            ])"
   ]
  },
  {
   "cell_type": "markdown",
   "metadata": {},
   "source": [
    "#### Вывод\n",
    "Цена возрастает при увеличении площади квартиры и количества комнат. Так же влияет этаж квартиры: цена для не первого и не последнего этажа будет выше.\n",
    "Расстояние от центра города, день, месяц и год публикации не влияют на стоимость (Хотя медианная стоиость жилья была и выше в 2014 году)."
   ]
  },
  {
   "cell_type": "code",
   "execution_count": 42,
   "metadata": {
    "scrolled": false
   },
   "outputs": [
    {
     "data": {
      "text/html": [
       "<div>\n",
       "<style scoped>\n",
       "    .dataframe tbody tr th:only-of-type {\n",
       "        vertical-align: middle;\n",
       "    }\n",
       "\n",
       "    .dataframe tbody tr th {\n",
       "        vertical-align: top;\n",
       "    }\n",
       "\n",
       "    .dataframe thead th {\n",
       "        text-align: right;\n",
       "    }\n",
       "</style>\n",
       "<table border=\"1\" class=\"dataframe\">\n",
       "  <thead>\n",
       "    <tr style=\"text-align: right;\">\n",
       "      <th></th>\n",
       "      <th>counts</th>\n",
       "      <th>price_m2</th>\n",
       "    </tr>\n",
       "  </thead>\n",
       "  <tbody>\n",
       "    <tr>\n",
       "      <td>Санкт-Петербург</td>\n",
       "      <td>12074</td>\n",
       "      <td>108488.221790</td>\n",
       "    </tr>\n",
       "    <tr>\n",
       "      <td>посёлок Мурино</td>\n",
       "      <td>478</td>\n",
       "      <td>86077.714110</td>\n",
       "    </tr>\n",
       "    <tr>\n",
       "      <td>посёлок Шушары</td>\n",
       "      <td>361</td>\n",
       "      <td>78974.447403</td>\n",
       "    </tr>\n",
       "    <tr>\n",
       "      <td>Всеволожск</td>\n",
       "      <td>311</td>\n",
       "      <td>67021.970889</td>\n",
       "    </tr>\n",
       "    <tr>\n",
       "      <td>посёлок Парголово</td>\n",
       "      <td>273</td>\n",
       "      <td>89703.115969</td>\n",
       "    </tr>\n",
       "    <tr>\n",
       "      <td>деревня Кудрово</td>\n",
       "      <td>263</td>\n",
       "      <td>92285.131568</td>\n",
       "    </tr>\n",
       "    <tr>\n",
       "      <td>Пушкин</td>\n",
       "      <td>257</td>\n",
       "      <td>102119.474592</td>\n",
       "    </tr>\n",
       "    <tr>\n",
       "      <td>Колпино</td>\n",
       "      <td>255</td>\n",
       "      <td>75111.312016</td>\n",
       "    </tr>\n",
       "    <tr>\n",
       "      <td>Гатчина</td>\n",
       "      <td>250</td>\n",
       "      <td>67620.533665</td>\n",
       "    </tr>\n",
       "    <tr>\n",
       "      <td>Выборг</td>\n",
       "      <td>194</td>\n",
       "      <td>57143.775596</td>\n",
       "    </tr>\n",
       "  </tbody>\n",
       "</table>\n",
       "</div>"
      ],
      "text/plain": [
       "                   counts       price_m2\n",
       "Санкт-Петербург     12074  108488.221790\n",
       "посёлок Мурино        478   86077.714110\n",
       "посёлок Шушары        361   78974.447403\n",
       "Всеволожск            311   67021.970889\n",
       "посёлок Парголово     273   89703.115969\n",
       "деревня Кудрово       263   92285.131568\n",
       "Пушкин                257  102119.474592\n",
       "Колпино               255   75111.312016\n",
       "Гатчина               250   67620.533665\n",
       "Выборг                194   57143.775596"
      ]
     },
     "metadata": {},
     "output_type": "display_data"
    },
    {
     "data": {
      "text/plain": [
       "<matplotlib.axes._subplots.AxesSubplot at 0x7f815456db10>"
      ]
     },
     "execution_count": 42,
     "metadata": {},
     "output_type": "execute_result"
    },
    {
     "data": {
      "image/png": "[encoded data removed]",
      "text/plain": [
       "<Figure size 432x288 with 1 Axes>"
      ]
     },
     "metadata": {
      "needs_background": "light"
     },
     "output_type": "display_data"
    }
   ],
   "source": [
    "big_cities_stat = pd.DataFrame(data_good['locality_name'].value_counts()[:10])\n",
    "big_cities_stat = big_cities_stat.join(\n",
    "    data_good.pivot_table(index='locality_name', values='price_m2'))\n",
    "big_cities_stat.columns = ['counts', 'price_m2']\n",
    "display(big_cities_stat)\n",
    "big_cities_stat.plot(y='price_m2', kind='bar')"
   ]
  },
  {
   "cell_type": "markdown",
   "metadata": {},
   "source": [
    "#### Вывод\n",
    "Среди крупных городов самая высокая стоимость кв. метра в Санкт-Петербурге, самая низкая - в Выборге"
   ]
  },
  {
   "cell_type": "code",
   "execution_count": 43,
   "metadata": {},
   "outputs": [],
   "source": [
    "data_good_spb = data_good.query('locality_name == \"Санкт-Петербург\"')\n",
    "data_good_spb = data_good_spb.dropna(subset=['city_centers_nearest'])\n",
    "data_good_spb['city_centers_km'] = round(data_good_spb['city_centers_nearest']/1000, 0)\n",
    "data_good_spb['city_centers_km'] = data_good_spb['city_centers_km'].astype(int)"
   ]
  },
  {
   "cell_type": "code",
   "execution_count": 44,
   "metadata": {
    "scrolled": true
   },
   "outputs": [
    {
     "data": {
      "text/plain": [
       "<matplotlib.axes._subplots.AxesSubplot at 0x7f8154e23290>"
      ]
     },
     "execution_count": 44,
     "metadata": {},
     "output_type": "execute_result"
    },
    {
     "data": {
      "image/png": "[encoded data removed]",
      "text/plain": [
       "<Figure size 432x288 with 1 Axes>"
      ]
     },
     "metadata": {
      "needs_background": "light"
     },
     "output_type": "display_data"
    }
   ],
   "source": [
    "(data_good_spb\n",
    "    .pivot_table(index='city_centers_km', values='last_price')\n",
    "    .plot(style='-o')\n",
    ")\n"
   ]
  },
  {
   "cell_type": "markdown",
   "metadata": {},
   "source": [
    "#### Вывод \n",
    "Ориентировочно центральная зона - область с ралиусом 7 км. "
   ]
  },
  {
   "cell_type": "code",
   "execution_count": 45,
   "metadata": {},
   "outputs": [
    {
     "data": {
      "image/png": "[encoded data removed]",
      "text/plain": [
       "<Figure size 648x648 with 16 Axes>"
      ]
     },
     "metadata": {
      "needs_background": "light"
     },
     "output_type": "display_data"
    }
   ],
   "source": [
    "data_good_spb_center = data_good_spb.query('city_centers_km < 7')\n",
    "pd.plotting.scatter_matrix(data_good_spb_center[['last_price', 'total_area', 'rooms', 'city_centers_km']], figsize=(9,9))\n",
    "plt.show()"
   ]
  },
  {
   "cell_type": "code",
   "execution_count": 46,
   "metadata": {
    "scrolled": false
   },
   "outputs": [
    {
     "data": {
      "text/plain": [
       "last_price           1.000000\n",
       "total_area           0.733038\n",
       "rooms                0.493024\n",
       "city_centers_km     -0.052558\n",
       "publication_day     -0.013472\n",
       "publication_month   -0.024491\n",
       "publication_year    -0.031066\n",
       "Name: last_price, dtype: float64"
      ]
     },
     "metadata": {},
     "output_type": "display_data"
    }
   ],
   "source": [
    "#Смотрим корреляцию между ценой и другими параметрами\n",
    "display(data_good_spb_center.corr()\n",
    "        .loc['last_price', \n",
    "             ['last_price', 'total_area', 'rooms', 'city_centers_km', 'publication_day', 'publication_month', 'publication_year']\n",
    "            ])"
   ]
  },
  {
   "cell_type": "code",
   "execution_count": 47,
   "metadata": {
    "scrolled": false
   },
   "outputs": [
    {
     "data": {
      "text/html": [
       "<div>\n",
       "<style scoped>\n",
       "    .dataframe tbody tr th:only-of-type {\n",
       "        vertical-align: middle;\n",
       "    }\n",
       "\n",
       "    .dataframe tbody tr th {\n",
       "        vertical-align: top;\n",
       "    }\n",
       "\n",
       "    .dataframe thead th {\n",
       "        text-align: right;\n",
       "    }\n",
       "</style>\n",
       "<table border=\"1\" class=\"dataframe\">\n",
       "  <thead>\n",
       "    <tr style=\"text-align: right;\">\n",
       "      <th></th>\n",
       "      <th>last_price</th>\n",
       "    </tr>\n",
       "    <tr>\n",
       "      <th>publication_year</th>\n",
       "      <th></th>\n",
       "    </tr>\n",
       "  </thead>\n",
       "  <tbody>\n",
       "    <tr>\n",
       "      <td>2014</td>\n",
       "      <td>9000000.0</td>\n",
       "    </tr>\n",
       "    <tr>\n",
       "      <td>2015</td>\n",
       "      <td>8589000.0</td>\n",
       "    </tr>\n",
       "    <tr>\n",
       "      <td>2016</td>\n",
       "      <td>8750000.0</td>\n",
       "    </tr>\n",
       "    <tr>\n",
       "      <td>2017</td>\n",
       "      <td>8455000.0</td>\n",
       "    </tr>\n",
       "    <tr>\n",
       "      <td>2018</td>\n",
       "      <td>8300000.0</td>\n",
       "    </tr>\n",
       "    <tr>\n",
       "      <td>2019</td>\n",
       "      <td>7950000.0</td>\n",
       "    </tr>\n",
       "  </tbody>\n",
       "</table>\n",
       "</div>"
      ],
      "text/plain": [
       "                  last_price\n",
       "publication_year            \n",
       "2014               9000000.0\n",
       "2015               8589000.0\n",
       "2016               8750000.0\n",
       "2017               8455000.0\n",
       "2018               8300000.0\n",
       "2019               7950000.0"
      ]
     },
     "metadata": {},
     "output_type": "display_data"
    },
    {
     "data": {
      "text/plain": [
       "<matplotlib.axes._subplots.AxesSubplot at 0x7f81550d2f90>"
      ]
     },
     "execution_count": 47,
     "metadata": {},
     "output_type": "execute_result"
    },
    {
     "data": {
      "image/png": "[encoded data removed]",
      "text/plain": [
       "<Figure size 432x288 with 1 Axes>"
      ]
     },
     "metadata": {
      "needs_background": "light"
     },
     "output_type": "display_data"
    }
   ],
   "source": [
    "display(data_good_spb_center.pivot_table(index='publication_year', values='last_price', aggfunc='median'))\n",
    "data_good_spb_center.pivot_table(index='publication_year', values='last_price', aggfunc='median').plot(kind='bar')"
   ]
  },
  {
   "cell_type": "code",
   "execution_count": 48,
   "metadata": {},
   "outputs": [
    {
     "data": {
      "text/html": [
       "<div>\n",
       "<style scoped>\n",
       "    .dataframe tbody tr th:only-of-type {\n",
       "        vertical-align: middle;\n",
       "    }\n",
       "\n",
       "    .dataframe tbody tr th {\n",
       "        vertical-align: top;\n",
       "    }\n",
       "\n",
       "    .dataframe thead th {\n",
       "        text-align: right;\n",
       "    }\n",
       "</style>\n",
       "<table border=\"1\" class=\"dataframe\">\n",
       "  <thead>\n",
       "    <tr style=\"text-align: right;\">\n",
       "      <th></th>\n",
       "      <th>last_price</th>\n",
       "    </tr>\n",
       "    <tr>\n",
       "      <th>floor_cat</th>\n",
       "      <th></th>\n",
       "    </tr>\n",
       "  </thead>\n",
       "  <tbody>\n",
       "    <tr>\n",
       "      <td>first</td>\n",
       "      <td>6050000.0</td>\n",
       "    </tr>\n",
       "    <tr>\n",
       "      <td>last</td>\n",
       "      <td>8300000.0</td>\n",
       "    </tr>\n",
       "    <tr>\n",
       "      <td>other</td>\n",
       "      <td>8840000.0</td>\n",
       "    </tr>\n",
       "  </tbody>\n",
       "</table>\n",
       "</div>"
      ],
      "text/plain": [
       "           last_price\n",
       "floor_cat            \n",
       "first       6050000.0\n",
       "last        8300000.0\n",
       "other       8840000.0"
      ]
     },
     "metadata": {},
     "output_type": "display_data"
    },
    {
     "data": {
      "text/plain": [
       "<matplotlib.axes._subplots.AxesSubplot at 0x7f815508bc50>"
      ]
     },
     "execution_count": 48,
     "metadata": {},
     "output_type": "execute_result"
    },
    {
     "data": {
      "image/png": "[encoded data removed]",
      "text/plain": [
       "<Figure size 432x288 with 1 Axes>"
      ]
     },
     "metadata": {
      "needs_background": "light"
     },
     "output_type": "display_data"
    }
   ],
   "source": [
    "display(data_good_spb_center.pivot_table(index='floor_cat', values='last_price', aggfunc='median'))\n",
    "data_good_spb_center.pivot_table(index='floor_cat', values='last_price', aggfunc='median').plot(kind='bar')"
   ]
  },
  {
   "cell_type": "markdown",
   "metadata": {},
   "source": [
    "#### Вывод\n",
    "Внутри центральной зоны цена не зависит от расстояния от центра и равняется примерно 10 млн руб. за квартиру.\n",
    "Цена возрастает при увеличении площади квартиры и количества комнат, хотя коэффициент корреляции немного меньше.  \n",
    "<b>Отличия от общей тенденции</b>: \n",
    "- Цена более стабильна в зависимости от года.\n",
    "- Продавать квартиру на первом этаже еще менее выгодно, чем на любом другом этаже."
   ]
  },
  {
   "cell_type": "markdown",
   "metadata": {},
   "source": [
    "## Общий вывод"
   ]
  },
  {
   "cell_type": "markdown",
   "metadata": {},
   "source": [
    "Был анализирован предложенный датасет со стоимостью квартир в Ленинградской области. Проведена предобработка данных: заменены пропуски, выявлены выбросы, после чего были выявлены закономерности.\n",
    "\n",
    "Выявлено, что цена квартиры возрастает при увеличении площади квартиры и количества комнат. Так же влияет этаж квартиры: цена для не первого и не последнего этажа будет выше. Расстояние от центра города, день, месяц и год публикации не влияют на стоимость (Хотя медианная стоиость жилья была и выше в 2014 году).\n",
    "Отличия центральной части Санкт-Петербурга (расстояние менее 7 км от центра) в том, что цена более стабильна в зависимости от года и продавать квартиру на первом этаже еще менее выгодно, чем на любом другом этаже."
   ]
  }
 ],
 "metadata": {
  "ExecuteTimeLog": [
   {
    "duration": 584,
    "start_time": "2022-01-24T18:25:25.344Z"
   },
   {
    "duration": 1832,
    "start_time": "2022-01-24T18:25:25.929Z"
   },
   {
    "duration": -40,
    "start_time": "2022-01-24T18:25:27.805Z"
   },
   {
    "duration": -43,
    "start_time": "2022-01-24T18:25:27.809Z"
   },
   {
    "duration": -44,
    "start_time": "2022-01-24T18:25:27.812Z"
   },
   {
    "duration": -46,
    "start_time": "2022-01-24T18:25:27.815Z"
   },
   {
    "duration": -48,
    "start_time": "2022-01-24T18:25:27.818Z"
   },
   {
    "duration": -50,
    "start_time": "2022-01-24T18:25:27.821Z"
   },
   {
    "duration": -51,
    "start_time": "2022-01-24T18:25:27.824Z"
   },
   {
    "duration": -53,
    "start_time": "2022-01-24T18:25:27.827Z"
   },
   {
    "duration": -55,
    "start_time": "2022-01-24T18:25:27.830Z"
   },
   {
    "duration": -56,
    "start_time": "2022-01-24T18:25:27.833Z"
   },
   {
    "duration": -57,
    "start_time": "2022-01-24T18:25:27.835Z"
   },
   {
    "duration": -59,
    "start_time": "2022-01-24T18:25:27.838Z"
   },
   {
    "duration": -60,
    "start_time": "2022-01-24T18:25:27.841Z"
   },
   {
    "duration": -61,
    "start_time": "2022-01-24T18:25:27.843Z"
   },
   {
    "duration": -63,
    "start_time": "2022-01-24T18:25:27.846Z"
   },
   {
    "duration": -72,
    "start_time": "2022-01-24T18:25:27.856Z"
   },
   {
    "duration": -72,
    "start_time": "2022-01-24T18:25:27.858Z"
   },
   {
    "duration": -74,
    "start_time": "2022-01-24T18:25:27.861Z"
   },
   {
    "duration": -75,
    "start_time": "2022-01-24T18:25:27.863Z"
   },
   {
    "duration": -77,
    "start_time": "2022-01-24T18:25:27.866Z"
   },
   {
    "duration": -77,
    "start_time": "2022-01-24T18:25:27.868Z"
   },
   {
    "duration": -78,
    "start_time": "2022-01-24T18:25:27.870Z"
   },
   {
    "duration": -80,
    "start_time": "2022-01-24T18:25:27.873Z"
   },
   {
    "duration": -81,
    "start_time": "2022-01-24T18:25:27.875Z"
   },
   {
    "duration": -82,
    "start_time": "2022-01-24T18:25:27.878Z"
   },
   {
    "duration": -84,
    "start_time": "2022-01-24T18:25:27.881Z"
   },
   {
    "duration": -85,
    "start_time": "2022-01-24T18:25:27.883Z"
   },
   {
    "duration": -86,
    "start_time": "2022-01-24T18:25:27.885Z"
   },
   {
    "duration": -88,
    "start_time": "2022-01-24T18:25:27.888Z"
   },
   {
    "duration": -89,
    "start_time": "2022-01-24T18:25:27.891Z"
   },
   {
    "duration": -91,
    "start_time": "2022-01-24T18:25:27.894Z"
   },
   {
    "duration": -92,
    "start_time": "2022-01-24T18:25:27.896Z"
   },
   {
    "duration": -94,
    "start_time": "2022-01-24T18:25:27.899Z"
   },
   {
    "duration": -95,
    "start_time": "2022-01-24T18:25:27.901Z"
   },
   {
    "duration": -76,
    "start_time": "2022-01-24T18:25:27.903Z"
   },
   {
    "duration": -78,
    "start_time": "2022-01-24T18:25:27.906Z"
   },
   {
    "duration": -78,
    "start_time": "2022-01-24T18:25:27.908Z"
   },
   {
    "duration": -80,
    "start_time": "2022-01-24T18:25:27.911Z"
   },
   {
    "duration": -80,
    "start_time": "2022-01-24T18:25:27.913Z"
   },
   {
    "duration": -82,
    "start_time": "2022-01-24T18:25:27.916Z"
   },
   {
    "duration": -83,
    "start_time": "2022-01-24T18:25:27.918Z"
   },
   {
    "duration": -84,
    "start_time": "2022-01-24T18:25:27.920Z"
   },
   {
    "duration": -85,
    "start_time": "2022-01-24T18:25:27.923Z"
   },
   {
    "duration": -86,
    "start_time": "2022-01-24T18:25:27.925Z"
   },
   {
    "duration": -87,
    "start_time": "2022-01-24T18:25:27.927Z"
   },
   {
    "duration": 62,
    "start_time": "2022-01-24T18:25:52.632Z"
   },
   {
    "duration": 84,
    "start_time": "2022-01-24T18:26:14.749Z"
   },
   {
    "duration": 296,
    "start_time": "2022-01-24T18:26:14.835Z"
   },
   {
    "duration": 18,
    "start_time": "2022-01-24T18:26:15.133Z"
   },
   {
    "duration": 358,
    "start_time": "2022-01-24T18:26:15.152Z"
   },
   {
    "duration": 6,
    "start_time": "2022-01-24T18:26:15.527Z"
   },
   {
    "duration": 26,
    "start_time": "2022-01-24T18:26:15.535Z"
   },
   {
    "duration": 5,
    "start_time": "2022-01-24T18:26:15.563Z"
   },
   {
    "duration": 58,
    "start_time": "2022-01-24T18:26:15.569Z"
   },
   {
    "duration": 8,
    "start_time": "2022-01-24T18:26:15.630Z"
   },
   {
    "duration": 5,
    "start_time": "2022-01-24T18:26:15.640Z"
   },
   {
    "duration": 9,
    "start_time": "2022-01-24T18:26:15.646Z"
   },
   {
    "duration": 114,
    "start_time": "2022-01-24T18:26:15.656Z"
   },
   {
    "duration": 4,
    "start_time": "2022-01-24T18:26:15.771Z"
   },
   {
    "duration": 14,
    "start_time": "2022-01-24T18:26:15.777Z"
   },
   {
    "duration": 493,
    "start_time": "2022-01-24T18:26:15.792Z"
   },
   {
    "duration": 4,
    "start_time": "2022-01-24T18:26:16.287Z"
   },
   {
    "duration": 6,
    "start_time": "2022-01-24T18:26:16.293Z"
   },
   {
    "duration": 31,
    "start_time": "2022-01-24T18:26:16.300Z"
   },
   {
    "duration": 1081,
    "start_time": "2022-01-24T18:26:16.332Z"
   },
   {
    "duration": 43,
    "start_time": "2022-01-24T18:26:17.414Z"
   },
   {
    "duration": 90,
    "start_time": "2022-01-24T18:26:17.458Z"
   },
   {
    "duration": 565,
    "start_time": "2022-01-24T18:26:17.549Z"
   },
   {
    "duration": 16,
    "start_time": "2022-01-24T18:26:18.116Z"
   },
   {
    "duration": 440,
    "start_time": "2022-01-24T18:26:18.133Z"
   },
   {
    "duration": 1102,
    "start_time": "2022-01-24T18:26:18.574Z"
   },
   {
    "duration": 150,
    "start_time": "2022-01-24T18:26:19.678Z"
   },
   {
    "duration": 11,
    "start_time": "2022-01-24T18:26:19.831Z"
   },
   {
    "duration": 9,
    "start_time": "2022-01-24T18:26:19.844Z"
   },
   {
    "duration": 145,
    "start_time": "2022-01-24T18:26:19.855Z"
   },
   {
    "duration": 8,
    "start_time": "2022-01-24T18:26:20.001Z"
   },
   {
    "duration": 85,
    "start_time": "2022-01-24T18:26:20.010Z"
   },
   {
    "duration": 395,
    "start_time": "2022-01-24T18:26:20.096Z"
   },
   {
    "duration": 3730,
    "start_time": "2022-01-24T18:26:20.493Z"
   },
   {
    "duration": 147,
    "start_time": "2022-01-24T18:26:24.227Z"
   },
   {
    "duration": 234,
    "start_time": "2022-01-24T18:26:24.376Z"
   },
   {
    "duration": 173,
    "start_time": "2022-01-24T18:26:24.612Z"
   },
   {
    "duration": 163,
    "start_time": "2022-01-24T18:26:24.786Z"
   },
   {
    "duration": 59,
    "start_time": "2022-01-24T18:26:24.950Z"
   },
   {
    "duration": 259,
    "start_time": "2022-01-24T18:26:25.010Z"
   },
   {
    "duration": 12,
    "start_time": "2022-01-24T18:26:25.270Z"
   },
   {
    "duration": 169,
    "start_time": "2022-01-24T18:26:25.284Z"
   },
   {
    "duration": 1421,
    "start_time": "2022-01-24T18:26:25.455Z"
   },
   {
    "duration": 11,
    "start_time": "2022-01-24T18:26:26.878Z"
   },
   {
    "duration": 168,
    "start_time": "2022-01-24T18:26:26.890Z"
   },
   {
    "duration": 139,
    "start_time": "2022-01-24T18:26:27.059Z"
   }
  ],
  "kernelspec": {
   "display_name": "Python 3",
   "language": "python",
   "name": "python3"
  },
  "language_info": {
   "codemirror_mode": {
    "name": "ipython",
    "version": 3
   },
   "file_extension": ".py",
   "mimetype": "text/x-python",
   "name": "python",
   "nbconvert_exporter": "python",
   "pygments_lexer": "ipython3",
   "version": "3.8.3"
  },
  "toc": {
   "base_numbering": 1,
   "nav_menu": {},
   "number_sections": true,
   "sideBar": true,
   "skip_h1_title": true,
   "title_cell": "Содержание",
   "title_sidebar": "Contents",
   "toc_cell": true,
   "toc_position": {
    "height": "calc(100% - 180px)",
    "left": "10px",
    "top": "150px",
    "width": "284.484px"
   },
   "toc_section_display": true,
   "toc_window_display": true
  }
 },
 "nbformat": 4,
 "nbformat_minor": 2
}
