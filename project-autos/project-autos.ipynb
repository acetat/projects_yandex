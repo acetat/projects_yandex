{
 "cells": [
  {
   "cell_type": "markdown",
   "metadata": {
    "toc": true
   },
   "source": [
    "<h1>Table of Contents<span class=\"tocSkip\"></span></h1>\n",
    "<div class=\"toc\"><ul class=\"toc-item\"><li><span><a href=\"#Data-processing\" data-toc-modified-id=\"Data-processing-1\"><span class=\"toc-item-num\">1&nbsp;&nbsp;</span>Data processing</a></span><ul class=\"toc-item\"><li><span><a href=\"#Conclusion\" data-toc-modified-id=\"Conclusion-1.1\"><span class=\"toc-item-num\">1.1&nbsp;&nbsp;</span>Conclusion</a></span></li></ul></li><li><span><a href=\"#Models-learning\" data-toc-modified-id=\"Models-learning-2\"><span class=\"toc-item-num\">2&nbsp;&nbsp;</span>Models learning</a></span><ul class=\"toc-item\"><li><span><a href=\"#Ridge\" data-toc-modified-id=\"Ridge-2.1\"><span class=\"toc-item-num\">2.1&nbsp;&nbsp;</span>Ridge</a></span></li><li><span><a href=\"#Gradient-Boosting-(LightGBM)\" data-toc-modified-id=\"Gradient-Boosting-(LightGBM)-2.2\"><span class=\"toc-item-num\">2.2&nbsp;&nbsp;</span>Gradient Boosting (LightGBM)</a></span></li><li><span><a href=\"#CatBoost\" data-toc-modified-id=\"CatBoost-2.3\"><span class=\"toc-item-num\">2.3&nbsp;&nbsp;</span>CatBoost</a></span></li><li><span><a href=\"#Conclusion\" data-toc-modified-id=\"Conclusion-2.4\"><span class=\"toc-item-num\">2.4&nbsp;&nbsp;</span>Conclusion</a></span></li></ul></li><li><span><a href=\"#Models-analysis\" data-toc-modified-id=\"Models-analysis-3\"><span class=\"toc-item-num\">3&nbsp;&nbsp;</span>Models analysis</a></span><ul class=\"toc-item\"><li><span><a href=\"#Conclusion\" data-toc-modified-id=\"Conclusion-3.1\"><span class=\"toc-item-num\">3.1&nbsp;&nbsp;</span>Conclusion</a></span></li></ul></li><li><span><a href=\"#General-conclusion\" data-toc-modified-id=\"General-conclusion-4\"><span class=\"toc-item-num\">4&nbsp;&nbsp;</span>General conclusion</a></span></li></ul></div>"
   ]
  },
  {
   "cell_type": "markdown",
   "metadata": {},
   "source": [
    "# Car price prediction\n",
    "A used car selling site is developing an app to attract new customers. In the app, one can quickly find out the market value of their car. Based on historical data (technical characteristics, equipment, price) of cars, you need to build a model to determine the cost.\n",
    "\n",
    "Important parameters for the customer:\n",
    "\n",
    "- quality of prediction;\n",
    "- prediction speed;\n",
    "- learning time.\n",
    "\n",
    "Features:\n",
    "- DateCrawled - date of downloading the advertisement from the database\n",
    "- VehicleType - type of car body\n",
    "- RegistrationYear — year of car registration\n",
    "- Gearbox - type of gearbox\n",
    "- Power - power (hp)\n",
    "- Model - car model\n",
    "- Kilometer - mileage (km)\n",
    "- RegistrationMonth — month of car registration\n",
    "- FuelType — type of fuel\n",
    "- Brand - car brand\n",
    "- NotRepaired - was the car under repair or not\n",
    "- DateCreated — date of creation of the advertisement\n",
    "- NumberOfPictures - the number of photos of the car\n",
    "- PostalCode - postal code of the owner of the profile (user)\n",
    "- LastSeen - date of last user's activity\n",
    "\n",
    "Target feature\n",
    "- Price - price (EUR)\n",
    "\n",
    "**Plan**:\n",
    "\n",
    "1. Data processing and analysis\n",
    "2. Selection of hyperparameters for the models\n",
    "3. Analysis of learning rate, prediction rate and quality of selected models"
   ]
  },
  {
   "cell_type": "markdown",
   "metadata": {
    "toc": true
   },
   "source": [
    "<h1>Table of Contents<span class=\"tocSkip\"></span></h1>\n",
    "<div class=\"toc\"><ul class=\"toc-item\"><li><span><a href=\"#Data-processing\" data-toc-modified-id=\"Data-processing-1\"><span class=\"toc-item-num\">1&nbsp;&nbsp;</span>Data processing</a></span><ul class=\"toc-item\"><li><span><a href=\"#Conclusion\" data-toc-modified-id=\"Conclusion-1.1\"><span class=\"toc-item-num\">1.1&nbsp;&nbsp;</span>Conclusion</a></span></li></ul></li><li><span><a href=\"#Models-learning\" data-toc-modified-id=\"Models-learning-2\"><span class=\"toc-item-num\">2&nbsp;&nbsp;</span>Models learning</a></span><ul class=\"toc-item\"><li><span><a href=\"#Ridge\" data-toc-modified-id=\"Ridge-2.1\"><span class=\"toc-item-num\">2.1&nbsp;&nbsp;</span>Ridge</a></span></li><li><span><a href=\"#Gradient-Boosting-(LightGBM)\" data-toc-modified-id=\"Gradient-Boosting-(LightGBM)-2.2\"><span class=\"toc-item-num\">2.2&nbsp;&nbsp;</span>Gradient Boosting (LightGBM)</a></span></li><li><span><a href=\"#CatBoost\" data-toc-modified-id=\"CatBoost-2.3\"><span class=\"toc-item-num\">2.3&nbsp;&nbsp;</span>CatBoost</a></span></li><li><span><a href=\"#Conclusion\" data-toc-modified-id=\"Conclusion-2.4\"><span class=\"toc-item-num\">2.4&nbsp;&nbsp;</span>Conclusion</a></span></li></ul></li><li><span><a href=\"#Models-analysis\" data-toc-modified-id=\"Models-analysis-3\"><span class=\"toc-item-num\">3&nbsp;&nbsp;</span>Models analysis</a></span><ul class=\"toc-item\"><li><span><a href=\"#Conclusion\" data-toc-modified-id=\"Conclusion-3.1\"><span class=\"toc-item-num\">3.1&nbsp;&nbsp;</span>Conclusion</a></span></li></ul></li><li><span><a href=\"#General-conclusion\" data-toc-modified-id=\"General-conclusion-4\"><span class=\"toc-item-num\">4&nbsp;&nbsp;</span>General conclusion</a></span></li></ul></div>"
   ]
  },
  {
   "cell_type": "markdown",
   "metadata": {},
   "source": [
    "## Data processing"
   ]
  },
  {
   "cell_type": "code",
   "execution_count": 1051,
   "metadata": {},
   "outputs": [],
   "source": [
    "import pandas as pd\n",
    "import numpy as np\n",
    "import seaborn as sn\n",
    "import time\n",
    "import matplotlib.pyplot as plt\n",
    "\n",
    "from sklearn.model_selection import train_test_split, RandomizedSearchCV\n",
    "from sklearn.metrics import mean_squared_error\n",
    "from scipy.stats import uniform, randint\n",
    "\n",
    "from sklearn.linear_model import Ridge\n",
    "from catboost import CatBoostRegressor\n",
    "import lightgbm as lgb"
   ]
  },
  {
   "cell_type": "code",
   "execution_count": 1052,
   "metadata": {
    "scrolled": true
   },
   "outputs": [
    {
     "data": {
      "text/html": [
       "<div>\n",
       "<style scoped>\n",
       "    .dataframe tbody tr th:only-of-type {\n",
       "        vertical-align: middle;\n",
       "    }\n",
       "\n",
       "    .dataframe tbody tr th {\n",
       "        vertical-align: top;\n",
       "    }\n",
       "\n",
       "    .dataframe thead th {\n",
       "        text-align: right;\n",
       "    }\n",
       "</style>\n",
       "<table border=\"1\" class=\"dataframe\">\n",
       "  <thead>\n",
       "    <tr style=\"text-align: right;\">\n",
       "      <th></th>\n",
       "      <th>DateCrawled</th>\n",
       "      <th>Price</th>\n",
       "      <th>VehicleType</th>\n",
       "      <th>RegistrationYear</th>\n",
       "      <th>Gearbox</th>\n",
       "      <th>Power</th>\n",
       "      <th>Model</th>\n",
       "      <th>Kilometer</th>\n",
       "      <th>RegistrationMonth</th>\n",
       "      <th>FuelType</th>\n",
       "      <th>Brand</th>\n",
       "      <th>NotRepaired</th>\n",
       "      <th>DateCreated</th>\n",
       "      <th>NumberOfPictures</th>\n",
       "      <th>PostalCode</th>\n",
       "      <th>LastSeen</th>\n",
       "    </tr>\n",
       "  </thead>\n",
       "  <tbody>\n",
       "    <tr>\n",
       "      <th>0</th>\n",
       "      <td>2016-03-24 11:52:17</td>\n",
       "      <td>480</td>\n",
       "      <td>NaN</td>\n",
       "      <td>1993</td>\n",
       "      <td>manual</td>\n",
       "      <td>0</td>\n",
       "      <td>golf</td>\n",
       "      <td>150000</td>\n",
       "      <td>0</td>\n",
       "      <td>petrol</td>\n",
       "      <td>volkswagen</td>\n",
       "      <td>NaN</td>\n",
       "      <td>2016-03-24 00:00:00</td>\n",
       "      <td>0</td>\n",
       "      <td>70435</td>\n",
       "      <td>2016-04-07 03:16:57</td>\n",
       "    </tr>\n",
       "    <tr>\n",
       "      <th>1</th>\n",
       "      <td>2016-03-24 10:58:45</td>\n",
       "      <td>18300</td>\n",
       "      <td>coupe</td>\n",
       "      <td>2011</td>\n",
       "      <td>manual</td>\n",
       "      <td>190</td>\n",
       "      <td>NaN</td>\n",
       "      <td>125000</td>\n",
       "      <td>5</td>\n",
       "      <td>gasoline</td>\n",
       "      <td>audi</td>\n",
       "      <td>yes</td>\n",
       "      <td>2016-03-24 00:00:00</td>\n",
       "      <td>0</td>\n",
       "      <td>66954</td>\n",
       "      <td>2016-04-07 01:46:50</td>\n",
       "    </tr>\n",
       "    <tr>\n",
       "      <th>2</th>\n",
       "      <td>2016-03-14 12:52:21</td>\n",
       "      <td>9800</td>\n",
       "      <td>suv</td>\n",
       "      <td>2004</td>\n",
       "      <td>auto</td>\n",
       "      <td>163</td>\n",
       "      <td>grand</td>\n",
       "      <td>125000</td>\n",
       "      <td>8</td>\n",
       "      <td>gasoline</td>\n",
       "      <td>jeep</td>\n",
       "      <td>NaN</td>\n",
       "      <td>2016-03-14 00:00:00</td>\n",
       "      <td>0</td>\n",
       "      <td>90480</td>\n",
       "      <td>2016-04-05 12:47:46</td>\n",
       "    </tr>\n",
       "    <tr>\n",
       "      <th>3</th>\n",
       "      <td>2016-03-17 16:54:04</td>\n",
       "      <td>1500</td>\n",
       "      <td>small</td>\n",
       "      <td>2001</td>\n",
       "      <td>manual</td>\n",
       "      <td>75</td>\n",
       "      <td>golf</td>\n",
       "      <td>150000</td>\n",
       "      <td>6</td>\n",
       "      <td>petrol</td>\n",
       "      <td>volkswagen</td>\n",
       "      <td>no</td>\n",
       "      <td>2016-03-17 00:00:00</td>\n",
       "      <td>0</td>\n",
       "      <td>91074</td>\n",
       "      <td>2016-03-17 17:40:17</td>\n",
       "    </tr>\n",
       "    <tr>\n",
       "      <th>4</th>\n",
       "      <td>2016-03-31 17:25:20</td>\n",
       "      <td>3600</td>\n",
       "      <td>small</td>\n",
       "      <td>2008</td>\n",
       "      <td>manual</td>\n",
       "      <td>69</td>\n",
       "      <td>fabia</td>\n",
       "      <td>90000</td>\n",
       "      <td>7</td>\n",
       "      <td>gasoline</td>\n",
       "      <td>skoda</td>\n",
       "      <td>no</td>\n",
       "      <td>2016-03-31 00:00:00</td>\n",
       "      <td>0</td>\n",
       "      <td>60437</td>\n",
       "      <td>2016-04-06 10:17:21</td>\n",
       "    </tr>\n",
       "  </tbody>\n",
       "</table>\n",
       "</div>"
      ],
      "text/plain": [
       "           DateCrawled  Price VehicleType  RegistrationYear Gearbox  Power  \\\n",
       "0  2016-03-24 11:52:17    480         NaN              1993  manual      0   \n",
       "1  2016-03-24 10:58:45  18300       coupe              2011  manual    190   \n",
       "2  2016-03-14 12:52:21   9800         suv              2004    auto    163   \n",
       "3  2016-03-17 16:54:04   1500       small              2001  manual     75   \n",
       "4  2016-03-31 17:25:20   3600       small              2008  manual     69   \n",
       "\n",
       "   Model  Kilometer  RegistrationMonth  FuelType       Brand NotRepaired  \\\n",
       "0   golf     150000                  0    petrol  volkswagen         NaN   \n",
       "1    NaN     125000                  5  gasoline        audi         yes   \n",
       "2  grand     125000                  8  gasoline        jeep         NaN   \n",
       "3   golf     150000                  6    petrol  volkswagen          no   \n",
       "4  fabia      90000                  7  gasoline       skoda          no   \n",
       "\n",
       "           DateCreated  NumberOfPictures  PostalCode             LastSeen  \n",
       "0  2016-03-24 00:00:00                 0       70435  2016-04-07 03:16:57  \n",
       "1  2016-03-24 00:00:00                 0       66954  2016-04-07 01:46:50  \n",
       "2  2016-03-14 00:00:00                 0       90480  2016-04-05 12:47:46  \n",
       "3  2016-03-17 00:00:00                 0       91074  2016-03-17 17:40:17  \n",
       "4  2016-03-31 00:00:00                 0       60437  2016-04-06 10:17:21  "
      ]
     },
     "execution_count": 1052,
     "metadata": {},
     "output_type": "execute_result"
    }
   ],
   "source": [
    "df = pd.read_csv('datasets/autos.csv') \n",
    "df.head()"
   ]
  },
  {
   "cell_type": "code",
   "execution_count": 1053,
   "metadata": {},
   "outputs": [],
   "source": [
    "#name of columns into the snake case \n",
    "df.columns = ['date_crawled',  'price', 'vehicle_type', 'registration_year',  'gear_box',  \n",
    "              'power', 'model', 'kilometer', 'registration_month',  'fuel_type',  'brand',\n",
    "              'not_repaired',  'date_created',  'number_of_pictures',  'postal_code',  'last_seen'] "
   ]
  },
  {
   "cell_type": "markdown",
   "metadata": {},
   "source": [
    "date_crawled and last_seen are not important features of an **advertisement**, we can delete those columns."
   ]
  },
  {
   "cell_type": "code",
   "execution_count": 1054,
   "metadata": {},
   "outputs": [],
   "source": [
    "df.drop(['date_crawled', 'last_seen'], inplace=True, axis=1)"
   ]
  },
  {
   "cell_type": "code",
   "execution_count": 1055,
   "metadata": {},
   "outputs": [
    {
     "data": {
      "text/plain": [
       "10194"
      ]
     },
     "execution_count": 1055,
     "metadata": {},
     "output_type": "execute_result"
    }
   ],
   "source": [
    "#check the duplicates\n",
    "df.duplicated().sum()"
   ]
  },
  {
   "cell_type": "code",
   "execution_count": 1056,
   "metadata": {
    "scrolled": false
   },
   "outputs": [
    {
     "name": "stdout",
     "output_type": "stream",
     "text": [
      "<class 'pandas.core.frame.DataFrame'>\n",
      "RangeIndex: 344175 entries, 0 to 344174\n",
      "Data columns (total 14 columns):\n",
      " #   Column              Non-Null Count   Dtype \n",
      "---  ------              --------------   ----- \n",
      " 0   price               344175 non-null  int64 \n",
      " 1   vehicle_type        307223 non-null  object\n",
      " 2   registration_year   344175 non-null  int64 \n",
      " 3   gear_box            324726 non-null  object\n",
      " 4   power               344175 non-null  int64 \n",
      " 5   model               324754 non-null  object\n",
      " 6   kilometer           344175 non-null  int64 \n",
      " 7   registration_month  344175 non-null  int64 \n",
      " 8   fuel_type           311729 non-null  object\n",
      " 9   brand               344175 non-null  object\n",
      " 10  not_repaired        274247 non-null  object\n",
      " 11  date_created        344175 non-null  object\n",
      " 12  number_of_pictures  344175 non-null  int64 \n",
      " 13  postal_code         344175 non-null  int64 \n",
      "dtypes: int64(7), object(7)\n",
      "memory usage: 36.8+ MB\n"
     ]
    }
   ],
   "source": [
    "df.drop_duplicates(inplace=True)\n",
    "df.reset_index(inplace=True, drop=True)\n",
    "df.info()"
   ]
  },
  {
   "cell_type": "code",
   "execution_count": 1057,
   "metadata": {},
   "outputs": [
    {
     "data": {
      "text/plain": [
       "0"
      ]
     },
     "execution_count": 1057,
     "metadata": {},
     "output_type": "execute_result"
    }
   ],
   "source": [
    "df.duplicated().sum()"
   ]
  },
  {
   "cell_type": "markdown",
   "metadata": {},
   "source": [
    "date_created and postal_code are not important features of a **vehicle**, we can delete those columns."
   ]
  },
  {
   "cell_type": "code",
   "execution_count": 1058,
   "metadata": {},
   "outputs": [],
   "source": [
    "df.drop(['date_created', 'postal_code'], inplace=True, axis=1)"
   ]
  },
  {
   "cell_type": "markdown",
   "metadata": {},
   "source": [
    "replacing NaN in **not_repaired** with no and making it *int*"
   ]
  },
  {
   "cell_type": "code",
   "execution_count": 1059,
   "metadata": {
    "scrolled": true
   },
   "outputs": [
    {
     "data": {
      "text/plain": [
       "no     238920\n",
       "NaN     69928\n",
       "yes     35327\n",
       "Name: not_repaired, dtype: int64"
      ]
     },
     "execution_count": 1059,
     "metadata": {},
     "output_type": "execute_result"
    }
   ],
   "source": [
    "df.not_repaired.value_counts(dropna=False)"
   ]
  },
  {
   "cell_type": "code",
   "execution_count": 1066,
   "metadata": {
    "scrolled": true
   },
   "outputs": [
    {
     "name": "stdout",
     "output_type": "stream",
     "text": [
      "<class 'pandas.core.frame.DataFrame'>\n",
      "RangeIndex: 344175 entries, 0 to 344174\n",
      "Data columns (total 12 columns):\n",
      " #   Column              Non-Null Count   Dtype \n",
      "---  ------              --------------   ----- \n",
      " 0   price               344175 non-null  int64 \n",
      " 1   vehicle_type        307223 non-null  object\n",
      " 2   registration_year   344175 non-null  int64 \n",
      " 3   gear_box            324726 non-null  object\n",
      " 4   power               344175 non-null  int64 \n",
      " 5   model               324754 non-null  object\n",
      " 6   kilometer           344175 non-null  int64 \n",
      " 7   registration_month  344175 non-null  int64 \n",
      " 8   fuel_type           311729 non-null  object\n",
      " 9   brand               344175 non-null  object\n",
      " 10  not_repaired        344175 non-null  int32 \n",
      " 11  number_of_pictures  344175 non-null  int64 \n",
      "dtypes: int32(1), int64(6), object(5)\n",
      "memory usage: 30.2+ MB\n"
     ]
    }
   ],
   "source": [
    "df.not_repaired.fillna('no', inplace=True)\n",
    "df.not_repaired.replace({'no':0, 'yes':1}, inplace=True)\n",
    "df.not_repaired = df.not_repaired.astype('int')\n",
    "df.info()"
   ]
  },
  {
   "cell_type": "code",
   "execution_count": 1068,
   "metadata": {},
   "outputs": [
    {
     "data": {
      "text/html": [
       "<div>\n",
       "<style scoped>\n",
       "    .dataframe tbody tr th:only-of-type {\n",
       "        vertical-align: middle;\n",
       "    }\n",
       "\n",
       "    .dataframe tbody tr th {\n",
       "        vertical-align: top;\n",
       "    }\n",
       "\n",
       "    .dataframe thead th {\n",
       "        text-align: right;\n",
       "    }\n",
       "</style>\n",
       "<table border=\"1\" class=\"dataframe\">\n",
       "  <thead>\n",
       "    <tr style=\"text-align: right;\">\n",
       "      <th></th>\n",
       "      <th>price</th>\n",
       "      <th>vehicle_type</th>\n",
       "      <th>registration_year</th>\n",
       "      <th>gear_box</th>\n",
       "      <th>power</th>\n",
       "      <th>model</th>\n",
       "      <th>kilometer</th>\n",
       "      <th>registration_month</th>\n",
       "      <th>fuel_type</th>\n",
       "      <th>brand</th>\n",
       "      <th>not_repaired</th>\n",
       "      <th>number_of_pictures</th>\n",
       "    </tr>\n",
       "  </thead>\n",
       "  <tbody>\n",
       "    <tr>\n",
       "      <th>count</th>\n",
       "      <td>344175.000000</td>\n",
       "      <td>307223</td>\n",
       "      <td>344175.000000</td>\n",
       "      <td>324726</td>\n",
       "      <td>344175.000000</td>\n",
       "      <td>324754</td>\n",
       "      <td>344175.000000</td>\n",
       "      <td>344175.000000</td>\n",
       "      <td>311729</td>\n",
       "      <td>344175</td>\n",
       "      <td>344175.000000</td>\n",
       "      <td>344175.0</td>\n",
       "    </tr>\n",
       "    <tr>\n",
       "      <th>unique</th>\n",
       "      <td>NaN</td>\n",
       "      <td>8</td>\n",
       "      <td>NaN</td>\n",
       "      <td>2</td>\n",
       "      <td>NaN</td>\n",
       "      <td>250</td>\n",
       "      <td>NaN</td>\n",
       "      <td>NaN</td>\n",
       "      <td>7</td>\n",
       "      <td>40</td>\n",
       "      <td>NaN</td>\n",
       "      <td>NaN</td>\n",
       "    </tr>\n",
       "    <tr>\n",
       "      <th>top</th>\n",
       "      <td>NaN</td>\n",
       "      <td>sedan</td>\n",
       "      <td>NaN</td>\n",
       "      <td>manual</td>\n",
       "      <td>NaN</td>\n",
       "      <td>golf</td>\n",
       "      <td>NaN</td>\n",
       "      <td>NaN</td>\n",
       "      <td>petrol</td>\n",
       "      <td>volkswagen</td>\n",
       "      <td>NaN</td>\n",
       "      <td>NaN</td>\n",
       "    </tr>\n",
       "    <tr>\n",
       "      <th>freq</th>\n",
       "      <td>NaN</td>\n",
       "      <td>88618</td>\n",
       "      <td>NaN</td>\n",
       "      <td>260508</td>\n",
       "      <td>NaN</td>\n",
       "      <td>28321</td>\n",
       "      <td>NaN</td>\n",
       "      <td>NaN</td>\n",
       "      <td>210087</td>\n",
       "      <td>74667</td>\n",
       "      <td>NaN</td>\n",
       "      <td>NaN</td>\n",
       "    </tr>\n",
       "    <tr>\n",
       "      <th>mean</th>\n",
       "      <td>4395.893249</td>\n",
       "      <td>NaN</td>\n",
       "      <td>2004.223578</td>\n",
       "      <td>NaN</td>\n",
       "      <td>109.904886</td>\n",
       "      <td>NaN</td>\n",
       "      <td>128256.744389</td>\n",
       "      <td>5.704525</td>\n",
       "      <td>NaN</td>\n",
       "      <td>NaN</td>\n",
       "      <td>0.102643</td>\n",
       "      <td>0.0</td>\n",
       "    </tr>\n",
       "    <tr>\n",
       "      <th>std</th>\n",
       "      <td>4506.888598</td>\n",
       "      <td>NaN</td>\n",
       "      <td>90.906705</td>\n",
       "      <td>NaN</td>\n",
       "      <td>191.468515</td>\n",
       "      <td>NaN</td>\n",
       "      <td>37907.597348</td>\n",
       "      <td>3.729554</td>\n",
       "      <td>NaN</td>\n",
       "      <td>NaN</td>\n",
       "      <td>0.303492</td>\n",
       "      <td>0.0</td>\n",
       "    </tr>\n",
       "    <tr>\n",
       "      <th>min</th>\n",
       "      <td>0.000000</td>\n",
       "      <td>NaN</td>\n",
       "      <td>1000.000000</td>\n",
       "      <td>NaN</td>\n",
       "      <td>0.000000</td>\n",
       "      <td>NaN</td>\n",
       "      <td>5000.000000</td>\n",
       "      <td>0.000000</td>\n",
       "      <td>NaN</td>\n",
       "      <td>NaN</td>\n",
       "      <td>0.000000</td>\n",
       "      <td>0.0</td>\n",
       "    </tr>\n",
       "    <tr>\n",
       "      <th>25%</th>\n",
       "      <td>1000.000000</td>\n",
       "      <td>NaN</td>\n",
       "      <td>1999.000000</td>\n",
       "      <td>NaN</td>\n",
       "      <td>68.000000</td>\n",
       "      <td>NaN</td>\n",
       "      <td>125000.000000</td>\n",
       "      <td>3.000000</td>\n",
       "      <td>NaN</td>\n",
       "      <td>NaN</td>\n",
       "      <td>0.000000</td>\n",
       "      <td>0.0</td>\n",
       "    </tr>\n",
       "    <tr>\n",
       "      <th>50%</th>\n",
       "      <td>2700.000000</td>\n",
       "      <td>NaN</td>\n",
       "      <td>2003.000000</td>\n",
       "      <td>NaN</td>\n",
       "      <td>105.000000</td>\n",
       "      <td>NaN</td>\n",
       "      <td>150000.000000</td>\n",
       "      <td>6.000000</td>\n",
       "      <td>NaN</td>\n",
       "      <td>NaN</td>\n",
       "      <td>0.000000</td>\n",
       "      <td>0.0</td>\n",
       "    </tr>\n",
       "    <tr>\n",
       "      <th>75%</th>\n",
       "      <td>6300.000000</td>\n",
       "      <td>NaN</td>\n",
       "      <td>2008.000000</td>\n",
       "      <td>NaN</td>\n",
       "      <td>141.000000</td>\n",
       "      <td>NaN</td>\n",
       "      <td>150000.000000</td>\n",
       "      <td>9.000000</td>\n",
       "      <td>NaN</td>\n",
       "      <td>NaN</td>\n",
       "      <td>0.000000</td>\n",
       "      <td>0.0</td>\n",
       "    </tr>\n",
       "    <tr>\n",
       "      <th>max</th>\n",
       "      <td>20000.000000</td>\n",
       "      <td>NaN</td>\n",
       "      <td>9999.000000</td>\n",
       "      <td>NaN</td>\n",
       "      <td>20000.000000</td>\n",
       "      <td>NaN</td>\n",
       "      <td>150000.000000</td>\n",
       "      <td>12.000000</td>\n",
       "      <td>NaN</td>\n",
       "      <td>NaN</td>\n",
       "      <td>1.000000</td>\n",
       "      <td>0.0</td>\n",
       "    </tr>\n",
       "  </tbody>\n",
       "</table>\n",
       "</div>"
      ],
      "text/plain": [
       "                price vehicle_type  registration_year gear_box          power  \\\n",
       "count   344175.000000       307223      344175.000000   324726  344175.000000   \n",
       "unique            NaN            8                NaN        2            NaN   \n",
       "top               NaN        sedan                NaN   manual            NaN   \n",
       "freq              NaN        88618                NaN   260508            NaN   \n",
       "mean      4395.893249          NaN        2004.223578      NaN     109.904886   \n",
       "std       4506.888598          NaN          90.906705      NaN     191.468515   \n",
       "min          0.000000          NaN        1000.000000      NaN       0.000000   \n",
       "25%       1000.000000          NaN        1999.000000      NaN      68.000000   \n",
       "50%       2700.000000          NaN        2003.000000      NaN     105.000000   \n",
       "75%       6300.000000          NaN        2008.000000      NaN     141.000000   \n",
       "max      20000.000000          NaN        9999.000000      NaN   20000.000000   \n",
       "\n",
       "         model      kilometer  registration_month fuel_type       brand  \\\n",
       "count   324754  344175.000000       344175.000000    311729      344175   \n",
       "unique     250            NaN                 NaN         7          40   \n",
       "top       golf            NaN                 NaN    petrol  volkswagen   \n",
       "freq     28321            NaN                 NaN    210087       74667   \n",
       "mean       NaN  128256.744389            5.704525       NaN         NaN   \n",
       "std        NaN   37907.597348            3.729554       NaN         NaN   \n",
       "min        NaN    5000.000000            0.000000       NaN         NaN   \n",
       "25%        NaN  125000.000000            3.000000       NaN         NaN   \n",
       "50%        NaN  150000.000000            6.000000       NaN         NaN   \n",
       "75%        NaN  150000.000000            9.000000       NaN         NaN   \n",
       "max        NaN  150000.000000           12.000000       NaN         NaN   \n",
       "\n",
       "         not_repaired  number_of_pictures  \n",
       "count   344175.000000            344175.0  \n",
       "unique            NaN                 NaN  \n",
       "top               NaN                 NaN  \n",
       "freq              NaN                 NaN  \n",
       "mean         0.102643                 0.0  \n",
       "std          0.303492                 0.0  \n",
       "min          0.000000                 0.0  \n",
       "25%          0.000000                 0.0  \n",
       "50%          0.000000                 0.0  \n",
       "75%          0.000000                 0.0  \n",
       "max          1.000000                 0.0  "
      ]
     },
     "execution_count": 1068,
     "metadata": {},
     "output_type": "execute_result"
    }
   ],
   "source": [
    "df.describe(include='all')"
   ]
  },
  {
   "cell_type": "code",
   "execution_count": 1069,
   "metadata": {
    "scrolled": false
   },
   "outputs": [
    {
     "data": {
      "image/png": "[encoded data removed]",
      "text/plain": [
       "<Figure size 432x288 with 1 Axes>"
      ]
     },
     "metadata": {
      "needs_background": "light"
     },
     "output_type": "display_data"
    },
    {
     "data": {
      "image/png": "[encoded data removed]",
      "text/plain": [
       "<Figure size 432x288 with 1 Axes>"
      ]
     },
     "metadata": {
      "needs_background": "light"
     },
     "output_type": "display_data"
    }
   ],
   "source": [
    "df['registration_year'].hist(bins=100, log=True)\n",
    "plt.title('registration year distribution')\n",
    "plt.show()\n",
    "\n",
    "df['power'].hist(bins=100, log=True)\n",
    "plt.title('power distribution')\n",
    "plt.show()"
   ]
  },
  {
   "cell_type": "markdown",
   "metadata": {},
   "source": [
    "Outliers in *registration_year* should be removed. Let's limit it by 1910-2016 (2016 is the year of data crawling, see below)\n",
    "\n",
    "Outliers in *power* should be removed. Let's limit it by 2000 ([link](https://en.wikipedia.org/wiki/List_of_production_cars_by_power_output))"
   ]
  },
  {
   "cell_type": "code",
   "execution_count": 1071,
   "metadata": {},
   "outputs": [
    {
     "data": {
      "text/plain": [
       "329497    2016-03-05 14:06:22\n",
       "220583    2016-03-05 14:06:23\n",
       "176823    2016-03-05 14:06:24\n",
       "99885     2016-03-05 14:06:24\n",
       "324763    2016-03-05 14:06:24\n",
       "                 ...         \n",
       "204218    2016-04-07 14:36:53\n",
       "53739     2016-04-07 14:36:54\n",
       "301030    2016-04-07 14:36:55\n",
       "339649    2016-04-07 14:36:56\n",
       "90713     2016-04-07 14:36:58\n",
       "Name: DateCrawled, Length: 354369, dtype: object"
      ]
     },
     "execution_count": 1071,
     "metadata": {},
     "output_type": "execute_result"
    }
   ],
   "source": [
    "df2 = pd.read_csv('datasets/autos.csv') \n",
    "df2['DateCrawled'].sort_values()"
   ]
  },
  {
   "cell_type": "code",
   "execution_count": 1072,
   "metadata": {},
   "outputs": [
    {
     "name": "stdout",
     "output_type": "stream",
     "text": [
      "<class 'pandas.core.frame.DataFrame'>\n",
      "Int64Index: 329722 entries, 0 to 344174\n",
      "Data columns (total 12 columns):\n",
      " #   Column              Non-Null Count   Dtype \n",
      "---  ------              --------------   ----- \n",
      " 0   price               329722 non-null  int64 \n",
      " 1   vehicle_type        307103 non-null  object\n",
      " 2   registration_year   329722 non-null  int64 \n",
      " 3   gear_box            312169 non-null  object\n",
      " 4   power               329722 non-null  int64 \n",
      " 5   model               312360 non-null  object\n",
      " 6   kilometer           329722 non-null  int64 \n",
      " 7   registration_month  329722 non-null  int64 \n",
      " 8   fuel_type           302856 non-null  object\n",
      " 9   brand               329722 non-null  object\n",
      " 10  not_repaired        329722 non-null  int32 \n",
      " 11  number_of_pictures  329722 non-null  int64 \n",
      "dtypes: int32(1), int64(6), object(5)\n",
      "memory usage: 31.4+ MB\n"
     ]
    }
   ],
   "source": [
    "df = df.query('1910<= registration_year <=2016 ')\n",
    "df = df.query('power <=2000 ')\n",
    "df.info()"
   ]
  },
  {
   "cell_type": "markdown",
   "metadata": {},
   "source": [
    "Price checked, no outliers:"
   ]
  },
  {
   "cell_type": "code",
   "execution_count": 1073,
   "metadata": {
    "scrolled": false
   },
   "outputs": [
    {
     "data": {
      "image/png": "[encoded data removed]",
      "text/plain": [
       "<Figure size 432x288 with 1 Axes>"
      ]
     },
     "metadata": {
      "needs_background": "light"
     },
     "output_type": "display_data"
    }
   ],
   "source": [
    "df.boxplot([\"price\"])\n",
    "plt.show()"
   ]
  },
  {
   "cell_type": "markdown",
   "metadata": {},
   "source": [
    "Let's check registration_month coulumn:"
   ]
  },
  {
   "cell_type": "markdown",
   "metadata": {},
   "source": [
    "Removing **number_of_pictures** column:"
   ]
  },
  {
   "cell_type": "code",
   "execution_count": 1078,
   "metadata": {},
   "outputs": [],
   "source": [
    "df.drop(['number_of_pictures'], inplace=True, axis=1)"
   ]
  },
  {
   "cell_type": "code",
   "execution_count": 1079,
   "metadata": {},
   "outputs": [],
   "source": [
    "#filling missing model, vehicle_type, fuel_type,gear_box according to the most frequent values\n",
    "\n",
    "df.model = df.groupby(['brand', 'registration_year'])['model'].transform(lambda x: \n",
    "                                                                         x.fillna((x.mode()[0] if not x.mode().empty else \"Unknown\")))\n",
    "df.vehicle_type = df.groupby(['brand', 'model'])['vehicle_type'].transform(lambda x: \n",
    "                                                                         x.fillna((x.mode()[0] if not x.mode().empty else \"Unknown\")))\n",
    "df.fuel_type = df.groupby(['brand', 'model'])['fuel_type'].transform(lambda x: \n",
    "                                                                         x.fillna((x.mode()[0] if not x.mode().empty else \"Unknown\")))\n",
    "df.gear_box = df.groupby(['brand', 'model'])['gear_box'].transform(lambda x: \n",
    "                                                                         x.fillna((x.mode()[0] if not x.mode().empty else \"Unknown\")))"
   ]
  },
  {
   "cell_type": "code",
   "execution_count": 1080,
   "metadata": {
    "scrolled": true
   },
   "outputs": [
    {
     "name": "stdout",
     "output_type": "stream",
     "text": [
      "<class 'pandas.core.frame.DataFrame'>\n",
      "Int64Index: 329722 entries, 0 to 344174\n",
      "Data columns (total 11 columns):\n",
      " #   Column              Non-Null Count   Dtype \n",
      "---  ------              --------------   ----- \n",
      " 0   price               329722 non-null  int64 \n",
      " 1   vehicle_type        329719 non-null  object\n",
      " 2   registration_year   329722 non-null  int64 \n",
      " 3   gear_box            329718 non-null  object\n",
      " 4   power               329722 non-null  int64 \n",
      " 5   model               326540 non-null  object\n",
      " 6   kilometer           329722 non-null  int64 \n",
      " 7   registration_month  329722 non-null  int64 \n",
      " 8   fuel_type           329720 non-null  object\n",
      " 9   brand               329722 non-null  object\n",
      " 10  not_repaired        329722 non-null  int32 \n",
      "dtypes: int32(1), int64(5), object(5)\n",
      "memory usage: 28.9+ MB\n"
     ]
    }
   ],
   "source": [
    "df = df.replace('Unknown', np.nan)\n",
    "df.info()"
   ]
  },
  {
   "cell_type": "markdown",
   "metadata": {},
   "source": [
    "1% of data is nan, we can drop it"
   ]
  },
  {
   "cell_type": "code",
   "execution_count": 1081,
   "metadata": {},
   "outputs": [
    {
     "name": "stdout",
     "output_type": "stream",
     "text": [
      "<class 'pandas.core.frame.DataFrame'>\n",
      "Int64Index: 326540 entries, 0 to 344174\n",
      "Data columns (total 11 columns):\n",
      " #   Column              Non-Null Count   Dtype \n",
      "---  ------              --------------   ----- \n",
      " 0   price               326540 non-null  int64 \n",
      " 1   vehicle_type        326540 non-null  object\n",
      " 2   registration_year   326540 non-null  int64 \n",
      " 3   gear_box            326540 non-null  object\n",
      " 4   power               326540 non-null  int64 \n",
      " 5   model               326540 non-null  object\n",
      " 6   kilometer           326540 non-null  int64 \n",
      " 7   registration_month  326540 non-null  int64 \n",
      " 8   fuel_type           326540 non-null  object\n",
      " 9   brand               326540 non-null  object\n",
      " 10  not_repaired        326540 non-null  int32 \n",
      "dtypes: int32(1), int64(5), object(5)\n",
      "memory usage: 28.6+ MB\n"
     ]
    }
   ],
   "source": [
    "df = df.dropna()\n",
    "df.info()"
   ]
  },
  {
   "cell_type": "code",
   "execution_count": 1082,
   "metadata": {
    "scrolled": false
   },
   "outputs": [
    {
     "name": "stdout",
     "output_type": "stream",
     "text": [
      "Correlation matrix\n"
     ]
    },
    {
     "data": {
      "image/png": "[encoded data removed]",
      "text/plain": [
       "<Figure size 432x288 with 2 Axes>"
      ]
     },
     "metadata": {
      "needs_background": "light"
     },
     "output_type": "display_data"
    }
   ],
   "source": [
    "print('Correlation matrix')\n",
    "sn.heatmap(df.corr(), annot=True, center=0)\n",
    "plt.show()"
   ]
  },
  {
   "cell_type": "markdown",
   "metadata": {},
   "source": [
    "No co-dependent features"
   ]
  },
  {
   "cell_type": "markdown",
   "metadata": {},
   "source": [
    "### Conclusion\n",
    "We studied the dataset with data on car sales advertisements. Gaps and duplicates are processed, outliers are removed.\n",
    "Columns **date_crawled, last_seen, date_created, postal_code** removed as uninformative."
   ]
  },
  {
   "cell_type": "markdown",
   "metadata": {},
   "source": [
    "## Models learning"
   ]
  },
  {
   "cell_type": "code",
   "execution_count": 1083,
   "metadata": {},
   "outputs": [],
   "source": [
    "categorical = ['vehicle_type', 'gear_box', 'model', 'fuel_type', 'brand']\n",
    "\n",
    "target = df['price']\n",
    "\n",
    "features_encoded = pd.get_dummies(df.drop(['price'], axis=1))\n",
    "features = df.drop(['price'], axis=1).copy()\n",
    "features[categorical] = features[categorical].astype('category')  "
   ]
  },
  {
   "cell_type": "code",
   "execution_count": 1084,
   "metadata": {},
   "outputs": [
    {
     "name": "stdout",
     "output_type": "stream",
     "text": [
      "(244905, 311)\n",
      "(244905,)\n",
      "(81635, 311)\n",
      "(81635,)\n"
     ]
    }
   ],
   "source": [
    "#splitting the datasets\n",
    "X_enc_train, X_enc_valid, y_train, y_valid = train_test_split(features_encoded, target, test_size=.25, random_state=25)\n",
    "\n",
    "X_train, X_valid, y_train, y_valid = train_test_split(features, target, test_size=.25, random_state=25)\n",
    "\n",
    "for i in [X_enc_train, y_train, X_enc_valid, y_valid]:\n",
    "    print(i.shape)"
   ]
  },
  {
   "cell_type": "markdown",
   "metadata": {},
   "source": [
    "### Ridge"
   ]
  },
  {
   "cell_type": "code",
   "execution_count": 1085,
   "metadata": {},
   "outputs": [],
   "source": [
    "model = Ridge()"
   ]
  },
  {
   "cell_type": "code",
   "execution_count": 1086,
   "metadata": {},
   "outputs": [
    {
     "name": "stdout",
     "output_type": "stream",
     "text": [
      "{'alpha': 1.5428063975838402}\n",
      "RMSE: 2852.1698658511027\n",
      "Wall time: 42.9 s\n"
     ]
    }
   ],
   "source": [
    "%%time\n",
    "distributions = dict(alpha=uniform(loc=0, scale=20))\n",
    "reg = RandomizedSearchCV(model, distributions, random_state=25, scoring='neg_root_mean_squared_error', cv=2, n_iter=50, n_jobs=7)\n",
    "search = reg.fit(X_enc_train, y_train)\n",
    "\n",
    "print(search.best_params_)\n",
    "print('RMSE:', -search.best_score_)"
   ]
  },
  {
   "cell_type": "markdown",
   "metadata": {},
   "source": [
    "### Gradient Boosting (LightGBM)\n",
    "\n",
    "Let's check how fast LightGBM works depending on whether feature encoding was initially performed. We use the default hyperparameter values."
   ]
  },
  {
   "cell_type": "code",
   "execution_count": 1087,
   "metadata": {},
   "outputs": [],
   "source": [
    "model = lgb.LGBMRegressor(random_state=25)\n",
    "callbacks = [lgb.log_evaluation(period=0)]"
   ]
  },
  {
   "cell_type": "code",
   "execution_count": 1105,
   "metadata": {
    "scrolled": false
   },
   "outputs": [
    {
     "name": "stdout",
     "output_type": "stream",
     "text": [
      "Best rmse:\n",
      " OrderedDict([('rmse', 1783.254827161943)])\n",
      "Time spent, s: 1.95\n"
     ]
    }
   ],
   "source": [
    "starttime = time.time()\n",
    "\n",
    "model.fit(X_enc_train, y_train, eval_set=(X_enc_valid, y_valid), eval_metric='rmse', callbacks= callbacks)\n",
    "\n",
    "print('Best rmse:\\n', model.best_score_['valid_0'])\n",
    "print(f\"Time spent, s:\", round(time.time() - starttime, 2))"
   ]
  },
  {
   "cell_type": "code",
   "execution_count": 1106,
   "metadata": {
    "scrolled": true
   },
   "outputs": [
    {
     "name": "stderr",
     "output_type": "stream",
     "text": [
      "C:\\ProgramData\\Anaconda3\\lib\\site-packages\\lightgbm\\basic.py:1780: UserWarning: Overriding the parameters from Reference Dataset.\n",
      "  _log_warning('Overriding the parameters from Reference Dataset.')\n",
      "C:\\ProgramData\\Anaconda3\\lib\\site-packages\\lightgbm\\basic.py:1513: UserWarning: categorical_column in param dict is overridden.\n",
      "  _log_warning(f'{cat_alias} in param dict is overridden.')\n"
     ]
    },
    {
     "name": "stdout",
     "output_type": "stream",
     "text": [
      "Best rmse:\n",
      " OrderedDict([('rmse', 1726.2230714831235)])\n",
      "Time spent, s: 0.62\n"
     ]
    }
   ],
   "source": [
    "starttime = time.time()\n",
    "\n",
    "model.fit(X_train, y_train, categorical_feature='auto', eval_set=(X_valid, y_valid), eval_metric='rmse',  callbacks= callbacks)\n",
    "\n",
    "print('Best rmse:\\n', model.best_score_['valid_0'])\n",
    "print(f\"Time spent, s:\", round(time.time() - starttime, 2))"
   ]
  },
  {
   "cell_type": "markdown",
   "metadata": {},
   "source": [
    "LightGBM with uncoded categorical features works three times faster and gives better quality. We will use it to select parameters."
   ]
  },
  {
   "cell_type": "code",
   "execution_count": 1111,
   "metadata": {
    "scrolled": true
   },
   "outputs": [
    {
     "name": "stderr",
     "output_type": "stream",
     "text": [
      "C:\\ProgramData\\Anaconda3\\lib\\site-packages\\lightgbm\\basic.py:1780: UserWarning: Overriding the parameters from Reference Dataset.\n",
      "  _log_warning('Overriding the parameters from Reference Dataset.')\n",
      "C:\\ProgramData\\Anaconda3\\lib\\site-packages\\lightgbm\\basic.py:1513: UserWarning: categorical_column in param dict is overridden.\n",
      "  _log_warning(f'{cat_alias} in param dict is overridden.')\n"
     ]
    },
    {
     "name": "stdout",
     "output_type": "stream",
     "text": [
      "{'learning_rate': 0.03788389407010691, 'max_depth': 8, 'n_estimators': 941}\n",
      "RMSE: 1710.077280368363\n",
      "time for learning with these parameters, s: 15.14\n",
      "Wall time: 24 s\n"
     ]
    }
   ],
   "source": [
    "%%time\n",
    "callbacks = [lgb.log_evaluation(period=-1)]\n",
    "model = lgb.LGBMRegressor(random_state=25, objective='rmse')\n",
    "\n",
    "distributions = dict(n_estimators=randint(1, 1000), max_depth=randint(1, 15), learning_rate=uniform(loc=0.01, scale=0.1))\n",
    "reg = RandomizedSearchCV(model, distributions, random_state=25, scoring='neg_root_mean_squared_error', cv=2, n_iter=2, n_jobs=7)\n",
    "search = reg.fit(X_train, y_train, categorical_feature='auto', eval_set=(X_valid, y_valid), callbacks= callbacks)\n",
    "\n",
    "print(search.best_params_)\n",
    "print('RMSE:', -search.best_score_)\n",
    "print('time for learning with these parameters, s:', 2*round(search.cv_results_['mean_fit_time'][search.best_index_], 2)) "
   ]
  },
  {
   "cell_type": "markdown",
   "metadata": {},
   "source": [
    "### CatBoost"
   ]
  },
  {
   "cell_type": "markdown",
   "metadata": {},
   "source": [
    "Let's check how fast CatBoost works depending on whether feature encoding was initially performed. We use the default hyperparameter values."
   ]
  },
  {
   "cell_type": "code",
   "execution_count": 1115,
   "metadata": {},
   "outputs": [],
   "source": [
    "model = CatBoostRegressor(random_state=25, verbose=200, eval_metric='RMSE')"
   ]
  },
  {
   "cell_type": "code",
   "execution_count": 1116,
   "metadata": {
    "scrolled": false
   },
   "outputs": [
    {
     "name": "stdout",
     "output_type": "stream",
     "text": [
      "Learning rate set to 0.120773\n",
      "0:\tlearn: 4200.6128637\ttest: 4161.5540506\tbest: 4161.5540506 (0)\ttotal: 54.5ms\tremaining: 54.4s\n",
      "200:\tlearn: 1796.6085052\ttest: 1800.7296431\tbest: 1800.7296431 (200)\ttotal: 3.31s\tremaining: 13.2s\n",
      "400:\tlearn: 1720.7350090\ttest: 1745.6862936\tbest: 1745.6862936 (400)\ttotal: 6.59s\tremaining: 9.84s\n",
      "600:\tlearn: 1678.7586765\ttest: 1720.8215930\tbest: 1720.8215930 (600)\ttotal: 9.75s\tremaining: 6.48s\n",
      "800:\tlearn: 1649.3339676\ttest: 1706.2243284\tbest: 1706.2243284 (800)\ttotal: 13s\tremaining: 3.24s\n",
      "999:\tlearn: 1626.0363213\ttest: 1696.0142516\tbest: 1696.0142516 (999)\ttotal: 16.3s\tremaining: 0us\n",
      "\n",
      "bestTest = 1696.014252\n",
      "bestIteration = 999\n",
      "\n",
      "Time spent, s: 16.96\n"
     ]
    }
   ],
   "source": [
    "starttime = time.time()\n",
    "model.fit(X_enc_train, y_train, eval_set=(X_enc_valid, y_valid)) # \n",
    "\n",
    "print(f\"Time spent, s:\", round(time.time() - starttime, 2))"
   ]
  },
  {
   "cell_type": "code",
   "execution_count": 1117,
   "metadata": {
    "scrolled": false
   },
   "outputs": [
    {
     "name": "stdout",
     "output_type": "stream",
     "text": [
      "Learning rate set to 0.120773\n",
      "0:\tlearn: 4196.3734225\ttest: 4157.4700962\tbest: 4157.4700962 (0)\ttotal: 136ms\tremaining: 2m 15s\n",
      "200:\tlearn: 1771.5359508\ttest: 1776.2262224\tbest: 1776.2262224 (200)\ttotal: 21.1s\tremaining: 1m 24s\n",
      "400:\tlearn: 1710.6407424\ttest: 1734.8694589\tbest: 1734.8694589 (400)\ttotal: 42.2s\tremaining: 1m 3s\n",
      "600:\tlearn: 1676.7973166\ttest: 1717.9322541\tbest: 1717.9322541 (600)\ttotal: 1m 4s\tremaining: 42.7s\n",
      "800:\tlearn: 1651.8730352\ttest: 1707.3909339\tbest: 1707.3909339 (800)\ttotal: 1m 26s\tremaining: 21.6s\n",
      "999:\tlearn: 1631.6768013\ttest: 1698.8754974\tbest: 1698.8754974 (999)\ttotal: 1m 49s\tremaining: 0us\n",
      "\n",
      "bestTest = 1698.875497\n",
      "bestIteration = 999\n",
      "\n",
      "Time spent, s: 109.68\n"
     ]
    }
   ],
   "source": [
    "starttime = time.time()\n",
    "model.fit(X_train, y_train, cat_features=categorical, eval_set=(X_valid, y_valid))\n",
    "\n",
    "print(f\"Time spent, s:\", round(time.time() - starttime, 2))"
   ]
  },
  {
   "cell_type": "markdown",
   "metadata": {},
   "source": [
    "CatBoost with uncoded categorical features works 6 times longer and gives a similar quality. For this reason, we will use a model on pre-encoded data for the selection of parameters."
   ]
  },
  {
   "cell_type": "code",
   "execution_count": 1118,
   "metadata": {
    "scrolled": false
   },
   "outputs": [
    {
     "name": "stdout",
     "output_type": "stream",
     "text": [
      "{'learning_rate': 0.09496764716435467, 'max_depth': 13, 'n_estimators': 805}\n",
      "RMSE: 1693.2868286715536\n",
      "time for learning with these parameters, s: 522.32\n",
      "Wall time: 18min 8s\n"
     ]
    }
   ],
   "source": [
    "%%time\n",
    "model = CatBoostRegressor(random_state=25, verbose=0)\n",
    "\n",
    "distributions = dict(n_estimators=randint(1, 1000), max_depth=randint(1, 15), learning_rate=uniform(loc=0.01, scale=0.1))\n",
    "reg = RandomizedSearchCV(model, distributions, random_state=25, scoring='neg_mean_squared_error', cv=2, n_iter=50, n_jobs=7)\n",
    "search = reg.fit(X_enc_train, y_train, eval_set=(X_enc_valid, y_valid))\n",
    "\n",
    "print(search.best_params_)\n",
    "print('RMSE:', (-search.best_score_)**.5)\n",
    "print('time for learning with these parameters, s:', 2*round(search.cv_results_['mean_fit_time'][search.best_index_], 2)) "
   ]
  },
  {
   "cell_type": "markdown",
   "metadata": {},
   "source": [
    "### Conclusion\n",
    "For the models used, hyperparameters were selected by randomizing the values. It turned out that for the Ridge model, the optimal parameter is alpha=1.54.\n",
    "Optimal hyperparameters for gradient boosting models:\n",
    "- LightGBM: *'learning_rate': 0.03788389407010691, 'max_depth': 8, 'n_estimators': 941*\n",
    "- CatBoost: *'learning_rate': 0.09496764716435467, 'max_depth': 13, 'n_estimators': 805*\n",
    "\n",
    "It has been found that LightGBM with uncoded categorical features is three times faster and gives better quality, while the original one-hot encoding makes CatBoost training 6 times faster."
   ]
  },
  {
   "cell_type": "markdown",
   "metadata": {},
   "source": [
    "## Models analysis"
   ]
  },
  {
   "cell_type": "code",
   "execution_count": 1131,
   "metadata": {},
   "outputs": [],
   "source": [
    "#arrays to save rmse and duration of fitting\n",
    "time_learn, time_pred = [], []\n",
    "rmse = []"
   ]
  },
  {
   "cell_type": "markdown",
   "metadata": {},
   "source": [
    "**Ridge**"
   ]
  },
  {
   "cell_type": "code",
   "execution_count": 1132,
   "metadata": {},
   "outputs": [],
   "source": [
    "model=Ridge(alpha=1.54)\n",
    "\n",
    "starttime = time.time()\n",
    "model.fit(X_enc_train, y_train)\n",
    "time_learn.append(round(time.time() - starttime, 2))\n",
    "\n",
    "starttime = time.time()\n",
    "pred = model.predict(X_enc_valid)\n",
    "time_pred.append(round(time.time() - starttime, 2))\n",
    "rmse.append(round(mean_squared_error(model.predict(X_enc_valid), y_valid) ** 0.5))"
   ]
  },
  {
   "cell_type": "markdown",
   "metadata": {},
   "source": [
    "**LightGBM**"
   ]
  },
  {
   "cell_type": "code",
   "execution_count": 1133,
   "metadata": {
    "scrolled": true
   },
   "outputs": [],
   "source": [
    "model = lgb.LGBMRegressor(random_state=25, num_leaves = 100,  **{'learning_rate': 0.03788389407010691, 'max_depth': 8, 'n_estimators': 941})\n",
    "callbacks = [lgb.log_evaluation(period=-1)]\n",
    "\n",
    "starttime = time.time()\n",
    "model.fit(X_train, y_train, categorical_feature='auto', callbacks=callbacks)\n",
    "time_learn.append(round(time.time() - starttime, 2))\n",
    "\n",
    "starttime = time.time()\n",
    "pred = model.predict(X_valid)\n",
    "time_pred.append(round(time.time() - starttime, 2))\n",
    "rmse.append(round(mean_squared_error(pred, y_valid) ** 0.5))"
   ]
  },
  {
   "cell_type": "markdown",
   "metadata": {},
   "source": [
    "**CatBoost**"
   ]
  },
  {
   "cell_type": "code",
   "execution_count": 1134,
   "metadata": {},
   "outputs": [],
   "source": [
    "model = CatBoostRegressor(random_state=25, verbose=0, **{'learning_rate': 0.09496764716435467, 'max_depth': 13, 'n_estimators': 805})\n",
    "starttime = time.time()\n",
    "model.fit(X_enc_train, y_train)\n",
    "time_learn.append(round(time.time() - starttime, 2))\n",
    "\n",
    "starttime = time.time()\n",
    "pred = model.predict(X_enc_valid)\n",
    "time_pred.append(round(time.time() - starttime, 2))\n",
    "rmse.append(round(mean_squared_error(pred, y_valid) ** 0.5))"
   ]
  },
  {
   "cell_type": "code",
   "execution_count": 1135,
   "metadata": {
    "scrolled": false
   },
   "outputs": [
    {
     "data": {
      "text/html": [
       "<div>\n",
       "<style scoped>\n",
       "    .dataframe tbody tr th:only-of-type {\n",
       "        vertical-align: middle;\n",
       "    }\n",
       "\n",
       "    .dataframe tbody tr th {\n",
       "        vertical-align: top;\n",
       "    }\n",
       "\n",
       "    .dataframe thead th {\n",
       "        text-align: right;\n",
       "    }\n",
       "</style>\n",
       "<table border=\"1\" class=\"dataframe\">\n",
       "  <thead>\n",
       "    <tr style=\"text-align: right;\">\n",
       "      <th></th>\n",
       "      <th>Learning time, s</th>\n",
       "      <th>Prediction time, s</th>\n",
       "      <th>RMSE</th>\n",
       "    </tr>\n",
       "  </thead>\n",
       "  <tbody>\n",
       "    <tr>\n",
       "      <th>Ridge</th>\n",
       "      <td>1.16</td>\n",
       "      <td>0.18</td>\n",
       "      <td>2826</td>\n",
       "    </tr>\n",
       "    <tr>\n",
       "      <th>LightGBM</th>\n",
       "      <td>4.42</td>\n",
       "      <td>3.64</td>\n",
       "      <td>1645</td>\n",
       "    </tr>\n",
       "    <tr>\n",
       "      <th>CatBoost</th>\n",
       "      <td>106.03</td>\n",
       "      <td>0.26</td>\n",
       "      <td>1643</td>\n",
       "    </tr>\n",
       "  </tbody>\n",
       "</table>\n",
       "</div>"
      ],
      "text/plain": [
       "          Learning time, s  Prediction time, s  RMSE\n",
       "Ridge                 1.16                0.18  2826\n",
       "LightGBM              4.42                3.64  1645\n",
       "CatBoost            106.03                0.26  1643"
      ]
     },
     "execution_count": 1135,
     "metadata": {},
     "output_type": "execute_result"
    }
   ],
   "source": [
    "pd.DataFrame(data={'Learning time, s':time_learn, 'Prediction time, s': time_pred, 'RMSE': rmse}, index=['Ridge', 'LightGBM', 'CatBoost'])"
   ]
  },
  {
   "cell_type": "markdown",
   "metadata": {},
   "source": [
    "### Conclusion\n",
    "With the selected parameters, the models were trained and the training times and quality were compared. The Ridge model is the fastest to learn and make predictions, but the quality is very poor. Among gradient boosting models, LightGBM learns much faster (4 s versus 106 s for CatBoost), but gives about the same quality. LightGBM takes longer to train than other models (3.6 s, more than 10 times longer than other models)\n",
    "\n",
    "\n",
    "## General conclusion\n",
    "We studied the dataset with data on car sales advertisements. Gaps and duplicates are processed, outliers are removed.\n",
    "\n",
    "Next, a forecast of the price of the car based on its characteristics is carried out. For each of the ML models (Ridge, LightGBM, CatBoost), the optimal parameters were selected to achieve the lowest value of the RMSE metric.\n",
    "\n",
    "With the selected parameters, the models were trained and the training times and quality were compared. The Ridge model is the fastest to learn and make predictions, but the quality is very poor. Among gradient boosting models, LightGBM learns much faster (4 s versus 106 s for CatBoost), but gives about the same quality. LightGBM takes longer to train than other models (3.6 s, more than 10 times longer than other models)\n",
    "\n",
    "**For this problem, it is optimal to use the LightGBM model (better quality with a sufficiently high learning and prediction rate)**"
   ]
  }
 ],
 "metadata": {
  "ExecuteTimeLog": [
   {
    "duration": 1896,
    "start_time": "2022-05-07T07:21:33.906Z"
   },
   {
    "duration": 860,
    "start_time": "2022-05-07T07:21:35.804Z"
   },
   {
    "duration": 3,
    "start_time": "2022-05-07T07:21:36.665Z"
   },
   {
    "duration": 31,
    "start_time": "2022-05-07T07:21:36.671Z"
   },
   {
    "duration": 108,
    "start_time": "2022-05-07T07:21:36.704Z"
   },
   {
    "duration": 215,
    "start_time": "2022-05-07T07:21:36.813Z"
   },
   {
    "duration": 329,
    "start_time": "2022-05-07T07:21:37.032Z"
   },
   {
    "duration": 189,
    "start_time": "2022-05-07T07:21:37.363Z"
   },
   {
    "duration": 31,
    "start_time": "2022-05-07T07:21:37.553Z"
   },
   {
    "duration": 71,
    "start_time": "2022-05-07T07:21:37.587Z"
   },
   {
    "duration": 98,
    "start_time": "2022-05-07T07:21:37.659Z"
   },
   {
    "duration": 1312,
    "start_time": "2022-05-07T07:21:37.759Z"
   },
   {
    "duration": 141,
    "start_time": "2022-05-07T07:21:39.073Z"
   },
   {
    "duration": 432,
    "start_time": "2022-05-07T07:21:39.216Z"
   },
   {
    "duration": 17,
    "start_time": "2022-05-07T07:21:39.650Z"
   },
   {
    "duration": 92,
    "start_time": "2022-05-07T07:21:39.669Z"
   },
   {
    "duration": 2100,
    "start_time": "2022-05-07T07:21:39.763Z"
   },
   {
    "duration": 116,
    "start_time": "2022-05-07T07:21:41.864Z"
   },
   {
    "duration": 181,
    "start_time": "2022-05-07T07:21:41.982Z"
   },
   {
    "duration": 565,
    "start_time": "2022-05-07T07:21:42.165Z"
   },
   {
    "duration": 1038,
    "start_time": "2022-05-07T07:21:42.733Z"
   },
   {
    "duration": 35,
    "start_time": "2022-05-07T07:21:43.773Z"
   },
   {
    "duration": 69,
    "start_time": "2022-05-07T09:07:51.446Z"
   },
   {
    "duration": 1664,
    "start_time": "2022-05-07T09:08:05.816Z"
   },
   {
    "duration": 796,
    "start_time": "2022-05-07T09:08:07.482Z"
   },
   {
    "duration": 4,
    "start_time": "2022-05-07T09:08:08.280Z"
   },
   {
    "duration": 27,
    "start_time": "2022-05-07T09:08:08.286Z"
   },
   {
    "duration": 97,
    "start_time": "2022-05-07T09:08:08.316Z"
   },
   {
    "duration": 196,
    "start_time": "2022-05-07T09:08:08.415Z"
   },
   {
    "duration": 299,
    "start_time": "2022-05-07T09:08:08.613Z"
   },
   {
    "duration": 171,
    "start_time": "2022-05-07T09:08:08.914Z"
   },
   {
    "duration": 31,
    "start_time": "2022-05-07T09:08:09.087Z"
   },
   {
    "duration": 56,
    "start_time": "2022-05-07T09:08:09.119Z"
   },
   {
    "duration": 86,
    "start_time": "2022-05-07T09:08:09.177Z"
   },
   {
    "duration": 1197,
    "start_time": "2022-05-07T09:08:09.265Z"
   },
   {
    "duration": 122,
    "start_time": "2022-05-07T09:08:10.463Z"
   },
   {
    "duration": 392,
    "start_time": "2022-05-07T09:08:10.587Z"
   },
   {
    "duration": 17,
    "start_time": "2022-05-07T09:08:10.981Z"
   },
   {
    "duration": 84,
    "start_time": "2022-05-07T09:08:10.999Z"
   },
   {
    "duration": 2141,
    "start_time": "2022-05-07T09:08:11.085Z"
   },
   {
    "duration": 104,
    "start_time": "2022-05-07T09:08:13.227Z"
   },
   {
    "duration": 356,
    "start_time": "2022-05-07T09:08:13.333Z"
   },
   {
    "duration": 1200,
    "start_time": "2022-05-07T09:08:13.692Z"
   },
   {
    "duration": 1142,
    "start_time": "2022-05-07T09:08:14.894Z"
   },
   {
    "duration": 439,
    "start_time": "2022-05-07T09:08:16.038Z"
   },
   {
    "duration": 3,
    "start_time": "2022-05-07T09:08:27.986Z"
   },
   {
    "duration": 5,
    "start_time": "2022-05-07T09:08:38.309Z"
   },
   {
    "duration": 6,
    "start_time": "2022-05-07T09:08:46.006Z"
   },
   {
    "duration": 2,
    "start_time": "2022-05-07T09:11:49.734Z"
   },
   {
    "duration": 30766,
    "start_time": "2022-05-07T09:12:15.824Z"
   },
   {
    "duration": 13310,
    "start_time": "2022-05-07T09:13:35.670Z"
   },
   {
    "duration": 3,
    "start_time": "2022-05-07T09:17:34.061Z"
   },
   {
    "duration": 9548,
    "start_time": "2022-05-07T09:17:42.844Z"
   },
   {
    "duration": 6536,
    "start_time": "2022-05-07T09:17:57.650Z"
   },
   {
    "duration": 6363,
    "start_time": "2022-05-07T09:18:23.223Z"
   },
   {
    "duration": 799108,
    "start_time": "2022-05-07T09:22:28.466Z"
   },
   {
    "duration": 6301,
    "start_time": "2022-05-07T09:35:47.576Z"
   },
   {
    "duration": 6,
    "start_time": "2022-05-07T09:36:36.582Z"
   },
   {
    "duration": 7,
    "start_time": "2022-05-07T09:36:50.002Z"
   },
   {
    "duration": 6,
    "start_time": "2022-05-07T09:36:54.226Z"
   },
   {
    "duration": 6,
    "start_time": "2022-05-07T09:36:59.715Z"
   },
   {
    "duration": 6,
    "start_time": "2022-05-07T09:37:11.722Z"
   },
   {
    "duration": 6482,
    "start_time": "2022-05-07T09:37:46.999Z"
   },
   {
    "duration": 6993,
    "start_time": "2022-05-07T09:40:17.392Z"
   },
   {
    "duration": 5,
    "start_time": "2022-05-07T09:43:45.298Z"
   },
   {
    "duration": 5,
    "start_time": "2022-05-07T09:43:47.792Z"
   },
   {
    "duration": 10,
    "start_time": "2022-05-07T09:45:35.735Z"
   },
   {
    "duration": 4,
    "start_time": "2022-05-07T09:45:37.726Z"
   },
   {
    "duration": 4,
    "start_time": "2022-05-07T09:45:43.040Z"
   },
   {
    "duration": 4,
    "start_time": "2022-05-07T09:46:12.865Z"
   },
   {
    "duration": 278,
    "start_time": "2022-05-07T10:40:44.914Z"
   },
   {
    "duration": 720,
    "start_time": "2022-05-07T10:44:33.604Z"
   },
   {
    "duration": 347,
    "start_time": "2022-05-07T10:44:51.033Z"
   },
   {
    "duration": 752,
    "start_time": "2022-05-07T10:44:54.271Z"
   },
   {
    "duration": 13,
    "start_time": "2022-05-07T10:46:25.714Z"
   },
   {
    "duration": 18,
    "start_time": "2022-05-07T10:46:31.219Z"
   },
   {
    "duration": 15,
    "start_time": "2022-05-07T10:46:36.024Z"
   },
   {
    "duration": 10,
    "start_time": "2022-05-07T10:46:42.445Z"
   },
   {
    "duration": 4,
    "start_time": "2022-05-07T10:46:44.366Z"
   },
   {
    "duration": 13,
    "start_time": "2022-05-07T10:46:56.785Z"
   },
   {
    "duration": 603,
    "start_time": "2022-05-07T10:46:58.596Z"
   },
   {
    "duration": 1264,
    "start_time": "2022-05-07T10:47:38.253Z"
   },
   {
    "duration": 106,
    "start_time": "2022-05-07T10:49:58.437Z"
   },
   {
    "duration": 374,
    "start_time": "2022-05-07T10:50:05.451Z"
   },
   {
    "duration": 64,
    "start_time": "2022-05-07T10:50:10.167Z"
   },
   {
    "duration": 3,
    "start_time": "2022-05-07T10:50:33.703Z"
   },
   {
    "duration": 726,
    "start_time": "2022-05-07T10:50:33.708Z"
   },
   {
    "duration": 3,
    "start_time": "2022-05-07T10:50:34.435Z"
   },
   {
    "duration": 22,
    "start_time": "2022-05-07T10:50:34.440Z"
   },
   {
    "duration": 91,
    "start_time": "2022-05-07T10:50:34.464Z"
   },
   {
    "duration": 161,
    "start_time": "2022-05-07T10:50:34.572Z"
   },
   {
    "duration": 254,
    "start_time": "2022-05-07T10:50:34.735Z"
   },
   {
    "duration": 158,
    "start_time": "2022-05-07T10:50:34.991Z"
   },
   {
    "duration": 29,
    "start_time": "2022-05-07T10:50:35.152Z"
   },
   {
    "duration": 40,
    "start_time": "2022-05-07T10:50:35.183Z"
   },
   {
    "duration": 96,
    "start_time": "2022-05-07T10:50:35.225Z"
   },
   {
    "duration": 264,
    "start_time": "2022-05-07T10:50:35.323Z"
   },
   {
    "duration": 1101,
    "start_time": "2022-05-07T10:50:35.589Z"
   },
   {
    "duration": 1239,
    "start_time": "2022-05-07T10:50:36.692Z"
   },
   {
    "duration": 113,
    "start_time": "2022-05-07T10:50:37.933Z"
   },
   {
    "duration": 358,
    "start_time": "2022-05-07T10:50:38.048Z"
   },
   {
    "duration": 16,
    "start_time": "2022-05-07T10:50:38.408Z"
   },
   {
    "duration": 76,
    "start_time": "2022-05-07T10:50:38.426Z"
   },
   {
    "duration": 1940,
    "start_time": "2022-05-07T10:50:38.504Z"
   },
   {
    "duration": 98,
    "start_time": "2022-05-07T10:50:40.446Z"
   },
   {
    "duration": 161,
    "start_time": "2022-05-07T10:50:40.546Z"
   },
   {
    "duration": 573,
    "start_time": "2022-05-07T10:50:40.709Z"
   },
   {
    "duration": 823,
    "start_time": "2022-05-07T10:50:41.284Z"
   },
   {
    "duration": 410,
    "start_time": "2022-05-07T10:50:42.110Z"
   },
   {
    "duration": 3,
    "start_time": "2022-05-07T10:50:42.521Z"
   },
   {
    "duration": 137,
    "start_time": "2022-05-07T10:51:51.082Z"
   },
   {
    "duration": 1684,
    "start_time": "2022-05-07T10:52:01.218Z"
   },
   {
    "duration": 787,
    "start_time": "2022-05-07T10:52:04.417Z"
   },
   {
    "duration": 4,
    "start_time": "2022-05-07T10:52:14.021Z"
   },
   {
    "duration": 747,
    "start_time": "2022-05-07T10:52:14.027Z"
   },
   {
    "duration": 3,
    "start_time": "2022-05-07T10:52:14.775Z"
   },
   {
    "duration": 44,
    "start_time": "2022-05-07T10:52:14.780Z"
   },
   {
    "duration": 83,
    "start_time": "2022-05-07T10:52:14.826Z"
   },
   {
    "duration": 191,
    "start_time": "2022-05-07T10:52:14.911Z"
   },
   {
    "duration": 289,
    "start_time": "2022-05-07T10:52:15.104Z"
   },
   {
    "duration": 176,
    "start_time": "2022-05-07T10:52:15.395Z"
   },
   {
    "duration": 29,
    "start_time": "2022-05-07T10:52:15.574Z"
   },
   {
    "duration": 52,
    "start_time": "2022-05-07T10:52:15.604Z"
   },
   {
    "duration": 93,
    "start_time": "2022-05-07T10:52:15.657Z"
   },
   {
    "duration": 276,
    "start_time": "2022-05-07T10:52:15.751Z"
   },
   {
    "duration": 1158,
    "start_time": "2022-05-07T10:52:16.029Z"
   },
   {
    "duration": 1262,
    "start_time": "2022-05-07T10:52:17.189Z"
   },
   {
    "duration": 120,
    "start_time": "2022-05-07T10:52:18.454Z"
   },
   {
    "duration": 346,
    "start_time": "2022-05-07T10:52:18.576Z"
   },
   {
    "duration": 16,
    "start_time": "2022-05-07T10:52:18.924Z"
   },
   {
    "duration": 74,
    "start_time": "2022-05-07T10:52:18.941Z"
   },
   {
    "duration": 1873,
    "start_time": "2022-05-07T10:52:19.017Z"
   },
   {
    "duration": 97,
    "start_time": "2022-05-07T10:52:20.892Z"
   },
   {
    "duration": 162,
    "start_time": "2022-05-07T10:52:20.991Z"
   },
   {
    "duration": 483,
    "start_time": "2022-05-07T10:52:21.155Z"
   },
   {
    "duration": 789,
    "start_time": "2022-05-07T10:52:21.640Z"
   },
   {
    "duration": 416,
    "start_time": "2022-05-07T10:52:22.432Z"
   },
   {
    "duration": 2,
    "start_time": "2022-05-07T10:52:22.850Z"
   },
   {
    "duration": 55,
    "start_time": "2022-05-07T10:52:50.891Z"
   },
   {
    "duration": 1563,
    "start_time": "2022-05-07T10:52:55.510Z"
   },
   {
    "duration": 759,
    "start_time": "2022-05-07T10:52:57.075Z"
   },
   {
    "duration": 3,
    "start_time": "2022-05-07T10:52:57.836Z"
   },
   {
    "duration": 42,
    "start_time": "2022-05-07T10:52:57.841Z"
   },
   {
    "duration": 84,
    "start_time": "2022-05-07T10:52:57.884Z"
   },
   {
    "duration": 186,
    "start_time": "2022-05-07T10:52:57.973Z"
   },
   {
    "duration": 289,
    "start_time": "2022-05-07T10:52:58.161Z"
   },
   {
    "duration": 177,
    "start_time": "2022-05-07T10:52:58.452Z"
   },
   {
    "duration": 29,
    "start_time": "2022-05-07T10:52:58.631Z"
   },
   {
    "duration": 49,
    "start_time": "2022-05-07T10:52:58.675Z"
   },
   {
    "duration": 108,
    "start_time": "2022-05-07T10:52:58.726Z"
   },
   {
    "duration": 288,
    "start_time": "2022-05-07T10:52:58.836Z"
   },
   {
    "duration": 1198,
    "start_time": "2022-05-07T10:52:59.126Z"
   },
   {
    "duration": 1375,
    "start_time": "2022-05-07T10:53:00.326Z"
   },
   {
    "duration": 123,
    "start_time": "2022-05-07T10:53:01.703Z"
   },
   {
    "duration": 399,
    "start_time": "2022-05-07T10:53:01.827Z"
   },
   {
    "duration": 17,
    "start_time": "2022-05-07T10:53:02.227Z"
   },
   {
    "duration": 78,
    "start_time": "2022-05-07T10:53:02.245Z"
   },
   {
    "duration": 1979,
    "start_time": "2022-05-07T10:53:02.324Z"
   },
   {
    "duration": 101,
    "start_time": "2022-05-07T10:53:04.304Z"
   },
   {
    "duration": 162,
    "start_time": "2022-05-07T10:53:04.406Z"
   },
   {
    "duration": 473,
    "start_time": "2022-05-07T10:53:04.572Z"
   },
   {
    "duration": 802,
    "start_time": "2022-05-07T10:53:05.047Z"
   },
   {
    "duration": 419,
    "start_time": "2022-05-07T10:53:05.851Z"
   },
   {
    "duration": 3,
    "start_time": "2022-05-07T10:53:06.272Z"
   },
   {
    "duration": 3,
    "start_time": "2022-05-07T10:53:37.133Z"
   },
   {
    "duration": 33439,
    "start_time": "2022-05-07T10:53:37.841Z"
   },
   {
    "duration": 0,
    "start_time": "2022-05-07T10:54:11.282Z"
   },
   {
    "duration": 0,
    "start_time": "2022-05-07T10:54:11.283Z"
   },
   {
    "duration": 0,
    "start_time": "2022-05-07T10:54:11.284Z"
   },
   {
    "duration": 0,
    "start_time": "2022-05-07T10:54:11.285Z"
   },
   {
    "duration": 32687,
    "start_time": "2022-05-07T10:56:39.681Z"
   },
   {
    "duration": 180543,
    "start_time": "2022-05-07T10:57:12.370Z"
   },
   {
    "duration": 6,
    "start_time": "2022-05-07T11:00:12.914Z"
   },
   {
    "duration": 14,
    "start_time": "2022-05-07T11:00:12.921Z"
   },
   {
    "duration": 14,
    "start_time": "2022-05-07T11:00:12.936Z"
   },
   {
    "duration": 9,
    "start_time": "2022-05-07T11:02:15.538Z"
   },
   {
    "duration": 9,
    "start_time": "2022-05-07T11:02:39.189Z"
   },
   {
    "duration": 3,
    "start_time": "2022-05-07T11:02:41.236Z"
   },
   {
    "duration": 2,
    "start_time": "2022-05-07T11:02:43.334Z"
   },
   {
    "duration": 5,
    "start_time": "2022-05-07T11:02:46.239Z"
   },
   {
    "duration": 3,
    "start_time": "2022-05-07T11:02:50.518Z"
   },
   {
    "duration": 12,
    "start_time": "2022-05-07T11:02:53.630Z"
   },
   {
    "duration": 2,
    "start_time": "2022-05-07T11:02:57.942Z"
   },
   {
    "duration": 4,
    "start_time": "2022-05-07T11:03:01.543Z"
   },
   {
    "duration": 3,
    "start_time": "2022-05-07T11:03:19.336Z"
   },
   {
    "duration": 3601,
    "start_time": "2022-05-07T11:03:19.773Z"
   },
   {
    "duration": 65616,
    "start_time": "2022-05-07T11:04:09.586Z"
   },
   {
    "duration": 104372,
    "start_time": "2022-05-07T11:05:15.203Z"
   },
   {
    "duration": 21,
    "start_time": "2022-05-07T11:08:22.265Z"
   },
   {
    "duration": 5,
    "start_time": "2022-05-07T11:08:38.649Z"
   },
   {
    "duration": 4,
    "start_time": "2022-05-07T11:08:41.695Z"
   },
   {
    "duration": 4,
    "start_time": "2022-05-07T11:08:44.162Z"
   },
   {
    "duration": 3,
    "start_time": "2022-05-07T11:09:02.607Z"
   },
   {
    "duration": 3814,
    "start_time": "2022-05-07T11:09:03.369Z"
   },
   {
    "duration": 303182,
    "start_time": "2022-05-07T11:09:09.619Z"
   },
   {
    "duration": 105235,
    "start_time": "2022-05-07T11:14:12.803Z"
   },
   {
    "duration": 9,
    "start_time": "2022-05-07T11:15:58.040Z"
   },
   {
    "duration": 1662,
    "start_time": "2022-05-07T15:03:33.808Z"
   },
   {
    "duration": 793,
    "start_time": "2022-05-07T15:03:35.472Z"
   },
   {
    "duration": 8,
    "start_time": "2022-05-07T15:03:36.267Z"
   },
   {
    "duration": 36,
    "start_time": "2022-05-07T15:03:36.277Z"
   },
   {
    "duration": 137,
    "start_time": "2022-05-07T15:03:36.314Z"
   },
   {
    "duration": 469,
    "start_time": "2022-05-07T15:03:36.453Z"
   },
   {
    "duration": 199,
    "start_time": "2022-05-07T15:03:36.924Z"
   },
   {
    "duration": 3,
    "start_time": "2022-05-07T15:40:11.945Z"
   },
   {
    "duration": 840,
    "start_time": "2022-05-07T15:40:11.956Z"
   },
   {
    "duration": 3,
    "start_time": "2022-05-07T15:40:12.798Z"
   },
   {
    "duration": 36,
    "start_time": "2022-05-07T15:40:12.802Z"
   },
   {
    "duration": 86,
    "start_time": "2022-05-07T15:40:12.841Z"
   },
   {
    "duration": 204,
    "start_time": "2022-05-07T15:40:12.929Z"
   },
   {
    "duration": 304,
    "start_time": "2022-05-07T15:40:13.134Z"
   },
   {
    "duration": 174,
    "start_time": "2022-05-07T15:40:13.440Z"
   },
   {
    "duration": 31,
    "start_time": "2022-05-07T15:40:13.616Z"
   },
   {
    "duration": 57,
    "start_time": "2022-05-07T15:40:13.649Z"
   },
   {
    "duration": 96,
    "start_time": "2022-05-07T15:40:13.709Z"
   },
   {
    "duration": 268,
    "start_time": "2022-05-07T15:40:13.807Z"
   },
   {
    "duration": 1206,
    "start_time": "2022-05-07T15:40:14.077Z"
   },
   {
    "duration": 1335,
    "start_time": "2022-05-07T15:40:15.286Z"
   },
   {
    "duration": 131,
    "start_time": "2022-05-07T15:40:16.623Z"
   },
   {
    "duration": 381,
    "start_time": "2022-05-07T15:40:16.756Z"
   },
   {
    "duration": 19,
    "start_time": "2022-05-07T15:40:17.139Z"
   },
   {
    "duration": 67,
    "start_time": "2022-05-07T15:40:17.172Z"
   },
   {
    "duration": 1926,
    "start_time": "2022-05-07T15:40:17.241Z"
   },
   {
    "duration": 104,
    "start_time": "2022-05-07T15:40:19.169Z"
   },
   {
    "duration": 164,
    "start_time": "2022-05-07T15:40:19.276Z"
   },
   {
    "duration": 505,
    "start_time": "2022-05-07T15:40:19.442Z"
   },
   {
    "duration": 894,
    "start_time": "2022-05-07T15:40:19.950Z"
   },
   {
    "duration": 420,
    "start_time": "2022-05-07T15:40:20.845Z"
   },
   {
    "duration": 3,
    "start_time": "2022-05-07T15:40:35.214Z"
   },
   {
    "duration": 126,
    "start_time": "2022-05-07T15:42:01.375Z"
   },
   {
    "duration": 11,
    "start_time": "2022-05-07T15:42:20.263Z"
   },
   {
    "duration": 3,
    "start_time": "2022-05-07T15:48:47.501Z"
   },
   {
    "duration": 9615,
    "start_time": "2022-05-07T15:48:49.266Z"
   },
   {
    "duration": 3,
    "start_time": "2022-05-07T15:50:07.228Z"
   },
   {
    "duration": 2406,
    "start_time": "2022-05-07T15:50:09.290Z"
   },
   {
    "duration": 3,
    "start_time": "2022-05-07T15:50:40.571Z"
   },
   {
    "duration": 18859,
    "start_time": "2022-05-07T15:50:42.325Z"
   },
   {
    "duration": 9099,
    "start_time": "2022-05-07T15:57:38.080Z"
   },
   {
    "duration": 2447,
    "start_time": "2022-05-07T15:58:29.341Z"
   },
   {
    "duration": 919,
    "start_time": "2022-05-07T15:58:31.790Z"
   },
   {
    "duration": 4,
    "start_time": "2022-05-07T15:58:32.710Z"
   },
   {
    "duration": 39,
    "start_time": "2022-05-07T15:58:32.715Z"
   },
   {
    "duration": 97,
    "start_time": "2022-05-07T15:58:32.756Z"
   },
   {
    "duration": 212,
    "start_time": "2022-05-07T15:58:32.855Z"
   },
   {
    "duration": 284,
    "start_time": "2022-05-07T15:58:33.073Z"
   },
   {
    "duration": 182,
    "start_time": "2022-05-07T15:58:33.359Z"
   },
   {
    "duration": 35,
    "start_time": "2022-05-07T15:58:33.542Z"
   },
   {
    "duration": 59,
    "start_time": "2022-05-07T15:58:33.580Z"
   },
   {
    "duration": 106,
    "start_time": "2022-05-07T15:58:33.641Z"
   },
   {
    "duration": 303,
    "start_time": "2022-05-07T15:58:33.749Z"
   },
   {
    "duration": 1249,
    "start_time": "2022-05-07T15:58:34.053Z"
   },
   {
    "duration": 1371,
    "start_time": "2022-05-07T15:58:35.303Z"
   },
   {
    "duration": 120,
    "start_time": "2022-05-07T15:58:36.676Z"
   },
   {
    "duration": 375,
    "start_time": "2022-05-07T15:58:36.798Z"
   },
   {
    "duration": 17,
    "start_time": "2022-05-07T15:58:37.175Z"
   },
   {
    "duration": 83,
    "start_time": "2022-05-07T15:58:37.194Z"
   },
   {
    "duration": 1987,
    "start_time": "2022-05-07T15:58:37.279Z"
   },
   {
    "duration": 105,
    "start_time": "2022-05-07T15:58:39.268Z"
   },
   {
    "duration": 169,
    "start_time": "2022-05-07T15:58:39.375Z"
   },
   {
    "duration": 520,
    "start_time": "2022-05-07T15:58:39.545Z"
   },
   {
    "duration": 870,
    "start_time": "2022-05-07T15:58:40.067Z"
   },
   {
    "duration": 412,
    "start_time": "2022-05-07T15:58:40.938Z"
   },
   {
    "duration": 3,
    "start_time": "2022-05-07T15:58:46.802Z"
   },
   {
    "duration": 54058,
    "start_time": "2022-05-07T15:58:49.220Z"
   },
   {
    "duration": 6,
    "start_time": "2022-05-07T16:00:24.525Z"
   }
  ],
  "kernelspec": {
   "display_name": "Python 3",
   "language": "python",
   "name": "python3"
  },
  "language_info": {
   "codemirror_mode": {
    "name": "ipython",
    "version": 3
   },
   "file_extension": ".py",
   "mimetype": "text/x-python",
   "name": "python",
   "nbconvert_exporter": "python",
   "pygments_lexer": "ipython3",
   "version": "3.8.3"
  },
  "toc": {
   "base_numbering": 1,
   "nav_menu": {},
   "number_sections": true,
   "sideBar": true,
   "skip_h1_title": true,
   "title_cell": "Table of Contents",
   "title_sidebar": "Contents",
   "toc_cell": true,
   "toc_position": {
    "height": "calc(100% - 180px)",
    "left": "10px",
    "top": "150px",
    "width": "165px"
   },
   "toc_section_display": true,
   "toc_window_display": true
  }
 },
 "nbformat": 4,
 "nbformat_minor": 2
}
