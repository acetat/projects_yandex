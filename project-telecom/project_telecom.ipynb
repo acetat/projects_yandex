{
 "cells": [
  {
   "cell_type": "markdown",
   "metadata": {
    "toc": true
   },
   "source": [
    "<h1>Содержание<span class=\"tocSkip\"></span></h1>\n",
    "<div class=\"toc\"><ul class=\"toc-item\"><li><span><a href=\"#Изучение-данных\" data-toc-modified-id=\"Изучение-данных-1\"><span class=\"toc-item-num\">1&nbsp;&nbsp;</span>Изучение данных</a></span><ul class=\"toc-item\"><li><span><a href=\"#Вывод\" data-toc-modified-id=\"Вывод-1.1\"><span class=\"toc-item-num\">1.1&nbsp;&nbsp;</span>Вывод</a></span></li></ul></li><li><span><a href=\"#Подготовка-данных\" data-toc-modified-id=\"Подготовка-данных-2\"><span class=\"toc-item-num\">2&nbsp;&nbsp;</span>Подготовка данных</a></span><ul class=\"toc-item\"><li><span><a href=\"#Вывод\" data-toc-modified-id=\"Вывод-2.1\"><span class=\"toc-item-num\">2.1&nbsp;&nbsp;</span>Вывод</a></span></li></ul></li><li><span><a href=\"#Анализ\" data-toc-modified-id=\"Анализ-3\"><span class=\"toc-item-num\">3&nbsp;&nbsp;</span>Анализ</a></span><ul class=\"toc-item\"><li><span><a href=\"#Вывод\" data-toc-modified-id=\"Вывод-3.1\"><span class=\"toc-item-num\">3.1&nbsp;&nbsp;</span>Вывод</a></span></li></ul></li><li><span><a href=\"#Проверка-гипотез\" data-toc-modified-id=\"Проверка-гипотез-4\"><span class=\"toc-item-num\">4&nbsp;&nbsp;</span>Проверка гипотез</a></span></li><li><span><a href=\"#Выводы\" data-toc-modified-id=\"Выводы-5\"><span class=\"toc-item-num\">5&nbsp;&nbsp;</span>Выводы</a></span></li></ul></div>"
   ]
  },
  {
   "cell_type": "markdown",
   "metadata": {},
   "source": [
    "Мобильный оператор предлагает клиентам два тарифных плана: «Смарт» и «Ультра». Чтобы скорректировать рекламный бюджет, коммерческий департамент хочет понять, какой тариф приносит больше денег.\n",
    "Необходимо сделать предварительный анализ тарифов на данных 500 пользователей: кто они, откуда, каким тарифом пользуются, сколько звонков и сообщений каждый отправил за год. Нужно проанализировать поведение клиентов и сделать вывод — какой тариф лучше."
   ]
  },
  {
   "cell_type": "markdown",
   "metadata": {},
   "source": [
    "## Изучение данных"
   ]
  },
  {
   "cell_type": "code",
   "execution_count": 2,
   "metadata": {},
   "outputs": [],
   "source": [
    "from scipy import stats as st\n",
    "import numpy as np\n",
    "import pandas as pd\n",
    "import matplotlib.pyplot as plt"
   ]
  },
  {
   "cell_type": "code",
   "execution_count": 3,
   "metadata": {},
   "outputs": [],
   "source": [
    "pd.set_option('display.max_columns', None)"
   ]
  },
  {
   "cell_type": "code",
   "execution_count": 10,
   "metadata": {},
   "outputs": [],
   "source": [
    "ROOT_PATH = 'datasets/'"
   ]
  },
  {
   "cell_type": "code",
   "execution_count": 11,
   "metadata": {
    "scrolled": false
   },
   "outputs": [
    {
     "data": {
      "text/html": [
       "<div>\n",
       "<style scoped>\n",
       "    .dataframe tbody tr th:only-of-type {\n",
       "        vertical-align: middle;\n",
       "    }\n",
       "\n",
       "    .dataframe tbody tr th {\n",
       "        vertical-align: top;\n",
       "    }\n",
       "\n",
       "    .dataframe thead th {\n",
       "        text-align: right;\n",
       "    }\n",
       "</style>\n",
       "<table border=\"1\" class=\"dataframe\">\n",
       "  <thead>\n",
       "    <tr style=\"text-align: right;\">\n",
       "      <th></th>\n",
       "      <th>id</th>\n",
       "      <th>call_date</th>\n",
       "      <th>duration</th>\n",
       "      <th>user_id</th>\n",
       "    </tr>\n",
       "  </thead>\n",
       "  <tbody>\n",
       "    <tr>\n",
       "      <th>0</th>\n",
       "      <td>1000_0</td>\n",
       "      <td>2018-07-25</td>\n",
       "      <td>0.00</td>\n",
       "      <td>1000</td>\n",
       "    </tr>\n",
       "    <tr>\n",
       "      <th>1</th>\n",
       "      <td>1000_1</td>\n",
       "      <td>2018-08-17</td>\n",
       "      <td>0.00</td>\n",
       "      <td>1000</td>\n",
       "    </tr>\n",
       "    <tr>\n",
       "      <th>2</th>\n",
       "      <td>1000_2</td>\n",
       "      <td>2018-06-11</td>\n",
       "      <td>2.85</td>\n",
       "      <td>1000</td>\n",
       "    </tr>\n",
       "    <tr>\n",
       "      <th>3</th>\n",
       "      <td>1000_3</td>\n",
       "      <td>2018-09-21</td>\n",
       "      <td>13.80</td>\n",
       "      <td>1000</td>\n",
       "    </tr>\n",
       "    <tr>\n",
       "      <th>4</th>\n",
       "      <td>1000_4</td>\n",
       "      <td>2018-12-15</td>\n",
       "      <td>5.18</td>\n",
       "      <td>1000</td>\n",
       "    </tr>\n",
       "  </tbody>\n",
       "</table>\n",
       "</div>"
      ],
      "text/plain": [
       "       id   call_date  duration  user_id\n",
       "0  1000_0  2018-07-25      0.00     1000\n",
       "1  1000_1  2018-08-17      0.00     1000\n",
       "2  1000_2  2018-06-11      2.85     1000\n",
       "3  1000_3  2018-09-21     13.80     1000\n",
       "4  1000_4  2018-12-15      5.18     1000"
      ]
     },
     "metadata": {},
     "output_type": "display_data"
    },
    {
     "data": {
      "text/html": [
       "<div>\n",
       "<style scoped>\n",
       "    .dataframe tbody tr th:only-of-type {\n",
       "        vertical-align: middle;\n",
       "    }\n",
       "\n",
       "    .dataframe tbody tr th {\n",
       "        vertical-align: top;\n",
       "    }\n",
       "\n",
       "    .dataframe thead th {\n",
       "        text-align: right;\n",
       "    }\n",
       "</style>\n",
       "<table border=\"1\" class=\"dataframe\">\n",
       "  <thead>\n",
       "    <tr style=\"text-align: right;\">\n",
       "      <th></th>\n",
       "      <th>duration</th>\n",
       "      <th>user_id</th>\n",
       "    </tr>\n",
       "  </thead>\n",
       "  <tbody>\n",
       "    <tr>\n",
       "      <th>count</th>\n",
       "      <td>202607.000000</td>\n",
       "      <td>202607.000000</td>\n",
       "    </tr>\n",
       "    <tr>\n",
       "      <th>mean</th>\n",
       "      <td>6.755887</td>\n",
       "      <td>1253.940619</td>\n",
       "    </tr>\n",
       "    <tr>\n",
       "      <th>std</th>\n",
       "      <td>5.843365</td>\n",
       "      <td>144.722751</td>\n",
       "    </tr>\n",
       "    <tr>\n",
       "      <th>min</th>\n",
       "      <td>0.000000</td>\n",
       "      <td>1000.000000</td>\n",
       "    </tr>\n",
       "    <tr>\n",
       "      <th>25%</th>\n",
       "      <td>1.300000</td>\n",
       "      <td>1126.000000</td>\n",
       "    </tr>\n",
       "    <tr>\n",
       "      <th>50%</th>\n",
       "      <td>6.000000</td>\n",
       "      <td>1260.000000</td>\n",
       "    </tr>\n",
       "    <tr>\n",
       "      <th>75%</th>\n",
       "      <td>10.700000</td>\n",
       "      <td>1379.000000</td>\n",
       "    </tr>\n",
       "    <tr>\n",
       "      <th>max</th>\n",
       "      <td>38.000000</td>\n",
       "      <td>1499.000000</td>\n",
       "    </tr>\n",
       "  </tbody>\n",
       "</table>\n",
       "</div>"
      ],
      "text/plain": [
       "            duration        user_id\n",
       "count  202607.000000  202607.000000\n",
       "mean        6.755887    1253.940619\n",
       "std         5.843365     144.722751\n",
       "min         0.000000    1000.000000\n",
       "25%         1.300000    1126.000000\n",
       "50%         6.000000    1260.000000\n",
       "75%        10.700000    1379.000000\n",
       "max        38.000000    1499.000000"
      ]
     },
     "metadata": {},
     "output_type": "display_data"
    },
    {
     "name": "stdout",
     "output_type": "stream",
     "text": [
      "<class 'pandas.core.frame.DataFrame'>\n",
      "RangeIndex: 202607 entries, 0 to 202606\n",
      "Data columns (total 4 columns):\n",
      " #   Column     Non-Null Count   Dtype  \n",
      "---  ------     --------------   -----  \n",
      " 0   id         202607 non-null  object \n",
      " 1   call_date  202607 non-null  object \n",
      " 2   duration   202607 non-null  float64\n",
      " 3   user_id    202607 non-null  int64  \n",
      "dtypes: float64(1), int64(1), object(2)\n",
      "memory usage: 6.2+ MB\n"
     ]
    }
   ],
   "source": [
    "calls = pd.read_csv(ROOT_PATH + 'calls.csv')\n",
    "display(calls.head())\n",
    "display(calls.describe())\n",
    "calls.info()"
   ]
  },
  {
   "cell_type": "code",
   "execution_count": 12,
   "metadata": {
    "scrolled": false
   },
   "outputs": [
    {
     "data": {
      "text/html": [
       "<div>\n",
       "<style scoped>\n",
       "    .dataframe tbody tr th:only-of-type {\n",
       "        vertical-align: middle;\n",
       "    }\n",
       "\n",
       "    .dataframe tbody tr th {\n",
       "        vertical-align: top;\n",
       "    }\n",
       "\n",
       "    .dataframe thead th {\n",
       "        text-align: right;\n",
       "    }\n",
       "</style>\n",
       "<table border=\"1\" class=\"dataframe\">\n",
       "  <thead>\n",
       "    <tr style=\"text-align: right;\">\n",
       "      <th></th>\n",
       "      <th>Unnamed: 0</th>\n",
       "      <th>id</th>\n",
       "      <th>mb_used</th>\n",
       "      <th>session_date</th>\n",
       "      <th>user_id</th>\n",
       "    </tr>\n",
       "  </thead>\n",
       "  <tbody>\n",
       "    <tr>\n",
       "      <th>0</th>\n",
       "      <td>0</td>\n",
       "      <td>1000_0</td>\n",
       "      <td>112.95</td>\n",
       "      <td>2018-11-25</td>\n",
       "      <td>1000</td>\n",
       "    </tr>\n",
       "    <tr>\n",
       "      <th>1</th>\n",
       "      <td>1</td>\n",
       "      <td>1000_1</td>\n",
       "      <td>1052.81</td>\n",
       "      <td>2018-09-07</td>\n",
       "      <td>1000</td>\n",
       "    </tr>\n",
       "    <tr>\n",
       "      <th>2</th>\n",
       "      <td>2</td>\n",
       "      <td>1000_2</td>\n",
       "      <td>1197.26</td>\n",
       "      <td>2018-06-25</td>\n",
       "      <td>1000</td>\n",
       "    </tr>\n",
       "    <tr>\n",
       "      <th>3</th>\n",
       "      <td>3</td>\n",
       "      <td>1000_3</td>\n",
       "      <td>550.27</td>\n",
       "      <td>2018-08-22</td>\n",
       "      <td>1000</td>\n",
       "    </tr>\n",
       "    <tr>\n",
       "      <th>4</th>\n",
       "      <td>4</td>\n",
       "      <td>1000_4</td>\n",
       "      <td>302.56</td>\n",
       "      <td>2018-09-24</td>\n",
       "      <td>1000</td>\n",
       "    </tr>\n",
       "  </tbody>\n",
       "</table>\n",
       "</div>"
      ],
      "text/plain": [
       "   Unnamed: 0      id  mb_used session_date  user_id\n",
       "0           0  1000_0   112.95   2018-11-25     1000\n",
       "1           1  1000_1  1052.81   2018-09-07     1000\n",
       "2           2  1000_2  1197.26   2018-06-25     1000\n",
       "3           3  1000_3   550.27   2018-08-22     1000\n",
       "4           4  1000_4   302.56   2018-09-24     1000"
      ]
     },
     "metadata": {},
     "output_type": "display_data"
    },
    {
     "data": {
      "text/html": [
       "<div>\n",
       "<style scoped>\n",
       "    .dataframe tbody tr th:only-of-type {\n",
       "        vertical-align: middle;\n",
       "    }\n",
       "\n",
       "    .dataframe tbody tr th {\n",
       "        vertical-align: top;\n",
       "    }\n",
       "\n",
       "    .dataframe thead th {\n",
       "        text-align: right;\n",
       "    }\n",
       "</style>\n",
       "<table border=\"1\" class=\"dataframe\">\n",
       "  <thead>\n",
       "    <tr style=\"text-align: right;\">\n",
       "      <th></th>\n",
       "      <th>Unnamed: 0</th>\n",
       "      <th>mb_used</th>\n",
       "      <th>user_id</th>\n",
       "    </tr>\n",
       "  </thead>\n",
       "  <tbody>\n",
       "    <tr>\n",
       "      <th>count</th>\n",
       "      <td>149396.000000</td>\n",
       "      <td>149396.000000</td>\n",
       "      <td>149396.000000</td>\n",
       "    </tr>\n",
       "    <tr>\n",
       "      <th>mean</th>\n",
       "      <td>74697.500000</td>\n",
       "      <td>370.192426</td>\n",
       "      <td>1252.099842</td>\n",
       "    </tr>\n",
       "    <tr>\n",
       "      <th>std</th>\n",
       "      <td>43127.054745</td>\n",
       "      <td>278.300951</td>\n",
       "      <td>144.050823</td>\n",
       "    </tr>\n",
       "    <tr>\n",
       "      <th>min</th>\n",
       "      <td>0.000000</td>\n",
       "      <td>0.000000</td>\n",
       "      <td>1000.000000</td>\n",
       "    </tr>\n",
       "    <tr>\n",
       "      <th>25%</th>\n",
       "      <td>37348.750000</td>\n",
       "      <td>138.187500</td>\n",
       "      <td>1130.000000</td>\n",
       "    </tr>\n",
       "    <tr>\n",
       "      <th>50%</th>\n",
       "      <td>74697.500000</td>\n",
       "      <td>348.015000</td>\n",
       "      <td>1251.000000</td>\n",
       "    </tr>\n",
       "    <tr>\n",
       "      <th>75%</th>\n",
       "      <td>112046.250000</td>\n",
       "      <td>559.552500</td>\n",
       "      <td>1380.000000</td>\n",
       "    </tr>\n",
       "    <tr>\n",
       "      <th>max</th>\n",
       "      <td>149395.000000</td>\n",
       "      <td>1724.830000</td>\n",
       "      <td>1499.000000</td>\n",
       "    </tr>\n",
       "  </tbody>\n",
       "</table>\n",
       "</div>"
      ],
      "text/plain": [
       "          Unnamed: 0        mb_used        user_id\n",
       "count  149396.000000  149396.000000  149396.000000\n",
       "mean    74697.500000     370.192426    1252.099842\n",
       "std     43127.054745     278.300951     144.050823\n",
       "min         0.000000       0.000000    1000.000000\n",
       "25%     37348.750000     138.187500    1130.000000\n",
       "50%     74697.500000     348.015000    1251.000000\n",
       "75%    112046.250000     559.552500    1380.000000\n",
       "max    149395.000000    1724.830000    1499.000000"
      ]
     },
     "metadata": {},
     "output_type": "display_data"
    },
    {
     "name": "stdout",
     "output_type": "stream",
     "text": [
      "<class 'pandas.core.frame.DataFrame'>\n",
      "RangeIndex: 149396 entries, 0 to 149395\n",
      "Data columns (total 5 columns):\n",
      " #   Column        Non-Null Count   Dtype  \n",
      "---  ------        --------------   -----  \n",
      " 0   Unnamed: 0    149396 non-null  int64  \n",
      " 1   id            149396 non-null  object \n",
      " 2   mb_used       149396 non-null  float64\n",
      " 3   session_date  149396 non-null  object \n",
      " 4   user_id       149396 non-null  int64  \n",
      "dtypes: float64(1), int64(2), object(2)\n",
      "memory usage: 5.7+ MB\n"
     ]
    },
    {
     "data": {
      "text/plain": [
       "None"
      ]
     },
     "metadata": {},
     "output_type": "display_data"
    },
    {
     "data": {
      "text/html": [
       "<div>\n",
       "<style scoped>\n",
       "    .dataframe tbody tr th:only-of-type {\n",
       "        vertical-align: middle;\n",
       "    }\n",
       "\n",
       "    .dataframe tbody tr th {\n",
       "        vertical-align: top;\n",
       "    }\n",
       "\n",
       "    .dataframe thead th {\n",
       "        text-align: right;\n",
       "    }\n",
       "</style>\n",
       "<table border=\"1\" class=\"dataframe\">\n",
       "  <thead>\n",
       "    <tr style=\"text-align: right;\">\n",
       "      <th></th>\n",
       "      <th>id</th>\n",
       "      <th>message_date</th>\n",
       "      <th>user_id</th>\n",
       "    </tr>\n",
       "  </thead>\n",
       "  <tbody>\n",
       "    <tr>\n",
       "      <th>0</th>\n",
       "      <td>1000_0</td>\n",
       "      <td>2018-06-27</td>\n",
       "      <td>1000</td>\n",
       "    </tr>\n",
       "    <tr>\n",
       "      <th>1</th>\n",
       "      <td>1000_1</td>\n",
       "      <td>2018-10-08</td>\n",
       "      <td>1000</td>\n",
       "    </tr>\n",
       "    <tr>\n",
       "      <th>2</th>\n",
       "      <td>1000_2</td>\n",
       "      <td>2018-08-04</td>\n",
       "      <td>1000</td>\n",
       "    </tr>\n",
       "    <tr>\n",
       "      <th>3</th>\n",
       "      <td>1000_3</td>\n",
       "      <td>2018-06-16</td>\n",
       "      <td>1000</td>\n",
       "    </tr>\n",
       "    <tr>\n",
       "      <th>4</th>\n",
       "      <td>1000_4</td>\n",
       "      <td>2018-12-05</td>\n",
       "      <td>1000</td>\n",
       "    </tr>\n",
       "  </tbody>\n",
       "</table>\n",
       "</div>"
      ],
      "text/plain": [
       "       id message_date  user_id\n",
       "0  1000_0   2018-06-27     1000\n",
       "1  1000_1   2018-10-08     1000\n",
       "2  1000_2   2018-08-04     1000\n",
       "3  1000_3   2018-06-16     1000\n",
       "4  1000_4   2018-12-05     1000"
      ]
     },
     "metadata": {},
     "output_type": "display_data"
    },
    {
     "data": {
      "text/html": [
       "<div>\n",
       "<style scoped>\n",
       "    .dataframe tbody tr th:only-of-type {\n",
       "        vertical-align: middle;\n",
       "    }\n",
       "\n",
       "    .dataframe tbody tr th {\n",
       "        vertical-align: top;\n",
       "    }\n",
       "\n",
       "    .dataframe thead th {\n",
       "        text-align: right;\n",
       "    }\n",
       "</style>\n",
       "<table border=\"1\" class=\"dataframe\">\n",
       "  <thead>\n",
       "    <tr style=\"text-align: right;\">\n",
       "      <th></th>\n",
       "      <th>user_id</th>\n",
       "    </tr>\n",
       "  </thead>\n",
       "  <tbody>\n",
       "    <tr>\n",
       "      <th>count</th>\n",
       "      <td>123036.000000</td>\n",
       "    </tr>\n",
       "    <tr>\n",
       "      <th>mean</th>\n",
       "      <td>1256.989410</td>\n",
       "    </tr>\n",
       "    <tr>\n",
       "      <th>std</th>\n",
       "      <td>143.523967</td>\n",
       "    </tr>\n",
       "    <tr>\n",
       "      <th>min</th>\n",
       "      <td>1000.000000</td>\n",
       "    </tr>\n",
       "    <tr>\n",
       "      <th>25%</th>\n",
       "      <td>1134.000000</td>\n",
       "    </tr>\n",
       "    <tr>\n",
       "      <th>50%</th>\n",
       "      <td>1271.000000</td>\n",
       "    </tr>\n",
       "    <tr>\n",
       "      <th>75%</th>\n",
       "      <td>1381.000000</td>\n",
       "    </tr>\n",
       "    <tr>\n",
       "      <th>max</th>\n",
       "      <td>1499.000000</td>\n",
       "    </tr>\n",
       "  </tbody>\n",
       "</table>\n",
       "</div>"
      ],
      "text/plain": [
       "             user_id\n",
       "count  123036.000000\n",
       "mean     1256.989410\n",
       "std       143.523967\n",
       "min      1000.000000\n",
       "25%      1134.000000\n",
       "50%      1271.000000\n",
       "75%      1381.000000\n",
       "max      1499.000000"
      ]
     },
     "metadata": {},
     "output_type": "display_data"
    },
    {
     "name": "stdout",
     "output_type": "stream",
     "text": [
      "<class 'pandas.core.frame.DataFrame'>\n",
      "RangeIndex: 123036 entries, 0 to 123035\n",
      "Data columns (total 3 columns):\n",
      " #   Column        Non-Null Count   Dtype \n",
      "---  ------        --------------   ----- \n",
      " 0   id            123036 non-null  object\n",
      " 1   message_date  123036 non-null  object\n",
      " 2   user_id       123036 non-null  int64 \n",
      "dtypes: int64(1), object(2)\n",
      "memory usage: 2.8+ MB\n"
     ]
    },
    {
     "data": {
      "text/plain": [
       "None"
      ]
     },
     "metadata": {},
     "output_type": "display_data"
    },
    {
     "data": {
      "text/html": [
       "<div>\n",
       "<style scoped>\n",
       "    .dataframe tbody tr th:only-of-type {\n",
       "        vertical-align: middle;\n",
       "    }\n",
       "\n",
       "    .dataframe tbody tr th {\n",
       "        vertical-align: top;\n",
       "    }\n",
       "\n",
       "    .dataframe thead th {\n",
       "        text-align: right;\n",
       "    }\n",
       "</style>\n",
       "<table border=\"1\" class=\"dataframe\">\n",
       "  <thead>\n",
       "    <tr style=\"text-align: right;\">\n",
       "      <th></th>\n",
       "      <th>messages_included</th>\n",
       "      <th>mb_per_month_included</th>\n",
       "      <th>minutes_included</th>\n",
       "      <th>rub_monthly_fee</th>\n",
       "      <th>rub_per_gb</th>\n",
       "      <th>rub_per_message</th>\n",
       "      <th>rub_per_minute</th>\n",
       "      <th>tariff_name</th>\n",
       "    </tr>\n",
       "  </thead>\n",
       "  <tbody>\n",
       "    <tr>\n",
       "      <th>0</th>\n",
       "      <td>50</td>\n",
       "      <td>15360</td>\n",
       "      <td>500</td>\n",
       "      <td>550</td>\n",
       "      <td>200</td>\n",
       "      <td>3</td>\n",
       "      <td>3</td>\n",
       "      <td>smart</td>\n",
       "    </tr>\n",
       "    <tr>\n",
       "      <th>1</th>\n",
       "      <td>1000</td>\n",
       "      <td>30720</td>\n",
       "      <td>3000</td>\n",
       "      <td>1950</td>\n",
       "      <td>150</td>\n",
       "      <td>1</td>\n",
       "      <td>1</td>\n",
       "      <td>ultra</td>\n",
       "    </tr>\n",
       "  </tbody>\n",
       "</table>\n",
       "</div>"
      ],
      "text/plain": [
       "   messages_included  mb_per_month_included  minutes_included  \\\n",
       "0                 50                  15360               500   \n",
       "1               1000                  30720              3000   \n",
       "\n",
       "   rub_monthly_fee  rub_per_gb  rub_per_message  rub_per_minute tariff_name  \n",
       "0              550         200                3               3       smart  \n",
       "1             1950         150                1               1       ultra  "
      ]
     },
     "metadata": {},
     "output_type": "display_data"
    },
    {
     "data": {
      "text/html": [
       "<div>\n",
       "<style scoped>\n",
       "    .dataframe tbody tr th:only-of-type {\n",
       "        vertical-align: middle;\n",
       "    }\n",
       "\n",
       "    .dataframe tbody tr th {\n",
       "        vertical-align: top;\n",
       "    }\n",
       "\n",
       "    .dataframe thead th {\n",
       "        text-align: right;\n",
       "    }\n",
       "</style>\n",
       "<table border=\"1\" class=\"dataframe\">\n",
       "  <thead>\n",
       "    <tr style=\"text-align: right;\">\n",
       "      <th></th>\n",
       "      <th>user_id</th>\n",
       "      <th>age</th>\n",
       "      <th>churn_date</th>\n",
       "      <th>city</th>\n",
       "      <th>first_name</th>\n",
       "      <th>last_name</th>\n",
       "      <th>reg_date</th>\n",
       "      <th>tariff</th>\n",
       "    </tr>\n",
       "  </thead>\n",
       "  <tbody>\n",
       "    <tr>\n",
       "      <th>0</th>\n",
       "      <td>1000</td>\n",
       "      <td>52</td>\n",
       "      <td>NaN</td>\n",
       "      <td>Краснодар</td>\n",
       "      <td>Рафаил</td>\n",
       "      <td>Верещагин</td>\n",
       "      <td>2018-05-25</td>\n",
       "      <td>ultra</td>\n",
       "    </tr>\n",
       "    <tr>\n",
       "      <th>1</th>\n",
       "      <td>1001</td>\n",
       "      <td>41</td>\n",
       "      <td>NaN</td>\n",
       "      <td>Москва</td>\n",
       "      <td>Иван</td>\n",
       "      <td>Ежов</td>\n",
       "      <td>2018-11-01</td>\n",
       "      <td>smart</td>\n",
       "    </tr>\n",
       "    <tr>\n",
       "      <th>2</th>\n",
       "      <td>1002</td>\n",
       "      <td>59</td>\n",
       "      <td>NaN</td>\n",
       "      <td>Стерлитамак</td>\n",
       "      <td>Евгений</td>\n",
       "      <td>Абрамович</td>\n",
       "      <td>2018-06-17</td>\n",
       "      <td>smart</td>\n",
       "    </tr>\n",
       "    <tr>\n",
       "      <th>3</th>\n",
       "      <td>1003</td>\n",
       "      <td>23</td>\n",
       "      <td>NaN</td>\n",
       "      <td>Москва</td>\n",
       "      <td>Белла</td>\n",
       "      <td>Белякова</td>\n",
       "      <td>2018-08-17</td>\n",
       "      <td>ultra</td>\n",
       "    </tr>\n",
       "    <tr>\n",
       "      <th>4</th>\n",
       "      <td>1004</td>\n",
       "      <td>68</td>\n",
       "      <td>NaN</td>\n",
       "      <td>Новокузнецк</td>\n",
       "      <td>Татьяна</td>\n",
       "      <td>Авдеенко</td>\n",
       "      <td>2018-05-14</td>\n",
       "      <td>ultra</td>\n",
       "    </tr>\n",
       "  </tbody>\n",
       "</table>\n",
       "</div>"
      ],
      "text/plain": [
       "   user_id  age churn_date         city first_name  last_name    reg_date  \\\n",
       "0     1000   52        NaN    Краснодар     Рафаил  Верещагин  2018-05-25   \n",
       "1     1001   41        NaN       Москва       Иван       Ежов  2018-11-01   \n",
       "2     1002   59        NaN  Стерлитамак    Евгений  Абрамович  2018-06-17   \n",
       "3     1003   23        NaN       Москва      Белла   Белякова  2018-08-17   \n",
       "4     1004   68        NaN  Новокузнецк    Татьяна   Авдеенко  2018-05-14   \n",
       "\n",
       "  tariff  \n",
       "0  ultra  \n",
       "1  smart  \n",
       "2  smart  \n",
       "3  ultra  \n",
       "4  ultra  "
      ]
     },
     "metadata": {},
     "output_type": "display_data"
    },
    {
     "data": {
      "text/html": [
       "<div>\n",
       "<style scoped>\n",
       "    .dataframe tbody tr th:only-of-type {\n",
       "        vertical-align: middle;\n",
       "    }\n",
       "\n",
       "    .dataframe tbody tr th {\n",
       "        vertical-align: top;\n",
       "    }\n",
       "\n",
       "    .dataframe thead th {\n",
       "        text-align: right;\n",
       "    }\n",
       "</style>\n",
       "<table border=\"1\" class=\"dataframe\">\n",
       "  <thead>\n",
       "    <tr style=\"text-align: right;\">\n",
       "      <th></th>\n",
       "      <th>user_id</th>\n",
       "      <th>age</th>\n",
       "    </tr>\n",
       "  </thead>\n",
       "  <tbody>\n",
       "    <tr>\n",
       "      <th>count</th>\n",
       "      <td>500.000000</td>\n",
       "      <td>500.00000</td>\n",
       "    </tr>\n",
       "    <tr>\n",
       "      <th>mean</th>\n",
       "      <td>1249.500000</td>\n",
       "      <td>46.58800</td>\n",
       "    </tr>\n",
       "    <tr>\n",
       "      <th>std</th>\n",
       "      <td>144.481833</td>\n",
       "      <td>16.66763</td>\n",
       "    </tr>\n",
       "    <tr>\n",
       "      <th>min</th>\n",
       "      <td>1000.000000</td>\n",
       "      <td>18.00000</td>\n",
       "    </tr>\n",
       "    <tr>\n",
       "      <th>25%</th>\n",
       "      <td>1124.750000</td>\n",
       "      <td>32.00000</td>\n",
       "    </tr>\n",
       "    <tr>\n",
       "      <th>50%</th>\n",
       "      <td>1249.500000</td>\n",
       "      <td>46.00000</td>\n",
       "    </tr>\n",
       "    <tr>\n",
       "      <th>75%</th>\n",
       "      <td>1374.250000</td>\n",
       "      <td>62.00000</td>\n",
       "    </tr>\n",
       "    <tr>\n",
       "      <th>max</th>\n",
       "      <td>1499.000000</td>\n",
       "      <td>75.00000</td>\n",
       "    </tr>\n",
       "  </tbody>\n",
       "</table>\n",
       "</div>"
      ],
      "text/plain": [
       "           user_id        age\n",
       "count   500.000000  500.00000\n",
       "mean   1249.500000   46.58800\n",
       "std     144.481833   16.66763\n",
       "min    1000.000000   18.00000\n",
       "25%    1124.750000   32.00000\n",
       "50%    1249.500000   46.00000\n",
       "75%    1374.250000   62.00000\n",
       "max    1499.000000   75.00000"
      ]
     },
     "metadata": {},
     "output_type": "display_data"
    },
    {
     "name": "stdout",
     "output_type": "stream",
     "text": [
      "<class 'pandas.core.frame.DataFrame'>\n",
      "RangeIndex: 500 entries, 0 to 499\n",
      "Data columns (total 8 columns):\n",
      " #   Column      Non-Null Count  Dtype \n",
      "---  ------      --------------  ----- \n",
      " 0   user_id     500 non-null    int64 \n",
      " 1   age         500 non-null    int64 \n",
      " 2   churn_date  38 non-null     object\n",
      " 3   city        500 non-null    object\n",
      " 4   first_name  500 non-null    object\n",
      " 5   last_name   500 non-null    object\n",
      " 6   reg_date    500 non-null    object\n",
      " 7   tariff      500 non-null    object\n",
      "dtypes: int64(2), object(6)\n",
      "memory usage: 31.4+ KB\n"
     ]
    },
    {
     "data": {
      "text/plain": [
       "None"
      ]
     },
     "metadata": {},
     "output_type": "display_data"
    }
   ],
   "source": [
    "internet = pd.read_csv(ROOT_PATH + 'internet.csv')\n",
    "display(internet.head())\n",
    "display(internet.describe())\n",
    "display(internet.info())\n",
    "\n",
    "messages = pd.read_csv(ROOT_PATH + 'messages.csv')\n",
    "display(messages.head())\n",
    "display(messages.describe())\n",
    "display(messages.info())\n",
    "\n",
    "tariffs = pd.read_csv(ROOT_PATH + 'tariffs.csv')\n",
    "display(tariffs.head())\n",
    "\n",
    "users = pd.read_csv(ROOT_PATH + 'users.csv')\n",
    "display(users.head())\n",
    "display(users.describe())\n",
    "display(users.info())"
   ]
  },
  {
   "cell_type": "code",
   "execution_count": 13,
   "metadata": {
    "scrolled": true
   },
   "outputs": [
    {
     "name": "stdout",
     "output_type": "stream",
     "text": [
      "0 0 0 0\n"
     ]
    }
   ],
   "source": [
    "# проверяем полные дупликаты\n",
    "print(calls.duplicated().sum(),\n",
    "    messages.duplicated().sum(),\n",
    "    internet.duplicated().sum(),\n",
    "    users.duplicated().sum())"
   ]
  },
  {
   "cell_type": "markdown",
   "metadata": {},
   "source": [
    " ### Вывод\n",
    " Изучили данные. Выбросов пропущенных значений или дубликатов не обнаружено. Столбцы <b>Unnamed: 0</b> и <b>id </b>  из таблицы internet, а также <b>id </b>  из таблицы messages стоит удалить, так как они не несут новой информации."
   ]
  },
  {
   "cell_type": "markdown",
   "metadata": {},
   "source": [
    "## Подготовка данных"
   ]
  },
  {
   "cell_type": "code",
   "execution_count": 14,
   "metadata": {
    "scrolled": false
   },
   "outputs": [],
   "source": [
    "#удаление ненужных колонок\n",
    "internet.drop(columns=['Unnamed: 0', 'id'], inplace=True)\n",
    "messages.drop(columns='id', inplace=True)"
   ]
  },
  {
   "cell_type": "code",
   "execution_count": 15,
   "metadata": {},
   "outputs": [],
   "source": [
    "calls['call_date'] = pd.to_datetime(calls['call_date'])\n",
    "calls['duration'] = np.ceil(calls['duration'])\n",
    "calls['duration'] = calls['duration'].astype('int')\n",
    "calls['month'] = calls['call_date'].dt.month\n",
    "\n",
    "#рассчитываем нужные столбцы, такие как месяц получения сообщения, интернет сессии, совершения звонка\n",
    "calls['call_date'] = pd.to_datetime(calls['call_date'])\n",
    "calls['duration'] = np.ceil(calls['duration'])\n",
    "calls['duration'] = calls['duration'].astype('int')\n",
    "calls['month'] = calls['call_date'].dt.month\n",
    "\n",
    "internet['session_date'] = pd.to_datetime(internet['session_date'])\n",
    "internet['month'] = internet['session_date'].dt.month\n",
    "\n",
    "messages['message_date']= pd.to_datetime(messages['message_date'])\n",
    "messages['month'] = messages['message_date'].dt.month\n",
    "\n",
    "users['reg_date'] = pd.to_datetime(users['reg_date'])\n",
    "users['churn_date'] = pd.to_datetime(users['churn_date'])\n",
    "\n",
    "tariffs = tariffs.rename(columns={'tariff_name':'tariff'}) #для дальнейшего удобства"
   ]
  },
  {
   "cell_type": "code",
   "execution_count": 177,
   "metadata": {
    "scrolled": true
   },
   "outputs": [
    {
     "data": {
      "text/html": [
       "<div>\n",
       "<style scoped>\n",
       "    .dataframe tbody tr th:only-of-type {\n",
       "        vertical-align: middle;\n",
       "    }\n",
       "\n",
       "    .dataframe tbody tr th {\n",
       "        vertical-align: top;\n",
       "    }\n",
       "\n",
       "    .dataframe thead th {\n",
       "        text-align: right;\n",
       "    }\n",
       "</style>\n",
       "<table border=\"1\" class=\"dataframe\">\n",
       "  <thead>\n",
       "    <tr style=\"text-align: right;\">\n",
       "      <th></th>\n",
       "      <th>user_id</th>\n",
       "      <th>city</th>\n",
       "      <th>tariff</th>\n",
       "      <th>messages_included</th>\n",
       "      <th>mb_per_month_included</th>\n",
       "      <th>minutes_included</th>\n",
       "      <th>rub_monthly_fee</th>\n",
       "      <th>rub_per_gb</th>\n",
       "      <th>rub_per_message</th>\n",
       "      <th>rub_per_minute</th>\n",
       "      <th>month</th>\n",
       "      <th>calls_duration</th>\n",
       "      <th>messages_count</th>\n",
       "      <th>internet_used</th>\n",
       "    </tr>\n",
       "  </thead>\n",
       "  <tbody>\n",
       "    <tr>\n",
       "      <th>0</th>\n",
       "      <td>1000</td>\n",
       "      <td>Краснодар</td>\n",
       "      <td>ultra</td>\n",
       "      <td>1000</td>\n",
       "      <td>30720</td>\n",
       "      <td>3000</td>\n",
       "      <td>1950</td>\n",
       "      <td>150</td>\n",
       "      <td>1</td>\n",
       "      <td>1</td>\n",
       "      <td>5.0</td>\n",
       "      <td>159.0</td>\n",
       "      <td>22.0</td>\n",
       "      <td>3.0</td>\n",
       "    </tr>\n",
       "    <tr>\n",
       "      <th>1</th>\n",
       "      <td>1000</td>\n",
       "      <td>Краснодар</td>\n",
       "      <td>ultra</td>\n",
       "      <td>1000</td>\n",
       "      <td>30720</td>\n",
       "      <td>3000</td>\n",
       "      <td>1950</td>\n",
       "      <td>150</td>\n",
       "      <td>1</td>\n",
       "      <td>1</td>\n",
       "      <td>6.0</td>\n",
       "      <td>172.0</td>\n",
       "      <td>60.0</td>\n",
       "      <td>23.0</td>\n",
       "    </tr>\n",
       "    <tr>\n",
       "      <th>2</th>\n",
       "      <td>1000</td>\n",
       "      <td>Краснодар</td>\n",
       "      <td>ultra</td>\n",
       "      <td>1000</td>\n",
       "      <td>30720</td>\n",
       "      <td>3000</td>\n",
       "      <td>1950</td>\n",
       "      <td>150</td>\n",
       "      <td>1</td>\n",
       "      <td>1</td>\n",
       "      <td>7.0</td>\n",
       "      <td>340.0</td>\n",
       "      <td>75.0</td>\n",
       "      <td>14.0</td>\n",
       "    </tr>\n",
       "    <tr>\n",
       "      <th>3</th>\n",
       "      <td>1000</td>\n",
       "      <td>Краснодар</td>\n",
       "      <td>ultra</td>\n",
       "      <td>1000</td>\n",
       "      <td>30720</td>\n",
       "      <td>3000</td>\n",
       "      <td>1950</td>\n",
       "      <td>150</td>\n",
       "      <td>1</td>\n",
       "      <td>1</td>\n",
       "      <td>8.0</td>\n",
       "      <td>408.0</td>\n",
       "      <td>81.0</td>\n",
       "      <td>14.0</td>\n",
       "    </tr>\n",
       "    <tr>\n",
       "      <th>4</th>\n",
       "      <td>1000</td>\n",
       "      <td>Краснодар</td>\n",
       "      <td>ultra</td>\n",
       "      <td>1000</td>\n",
       "      <td>30720</td>\n",
       "      <td>3000</td>\n",
       "      <td>1950</td>\n",
       "      <td>150</td>\n",
       "      <td>1</td>\n",
       "      <td>1</td>\n",
       "      <td>9.0</td>\n",
       "      <td>466.0</td>\n",
       "      <td>57.0</td>\n",
       "      <td>15.0</td>\n",
       "    </tr>\n",
       "  </tbody>\n",
       "</table>\n",
       "</div>"
      ],
      "text/plain": [
       "   user_id       city tariff  messages_included  mb_per_month_included  \\\n",
       "0     1000  Краснодар  ultra               1000                  30720   \n",
       "1     1000  Краснодар  ultra               1000                  30720   \n",
       "2     1000  Краснодар  ultra               1000                  30720   \n",
       "3     1000  Краснодар  ultra               1000                  30720   \n",
       "4     1000  Краснодар  ultra               1000                  30720   \n",
       "\n",
       "   minutes_included  rub_monthly_fee  rub_per_gb  rub_per_message  \\\n",
       "0              3000             1950         150                1   \n",
       "1              3000             1950         150                1   \n",
       "2              3000             1950         150                1   \n",
       "3              3000             1950         150                1   \n",
       "4              3000             1950         150                1   \n",
       "\n",
       "   rub_per_minute  month  calls_duration  messages_count  internet_used  \n",
       "0               1    5.0           159.0            22.0            3.0  \n",
       "1               1    6.0           172.0            60.0           23.0  \n",
       "2               1    7.0           340.0            75.0           14.0  \n",
       "3               1    8.0           408.0            81.0           14.0  \n",
       "4               1    9.0           466.0            57.0           15.0  "
      ]
     },
     "execution_count": 177,
     "metadata": {},
     "output_type": "execute_result"
    }
   ],
   "source": [
    "#создаем суммарный датасет со статистикой по каждому юзеру и месяцу\n",
    "stat = calls.groupby(['user_id','month'])[['duration']].agg([sum]).reset_index()\n",
    "stat.columns = ['user_id','month', 'calls_duration']\n",
    "\n",
    "a = messages.groupby(['user_id','month'])[['message_date']].agg(['count']).reset_index()\n",
    "a.columns = ['user_id','month', 'messages_count']\n",
    "stat = pd.merge(stat, a, on=['user_id', 'month'], how='outer')\n",
    "\n",
    "a = internet.groupby(['user_id','month'])[['mb_used']].agg([sum]).reset_index()\n",
    "a.columns = ['user_id', 'month', 'internet_used']\n",
    "a['internet_used'] = np.ceil(a['internet_used'] / 1024).astype('int')\n",
    "stat = pd.merge(stat, a, on=['user_id', 'month'], how='outer')\n",
    "\n",
    "b = pd.merge(users[['user_id','city', 'tariff']], tariffs, on='tariff')\n",
    "stat = pd.merge(b, stat, on=['user_id'], how='outer')\n",
    "\n",
    "stat.head()"
   ]
  },
  {
   "cell_type": "code",
   "execution_count": 167,
   "metadata": {},
   "outputs": [
    {
     "data": {
      "text/html": [
       "<div>\n",
       "<style scoped>\n",
       "    .dataframe tbody tr th:only-of-type {\n",
       "        vertical-align: middle;\n",
       "    }\n",
       "\n",
       "    .dataframe tbody tr th {\n",
       "        vertical-align: top;\n",
       "    }\n",
       "\n",
       "    .dataframe thead th {\n",
       "        text-align: right;\n",
       "    }\n",
       "</style>\n",
       "<table border=\"1\" class=\"dataframe\">\n",
       "  <thead>\n",
       "    <tr style=\"text-align: right;\">\n",
       "      <th></th>\n",
       "      <th>user_id</th>\n",
       "      <th>city</th>\n",
       "      <th>tariff</th>\n",
       "      <th>messages_included</th>\n",
       "      <th>mb_per_month_included</th>\n",
       "      <th>minutes_included</th>\n",
       "      <th>rub_monthly_fee</th>\n",
       "      <th>rub_per_gb</th>\n",
       "      <th>rub_per_message</th>\n",
       "      <th>rub_per_minute</th>\n",
       "      <th>month</th>\n",
       "      <th>calls_duration</th>\n",
       "      <th>messages_count</th>\n",
       "      <th>internet_used</th>\n",
       "      <th>revenue</th>\n",
       "    </tr>\n",
       "  </thead>\n",
       "  <tbody>\n",
       "    <tr>\n",
       "      <th>0</th>\n",
       "      <td>1000</td>\n",
       "      <td>Краснодар</td>\n",
       "      <td>ultra</td>\n",
       "      <td>1000</td>\n",
       "      <td>30720</td>\n",
       "      <td>3000</td>\n",
       "      <td>1950</td>\n",
       "      <td>150</td>\n",
       "      <td>1</td>\n",
       "      <td>1</td>\n",
       "      <td>5.0</td>\n",
       "      <td>159.0</td>\n",
       "      <td>22.0</td>\n",
       "      <td>3.0</td>\n",
       "      <td>1950.0</td>\n",
       "    </tr>\n",
       "    <tr>\n",
       "      <th>1</th>\n",
       "      <td>1000</td>\n",
       "      <td>Краснодар</td>\n",
       "      <td>ultra</td>\n",
       "      <td>1000</td>\n",
       "      <td>30720</td>\n",
       "      <td>3000</td>\n",
       "      <td>1950</td>\n",
       "      <td>150</td>\n",
       "      <td>1</td>\n",
       "      <td>1</td>\n",
       "      <td>6.0</td>\n",
       "      <td>172.0</td>\n",
       "      <td>60.0</td>\n",
       "      <td>23.0</td>\n",
       "      <td>1950.0</td>\n",
       "    </tr>\n",
       "    <tr>\n",
       "      <th>2</th>\n",
       "      <td>1000</td>\n",
       "      <td>Краснодар</td>\n",
       "      <td>ultra</td>\n",
       "      <td>1000</td>\n",
       "      <td>30720</td>\n",
       "      <td>3000</td>\n",
       "      <td>1950</td>\n",
       "      <td>150</td>\n",
       "      <td>1</td>\n",
       "      <td>1</td>\n",
       "      <td>7.0</td>\n",
       "      <td>340.0</td>\n",
       "      <td>75.0</td>\n",
       "      <td>14.0</td>\n",
       "      <td>1950.0</td>\n",
       "    </tr>\n",
       "    <tr>\n",
       "      <th>3</th>\n",
       "      <td>1000</td>\n",
       "      <td>Краснодар</td>\n",
       "      <td>ultra</td>\n",
       "      <td>1000</td>\n",
       "      <td>30720</td>\n",
       "      <td>3000</td>\n",
       "      <td>1950</td>\n",
       "      <td>150</td>\n",
       "      <td>1</td>\n",
       "      <td>1</td>\n",
       "      <td>8.0</td>\n",
       "      <td>408.0</td>\n",
       "      <td>81.0</td>\n",
       "      <td>14.0</td>\n",
       "      <td>1950.0</td>\n",
       "    </tr>\n",
       "    <tr>\n",
       "      <th>4</th>\n",
       "      <td>1000</td>\n",
       "      <td>Краснодар</td>\n",
       "      <td>ultra</td>\n",
       "      <td>1000</td>\n",
       "      <td>30720</td>\n",
       "      <td>3000</td>\n",
       "      <td>1950</td>\n",
       "      <td>150</td>\n",
       "      <td>1</td>\n",
       "      <td>1</td>\n",
       "      <td>9.0</td>\n",
       "      <td>466.0</td>\n",
       "      <td>57.0</td>\n",
       "      <td>15.0</td>\n",
       "      <td>1950.0</td>\n",
       "    </tr>\n",
       "  </tbody>\n",
       "</table>\n",
       "</div>"
      ],
      "text/plain": [
       "   user_id       city tariff  messages_included  mb_per_month_included  \\\n",
       "0     1000  Краснодар  ultra               1000                  30720   \n",
       "1     1000  Краснодар  ultra               1000                  30720   \n",
       "2     1000  Краснодар  ultra               1000                  30720   \n",
       "3     1000  Краснодар  ultra               1000                  30720   \n",
       "4     1000  Краснодар  ultra               1000                  30720   \n",
       "\n",
       "   minutes_included  rub_monthly_fee  rub_per_gb  rub_per_message  \\\n",
       "0              3000             1950         150                1   \n",
       "1              3000             1950         150                1   \n",
       "2              3000             1950         150                1   \n",
       "3              3000             1950         150                1   \n",
       "4              3000             1950         150                1   \n",
       "\n",
       "   rub_per_minute  month  calls_duration  messages_count  internet_used  \\\n",
       "0               1    5.0           159.0            22.0            3.0   \n",
       "1               1    6.0           172.0            60.0           23.0   \n",
       "2               1    7.0           340.0            75.0           14.0   \n",
       "3               1    8.0           408.0            81.0           14.0   \n",
       "4               1    9.0           466.0            57.0           15.0   \n",
       "\n",
       "   revenue  \n",
       "0   1950.0  \n",
       "1   1950.0  \n",
       "2   1950.0  \n",
       "3   1950.0  \n",
       "4   1950.0  "
      ]
     },
     "execution_count": 167,
     "metadata": {},
     "output_type": "execute_result"
    }
   ],
   "source": [
    "def revenue(row):\n",
    "    \"\"\"\n",
    "    Функция расчёта выручки. \n",
    "    Получает из строки объём потраченных ресурсов \n",
    "    и расчитывает итоговую сумму, уплачиваемую абонентом\n",
    "    \"\"\"    \n",
    "    # выручка минимально равна абонентской плате\n",
    "    revenue = row['rub_monthly_fee']\n",
    "    # плата за звонки сверх пакета минут\n",
    "    calls = (row['calls_duration'] - row['minutes_included']) * row['rub_per_minute']\n",
    "    # плата за сообщения сверх пакета сообщений\n",
    "    messages = (row['messages_count'] - row['messages_included']) * row['rub_per_message']\n",
    "    # количество интернет-трафика сверх пакета в гигабайтах\n",
    "    internet = row['internet_used'] - row['mb_per_month_included'] / 1024\n",
    "    # плата за превышение количества интернет-трафика сверх пакета\n",
    "    internet *= row['rub_per_gb']\n",
    "\n",
    "    # если есть превышение лимитов тарифных пакетов, \n",
    "    # то плата за превышение суммируется с абонентской платой    \n",
    "    for i in [calls, messages, internet]:\n",
    "        if i > 0:\n",
    "            revenue += i\n",
    "\n",
    "    return revenue\n",
    "\n",
    "stat['revenue'] = stat.apply(revenue, axis=1)\n",
    "stat.head()"
   ]
  },
  {
   "cell_type": "markdown",
   "metadata": {},
   "source": [
    "### Вывод\n",
    "Подготовили данные. Временные отметки теперь в типе datetime, продолжительность каждого разговора и месячный интернет-траффик для каждого пользователя  округлили согласно правилам оператора.\n",
    "\n",
    "В таблицe stat собраны данные для каждого клиента о кол-ве потраченных минут, SMS, и Гб за каждый месяц, а также суммарная выручка с этого клиента за каждый месяц."
   ]
  },
  {
   "cell_type": "markdown",
   "metadata": {},
   "source": [
    "## Анализ"
   ]
  },
  {
   "cell_type": "markdown",
   "metadata": {},
   "source": [
    "Посчитайте для каждого пользователя:\n",
    "количество сделанных звонков и израсходованных минут разговора по месяцам;\n",
    "количество отправленных сообщений по месяцам;\n",
    "объем израсходованного интернет-трафика по месяцам;\n",
    "помесячную выручку с каждого пользователя (вычтите бесплатный лимит из суммарного количества звонков, сообщений и интернет-трафика; остаток умножьте на значение из тарифного плана; прибавьте абонентскую плату, соответствующую тарифному плану)."
   ]
  },
  {
   "cell_type": "markdown",
   "metadata": {
    "scrolled": false
   },
   "source": [
    "Сколько минут разговора, сколько сообщений и какой объём интернет-трафика требуется пользователям каждого тарифа в месяц? \n",
    "Посчитайте среднее количество, дисперсию и стандартное отклонение. Постройте гистограммы. Опишите распределения."
   ]
  },
  {
   "cell_type": "code",
   "execution_count": 158,
   "metadata": {},
   "outputs": [
    {
     "data": {
      "text/html": [
       "<div>\n",
       "<style scoped>\n",
       "    .dataframe tbody tr th:only-of-type {\n",
       "        vertical-align: middle;\n",
       "    }\n",
       "\n",
       "    .dataframe tbody tr th {\n",
       "        vertical-align: top;\n",
       "    }\n",
       "\n",
       "    .dataframe thead tr th {\n",
       "        text-align: left;\n",
       "    }\n",
       "\n",
       "    .dataframe thead tr:last-of-type th {\n",
       "        text-align: right;\n",
       "    }\n",
       "</style>\n",
       "<table border=\"1\" class=\"dataframe\">\n",
       "  <thead>\n",
       "    <tr>\n",
       "      <th></th>\n",
       "      <th colspan=\"4\" halign=\"left\">calls_duration</th>\n",
       "    </tr>\n",
       "    <tr>\n",
       "      <th></th>\n",
       "      <th>count</th>\n",
       "      <th>mean</th>\n",
       "      <th>median</th>\n",
       "      <th>std</th>\n",
       "    </tr>\n",
       "    <tr>\n",
       "      <th>tariff</th>\n",
       "      <th></th>\n",
       "      <th></th>\n",
       "      <th></th>\n",
       "      <th></th>\n",
       "    </tr>\n",
       "  </thead>\n",
       "  <tbody>\n",
       "    <tr>\n",
       "      <th>smart</th>\n",
       "      <td>2223</td>\n",
       "      <td>419.062978</td>\n",
       "      <td>423.0</td>\n",
       "      <td>189.325618</td>\n",
       "    </tr>\n",
       "    <tr>\n",
       "      <th>ultra</th>\n",
       "      <td>951</td>\n",
       "      <td>545.451104</td>\n",
       "      <td>528.0</td>\n",
       "      <td>306.925754</td>\n",
       "    </tr>\n",
       "  </tbody>\n",
       "</table>\n",
       "</div>"
      ],
      "text/plain": [
       "       calls_duration                               \n",
       "                count        mean median         std\n",
       "tariff                                              \n",
       "smart            2223  419.062978  423.0  189.325618\n",
       "ultra             951  545.451104  528.0  306.925754"
      ]
     },
     "metadata": {},
     "output_type": "display_data"
    },
    {
     "data": {
      "text/plain": [
       "[]"
      ]
     },
     "execution_count": 158,
     "metadata": {},
     "output_type": "execute_result"
    },
    {
     "data": {
      "image/png": "[encoded data removed]",
      "text/plain": [
       "<Figure size 432x288 with 1 Axes>"
      ]
     },
     "metadata": {
      "needs_background": "light"
     },
     "output_type": "display_data"
    }
   ],
   "source": [
    "display(stat.groupby(by='tariff')[['calls_duration']].agg(['count', 'mean', 'median', 'std']))\n",
    "\n",
    "stat.query('tariff == \"smart\"')['calls_duration'].hist(bins=20, label='smart',alpha=0.5, density=True)\n",
    "stat.query('tariff == \"ultra\"')['calls_duration'].hist(bins=20,label='ultra',alpha=0.5, density=True)\n",
    "plt.legend()\n",
    "plt.title('monthly call duration distribution, min')\n",
    "plt.plot()"
   ]
  },
  {
   "cell_type": "code",
   "execution_count": 159,
   "metadata": {},
   "outputs": [
    {
     "data": {
      "text/html": [
       "<div>\n",
       "<style scoped>\n",
       "    .dataframe tbody tr th:only-of-type {\n",
       "        vertical-align: middle;\n",
       "    }\n",
       "\n",
       "    .dataframe tbody tr th {\n",
       "        vertical-align: top;\n",
       "    }\n",
       "\n",
       "    .dataframe thead tr th {\n",
       "        text-align: left;\n",
       "    }\n",
       "\n",
       "    .dataframe thead tr:last-of-type th {\n",
       "        text-align: right;\n",
       "    }\n",
       "</style>\n",
       "<table border=\"1\" class=\"dataframe\">\n",
       "  <thead>\n",
       "    <tr>\n",
       "      <th></th>\n",
       "      <th colspan=\"4\" halign=\"left\">messages_count</th>\n",
       "    </tr>\n",
       "    <tr>\n",
       "      <th></th>\n",
       "      <th>count</th>\n",
       "      <th>mean</th>\n",
       "      <th>median</th>\n",
       "      <th>std</th>\n",
       "    </tr>\n",
       "    <tr>\n",
       "      <th>tariff</th>\n",
       "      <th></th>\n",
       "      <th></th>\n",
       "      <th></th>\n",
       "      <th></th>\n",
       "    </tr>\n",
       "  </thead>\n",
       "  <tbody>\n",
       "    <tr>\n",
       "      <th>smart</th>\n",
       "      <td>1922</td>\n",
       "      <td>38.716441</td>\n",
       "      <td>34.0</td>\n",
       "      <td>26.787949</td>\n",
       "    </tr>\n",
       "    <tr>\n",
       "      <th>ultra</th>\n",
       "      <td>795</td>\n",
       "      <td>61.161006</td>\n",
       "      <td>51.0</td>\n",
       "      <td>45.931026</td>\n",
       "    </tr>\n",
       "  </tbody>\n",
       "</table>\n",
       "</div>"
      ],
      "text/plain": [
       "       messages_count                             \n",
       "                count       mean median        std\n",
       "tariff                                            \n",
       "smart            1922  38.716441   34.0  26.787949\n",
       "ultra             795  61.161006   51.0  45.931026"
      ]
     },
     "metadata": {},
     "output_type": "display_data"
    },
    {
     "data": {
      "text/plain": [
       "[]"
      ]
     },
     "execution_count": 159,
     "metadata": {},
     "output_type": "execute_result"
    },
    {
     "data": {
      "image/png": "[encoded data removed]",
      "text/plain": [
       "<Figure size 432x288 with 1 Axes>"
      ]
     },
     "metadata": {
      "needs_background": "light"
     },
     "output_type": "display_data"
    }
   ],
   "source": [
    "display(stat.groupby(by='tariff')[['messages_count']].agg(['count', 'mean', 'median', 'std']))\n",
    "\n",
    "stat.query('tariff == \"smart\"')['messages_count'].hist(bins=20, label='smart',alpha=0.5, density=True)\n",
    "stat.query('tariff == \"ultra\"')['messages_count'].hist(bins=20,label='ultra',alpha=0.5, density=True)\n",
    "plt.legend()\n",
    "plt.title('monthly messages distribution')\n",
    "plt.plot()"
   ]
  },
  {
   "cell_type": "code",
   "execution_count": 160,
   "metadata": {},
   "outputs": [
    {
     "data": {
      "text/html": [
       "<div>\n",
       "<style scoped>\n",
       "    .dataframe tbody tr th:only-of-type {\n",
       "        vertical-align: middle;\n",
       "    }\n",
       "\n",
       "    .dataframe tbody tr th {\n",
       "        vertical-align: top;\n",
       "    }\n",
       "\n",
       "    .dataframe thead tr th {\n",
       "        text-align: left;\n",
       "    }\n",
       "\n",
       "    .dataframe thead tr:last-of-type th {\n",
       "        text-align: right;\n",
       "    }\n",
       "</style>\n",
       "<table border=\"1\" class=\"dataframe\">\n",
       "  <thead>\n",
       "    <tr>\n",
       "      <th></th>\n",
       "      <th colspan=\"4\" halign=\"left\">internet_used</th>\n",
       "    </tr>\n",
       "    <tr>\n",
       "      <th></th>\n",
       "      <th>count</th>\n",
       "      <th>mean</th>\n",
       "      <th>median</th>\n",
       "      <th>std</th>\n",
       "    </tr>\n",
       "    <tr>\n",
       "      <th>tariff</th>\n",
       "      <th></th>\n",
       "      <th></th>\n",
       "      <th></th>\n",
       "      <th></th>\n",
       "    </tr>\n",
       "  </thead>\n",
       "  <tbody>\n",
       "    <tr>\n",
       "      <th>smart</th>\n",
       "      <td>2228</td>\n",
       "      <td>16.336176</td>\n",
       "      <td>17.0</td>\n",
       "      <td>5.737923</td>\n",
       "    </tr>\n",
       "    <tr>\n",
       "      <th>ultra</th>\n",
       "      <td>975</td>\n",
       "      <td>19.694359</td>\n",
       "      <td>19.0</td>\n",
       "      <td>9.702924</td>\n",
       "    </tr>\n",
       "  </tbody>\n",
       "</table>\n",
       "</div>"
      ],
      "text/plain": [
       "       internet_used                            \n",
       "               count       mean median       std\n",
       "tariff                                          \n",
       "smart           2228  16.336176   17.0  5.737923\n",
       "ultra            975  19.694359   19.0  9.702924"
      ]
     },
     "metadata": {},
     "output_type": "display_data"
    },
    {
     "data": {
      "text/plain": [
       "[]"
      ]
     },
     "execution_count": 160,
     "metadata": {},
     "output_type": "execute_result"
    },
    {
     "data": {
      "image/png": "[encoded data removed]",
      "text/plain": [
       "<Figure size 432x288 with 1 Axes>"
      ]
     },
     "metadata": {
      "needs_background": "light"
     },
     "output_type": "display_data"
    }
   ],
   "source": [
    "display(stat.groupby(by='tariff')[['internet_used']].agg(['count', 'mean', 'median', 'std']))\n",
    "\n",
    "stat.query('tariff == \"smart\"')['internet_used'].hist(bins=15, label='smart',alpha=0.5, density=True)\n",
    "stat.query('tariff == \"ultra\"')['internet_used'].hist(bins=15,label='ultra',alpha=0.5, density=True)\n",
    "plt.legend()\n",
    "plt.title('monthly traffic distribution, GB')\n",
    "plt.plot()"
   ]
  },
  {
   "cell_type": "markdown",
   "metadata": {},
   "source": [
    "### Вывод\n",
    "Распределения продолжительности звонков и интернет-трафика напоминают нормальные.\n",
    "Для всех трех параметров можно сказать, что в случае ultra-клиентов распределение более размазано (стандартное отклонение выше): средний расход, а также максимальное значение потраченных минут, сообщений и гигабайтов больше. \n",
    "\n",
    "В среднем все пользователи укладываются в выделяемое количество минут и сообщений. Однако пользователи smart близки к лимиту (среднее 418 мин близко к месячному лимиту 500 мин), в то время как пользователи ultra тратя только 500 мин из 3000. Количество сообщений составляет 38 и 61 для пользователей smart и ultra, соответственно. Обе группы укладываются в лимиты.\n",
    "\n",
    "Пользователи smart незначительно превышают лимит в 15 ГБ (среднее количество истраченных ГБ составляет 16 ГБ), есть смысл поднять расценки за дополнительные ГБ на этом тарифе, в то время как пользователи ultra могут потратить еще 11 ГБ трафика."
   ]
  },
  {
   "cell_type": "markdown",
   "metadata": {},
   "source": [
    "## Проверка гипотез"
   ]
  },
  {
   "cell_type": "markdown",
   "metadata": {},
   "source": [
    "Проверьте гипотезы средняя выручка пользователей тарифов «Ультра» и «Смарт» различаются; средняя выручка пользователей из Москвы отличается от выручки пользователей из других регионов. Пороговое значение alpha задайте самостоятельно. Поясните: как вы формулировали нулевую и альтернативную гипотезы; какой критерий использовали для проверки гипотез и почему."
   ]
  },
  {
   "cell_type": "code",
   "execution_count": 171,
   "metadata": {
    "scrolled": false
   },
   "outputs": [
    {
     "data": {
      "text/html": [
       "<div>\n",
       "<style scoped>\n",
       "    .dataframe tbody tr th:only-of-type {\n",
       "        vertical-align: middle;\n",
       "    }\n",
       "\n",
       "    .dataframe tbody tr th {\n",
       "        vertical-align: top;\n",
       "    }\n",
       "\n",
       "    .dataframe thead tr th {\n",
       "        text-align: left;\n",
       "    }\n",
       "\n",
       "    .dataframe thead tr:last-of-type th {\n",
       "        text-align: right;\n",
       "    }\n",
       "</style>\n",
       "<table border=\"1\" class=\"dataframe\">\n",
       "  <thead>\n",
       "    <tr>\n",
       "      <th></th>\n",
       "      <th colspan=\"4\" halign=\"left\">revenue</th>\n",
       "    </tr>\n",
       "    <tr>\n",
       "      <th></th>\n",
       "      <th>count</th>\n",
       "      <th>mean</th>\n",
       "      <th>median</th>\n",
       "      <th>std</th>\n",
       "    </tr>\n",
       "    <tr>\n",
       "      <th>tariff</th>\n",
       "      <th></th>\n",
       "      <th></th>\n",
       "      <th></th>\n",
       "      <th></th>\n",
       "    </tr>\n",
       "  </thead>\n",
       "  <tbody>\n",
       "    <tr>\n",
       "      <th>smart</th>\n",
       "      <td>2230</td>\n",
       "      <td>1289.641704</td>\n",
       "      <td>1021.0</td>\n",
       "      <td>818.370799</td>\n",
       "    </tr>\n",
       "    <tr>\n",
       "      <th>ultra</th>\n",
       "      <td>986</td>\n",
       "      <td>2070.030426</td>\n",
       "      <td>1950.0</td>\n",
       "      <td>376.015578</td>\n",
       "    </tr>\n",
       "  </tbody>\n",
       "</table>\n",
       "</div>"
      ],
      "text/plain": [
       "       revenue                                 \n",
       "         count         mean  median         std\n",
       "tariff                                         \n",
       "smart     2230  1289.641704  1021.0  818.370799\n",
       "ultra      986  2070.030426  1950.0  376.015578"
      ]
     },
     "metadata": {},
     "output_type": "display_data"
    },
    {
     "data": {
      "text/plain": [
       "[]"
      ]
     },
     "execution_count": 171,
     "metadata": {},
     "output_type": "execute_result"
    },
    {
     "data": {
      "image/png": "[encoded data removed]",
      "text/plain": [
       "<Figure size 432x288 with 1 Axes>"
      ]
     },
     "metadata": {
      "needs_background": "light"
     },
     "output_type": "display_data"
    }
   ],
   "source": [
    "display(stat.groupby(by='tariff')[['revenue']].agg(['count', 'mean', 'median', 'std']))\n",
    "\n",
    "stat.query('tariff == \"smart\"')['revenue'].hist(bins=15, label='smart',alpha=0.5, density=True)\n",
    "stat.query('tariff == \"ultra\"')['revenue'].hist(bins=15,label='ultra',alpha=0.5, density=True)\n",
    "plt.legend()\n",
    "plt.title('monthly revenue distribution, rub')\n",
    "plt.plot()"
   ]
  },
  {
   "cell_type": "code",
   "execution_count": 173,
   "metadata": {},
   "outputs": [
    {
     "name": "stdout",
     "output_type": "stream",
     "text": [
      "p-значение: 8.081909555489933e-161\n",
      "Отвергаем нулевую гипотезу\n"
     ]
    }
   ],
   "source": [
    "alpha = .01 # критический уровень статистической значимости\n",
    "\n",
    "results = st.ttest_ind(stat.query('tariff == \"smart\"')['revenue'], stat.query('tariff == \"ultra\"')['revenue'])\n",
    "results.statistic, results.pvalue\n",
    "\n",
    "print('p-значение:', results.pvalue) \n",
    "if  results.pvalue < alpha:# сравниваем получившееся p-значение с заданным уровнем статистической значимости\n",
    "    print(\"Отвергаем нулевую гипотезу\")\n",
    "else:\n",
    "    print(\"Не получилось отвергнуть нулевую гипотезу\")"
   ]
  },
  {
   "cell_type": "markdown",
   "metadata": {},
   "source": [
    "<b>Проверка гипотезы</b>: средняя выручка пользователей тарифов «Ультра» и «Смарт» различаются \n",
    "\n",
    "Н0: средние равны выручки по пользователям разных тарифов равны\n",
    "\n",
    "Н1: средние не равны\n",
    "\n",
    "<b>Вывод</b>: проверяли гипотезу о равенстве средних двух выборок (генеральных совокупностей). Нулевая гипотеза отвергается"
   ]
  },
  {
   "cell_type": "code",
   "execution_count": 175,
   "metadata": {
    "scrolled": false
   },
   "outputs": [
    {
     "name": "stdout",
     "output_type": "stream",
     "text": [
      "Moscow profit\n",
      " count      611.000000\n",
      "mean      1546.713584\n",
      "median    1750.000000\n",
      "std        752.088071\n",
      "Name: revenue, dtype: float64 \n",
      "\n",
      "not Moscow profit\n",
      " count     2605.000000\n",
      "mean      1524.725144\n",
      "median    1583.000000\n",
      "std        808.745680\n",
      "Name: revenue, dtype: float64\n"
     ]
    },
    {
     "name": "stderr",
     "output_type": "stream",
     "text": [
      "C:\\ProgramData\\Anaconda3\\lib\\site-packages\\numpy\\core\\_asarray.py:83: VisibleDeprecationWarning: Creating an ndarray from ragged nested sequences (which is a list-or-tuple of lists-or-tuples-or ndarrays with different lengths or shapes) is deprecated. If you meant to do this, you must specify 'dtype=object' when creating the ndarray\n",
      "  return array(a, dtype, copy=False, order=order)\n"
     ]
    },
    {
     "data": {
      "text/plain": [
       "[]"
      ]
     },
     "execution_count": 175,
     "metadata": {},
     "output_type": "execute_result"
    },
    {
     "data": {
      "image/png": "[encoded data removed]",
      "text/plain": [
       "<Figure size 432x288 with 1 Axes>"
      ]
     },
     "metadata": {
      "needs_background": "light"
     },
     "output_type": "display_data"
    }
   ],
   "source": [
    "moscow_profit = stat.query('city == \"Москва\"')['revenue']\n",
    "nonmoscow_profit = stat.query('city != \"Москва\"')['revenue']\n",
    "\n",
    "print('Moscow profit\\n', moscow_profit.agg(['count', 'mean', 'median', 'std']), '\\n')\n",
    "print('not Moscow profit\\n', nonmoscow_profit.agg(['count', 'mean', 'median', 'std']))\n",
    "\n",
    "plt.hist(x = [moscow_profit, nonmoscow_profit], bins=20, label=['Moscow','not Moscow'], density=True, rwidth=1)\n",
    "plt.legend()\n",
    "plt.title('monthly profit distribution, rub')\n",
    "plt.plot()"
   ]
  },
  {
   "cell_type": "code",
   "execution_count": 176,
   "metadata": {},
   "outputs": [
    {
     "name": "stdout",
     "output_type": "stream",
     "text": [
      "p-значение: 0.5400751614511182\n",
      "Не получилось отвергнуть нулевую гипотезу\n"
     ]
    }
   ],
   "source": [
    "results = st.ttest_ind(moscow_profit, nonmoscow_profit)\n",
    "results.statistic, results.pvalue\n",
    "\n",
    "print('p-значение:', results.pvalue) \n",
    "if  results.pvalue < alpha:# сравниваем получившееся p-значение с заданным уровнем статистической значимости\n",
    "    print(\"Отвергаем нулевую гипотезу\")\n",
    "else:\n",
    "    print(\"Не получилось отвергнуть нулевую гипотезу\")"
   ]
  },
  {
   "cell_type": "markdown",
   "metadata": {},
   "source": [
    "<b>Проверка гипотезы</b>: средняя выручка пользователей тарифов «Ультра» и «Смарт» различаются \n",
    "\n",
    "Н0: средние значения выручки по пользователям из разных областей равны\n",
    "\n",
    "Н1: средние не равны\n",
    "\n",
    "<b>Вывод</b>: проверяли гипотезу о равенстве средних двух генеральных совокупностей. \n",
    "Нулевую гипотезy отвергнуть нельзя. Средние для Москвы и не Москвы могут быть равны."
   ]
  },
  {
   "cell_type": "markdown",
   "metadata": {},
   "source": [
    "## Выводы"
   ]
  },
  {
   "cell_type": "markdown",
   "metadata": {},
   "source": [
    "Был проанализирован предложенный датасет с информацией от оператора сотовой связи. Проведена предобработка данных: заменен тип данных для некоторых столбцов. Выбросы или пропущенные значения выявлены не были.\n",
    "\n",
    "Проведены дополнительные расчет минут разговора, количества сообщений и объём интернет-трафика, которые требуются пользователям каждого тарифа в месяц и рассчитаны среднее количество, дисперсия и стандартное отклонение.\n",
    "- Распределения продолжительности звонков и интернет-трафика напоминают нормальные. Для всех трех параметров можно сказать, что в случае ultra-клиентов распределение более размазано (стандартное отклонение выше): средний расход минут, сообщений и гигабайтов больше.\n",
    "- В среднем все пользователи укладываются в выделяемое количество минут и сообщений. Однако пользователи smart близки к лимиту (среднее 418 мин близко к месячному лимиту 500 мин), в то время как пользователи ultra тратя только 500 мин из 3000. Количество сообщений у обеих групп очень мало (в среднем 3 и 4 сообщения в месяц для пользователей smart и ultra).\n",
    "- Пользователи smart незначительно превышают лимит в 15 ГБ, есть смысл поднять расценки за дополнительные ГБ на этом тарифе, в то время как пользователи ultra могут потратить еще 11 ГБ трафика.\n",
    "\n",
    "Проверены гипотезы для уровня значимости 0.01:\n",
    "- средняя выручка пользователей тарифов «Ультра» и «Смарт» различаются. Нулевая гипотеза (средние значения выручки по пользователям разных тарифов равны) отвергается.\n",
    "- средняя выручка пользователей из Москвы отличается от выручки пользователей из других регионов. Нулевую гипотезу (средние значения выручки по пользователям из разных облластей равны) отвергнуть нельзя. Средние для Москвы и остальных городов могут быть равны.\n",
    "\n",
    "<b>Советы</b> бизнес-заказчику для увеличения выручки:\n",
    "- уменьшить кол-во минут на тарифе смарт до 400, а кол-во сообщений до 30\n",
    "- увеличичить плату за перерасход гб для пользователей смарт\n",
    "- провести рекламную кампанию по переходу на тариф Ультра, т.к. эти пользователи приносят больше выручки"
   ]
  }
 ],
 "metadata": {
  "ExecuteTimeLog": [
   {
    "duration": 2927,
    "start_time": "2022-02-12T13:36:31.195Z"
   },
   {
    "duration": 4,
    "start_time": "2022-02-12T13:36:34.125Z"
   },
   {
    "duration": 5790,
    "start_time": "2022-02-12T13:36:34.131Z"
   },
   {
    "duration": -337,
    "start_time": "2022-02-12T13:36:40.261Z"
   },
   {
    "duration": -342,
    "start_time": "2022-02-12T13:36:40.267Z"
   },
   {
    "duration": -345,
    "start_time": "2022-02-12T13:36:40.272Z"
   },
   {
    "duration": -351,
    "start_time": "2022-02-12T13:36:40.280Z"
   },
   {
    "duration": -354,
    "start_time": "2022-02-12T13:36:40.285Z"
   },
   {
    "duration": -359,
    "start_time": "2022-02-12T13:36:40.292Z"
   },
   {
    "duration": -364,
    "start_time": "2022-02-12T13:36:40.298Z"
   },
   {
    "duration": -370,
    "start_time": "2022-02-12T13:36:40.306Z"
   },
   {
    "duration": -374,
    "start_time": "2022-02-12T13:36:40.311Z"
   },
   {
    "duration": -379,
    "start_time": "2022-02-12T13:36:40.317Z"
   },
   {
    "duration": -382,
    "start_time": "2022-02-12T13:36:40.322Z"
   },
   {
    "duration": -387,
    "start_time": "2022-02-12T13:36:40.328Z"
   },
   {
    "duration": -391,
    "start_time": "2022-02-12T13:36:40.333Z"
   },
   {
    "duration": -408,
    "start_time": "2022-02-12T13:36:40.351Z"
   },
   {
    "duration": 380,
    "start_time": "2022-02-12T13:39:21.121Z"
   },
   {
    "duration": 4,
    "start_time": "2022-02-12T13:39:22.944Z"
   },
   {
    "duration": 370,
    "start_time": "2022-02-12T13:39:24.043Z"
   },
   {
    "duration": 598,
    "start_time": "2022-02-12T13:39:37.808Z"
   },
   {
    "duration": 4,
    "start_time": "2022-02-12T13:39:43.025Z"
   },
   {
    "duration": 9,
    "start_time": "2022-02-12T13:39:43.032Z"
   },
   {
    "duration": 3895,
    "start_time": "2022-02-12T13:39:43.044Z"
   },
   {
    "duration": -375,
    "start_time": "2022-02-12T13:39:47.317Z"
   },
   {
    "duration": -382,
    "start_time": "2022-02-12T13:39:47.326Z"
   },
   {
    "duration": 2964,
    "start_time": "2022-02-12T13:39:59.265Z"
   },
   {
    "duration": -416,
    "start_time": "2022-02-12T13:40:02.648Z"
   },
   {
    "duration": -431,
    "start_time": "2022-02-12T13:40:02.665Z"
   },
   {
    "duration": -446,
    "start_time": "2022-02-12T13:40:02.681Z"
   },
   {
    "duration": -453,
    "start_time": "2022-02-12T13:40:02.689Z"
   },
   {
    "duration": -466,
    "start_time": "2022-02-12T13:40:02.704Z"
   },
   {
    "duration": -482,
    "start_time": "2022-02-12T13:40:02.721Z"
   },
   {
    "duration": -498,
    "start_time": "2022-02-12T13:40:02.738Z"
   },
   {
    "duration": -503,
    "start_time": "2022-02-12T13:40:02.745Z"
   },
   {
    "duration": -518,
    "start_time": "2022-02-12T13:40:02.761Z"
   },
   {
    "duration": -532,
    "start_time": "2022-02-12T13:40:02.777Z"
   },
   {
    "duration": -544,
    "start_time": "2022-02-12T13:40:02.790Z"
   },
   {
    "duration": -566,
    "start_time": "2022-02-12T13:40:02.813Z"
   },
   {
    "duration": -577,
    "start_time": "2022-02-12T13:40:02.826Z"
   },
   {
    "duration": -582,
    "start_time": "2022-02-12T13:40:02.832Z"
   },
   {
    "duration": -592,
    "start_time": "2022-02-12T13:40:02.844Z"
   },
   {
    "duration": -604,
    "start_time": "2022-02-12T13:40:02.857Z"
   },
   {
    "duration": 12005,
    "start_time": "2022-02-12T13:40:36.670Z"
   },
   {
    "duration": -416,
    "start_time": "2022-02-12T13:40:49.095Z"
   },
   {
    "duration": -423,
    "start_time": "2022-02-12T13:40:49.103Z"
   },
   {
    "duration": -426,
    "start_time": "2022-02-12T13:40:49.108Z"
   },
   {
    "duration": -432,
    "start_time": "2022-02-12T13:40:49.115Z"
   },
   {
    "duration": -436,
    "start_time": "2022-02-12T13:40:49.121Z"
   },
   {
    "duration": -441,
    "start_time": "2022-02-12T13:40:49.127Z"
   },
   {
    "duration": -448,
    "start_time": "2022-02-12T13:40:49.135Z"
   },
   {
    "duration": -451,
    "start_time": "2022-02-12T13:40:49.140Z"
   },
   {
    "duration": -455,
    "start_time": "2022-02-12T13:40:49.145Z"
   },
   {
    "duration": -458,
    "start_time": "2022-02-12T13:40:49.150Z"
   },
   {
    "duration": -463,
    "start_time": "2022-02-12T13:40:49.156Z"
   },
   {
    "duration": -467,
    "start_time": "2022-02-12T13:40:49.161Z"
   },
   {
    "duration": -471,
    "start_time": "2022-02-12T13:40:49.167Z"
   },
   {
    "duration": -474,
    "start_time": "2022-02-12T13:40:49.172Z"
   },
   {
    "duration": -478,
    "start_time": "2022-02-12T13:40:49.177Z"
   },
   {
    "duration": -482,
    "start_time": "2022-02-12T13:40:49.182Z"
   },
   {
    "duration": 4,
    "start_time": "2022-02-12T13:41:12.980Z"
   },
   {
    "duration": 267,
    "start_time": "2022-02-12T13:41:12.987Z"
   },
   {
    "duration": 668,
    "start_time": "2022-02-12T13:41:13.258Z"
   },
   {
    "duration": 286,
    "start_time": "2022-02-12T13:41:13.930Z"
   },
   {
    "duration": 1070,
    "start_time": "2022-02-12T13:41:14.223Z"
   },
   {
    "duration": -1022,
    "start_time": "2022-02-12T13:41:16.318Z"
   },
   {
    "duration": -1028,
    "start_time": "2022-02-12T13:41:16.326Z"
   },
   {
    "duration": -1032,
    "start_time": "2022-02-12T13:41:16.331Z"
   },
   {
    "duration": -1035,
    "start_time": "2022-02-12T13:41:16.336Z"
   },
   {
    "duration": -1065,
    "start_time": "2022-02-12T13:41:16.367Z"
   },
   {
    "duration": -1070,
    "start_time": "2022-02-12T13:41:16.374Z"
   },
   {
    "duration": -1073,
    "start_time": "2022-02-12T13:41:16.379Z"
   },
   {
    "duration": -1076,
    "start_time": "2022-02-12T13:41:16.384Z"
   },
   {
    "duration": -1080,
    "start_time": "2022-02-12T13:41:16.390Z"
   },
   {
    "duration": -1084,
    "start_time": "2022-02-12T13:41:16.395Z"
   },
   {
    "duration": -1087,
    "start_time": "2022-02-12T13:41:16.400Z"
   },
   {
    "duration": 370,
    "start_time": "2022-02-12T13:41:48.067Z"
   },
   {
    "duration": 289,
    "start_time": "2022-02-12T13:43:15.428Z"
   },
   {
    "duration": 181,
    "start_time": "2022-02-12T13:43:18.614Z"
   },
   {
    "duration": 188,
    "start_time": "2022-02-12T13:43:20.902Z"
   },
   {
    "duration": 77,
    "start_time": "2022-02-12T13:43:23.322Z"
   },
   {
    "duration": 465,
    "start_time": "2022-02-12T13:43:26.701Z"
   },
   {
    "duration": 130,
    "start_time": "2022-02-12T13:44:57.556Z"
   },
   {
    "duration": 428,
    "start_time": "2022-02-12T13:45:41.372Z"
   },
   {
    "duration": 472,
    "start_time": "2022-02-12T13:45:42.867Z"
   },
   {
    "duration": 538,
    "start_time": "2022-02-12T13:47:36.568Z"
   },
   {
    "duration": 11,
    "start_time": "2022-02-12T13:47:41.489Z"
   },
   {
    "duration": 960,
    "start_time": "2022-02-12T13:48:40.281Z"
   },
   {
    "duration": 7,
    "start_time": "2022-02-12T13:48:46.537Z"
   },
   {
    "duration": 149,
    "start_time": "2022-02-12T13:49:33.105Z"
   },
   {
    "duration": 977,
    "start_time": "2022-02-13T05:46:24.125Z"
   },
   {
    "duration": 2,
    "start_time": "2022-02-13T05:46:25.104Z"
   },
   {
    "duration": 1449,
    "start_time": "2022-02-13T05:46:25.108Z"
   },
   {
    "duration": 2137,
    "start_time": "2022-02-13T05:46:24.422Z"
   },
   {
    "duration": 2,
    "start_time": "2022-02-13T05:46:36.675Z"
   },
   {
    "duration": 192,
    "start_time": "2022-02-13T05:46:37.328Z"
   },
   {
    "duration": 304,
    "start_time": "2022-02-13T05:46:39.303Z"
   },
   {
    "duration": 4,
    "start_time": "2022-02-13T06:43:06.698Z"
   },
   {
    "duration": 202,
    "start_time": "2022-02-13T06:44:53.189Z"
   },
   {
    "duration": 205,
    "start_time": "2022-02-13T06:47:16.374Z"
   },
   {
    "duration": 208,
    "start_time": "2022-02-13T06:47:23.528Z"
   },
   {
    "duration": 3,
    "start_time": "2022-02-13T06:47:37.283Z"
   },
   {
    "duration": 186,
    "start_time": "2022-02-13T06:48:58.413Z"
   },
   {
    "duration": 31,
    "start_time": "2022-02-13T06:49:09.408Z"
   },
   {
    "duration": 23,
    "start_time": "2022-02-13T06:49:34.201Z"
   },
   {
    "duration": 162,
    "start_time": "2022-02-13T06:50:19.889Z"
   },
   {
    "duration": 12,
    "start_time": "2022-02-13T06:50:44.600Z"
   },
   {
    "duration": 40,
    "start_time": "2022-02-13T06:51:17.421Z"
   },
   {
    "duration": 22,
    "start_time": "2022-02-13T06:52:24.296Z"
   },
   {
    "duration": 30,
    "start_time": "2022-02-13T06:52:28.448Z"
   },
   {
    "duration": 4,
    "start_time": "2022-02-13T06:52:35.552Z"
   },
   {
    "duration": 8,
    "start_time": "2022-02-13T06:52:45.348Z"
   },
   {
    "duration": 220,
    "start_time": "2022-02-13T06:52:52.435Z"
   },
   {
    "duration": 209,
    "start_time": "2022-02-13T06:54:01.103Z"
   },
   {
    "duration": 188,
    "start_time": "2022-02-13T06:54:43.855Z"
   },
   {
    "duration": 31,
    "start_time": "2022-02-13T06:55:45.548Z"
   },
   {
    "duration": 32,
    "start_time": "2022-02-13T06:55:49.880Z"
   },
   {
    "duration": 31,
    "start_time": "2022-02-13T06:57:01.383Z"
   },
   {
    "duration": 42,
    "start_time": "2022-02-13T06:58:26.896Z"
   },
   {
    "duration": 198,
    "start_time": "2022-02-13T06:58:35.761Z"
   },
   {
    "duration": 226,
    "start_time": "2022-02-13T06:59:56.788Z"
   },
   {
    "duration": 257,
    "start_time": "2022-02-13T07:00:07.396Z"
   },
   {
    "duration": 40,
    "start_time": "2022-02-13T07:01:10.401Z"
   },
   {
    "duration": 270,
    "start_time": "2022-02-13T07:01:14.669Z"
   },
   {
    "duration": 249,
    "start_time": "2022-02-13T07:01:45.332Z"
   },
   {
    "duration": 324,
    "start_time": "2022-02-13T07:02:16.719Z"
   },
   {
    "duration": 283,
    "start_time": "2022-02-13T07:02:26.052Z"
   },
   {
    "duration": 289,
    "start_time": "2022-02-13T07:02:36.811Z"
   },
   {
    "duration": 276,
    "start_time": "2022-02-13T07:03:04.444Z"
   },
   {
    "duration": 281,
    "start_time": "2022-02-13T07:03:15.152Z"
   },
   {
    "duration": 265,
    "start_time": "2022-02-13T07:03:28.426Z"
   },
   {
    "duration": 288,
    "start_time": "2022-02-13T07:03:37.315Z"
   },
   {
    "duration": 283,
    "start_time": "2022-02-13T07:03:42.254Z"
   },
   {
    "duration": 428,
    "start_time": "2022-02-13T07:04:11.791Z"
   },
   {
    "duration": 297,
    "start_time": "2022-02-13T07:04:21.652Z"
   },
   {
    "duration": 291,
    "start_time": "2022-02-13T07:04:27.295Z"
   },
   {
    "duration": 411,
    "start_time": "2022-02-13T07:04:56.353Z"
   },
   {
    "duration": 297,
    "start_time": "2022-02-13T07:05:09.220Z"
   },
   {
    "duration": 286,
    "start_time": "2022-02-13T07:05:33.468Z"
   },
   {
    "duration": 293,
    "start_time": "2022-02-13T07:05:36.737Z"
   },
   {
    "duration": 12,
    "start_time": "2022-02-13T07:05:58.592Z"
   },
   {
    "duration": 4767,
    "start_time": "2022-02-13T07:06:17.912Z"
   },
   {
    "duration": 75,
    "start_time": "2022-02-13T07:06:49.909Z"
   },
   {
    "duration": 8,
    "start_time": "2022-02-13T07:06:53.398Z"
   },
   {
    "duration": 65,
    "start_time": "2022-02-13T07:07:53.257Z"
   },
   {
    "duration": 185,
    "start_time": "2022-02-13T07:07:56.000Z"
   },
   {
    "duration": 194,
    "start_time": "2022-02-13T07:08:04.181Z"
   },
   {
    "duration": 17,
    "start_time": "2022-02-13T07:08:17.921Z"
   },
   {
    "duration": 11,
    "start_time": "2022-02-13T07:08:41.470Z"
   },
   {
    "duration": 13,
    "start_time": "2022-02-13T07:08:45.513Z"
   },
   {
    "duration": 13,
    "start_time": "2022-02-13T07:09:06.887Z"
   },
   {
    "duration": 74,
    "start_time": "2022-02-13T07:09:17.914Z"
   },
   {
    "duration": 207,
    "start_time": "2022-02-13T07:09:20.080Z"
   },
   {
    "duration": 14,
    "start_time": "2022-02-13T07:09:22.763Z"
   },
   {
    "duration": 224,
    "start_time": "2022-02-13T07:09:37.288Z"
   },
   {
    "duration": 24,
    "start_time": "2022-02-13T07:09:48.216Z"
   },
   {
    "duration": 287,
    "start_time": "2022-02-13T07:11:02.233Z"
   },
   {
    "duration": 186,
    "start_time": "2022-02-13T07:11:15.142Z"
   },
   {
    "duration": 194,
    "start_time": "2022-02-13T07:11:23.043Z"
   },
   {
    "duration": 25,
    "start_time": "2022-02-13T07:11:40.305Z"
   },
   {
    "duration": 316,
    "start_time": "2022-02-13T07:11:58.845Z"
   },
   {
    "duration": 318,
    "start_time": "2022-02-13T07:12:10.358Z"
   },
   {
    "duration": 210,
    "start_time": "2022-02-13T07:14:31.432Z"
   },
   {
    "duration": 1106,
    "start_time": "2022-02-13T07:14:41.512Z"
   },
   {
    "duration": 18,
    "start_time": "2022-02-13T07:15:04.759Z"
   },
   {
    "duration": 14,
    "start_time": "2022-02-13T07:17:57.630Z"
   },
   {
    "duration": 16,
    "start_time": "2022-02-13T07:18:09.669Z"
   },
   {
    "duration": 197,
    "start_time": "2022-02-13T07:18:51.713Z"
   },
   {
    "duration": 49,
    "start_time": "2022-02-13T07:18:54.885Z"
   },
   {
    "duration": 50,
    "start_time": "2022-02-13T07:19:05.130Z"
   },
   {
    "duration": 139,
    "start_time": "2022-02-13T07:19:09.726Z"
   },
   {
    "duration": 34,
    "start_time": "2022-02-13T07:19:20.420Z"
   },
   {
    "duration": 25,
    "start_time": "2022-02-13T07:19:38.672Z"
   },
   {
    "duration": 758,
    "start_time": "2022-02-13T07:20:10.359Z"
   },
   {
    "duration": 30,
    "start_time": "2022-02-13T07:20:21.262Z"
   },
   {
    "duration": 4,
    "start_time": "2022-02-13T07:20:29.244Z"
   },
   {
    "duration": 193,
    "start_time": "2022-02-13T07:20:48.619Z"
   },
   {
    "duration": 30,
    "start_time": "2022-02-13T07:20:51.113Z"
   },
   {
    "duration": 29,
    "start_time": "2022-02-13T07:21:20.976Z"
   },
   {
    "duration": 16,
    "start_time": "2022-02-13T07:22:35.341Z"
   },
   {
    "duration": 15,
    "start_time": "2022-02-13T07:23:34.522Z"
   },
   {
    "duration": 18,
    "start_time": "2022-02-13T07:24:06.905Z"
   },
   {
    "duration": 17,
    "start_time": "2022-02-13T07:24:31.613Z"
   },
   {
    "duration": 310,
    "start_time": "2022-02-13T07:25:06.840Z"
   },
   {
    "duration": 307,
    "start_time": "2022-02-13T07:25:23.377Z"
   },
   {
    "duration": 300,
    "start_time": "2022-02-13T07:25:25.531Z"
   },
   {
    "duration": 17,
    "start_time": "2022-02-13T07:26:04.013Z"
   },
   {
    "duration": 9,
    "start_time": "2022-02-13T07:26:07.950Z"
   },
   {
    "duration": 305,
    "start_time": "2022-02-13T07:26:28.792Z"
   },
   {
    "duration": 193,
    "start_time": "2022-02-13T07:28:48.513Z"
   },
   {
    "duration": 115,
    "start_time": "2022-02-13T07:28:56.043Z"
   },
   {
    "duration": 290,
    "start_time": "2022-02-13T07:29:03.292Z"
   },
   {
    "duration": 206,
    "start_time": "2022-02-13T07:29:45.138Z"
   },
   {
    "duration": 10,
    "start_time": "2022-02-13T07:30:06.972Z"
   },
   {
    "duration": 202,
    "start_time": "2022-02-13T07:30:53.025Z"
   },
   {
    "duration": 41,
    "start_time": "2022-02-13T07:31:04.224Z"
   },
   {
    "duration": 38,
    "start_time": "2022-02-13T07:31:25.206Z"
   },
   {
    "duration": 36,
    "start_time": "2022-02-13T07:32:00.457Z"
   },
   {
    "duration": 38,
    "start_time": "2022-02-13T07:32:13.577Z"
   },
   {
    "duration": 38,
    "start_time": "2022-02-13T07:32:49.222Z"
   },
   {
    "duration": 38,
    "start_time": "2022-02-13T07:32:55.059Z"
   },
   {
    "duration": 37,
    "start_time": "2022-02-13T07:33:11.110Z"
   },
   {
    "duration": 321,
    "start_time": "2022-02-13T07:34:15.309Z"
   },
   {
    "duration": 335,
    "start_time": "2022-02-13T07:34:26.682Z"
   },
   {
    "duration": 305,
    "start_time": "2022-02-13T07:34:32.598Z"
   },
   {
    "duration": 272,
    "start_time": "2022-02-13T07:34:37.588Z"
   },
   {
    "duration": 365,
    "start_time": "2022-02-13T07:34:48.216Z"
   },
   {
    "duration": 289,
    "start_time": "2022-02-13T07:34:51.464Z"
   },
   {
    "duration": 288,
    "start_time": "2022-02-13T07:35:19.249Z"
   },
   {
    "duration": 8,
    "start_time": "2022-02-13T07:37:38.860Z"
   },
   {
    "duration": 16,
    "start_time": "2022-02-13T07:44:43.585Z"
   },
   {
    "duration": 13,
    "start_time": "2022-02-13T07:45:09.203Z"
   },
   {
    "duration": 15,
    "start_time": "2022-02-13T07:47:48.892Z"
   },
   {
    "duration": 16,
    "start_time": "2022-02-13T07:48:09.963Z"
   },
   {
    "duration": 13,
    "start_time": "2022-02-13T07:48:14.916Z"
   },
   {
    "duration": 17,
    "start_time": "2022-02-13T07:48:19.618Z"
   },
   {
    "duration": 33,
    "start_time": "2022-02-13T07:50:00.376Z"
   },
   {
    "duration": 31,
    "start_time": "2022-02-13T07:50:12.570Z"
   },
   {
    "duration": 26,
    "start_time": "2022-02-13T07:50:40.348Z"
   },
   {
    "duration": 6,
    "start_time": "2022-02-13T07:51:13.460Z"
   },
   {
    "duration": 205,
    "start_time": "2022-02-13T07:51:22.568Z"
   },
   {
    "duration": 5,
    "start_time": "2022-02-13T07:51:27.065Z"
   },
   {
    "duration": 6,
    "start_time": "2022-02-13T07:51:30.561Z"
   },
   {
    "duration": 197,
    "start_time": "2022-02-13T07:51:51.775Z"
   },
   {
    "duration": 58,
    "start_time": "2022-02-13T07:51:55.196Z"
   },
   {
    "duration": 6,
    "start_time": "2022-02-13T07:51:56.977Z"
   },
   {
    "duration": 195,
    "start_time": "2022-02-13T07:52:08.620Z"
   },
   {
    "duration": 183,
    "start_time": "2022-02-13T07:52:14.770Z"
   },
   {
    "duration": 205,
    "start_time": "2022-02-13T07:52:20.489Z"
   },
   {
    "duration": 4556,
    "start_time": "2022-02-13T07:52:50.574Z"
   },
   {
    "duration": 4,
    "start_time": "2022-02-13T07:53:43.057Z"
   },
   {
    "duration": 14,
    "start_time": "2022-02-13T07:53:45.608Z"
   },
   {
    "duration": 17,
    "start_time": "2022-02-13T07:54:00.175Z"
   },
   {
    "duration": 14,
    "start_time": "2022-02-13T07:54:08.805Z"
   },
   {
    "duration": 186,
    "start_time": "2022-02-13T07:54:11.956Z"
   },
   {
    "duration": 14,
    "start_time": "2022-02-13T07:54:14.756Z"
   },
   {
    "duration": 27,
    "start_time": "2022-02-13T07:54:18.669Z"
   },
   {
    "duration": 14,
    "start_time": "2022-02-13T07:54:24.477Z"
   },
   {
    "duration": 15,
    "start_time": "2022-02-13T07:54:29.309Z"
   },
   {
    "duration": 11,
    "start_time": "2022-02-13T07:54:47.898Z"
   },
   {
    "duration": 14,
    "start_time": "2022-02-13T07:54:52.387Z"
   },
   {
    "duration": 11,
    "start_time": "2022-02-13T07:55:02.241Z"
   },
   {
    "duration": 14,
    "start_time": "2022-02-13T07:55:17.827Z"
   },
   {
    "duration": 8,
    "start_time": "2022-02-13T07:55:24.890Z"
   },
   {
    "duration": 13,
    "start_time": "2022-02-13T07:56:18.666Z"
   },
   {
    "duration": 6,
    "start_time": "2022-02-13T07:56:37.777Z"
   },
   {
    "duration": 12,
    "start_time": "2022-02-13T07:56:42.178Z"
   },
   {
    "duration": 16,
    "start_time": "2022-02-13T07:56:51.609Z"
   },
   {
    "duration": 235,
    "start_time": "2022-02-13T07:56:58.469Z"
   },
   {
    "duration": 26,
    "start_time": "2022-02-13T07:57:00.934Z"
   },
   {
    "duration": 13,
    "start_time": "2022-02-13T07:57:02.452Z"
   },
   {
    "duration": 17,
    "start_time": "2022-02-13T07:57:12.214Z"
   },
   {
    "duration": 6,
    "start_time": "2022-02-13T07:57:29.229Z"
   },
   {
    "duration": 4,
    "start_time": "2022-02-13T07:57:32.972Z"
   },
   {
    "duration": 215,
    "start_time": "2022-02-13T07:57:41.470Z"
   },
   {
    "duration": 28,
    "start_time": "2022-02-13T07:57:44.037Z"
   },
   {
    "duration": 13,
    "start_time": "2022-02-13T07:57:50.721Z"
   },
   {
    "duration": 4,
    "start_time": "2022-02-13T07:57:52.349Z"
   },
   {
    "duration": 12,
    "start_time": "2022-02-13T07:58:03.442Z"
   },
   {
    "duration": 29,
    "start_time": "2022-02-13T07:58:09.077Z"
   },
   {
    "duration": 13,
    "start_time": "2022-02-13T07:58:10.214Z"
   },
   {
    "duration": 12,
    "start_time": "2022-02-13T07:58:14.788Z"
   },
   {
    "duration": 28,
    "start_time": "2022-02-13T07:58:25.497Z"
   },
   {
    "duration": 11,
    "start_time": "2022-02-13T07:58:26.784Z"
   },
   {
    "duration": 25,
    "start_time": "2022-02-13T07:58:35.045Z"
   },
   {
    "duration": 27,
    "start_time": "2022-02-13T07:58:35.244Z"
   },
   {
    "duration": 28,
    "start_time": "2022-02-13T07:58:36.972Z"
   },
   {
    "duration": 11,
    "start_time": "2022-02-13T07:58:39.971Z"
   },
   {
    "duration": 5,
    "start_time": "2022-02-13T07:58:53.009Z"
   },
   {
    "duration": 12,
    "start_time": "2022-02-13T07:59:01.037Z"
   },
   {
    "duration": 28,
    "start_time": "2022-02-13T07:59:03.796Z"
   },
   {
    "duration": 13,
    "start_time": "2022-02-13T07:59:04.964Z"
   },
   {
    "duration": 3,
    "start_time": "2022-02-13T07:59:08.394Z"
   },
   {
    "duration": 26,
    "start_time": "2022-02-13T07:59:20.881Z"
   },
   {
    "duration": 22,
    "start_time": "2022-02-13T07:59:26.494Z"
   },
   {
    "duration": 21,
    "start_time": "2022-02-13T07:59:29.943Z"
   },
   {
    "duration": 22,
    "start_time": "2022-02-13T07:59:32.844Z"
   },
   {
    "duration": 21,
    "start_time": "2022-02-13T07:59:36.753Z"
   },
   {
    "duration": 20,
    "start_time": "2022-02-13T07:59:43.749Z"
   },
   {
    "duration": 193,
    "start_time": "2022-02-13T07:59:55.227Z"
   },
   {
    "duration": 211,
    "start_time": "2022-02-13T08:00:03.003Z"
   },
   {
    "duration": 228,
    "start_time": "2022-02-13T08:00:11.838Z"
   },
   {
    "duration": 20,
    "start_time": "2022-02-13T08:00:41.070Z"
   },
   {
    "duration": 21,
    "start_time": "2022-02-13T08:00:49.432Z"
   },
   {
    "duration": 22,
    "start_time": "2022-02-13T08:00:54.520Z"
   },
   {
    "duration": 20,
    "start_time": "2022-02-13T08:02:10.522Z"
   },
   {
    "duration": 27,
    "start_time": "2022-02-13T08:02:17.263Z"
   },
   {
    "duration": 32,
    "start_time": "2022-02-13T08:02:37.061Z"
   },
   {
    "duration": 31,
    "start_time": "2022-02-13T08:02:47.676Z"
   },
   {
    "duration": 33,
    "start_time": "2022-02-13T08:02:52.176Z"
   },
   {
    "duration": 31,
    "start_time": "2022-02-13T08:03:04.802Z"
   },
   {
    "duration": 32,
    "start_time": "2022-02-13T08:03:20.210Z"
   },
   {
    "duration": 31,
    "start_time": "2022-02-13T08:03:28.141Z"
   },
   {
    "duration": 30,
    "start_time": "2022-02-13T08:03:30.943Z"
   },
   {
    "duration": 30,
    "start_time": "2022-02-13T08:03:37.123Z"
   },
   {
    "duration": 285,
    "start_time": "2022-02-13T08:03:57.853Z"
   },
   {
    "duration": 34,
    "start_time": "2022-02-13T08:05:55.351Z"
   },
   {
    "duration": 243,
    "start_time": "2022-02-13T08:06:14.385Z"
   },
   {
    "duration": 34,
    "start_time": "2022-02-13T08:06:24.986Z"
   },
   {
    "duration": 33,
    "start_time": "2022-02-13T08:06:27.768Z"
   },
   {
    "duration": 34,
    "start_time": "2022-02-13T08:08:49.401Z"
   },
   {
    "duration": 5,
    "start_time": "2022-02-13T08:08:56.256Z"
   },
   {
    "duration": 8,
    "start_time": "2022-02-13T08:09:00.786Z"
   },
   {
    "duration": 34,
    "start_time": "2022-02-13T08:10:21.698Z"
   },
   {
    "duration": 8,
    "start_time": "2022-02-13T08:10:24.393Z"
   },
   {
    "duration": 5,
    "start_time": "2022-02-13T08:10:36.257Z"
   },
   {
    "duration": 33,
    "start_time": "2022-02-13T08:11:02.862Z"
   },
   {
    "duration": 31,
    "start_time": "2022-02-13T08:11:09.801Z"
   },
   {
    "duration": 4659,
    "start_time": "2022-02-13T08:11:57.300Z"
   },
   {
    "duration": 47,
    "start_time": "2022-02-13T08:13:29.004Z"
   },
   {
    "duration": 18,
    "start_time": "2022-02-13T08:15:08.623Z"
   },
   {
    "duration": 21,
    "start_time": "2022-02-13T08:15:41.098Z"
   },
   {
    "duration": 26,
    "start_time": "2022-02-13T08:16:07.401Z"
   },
   {
    "duration": 24,
    "start_time": "2022-02-13T08:16:41.046Z"
   },
   {
    "duration": 10,
    "start_time": "2022-02-13T08:17:21.579Z"
   },
   {
    "duration": 6,
    "start_time": "2022-02-13T08:17:32.980Z"
   },
   {
    "duration": 5,
    "start_time": "2022-02-13T08:17:40.693Z"
   },
   {
    "duration": 4,
    "start_time": "2022-02-13T08:17:53.889Z"
   },
   {
    "duration": 32,
    "start_time": "2022-02-13T08:17:58.010Z"
   },
   {
    "duration": 193,
    "start_time": "2022-02-13T08:18:56.413Z"
   },
   {
    "duration": 210,
    "start_time": "2022-02-13T08:18:59.522Z"
   },
   {
    "duration": 121,
    "start_time": "2022-02-13T08:19:03.291Z"
   },
   {
    "duration": 121,
    "start_time": "2022-02-13T08:19:04.284Z"
   },
   {
    "duration": 157,
    "start_time": "2022-02-13T08:19:05.762Z"
   },
   {
    "duration": 51,
    "start_time": "2022-02-13T08:19:07.735Z"
   },
   {
    "duration": 4727,
    "start_time": "2022-02-13T08:19:11.554Z"
   },
   {
    "duration": 16,
    "start_time": "2022-02-13T08:19:28.589Z"
   },
   {
    "duration": 16,
    "start_time": "2022-02-13T08:21:00.295Z"
   },
   {
    "duration": 4903,
    "start_time": "2022-02-13T08:21:22.121Z"
   },
   {
    "duration": 17,
    "start_time": "2022-02-13T08:21:36.685Z"
   },
   {
    "duration": 7,
    "start_time": "2022-02-13T09:06:48.929Z"
   },
   {
    "duration": 45,
    "start_time": "2022-02-13T09:08:31.443Z"
   },
   {
    "duration": 6,
    "start_time": "2022-02-13T09:09:10.474Z"
   },
   {
    "duration": 9,
    "start_time": "2022-02-13T09:09:15.997Z"
   },
   {
    "duration": 192,
    "start_time": "2022-02-13T09:09:26.190Z"
   },
   {
    "duration": 194,
    "start_time": "2022-02-13T09:09:36.503Z"
   },
   {
    "duration": 195,
    "start_time": "2022-02-13T09:10:58.039Z"
   },
   {
    "duration": 192,
    "start_time": "2022-02-13T09:12:07.435Z"
   },
   {
    "duration": 210,
    "start_time": "2022-02-13T09:12:18.116Z"
   },
   {
    "duration": 206,
    "start_time": "2022-02-13T09:12:34.727Z"
   },
   {
    "duration": 17,
    "start_time": "2022-02-13T09:13:02.525Z"
   },
   {
    "duration": 20,
    "start_time": "2022-02-13T09:13:08.411Z"
   },
   {
    "duration": 18,
    "start_time": "2022-02-13T09:13:20.777Z"
   },
   {
    "duration": 22,
    "start_time": "2022-02-13T09:13:23.273Z"
   },
   {
    "duration": 18,
    "start_time": "2022-02-13T09:15:39.425Z"
   },
   {
    "duration": 19,
    "start_time": "2022-02-13T09:15:41.457Z"
   },
   {
    "duration": 18,
    "start_time": "2022-02-13T09:16:24.465Z"
   },
   {
    "duration": 18,
    "start_time": "2022-02-13T09:16:33.611Z"
   },
   {
    "duration": 19,
    "start_time": "2022-02-13T09:16:47.640Z"
   },
   {
    "duration": 16,
    "start_time": "2022-02-13T09:16:51.342Z"
   },
   {
    "duration": 17,
    "start_time": "2022-02-13T09:17:24.238Z"
   },
   {
    "duration": 19,
    "start_time": "2022-02-13T09:18:05.658Z"
   },
   {
    "duration": 16,
    "start_time": "2022-02-13T09:18:25.193Z"
   },
   {
    "duration": 4724,
    "start_time": "2022-02-13T09:19:55.462Z"
   },
   {
    "duration": 288,
    "start_time": "2022-02-13T09:20:13.955Z"
   },
   {
    "duration": 8,
    "start_time": "2022-02-13T09:22:29.364Z"
   },
   {
    "duration": 65,
    "start_time": "2022-02-13T09:23:19.016Z"
   },
   {
    "duration": 63,
    "start_time": "2022-02-13T09:23:31.228Z"
   },
   {
    "duration": 73,
    "start_time": "2022-02-13T09:23:49.079Z"
   },
   {
    "duration": 36,
    "start_time": "2022-02-13T09:24:02.284Z"
   },
   {
    "duration": 35,
    "start_time": "2022-02-13T09:24:57.973Z"
   },
   {
    "duration": 345,
    "start_time": "2022-02-13T09:25:26.220Z"
   },
   {
    "duration": 15,
    "start_time": "2022-02-13T09:25:38.235Z"
   },
   {
    "duration": 4717,
    "start_time": "2022-02-13T09:27:36.962Z"
   },
   {
    "duration": 8,
    "start_time": "2022-02-13T09:27:44.201Z"
   },
   {
    "duration": 7,
    "start_time": "2022-02-13T09:27:50.426Z"
   },
   {
    "duration": 8,
    "start_time": "2022-02-13T09:27:53.474Z"
   },
   {
    "duration": 23,
    "start_time": "2022-02-13T09:28:27.071Z"
   },
   {
    "duration": 284,
    "start_time": "2022-02-13T09:29:00.231Z"
   },
   {
    "duration": 196,
    "start_time": "2022-02-13T09:29:32.842Z"
   },
   {
    "duration": 285,
    "start_time": "2022-02-13T09:29:54.286Z"
   },
   {
    "duration": 8,
    "start_time": "2022-02-13T09:30:12.373Z"
   },
   {
    "duration": 4809,
    "start_time": "2022-02-13T09:30:25.301Z"
   },
   {
    "duration": 20,
    "start_time": "2022-02-13T09:30:33.735Z"
   },
   {
    "duration": 37,
    "start_time": "2022-02-13T09:31:33.249Z"
   },
   {
    "duration": 18,
    "start_time": "2022-02-13T09:31:38.253Z"
   },
   {
    "duration": 19,
    "start_time": "2022-02-13T09:31:39.058Z"
   },
   {
    "duration": 9,
    "start_time": "2022-02-13T09:32:33.901Z"
   },
   {
    "duration": 16,
    "start_time": "2022-02-13T09:32:44.042Z"
   },
   {
    "duration": 38,
    "start_time": "2022-02-13T09:33:24.622Z"
   },
   {
    "duration": 18,
    "start_time": "2022-02-13T09:33:32.584Z"
   },
   {
    "duration": 18,
    "start_time": "2022-02-13T09:33:34.704Z"
   },
   {
    "duration": 31,
    "start_time": "2022-02-13T09:33:52.647Z"
   },
   {
    "duration": 17,
    "start_time": "2022-02-13T09:33:59.019Z"
   },
   {
    "duration": 9,
    "start_time": "2022-02-13T09:34:00.932Z"
   },
   {
    "duration": 38,
    "start_time": "2022-02-13T09:34:18.474Z"
   },
   {
    "duration": 5001,
    "start_time": "2022-02-13T09:36:57.212Z"
   },
   {
    "duration": 31,
    "start_time": "2022-02-13T09:37:11.417Z"
   },
   {
    "duration": 30,
    "start_time": "2022-02-13T09:37:52.789Z"
   },
   {
    "duration": 225,
    "start_time": "2022-02-13T09:40:03.815Z"
   },
   {
    "duration": 39,
    "start_time": "2022-02-13T09:40:12.598Z"
   },
   {
    "duration": 40,
    "start_time": "2022-02-13T09:40:34.383Z"
   },
   {
    "duration": 215,
    "start_time": "2022-02-13T09:41:54.767Z"
   },
   {
    "duration": 32,
    "start_time": "2022-02-13T09:42:30.082Z"
   },
   {
    "duration": 16,
    "start_time": "2022-02-13T09:43:14.661Z"
   },
   {
    "duration": 31,
    "start_time": "2022-02-13T09:43:35.310Z"
   },
   {
    "duration": 279,
    "start_time": "2022-02-13T09:43:54.639Z"
   },
   {
    "duration": 310,
    "start_time": "2022-02-13T09:44:10.966Z"
   },
   {
    "duration": 291,
    "start_time": "2022-02-13T09:44:19.227Z"
   },
   {
    "duration": 270,
    "start_time": "2022-02-13T09:44:31.148Z"
   },
   {
    "duration": 10,
    "start_time": "2022-02-13T09:46:48.125Z"
   },
   {
    "duration": 68,
    "start_time": "2022-02-13T09:48:35.526Z"
   },
   {
    "duration": 72,
    "start_time": "2022-02-13T09:48:51.665Z"
   },
   {
    "duration": 40,
    "start_time": "2022-02-13T09:49:05.016Z"
   },
   {
    "duration": 216,
    "start_time": "2022-02-13T09:51:05.980Z"
   },
   {
    "duration": 230,
    "start_time": "2022-02-13T09:51:11.670Z"
   },
   {
    "duration": 224,
    "start_time": "2022-02-13T09:51:16.844Z"
   },
   {
    "duration": 220,
    "start_time": "2022-02-13T09:51:58.845Z"
   },
   {
    "duration": 215,
    "start_time": "2022-02-13T09:52:42.253Z"
   },
   {
    "duration": 1365,
    "start_time": "2022-02-13T09:52:45.873Z"
   },
   {
    "duration": 46,
    "start_time": "2022-02-13T09:52:52.792Z"
   },
   {
    "duration": 41,
    "start_time": "2022-02-13T09:52:59.598Z"
   },
   {
    "duration": 41,
    "start_time": "2022-02-13T09:53:14.200Z"
   },
   {
    "duration": 396,
    "start_time": "2022-02-13T09:55:08.335Z"
   },
   {
    "duration": 316,
    "start_time": "2022-02-13T09:55:40.265Z"
   },
   {
    "duration": 307,
    "start_time": "2022-02-13T09:56:16.224Z"
   },
   {
    "duration": 300,
    "start_time": "2022-02-13T09:56:59.214Z"
   },
   {
    "duration": 415,
    "start_time": "2022-02-13T09:57:17.411Z"
   },
   {
    "duration": 307,
    "start_time": "2022-02-13T09:57:40.415Z"
   },
   {
    "duration": 298,
    "start_time": "2022-02-13T09:57:50.043Z"
   },
   {
    "duration": 300,
    "start_time": "2022-02-13T09:58:11.512Z"
   },
   {
    "duration": 297,
    "start_time": "2022-02-13T09:58:17.235Z"
   },
   {
    "duration": 350,
    "start_time": "2022-02-13T09:58:46.414Z"
   },
   {
    "duration": 324,
    "start_time": "2022-02-13T09:59:06.533Z"
   },
   {
    "duration": 293,
    "start_time": "2022-02-13T09:59:23.187Z"
   },
   {
    "duration": 285,
    "start_time": "2022-02-13T09:59:32.319Z"
   },
   {
    "duration": 5,
    "start_time": "2022-02-13T10:00:05.707Z"
   },
   {
    "duration": 37,
    "start_time": "2022-02-13T10:08:44.476Z"
   },
   {
    "duration": 328,
    "start_time": "2022-02-13T10:10:29.235Z"
   },
   {
    "duration": 325,
    "start_time": "2022-02-13T10:10:39.468Z"
   },
   {
    "duration": 161,
    "start_time": "2022-02-13T10:11:34.208Z"
   },
   {
    "duration": 308,
    "start_time": "2022-02-13T10:11:52.686Z"
   },
   {
    "duration": 279,
    "start_time": "2022-02-13T10:12:13.349Z"
   },
   {
    "duration": 102,
    "start_time": "2022-02-13T10:14:24.692Z"
   },
   {
    "duration": 100,
    "start_time": "2022-02-13T10:14:29.379Z"
   },
   {
    "duration": 128,
    "start_time": "2022-02-13T10:14:58.786Z"
   },
   {
    "duration": 151,
    "start_time": "2022-02-13T10:15:04.005Z"
   },
   {
    "duration": 146,
    "start_time": "2022-02-13T10:15:20.003Z"
   },
   {
    "duration": 21,
    "start_time": "2022-02-13T10:15:28.180Z"
   },
   {
    "duration": 316,
    "start_time": "2022-02-13T10:15:49.398Z"
   },
   {
    "duration": 156,
    "start_time": "2022-02-13T10:15:52.328Z"
   },
   {
    "duration": 172,
    "start_time": "2022-02-13T10:16:25.953Z"
   },
   {
    "duration": 10,
    "start_time": "2022-02-13T10:39:37.274Z"
   },
   {
    "duration": 185,
    "start_time": "2022-02-13T10:44:17.993Z"
   },
   {
    "duration": 3,
    "start_time": "2022-02-13T10:45:42.659Z"
   },
   {
    "duration": 3,
    "start_time": "2022-02-13T10:45:42.671Z"
   },
   {
    "duration": 5,
    "start_time": "2022-02-13T10:45:42.676Z"
   },
   {
    "duration": 186,
    "start_time": "2022-02-13T10:45:42.683Z"
   },
   {
    "duration": 304,
    "start_time": "2022-02-13T10:45:42.871Z"
   },
   {
    "duration": 148,
    "start_time": "2022-02-13T10:45:43.177Z"
   },
   {
    "duration": 13,
    "start_time": "2022-02-13T10:45:43.327Z"
   },
   {
    "duration": 189,
    "start_time": "2022-02-13T10:45:43.342Z"
   },
   {
    "duration": 62,
    "start_time": "2022-02-13T10:45:43.534Z"
   },
   {
    "duration": 41,
    "start_time": "2022-02-13T10:45:43.598Z"
   },
   {
    "duration": 42,
    "start_time": "2022-02-13T10:45:43.640Z"
   },
   {
    "duration": 58,
    "start_time": "2022-02-13T10:45:43.683Z"
   },
   {
    "duration": 138,
    "start_time": "2022-02-13T10:45:43.742Z"
   },
   {
    "duration": 199,
    "start_time": "2022-02-13T10:45:43.881Z"
   },
   {
    "duration": 2324,
    "start_time": "2022-02-13T10:45:41.758Z"
   },
   {
    "duration": 2320,
    "start_time": "2022-02-13T10:45:41.763Z"
   },
   {
    "duration": 2317,
    "start_time": "2022-02-13T10:45:41.767Z"
   },
   {
    "duration": 2314,
    "start_time": "2022-02-13T10:45:41.771Z"
   },
   {
    "duration": 2311,
    "start_time": "2022-02-13T10:45:41.775Z"
   },
   {
    "duration": 2307,
    "start_time": "2022-02-13T10:45:41.780Z"
   },
   {
    "duration": 2304,
    "start_time": "2022-02-13T10:45:41.784Z"
   },
   {
    "duration": 2301,
    "start_time": "2022-02-13T10:45:41.788Z"
   },
   {
    "duration": 2298,
    "start_time": "2022-02-13T10:45:41.792Z"
   },
   {
    "duration": 2295,
    "start_time": "2022-02-13T10:45:41.796Z"
   },
   {
    "duration": 2282,
    "start_time": "2022-02-13T10:45:41.810Z"
   },
   {
    "duration": 10,
    "start_time": "2022-02-13T10:46:37.920Z"
   },
   {
    "duration": 104,
    "start_time": "2022-02-13T10:46:47.002Z"
   },
   {
    "duration": 105,
    "start_time": "2022-02-13T10:46:53.845Z"
   },
   {
    "duration": 52,
    "start_time": "2022-02-13T10:47:00.041Z"
   },
   {
    "duration": 314,
    "start_time": "2022-02-13T10:47:00.095Z"
   },
   {
    "duration": 325,
    "start_time": "2022-02-13T10:47:00.412Z"
   },
   {
    "duration": 286,
    "start_time": "2022-02-13T10:47:00.739Z"
   },
   {
    "duration": 324,
    "start_time": "2022-02-13T10:47:01.026Z"
   },
   {
    "duration": 335,
    "start_time": "2022-02-13T10:47:01.352Z"
   },
   {
    "duration": 302,
    "start_time": "2022-02-13T10:47:01.689Z"
   },
   {
    "duration": 285,
    "start_time": "2022-02-13T10:47:01.993Z"
   },
   {
    "duration": 9,
    "start_time": "2022-02-13T10:47:02.280Z"
   },
   {
    "duration": 296,
    "start_time": "2022-02-13T10:47:02.291Z"
   },
   {
    "duration": 5,
    "start_time": "2022-02-13T10:47:02.589Z"
   },
   {
    "duration": 396,
    "start_time": "2022-02-13T10:50:33.501Z"
   },
   {
    "duration": 8,
    "start_time": "2022-02-13T10:50:59.152Z"
   },
   {
    "duration": 401,
    "start_time": "2022-02-13T15:52:51.213Z"
   },
   {
    "duration": 1353,
    "start_time": "2022-02-13T15:52:57.679Z"
   },
   {
    "duration": 3,
    "start_time": "2022-02-13T15:52:59.035Z"
   },
   {
    "duration": 5,
    "start_time": "2022-02-13T15:52:59.041Z"
   },
   {
    "duration": 268,
    "start_time": "2022-02-13T15:52:59.049Z"
   },
   {
    "duration": 460,
    "start_time": "2022-02-13T15:52:59.320Z"
   },
   {
    "duration": 267,
    "start_time": "2022-02-13T15:52:59.782Z"
   },
   {
    "duration": 22,
    "start_time": "2022-02-13T15:53:00.051Z"
   },
   {
    "duration": 269,
    "start_time": "2022-02-13T15:53:00.075Z"
   },
   {
    "duration": 114,
    "start_time": "2022-02-13T15:53:00.347Z"
   },
   {
    "duration": 54,
    "start_time": "2022-02-13T15:53:00.464Z"
   },
   {
    "duration": 85,
    "start_time": "2022-02-13T15:53:00.520Z"
   },
   {
    "duration": 18,
    "start_time": "2022-02-13T15:53:03.746Z"
   },
   {
    "duration": 6,
    "start_time": "2022-02-13T15:53:09.522Z"
   },
   {
    "duration": 37,
    "start_time": "2022-02-13T15:54:13.463Z"
   },
   {
    "duration": 567,
    "start_time": "2022-02-13T16:12:37.155Z"
   },
   {
    "duration": 6,
    "start_time": "2022-02-13T16:12:47.741Z"
   },
   {
    "duration": 355,
    "start_time": "2022-02-13T16:12:51.420Z"
   },
   {
    "duration": 120,
    "start_time": "2022-02-13T16:13:09.522Z"
   },
   {
    "duration": 461,
    "start_time": "2022-02-13T16:13:14.642Z"
   },
   {
    "duration": 27,
    "start_time": "2022-02-13T16:13:33.843Z"
   },
   {
    "duration": 49,
    "start_time": "2022-02-13T16:13:54.692Z"
   },
   {
    "duration": 46,
    "start_time": "2022-02-13T16:14:03.683Z"
   },
   {
    "duration": 61,
    "start_time": "2022-02-13T16:14:15.201Z"
   },
   {
    "duration": 50,
    "start_time": "2022-02-13T16:14:23.123Z"
   },
   {
    "duration": 44,
    "start_time": "2022-02-13T16:14:26.293Z"
   },
   {
    "duration": 59,
    "start_time": "2022-02-13T16:14:57.901Z"
   },
   {
    "duration": 442,
    "start_time": "2022-02-13T16:15:17.054Z"
   },
   {
    "duration": 87,
    "start_time": "2022-02-13T16:15:54.760Z"
   },
   {
    "duration": 88,
    "start_time": "2022-02-13T16:17:23.972Z"
   },
   {
    "duration": 1336,
    "start_time": "2022-02-14T17:27:18.983Z"
   },
   {
    "duration": 4,
    "start_time": "2022-02-14T17:27:20.321Z"
   },
   {
    "duration": 19,
    "start_time": "2022-02-14T17:27:20.329Z"
   },
   {
    "duration": 303,
    "start_time": "2022-02-14T17:27:20.353Z"
   },
   {
    "duration": 519,
    "start_time": "2022-02-14T17:27:20.658Z"
   },
   {
    "duration": 335,
    "start_time": "2022-02-14T17:27:21.180Z"
   },
   {
    "duration": 30,
    "start_time": "2022-02-14T17:27:21.518Z"
   },
   {
    "duration": 374,
    "start_time": "2022-02-14T17:27:21.553Z"
   },
   {
    "duration": 193,
    "start_time": "2022-02-14T17:27:21.932Z"
   },
   {
    "duration": 80,
    "start_time": "2022-02-14T17:27:22.129Z"
   },
   {
    "duration": 83,
    "start_time": "2022-02-14T17:27:22.212Z"
   },
   {
    "duration": 95,
    "start_time": "2022-02-14T17:27:22.299Z"
   },
   {
    "duration": 7,
    "start_time": "2022-02-14T17:27:44.146Z"
   },
   {
    "duration": 7,
    "start_time": "2022-02-14T17:27:49.177Z"
   },
   {
    "duration": 1453,
    "start_time": "2022-02-14T18:29:57.561Z"
   },
   {
    "duration": 5,
    "start_time": "2022-02-14T18:29:59.017Z"
   },
   {
    "duration": 8,
    "start_time": "2022-02-14T18:29:59.026Z"
   },
   {
    "duration": 411,
    "start_time": "2022-02-14T18:29:59.037Z"
   },
   {
    "duration": 475,
    "start_time": "2022-02-14T18:29:59.451Z"
   },
   {
    "duration": 308,
    "start_time": "2022-02-14T18:29:59.928Z"
   },
   {
    "duration": 26,
    "start_time": "2022-02-14T18:30:00.238Z"
   },
   {
    "duration": 297,
    "start_time": "2022-02-14T18:30:00.267Z"
   },
   {
    "duration": 126,
    "start_time": "2022-02-14T18:30:00.569Z"
   },
   {
    "duration": 74,
    "start_time": "2022-02-14T18:30:00.697Z"
   },
   {
    "duration": 95,
    "start_time": "2022-02-14T18:30:00.774Z"
   },
   {
    "duration": 106,
    "start_time": "2022-02-14T18:30:00.873Z"
   },
   {
    "duration": 4,
    "start_time": "2022-02-14T18:30:00.982Z"
   },
   {
    "duration": 13,
    "start_time": "2022-02-14T18:30:00.988Z"
   },
   {
    "duration": 24,
    "start_time": "2022-02-14T18:30:01.003Z"
   },
   {
    "duration": 24,
    "start_time": "2022-02-14T18:30:01.030Z"
   },
   {
    "duration": 8,
    "start_time": "2022-02-14T18:31:05.285Z"
   },
   {
    "duration": 79,
    "start_time": "2022-02-14T18:32:13.825Z"
   },
   {
    "duration": 8,
    "start_time": "2022-02-14T18:32:16.863Z"
   },
   {
    "duration": 80,
    "start_time": "2022-02-14T18:33:04.115Z"
   },
   {
    "duration": 7,
    "start_time": "2022-02-14T18:33:07.096Z"
   },
   {
    "duration": 16,
    "start_time": "2022-02-14T18:33:29.002Z"
   },
   {
    "duration": 14,
    "start_time": "2022-02-14T18:33:44.275Z"
   },
   {
    "duration": 19,
    "start_time": "2022-02-14T18:33:53.670Z"
   },
   {
    "duration": 28,
    "start_time": "2022-02-14T18:34:01.430Z"
   },
   {
    "duration": 52,
    "start_time": "2022-02-14T18:34:05.787Z"
   },
   {
    "duration": 66,
    "start_time": "2022-02-14T18:34:14.179Z"
   },
   {
    "duration": 57,
    "start_time": "2022-02-14T18:34:30.686Z"
   },
   {
    "duration": 20,
    "start_time": "2022-02-14T18:34:33.864Z"
   },
   {
    "duration": 34,
    "start_time": "2022-02-14T18:34:36.446Z"
   },
   {
    "duration": 55,
    "start_time": "2022-02-14T18:34:40.087Z"
   },
   {
    "duration": 46,
    "start_time": "2022-02-14T18:34:42.588Z"
   },
   {
    "duration": 6,
    "start_time": "2022-02-14T18:35:11.615Z"
   },
   {
    "duration": 7,
    "start_time": "2022-02-14T18:36:11.063Z"
   },
   {
    "duration": 37,
    "start_time": "2022-02-14T19:47:17.232Z"
   },
   {
    "duration": 1025,
    "start_time": "2022-02-16T07:19:10.176Z"
   },
   {
    "duration": 2,
    "start_time": "2022-02-16T07:19:11.203Z"
   },
   {
    "duration": 5,
    "start_time": "2022-02-16T07:19:11.207Z"
   },
   {
    "duration": 199,
    "start_time": "2022-02-16T07:19:11.213Z"
   },
   {
    "duration": 326,
    "start_time": "2022-02-16T07:19:11.414Z"
   },
   {
    "duration": 184,
    "start_time": "2022-02-16T07:19:11.742Z"
   },
   {
    "duration": 13,
    "start_time": "2022-02-16T07:19:11.927Z"
   },
   {
    "duration": 187,
    "start_time": "2022-02-16T07:19:11.942Z"
   },
   {
    "duration": 69,
    "start_time": "2022-02-16T07:19:12.131Z"
   },
   {
    "duration": 42,
    "start_time": "2022-02-16T07:19:12.202Z"
   },
   {
    "duration": 41,
    "start_time": "2022-02-16T07:19:12.246Z"
   },
   {
    "duration": 56,
    "start_time": "2022-02-16T07:19:12.289Z"
   },
   {
    "duration": 51,
    "start_time": "2022-02-16T07:19:12.346Z"
   },
   {
    "duration": 16,
    "start_time": "2022-02-16T07:19:12.398Z"
   },
   {
    "duration": 7,
    "start_time": "2022-02-16T07:19:12.416Z"
   },
   {
    "duration": 7,
    "start_time": "2022-02-16T07:19:12.425Z"
   },
   {
    "duration": 7,
    "start_time": "2022-02-16T07:19:12.433Z"
   },
   {
    "duration": 6,
    "start_time": "2022-02-16T07:19:12.442Z"
   },
   {
    "duration": 263,
    "start_time": "2022-02-16T07:19:12.450Z"
   },
   {
    "duration": -116,
    "start_time": "2022-02-16T07:19:12.830Z"
   },
   {
    "duration": -117,
    "start_time": "2022-02-16T07:19:12.832Z"
   },
   {
    "duration": -118,
    "start_time": "2022-02-16T07:19:12.834Z"
   },
   {
    "duration": -119,
    "start_time": "2022-02-16T07:19:12.836Z"
   },
   {
    "duration": -120,
    "start_time": "2022-02-16T07:19:12.838Z"
   },
   {
    "duration": -121,
    "start_time": "2022-02-16T07:19:12.840Z"
   },
   {
    "duration": -122,
    "start_time": "2022-02-16T07:19:12.842Z"
   },
   {
    "duration": -123,
    "start_time": "2022-02-16T07:19:12.844Z"
   },
   {
    "duration": -123,
    "start_time": "2022-02-16T07:19:12.845Z"
   },
   {
    "duration": -124,
    "start_time": "2022-02-16T07:19:12.847Z"
   },
   {
    "duration": 3,
    "start_time": "2022-02-16T07:20:38.368Z"
   },
   {
    "duration": 15,
    "start_time": "2022-02-16T07:20:38.373Z"
   },
   {
    "duration": 16,
    "start_time": "2022-02-16T07:20:38.390Z"
   },
   {
    "duration": 184,
    "start_time": "2022-02-16T07:20:38.408Z"
   },
   {
    "duration": 322,
    "start_time": "2022-02-16T07:20:38.594Z"
   },
   {
    "duration": 148,
    "start_time": "2022-02-16T07:20:38.918Z"
   },
   {
    "duration": 12,
    "start_time": "2022-02-16T07:20:39.068Z"
   },
   {
    "duration": 177,
    "start_time": "2022-02-16T07:20:39.083Z"
   },
   {
    "duration": 71,
    "start_time": "2022-02-16T07:20:39.262Z"
   },
   {
    "duration": 37,
    "start_time": "2022-02-16T07:20:39.335Z"
   },
   {
    "duration": 55,
    "start_time": "2022-02-16T07:20:39.373Z"
   },
   {
    "duration": 38,
    "start_time": "2022-02-16T07:20:39.430Z"
   },
   {
    "duration": 62,
    "start_time": "2022-02-16T07:20:39.469Z"
   },
   {
    "duration": 5,
    "start_time": "2022-02-16T07:20:39.533Z"
   },
   {
    "duration": 11,
    "start_time": "2022-02-16T07:20:39.539Z"
   },
   {
    "duration": 114,
    "start_time": "2022-02-16T07:20:39.551Z"
   },
   {
    "duration": 125,
    "start_time": "2022-02-16T07:20:39.667Z"
   },
   {
    "duration": 358,
    "start_time": "2022-02-16T07:20:39.794Z"
   },
   {
    "duration": 136,
    "start_time": "2022-02-16T07:20:50.420Z"
   },
   {
    "duration": 98,
    "start_time": "2022-02-16T07:20:53.334Z"
   },
   {
    "duration": 107,
    "start_time": "2022-02-16T07:20:55.281Z"
   },
   {
    "duration": 50,
    "start_time": "2022-02-16T07:20:56.876Z"
   },
   {
    "duration": 307,
    "start_time": "2022-02-16T07:22:40.585Z"
   },
   {
    "duration": 324,
    "start_time": "2022-02-16T07:23:04.645Z"
   },
   {
    "duration": 287,
    "start_time": "2022-02-16T07:23:07.130Z"
   },
   {
    "duration": 935,
    "start_time": "2022-02-16T07:28:59.036Z"
   },
   {
    "duration": 3,
    "start_time": "2022-02-16T07:28:59.973Z"
   },
   {
    "duration": 4,
    "start_time": "2022-02-16T07:28:59.978Z"
   },
   {
    "duration": 200,
    "start_time": "2022-02-16T07:28:59.984Z"
   },
   {
    "duration": 337,
    "start_time": "2022-02-16T07:29:00.186Z"
   },
   {
    "duration": 193,
    "start_time": "2022-02-16T07:29:00.525Z"
   },
   {
    "duration": 11,
    "start_time": "2022-02-16T07:29:00.720Z"
   },
   {
    "duration": 187,
    "start_time": "2022-02-16T07:29:00.734Z"
   },
   {
    "duration": 66,
    "start_time": "2022-02-16T07:29:00.923Z"
   },
   {
    "duration": 47,
    "start_time": "2022-02-16T07:29:00.990Z"
   },
   {
    "duration": 39,
    "start_time": "2022-02-16T07:29:01.039Z"
   },
   {
    "duration": 54,
    "start_time": "2022-02-16T07:29:01.080Z"
   },
   {
    "duration": 43,
    "start_time": "2022-02-16T07:29:01.136Z"
   },
   {
    "duration": 4,
    "start_time": "2022-02-16T07:29:01.180Z"
   },
   {
    "duration": 158,
    "start_time": "2022-02-16T07:29:01.185Z"
   },
   {
    "duration": 111,
    "start_time": "2022-02-16T07:29:01.344Z"
   },
   {
    "duration": 117,
    "start_time": "2022-02-16T07:29:01.457Z"
   },
   {
    "duration": 57,
    "start_time": "2022-02-16T07:29:01.576Z"
   },
   {
    "duration": 323,
    "start_time": "2022-02-16T07:29:01.635Z"
   },
   {
    "duration": 335,
    "start_time": "2022-02-16T07:29:01.960Z"
   },
   {
    "duration": 320,
    "start_time": "2022-02-16T07:29:02.297Z"
   },
   {
    "duration": 307,
    "start_time": "2022-02-16T07:29:02.619Z"
   },
   {
    "duration": 310,
    "start_time": "2022-02-16T07:29:02.928Z"
   },
   {
    "duration": 284,
    "start_time": "2022-02-16T07:29:03.240Z"
   },
   {
    "duration": 294,
    "start_time": "2022-02-16T07:29:03.526Z"
   },
   {
    "duration": 9,
    "start_time": "2022-02-16T07:29:03.822Z"
   },
   {
    "duration": 368,
    "start_time": "2022-02-16T07:29:03.833Z"
   },
   {
    "duration": 11,
    "start_time": "2022-02-16T07:29:04.203Z"
   },
   {
    "duration": 9,
    "start_time": "2022-02-16T07:29:04.216Z"
   }
  ],
  "kernelspec": {
   "display_name": "Python 3",
   "language": "python",
   "name": "python3"
  },
  "language_info": {
   "codemirror_mode": {
    "name": "ipython",
    "version": 3
   },
   "file_extension": ".py",
   "mimetype": "text/x-python",
   "name": "python",
   "nbconvert_exporter": "python",
   "pygments_lexer": "ipython3",
   "version": "3.8.3"
  },
  "toc": {
   "base_numbering": 1,
   "nav_menu": {},
   "number_sections": true,
   "sideBar": true,
   "skip_h1_title": true,
   "title_cell": "Содержание",
   "title_sidebar": "Contents",
   "toc_cell": true,
   "toc_position": {
    "height": "calc(100% - 180px)",
    "left": "10px",
    "top": "150px",
    "width": "186.493px"
   },
   "toc_section_display": true,
   "toc_window_display": true
  }
 },
 "nbformat": 4,
 "nbformat_minor": 4
}
