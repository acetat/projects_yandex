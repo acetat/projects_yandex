{
 "cells": [
  {
   "cell_type": "markdown",
   "metadata": {
    "toc": true
   },
   "source": [
    "<h1>Table of Contents<span class=\"tocSkip\"></span></h1>\n",
    "<div class=\"toc\"><ul class=\"toc-item\"><li><span><a href=\"#Постановка-задачи\" data-toc-modified-id=\"Постановка-задачи-1\"><span class=\"toc-item-num\">1&nbsp;&nbsp;</span>Постановка задачи</a></span></li><li><span><a href=\"#Изучение-данных\" data-toc-modified-id=\"Изучение-данных-2\"><span class=\"toc-item-num\">2&nbsp;&nbsp;</span>Изучение данных</a></span><ul class=\"toc-item\"><li><span><a href=\"#Вывод\" data-toc-modified-id=\"Вывод-2.1\"><span class=\"toc-item-num\">2.1&nbsp;&nbsp;</span>Вывод</a></span></li></ul></li><li><span><a href=\"#Подготовка-данных\" data-toc-modified-id=\"Подготовка-данных-3\"><span class=\"toc-item-num\">3&nbsp;&nbsp;</span>Подготовка данных</a></span><ul class=\"toc-item\"><li><span><a href=\"#Вывод\" data-toc-modified-id=\"Вывод-3.1\"><span class=\"toc-item-num\">3.1&nbsp;&nbsp;</span>Вывод</a></span></li></ul></li><li><span><a href=\"#Исследовательский-анализ-данных\" data-toc-modified-id=\"Исследовательский-анализ-данных-4\"><span class=\"toc-item-num\">4&nbsp;&nbsp;</span>Исследовательский анализ данных</a></span><ul class=\"toc-item\"><li><span><a href=\"#Определение-актуального-период-для-анализа\" data-toc-modified-id=\"Определение-актуального-период-для-анализа-4.1\"><span class=\"toc-item-num\">4.1&nbsp;&nbsp;</span>Определение актуального период для анализа</a></span><ul class=\"toc-item\"><li><span><a href=\"#Вывод\" data-toc-modified-id=\"Вывод-4.1.1\"><span class=\"toc-item-num\">4.1.1&nbsp;&nbsp;</span>Вывод</a></span></li></ul></li><li><span><a href=\"#Корелляция-между-отзывами-и-продажами\" data-toc-modified-id=\"Корелляция-между-отзывами-и-продажами-4.2\"><span class=\"toc-item-num\">4.2&nbsp;&nbsp;</span>Корелляция между отзывами и продажами</a></span><ul class=\"toc-item\"><li><span><a href=\"#Вывод\" data-toc-modified-id=\"Вывод-4.2.1\"><span class=\"toc-item-num\">4.2.1&nbsp;&nbsp;</span>Вывод</a></span></li></ul></li><li><span><a href=\"#Влияние-жанра-на-продажи\" data-toc-modified-id=\"Влияние-жанра-на-продажи-4.3\"><span class=\"toc-item-num\">4.3&nbsp;&nbsp;</span>Влияние жанра на продажи</a></span><ul class=\"toc-item\"><li><span><a href=\"#Вывод\" data-toc-modified-id=\"Вывод-4.3.1\"><span class=\"toc-item-num\">4.3.1&nbsp;&nbsp;</span>Вывод</a></span></li></ul></li><li><span><a href=\"#Вывод\" data-toc-modified-id=\"Вывод-4.4\"><span class=\"toc-item-num\">4.4&nbsp;&nbsp;</span>Вывод</a></span></li></ul></li><li><span><a href=\"#Портрет-пользователя-каждого-региона\" data-toc-modified-id=\"Портрет-пользователя-каждого-региона-5\"><span class=\"toc-item-num\">5&nbsp;&nbsp;</span>Портрет пользователя каждого региона</a></span><ul class=\"toc-item\"><li><span><a href=\"#Вывод\" data-toc-modified-id=\"Вывод-5.1\"><span class=\"toc-item-num\">5.1&nbsp;&nbsp;</span>Вывод</a></span></li></ul></li><li><span><a href=\"#Проверка-гипотез\" data-toc-modified-id=\"Проверка-гипотез-6\"><span class=\"toc-item-num\">6&nbsp;&nbsp;</span>Проверка гипотез</a></span><ul class=\"toc-item\"><li><span><a href=\"#Гипотеза:-Средние-пользовательские-рейтинги-платформ-Xbox-One-и-PC-одинаковые\" data-toc-modified-id=\"Гипотеза:-Средние-пользовательские-рейтинги-платформ-Xbox-One-и-PC-одинаковые-6.1\"><span class=\"toc-item-num\">6.1&nbsp;&nbsp;</span>Гипотеза: Средние пользовательские рейтинги платформ Xbox One и PC одинаковые</a></span></li><li><span><a href=\"#Средние-пользовательские-рейтинги-жанров-Action-(англ.-«действие»,-экшен-игры)-и-Sports-(англ.-«спортивные-соревнования»)-разные\" data-toc-modified-id=\"Средние-пользовательские-рейтинги-жанров-Action-(англ.-«действие»,-экшен-игры)-и-Sports-(англ.-«спортивные-соревнования»)-разные-6.2\"><span class=\"toc-item-num\">6.2&nbsp;&nbsp;</span>Средние пользовательские рейтинги жанров Action (англ. «действие», экшен-игры) и Sports (англ. «спортивные соревнования») разные</a></span></li><li><span><a href=\"#Вывод\" data-toc-modified-id=\"Вывод-6.3\"><span class=\"toc-item-num\">6.3&nbsp;&nbsp;</span>Вывод</a></span></li></ul></li><li><span><a href=\"#Общий-вывод\" data-toc-modified-id=\"Общий-вывод-7\"><span class=\"toc-item-num\">7&nbsp;&nbsp;</span>Общий вывод</a></span></li></ul></div>"
   ]
  },
  {
   "cell_type": "markdown",
   "metadata": {},
   "source": [
    "## Постановка задачи\n",
    "Для магазина видеоигр с продажами по всему миру необходимо провести анализ популярных игр и платформ для планирования дальнейших продаж. Из открытых источников доступны исторические данные о продажах игр, оценки пользователей и экспертов, жанры и платформы (например, Xbox или PlayStation). Нужно выявить определяющие успешность игры закономерности. Это позволит сделать ставку на потенциально популярный продукт и спланировать рекламные кампании."
   ]
  },
  {
   "cell_type": "code",
   "execution_count": 1,
   "metadata": {},
   "outputs": [],
   "source": [
    "from scipy import stats as st\n",
    "import numpy as np\n",
    "import pandas as pd\n",
    "import matplotlib.pyplot as plt\n",
    "from scipy.optimize import curve_fit"
   ]
  },
  {
   "cell_type": "markdown",
   "metadata": {},
   "source": [
    "## Изучение данных"
   ]
  },
  {
   "cell_type": "code",
   "execution_count": 2,
   "metadata": {},
   "outputs": [],
   "source": [
    "pd.set_option('display.max_columns', None)"
   ]
  },
  {
   "cell_type": "code",
   "execution_count": 3,
   "metadata": {
    "scrolled": false
   },
   "outputs": [
    {
     "data": {
      "text/html": [
       "<div>\n",
       "<style scoped>\n",
       "    .dataframe tbody tr th:only-of-type {\n",
       "        vertical-align: middle;\n",
       "    }\n",
       "\n",
       "    .dataframe tbody tr th {\n",
       "        vertical-align: top;\n",
       "    }\n",
       "\n",
       "    .dataframe thead th {\n",
       "        text-align: right;\n",
       "    }\n",
       "</style>\n",
       "<table border=\"1\" class=\"dataframe\">\n",
       "  <thead>\n",
       "    <tr style=\"text-align: right;\">\n",
       "      <th></th>\n",
       "      <th>Name</th>\n",
       "      <th>Platform</th>\n",
       "      <th>Year_of_Release</th>\n",
       "      <th>Genre</th>\n",
       "      <th>NA_sales</th>\n",
       "      <th>EU_sales</th>\n",
       "      <th>JP_sales</th>\n",
       "      <th>Other_sales</th>\n",
       "      <th>Critic_Score</th>\n",
       "      <th>User_Score</th>\n",
       "      <th>Rating</th>\n",
       "    </tr>\n",
       "  </thead>\n",
       "  <tbody>\n",
       "    <tr>\n",
       "      <td>0</td>\n",
       "      <td>Wii Sports</td>\n",
       "      <td>Wii</td>\n",
       "      <td>2006.0</td>\n",
       "      <td>Sports</td>\n",
       "      <td>41.36</td>\n",
       "      <td>28.96</td>\n",
       "      <td>3.77</td>\n",
       "      <td>8.45</td>\n",
       "      <td>76.0</td>\n",
       "      <td>8</td>\n",
       "      <td>E</td>\n",
       "    </tr>\n",
       "    <tr>\n",
       "      <td>1</td>\n",
       "      <td>Super Mario Bros.</td>\n",
       "      <td>NES</td>\n",
       "      <td>1985.0</td>\n",
       "      <td>Platform</td>\n",
       "      <td>29.08</td>\n",
       "      <td>3.58</td>\n",
       "      <td>6.81</td>\n",
       "      <td>0.77</td>\n",
       "      <td>NaN</td>\n",
       "      <td>NaN</td>\n",
       "      <td>NaN</td>\n",
       "    </tr>\n",
       "    <tr>\n",
       "      <td>2</td>\n",
       "      <td>Mario Kart Wii</td>\n",
       "      <td>Wii</td>\n",
       "      <td>2008.0</td>\n",
       "      <td>Racing</td>\n",
       "      <td>15.68</td>\n",
       "      <td>12.76</td>\n",
       "      <td>3.79</td>\n",
       "      <td>3.29</td>\n",
       "      <td>82.0</td>\n",
       "      <td>8.3</td>\n",
       "      <td>E</td>\n",
       "    </tr>\n",
       "    <tr>\n",
       "      <td>3</td>\n",
       "      <td>Wii Sports Resort</td>\n",
       "      <td>Wii</td>\n",
       "      <td>2009.0</td>\n",
       "      <td>Sports</td>\n",
       "      <td>15.61</td>\n",
       "      <td>10.93</td>\n",
       "      <td>3.28</td>\n",
       "      <td>2.95</td>\n",
       "      <td>80.0</td>\n",
       "      <td>8</td>\n",
       "      <td>E</td>\n",
       "    </tr>\n",
       "    <tr>\n",
       "      <td>4</td>\n",
       "      <td>Pokemon Red/Pokemon Blue</td>\n",
       "      <td>GB</td>\n",
       "      <td>1996.0</td>\n",
       "      <td>Role-Playing</td>\n",
       "      <td>11.27</td>\n",
       "      <td>8.89</td>\n",
       "      <td>10.22</td>\n",
       "      <td>1.00</td>\n",
       "      <td>NaN</td>\n",
       "      <td>NaN</td>\n",
       "      <td>NaN</td>\n",
       "    </tr>\n",
       "  </tbody>\n",
       "</table>\n",
       "</div>"
      ],
      "text/plain": [
       "                       Name Platform  Year_of_Release         Genre  NA_sales  \\\n",
       "0                Wii Sports      Wii           2006.0        Sports     41.36   \n",
       "1         Super Mario Bros.      NES           1985.0      Platform     29.08   \n",
       "2            Mario Kart Wii      Wii           2008.0        Racing     15.68   \n",
       "3         Wii Sports Resort      Wii           2009.0        Sports     15.61   \n",
       "4  Pokemon Red/Pokemon Blue       GB           1996.0  Role-Playing     11.27   \n",
       "\n",
       "   EU_sales  JP_sales  Other_sales  Critic_Score User_Score Rating  \n",
       "0     28.96      3.77         8.45          76.0          8      E  \n",
       "1      3.58      6.81         0.77           NaN        NaN    NaN  \n",
       "2     12.76      3.79         3.29          82.0        8.3      E  \n",
       "3     10.93      3.28         2.95          80.0          8      E  \n",
       "4      8.89     10.22         1.00           NaN        NaN    NaN  "
      ]
     },
     "metadata": {},
     "output_type": "display_data"
    },
    {
     "data": {
      "text/html": [
       "<div>\n",
       "<style scoped>\n",
       "    .dataframe tbody tr th:only-of-type {\n",
       "        vertical-align: middle;\n",
       "    }\n",
       "\n",
       "    .dataframe tbody tr th {\n",
       "        vertical-align: top;\n",
       "    }\n",
       "\n",
       "    .dataframe thead th {\n",
       "        text-align: right;\n",
       "    }\n",
       "</style>\n",
       "<table border=\"1\" class=\"dataframe\">\n",
       "  <thead>\n",
       "    <tr style=\"text-align: right;\">\n",
       "      <th></th>\n",
       "      <th>Year_of_Release</th>\n",
       "      <th>NA_sales</th>\n",
       "      <th>EU_sales</th>\n",
       "      <th>JP_sales</th>\n",
       "      <th>Other_sales</th>\n",
       "      <th>Critic_Score</th>\n",
       "    </tr>\n",
       "  </thead>\n",
       "  <tbody>\n",
       "    <tr>\n",
       "      <td>count</td>\n",
       "      <td>16446.000000</td>\n",
       "      <td>16715.000000</td>\n",
       "      <td>16715.000000</td>\n",
       "      <td>16715.000000</td>\n",
       "      <td>16715.000000</td>\n",
       "      <td>8137.000000</td>\n",
       "    </tr>\n",
       "    <tr>\n",
       "      <td>mean</td>\n",
       "      <td>2006.484616</td>\n",
       "      <td>0.263377</td>\n",
       "      <td>0.145060</td>\n",
       "      <td>0.077617</td>\n",
       "      <td>0.047342</td>\n",
       "      <td>68.967679</td>\n",
       "    </tr>\n",
       "    <tr>\n",
       "      <td>std</td>\n",
       "      <td>5.877050</td>\n",
       "      <td>0.813604</td>\n",
       "      <td>0.503339</td>\n",
       "      <td>0.308853</td>\n",
       "      <td>0.186731</td>\n",
       "      <td>13.938165</td>\n",
       "    </tr>\n",
       "    <tr>\n",
       "      <td>min</td>\n",
       "      <td>1980.000000</td>\n",
       "      <td>0.000000</td>\n",
       "      <td>0.000000</td>\n",
       "      <td>0.000000</td>\n",
       "      <td>0.000000</td>\n",
       "      <td>13.000000</td>\n",
       "    </tr>\n",
       "    <tr>\n",
       "      <td>25%</td>\n",
       "      <td>2003.000000</td>\n",
       "      <td>0.000000</td>\n",
       "      <td>0.000000</td>\n",
       "      <td>0.000000</td>\n",
       "      <td>0.000000</td>\n",
       "      <td>60.000000</td>\n",
       "    </tr>\n",
       "    <tr>\n",
       "      <td>50%</td>\n",
       "      <td>2007.000000</td>\n",
       "      <td>0.080000</td>\n",
       "      <td>0.020000</td>\n",
       "      <td>0.000000</td>\n",
       "      <td>0.010000</td>\n",
       "      <td>71.000000</td>\n",
       "    </tr>\n",
       "    <tr>\n",
       "      <td>75%</td>\n",
       "      <td>2010.000000</td>\n",
       "      <td>0.240000</td>\n",
       "      <td>0.110000</td>\n",
       "      <td>0.040000</td>\n",
       "      <td>0.030000</td>\n",
       "      <td>79.000000</td>\n",
       "    </tr>\n",
       "    <tr>\n",
       "      <td>max</td>\n",
       "      <td>2016.000000</td>\n",
       "      <td>41.360000</td>\n",
       "      <td>28.960000</td>\n",
       "      <td>10.220000</td>\n",
       "      <td>10.570000</td>\n",
       "      <td>98.000000</td>\n",
       "    </tr>\n",
       "  </tbody>\n",
       "</table>\n",
       "</div>"
      ],
      "text/plain": [
       "       Year_of_Release      NA_sales      EU_sales      JP_sales  \\\n",
       "count     16446.000000  16715.000000  16715.000000  16715.000000   \n",
       "mean       2006.484616      0.263377      0.145060      0.077617   \n",
       "std           5.877050      0.813604      0.503339      0.308853   \n",
       "min        1980.000000      0.000000      0.000000      0.000000   \n",
       "25%        2003.000000      0.000000      0.000000      0.000000   \n",
       "50%        2007.000000      0.080000      0.020000      0.000000   \n",
       "75%        2010.000000      0.240000      0.110000      0.040000   \n",
       "max        2016.000000     41.360000     28.960000     10.220000   \n",
       "\n",
       "        Other_sales  Critic_Score  \n",
       "count  16715.000000   8137.000000  \n",
       "mean       0.047342     68.967679  \n",
       "std        0.186731     13.938165  \n",
       "min        0.000000     13.000000  \n",
       "25%        0.000000     60.000000  \n",
       "50%        0.010000     71.000000  \n",
       "75%        0.030000     79.000000  \n",
       "max       10.570000     98.000000  "
      ]
     },
     "metadata": {},
     "output_type": "display_data"
    },
    {
     "name": "stdout",
     "output_type": "stream",
     "text": [
      "<class 'pandas.core.frame.DataFrame'>\n",
      "RangeIndex: 16715 entries, 0 to 16714\n",
      "Data columns (total 11 columns):\n",
      "Name               16713 non-null object\n",
      "Platform           16715 non-null object\n",
      "Year_of_Release    16446 non-null float64\n",
      "Genre              16713 non-null object\n",
      "NA_sales           16715 non-null float64\n",
      "EU_sales           16715 non-null float64\n",
      "JP_sales           16715 non-null float64\n",
      "Other_sales        16715 non-null float64\n",
      "Critic_Score       8137 non-null float64\n",
      "User_Score         10014 non-null object\n",
      "Rating             9949 non-null object\n",
      "dtypes: float64(6), object(5)\n",
      "memory usage: 1.4+ MB\n"
     ]
    }
   ],
   "source": [
    "df = pd.read_csv('/datasets/games.csv')\n",
    "display(df.head())\n",
    "display(df.describe())\n",
    "df.info()"
   ]
  },
  {
   "cell_type": "markdown",
   "metadata": {},
   "source": [
    "### Вывод\n",
    "нужно изменить названия колонок в соотв с правилами хорошего тона.\n",
    "\n",
    "Изменить типы данных в колонках year_of_release.\n",
    "\n",
    "Привести critic_score и user_score к одному масштабу.\n",
    "\n",
    "Есть пропуски в колонках <b> name, year_of_release, critic_score, user_score, rating </b>"
   ]
  },
  {
   "cell_type": "markdown",
   "metadata": {},
   "source": [
    "## Подготовка данных"
   ]
  },
  {
   "cell_type": "code",
   "execution_count": 4,
   "metadata": {
    "scrolled": true
   },
   "outputs": [
    {
     "data": {
      "text/plain": [
       "Index(['name', 'platform', 'year_of_release', 'genre', 'na_sales', 'eu_sales',\n",
       "       'jp_sales', 'other_sales', 'critic_score', 'user_score', 'rating'],\n",
       "      dtype='object')"
      ]
     },
     "execution_count": 4,
     "metadata": {},
     "output_type": "execute_result"
    }
   ],
   "source": [
    "#нужно изменить названия колонок в соотв с правилами хорошего тона.\n",
    "df.columns = [s.lower() for s in df.columns]\n",
    "df.columns"
   ]
  },
  {
   "cell_type": "code",
   "execution_count": 5,
   "metadata": {},
   "outputs": [],
   "source": [
    "df.dropna(subset=['year_of_release'], inplace=True) #пожертвовали 2% данных\n",
    "df['year_of_release'] = df['year_of_release'].astype('int')"
   ]
  },
  {
   "cell_type": "code",
   "execution_count": 6,
   "metadata": {},
   "outputs": [
    {
     "data": {
      "text/plain": [
       "5019"
      ]
     },
     "execution_count": 6,
     "metadata": {},
     "output_type": "execute_result"
    }
   ],
   "source": [
    "# check for duplicates\n",
    "df.name.duplicated().sum()"
   ]
  },
  {
   "cell_type": "markdown",
   "metadata": {},
   "source": [
    "Очевидно, что одна и та же игра может выходить на разных платформах. А также выходить в разные годы (релиз 2005 и 2012 годов для Need for Speed: Most Wanted). Поэтому посмотрим на дубликаты точнее:"
   ]
  },
  {
   "cell_type": "code",
   "execution_count": 7,
   "metadata": {
    "scrolled": false
   },
   "outputs": [
    {
     "data": {
      "text/html": [
       "<div>\n",
       "<style scoped>\n",
       "    .dataframe tbody tr th:only-of-type {\n",
       "        vertical-align: middle;\n",
       "    }\n",
       "\n",
       "    .dataframe tbody tr th {\n",
       "        vertical-align: top;\n",
       "    }\n",
       "\n",
       "    .dataframe thead th {\n",
       "        text-align: right;\n",
       "    }\n",
       "</style>\n",
       "<table border=\"1\" class=\"dataframe\">\n",
       "  <thead>\n",
       "    <tr style=\"text-align: right;\">\n",
       "      <th></th>\n",
       "      <th>name</th>\n",
       "      <th>platform</th>\n",
       "      <th>year_of_release</th>\n",
       "      <th>genre</th>\n",
       "      <th>na_sales</th>\n",
       "      <th>eu_sales</th>\n",
       "      <th>jp_sales</th>\n",
       "      <th>other_sales</th>\n",
       "      <th>critic_score</th>\n",
       "      <th>user_score</th>\n",
       "      <th>rating</th>\n",
       "    </tr>\n",
       "  </thead>\n",
       "  <tbody>\n",
       "    <tr>\n",
       "      <td>14244</td>\n",
       "      <td>NaN</td>\n",
       "      <td>GEN</td>\n",
       "      <td>1993</td>\n",
       "      <td>NaN</td>\n",
       "      <td>0.0</td>\n",
       "      <td>0.00</td>\n",
       "      <td>0.03</td>\n",
       "      <td>0.0</td>\n",
       "      <td>NaN</td>\n",
       "      <td>NaN</td>\n",
       "      <td>NaN</td>\n",
       "    </tr>\n",
       "    <tr>\n",
       "      <td>16230</td>\n",
       "      <td>Madden NFL 13</td>\n",
       "      <td>PS3</td>\n",
       "      <td>2012</td>\n",
       "      <td>Sports</td>\n",
       "      <td>0.0</td>\n",
       "      <td>0.01</td>\n",
       "      <td>0.00</td>\n",
       "      <td>0.0</td>\n",
       "      <td>83.0</td>\n",
       "      <td>5.5</td>\n",
       "      <td>E</td>\n",
       "    </tr>\n",
       "  </tbody>\n",
       "</table>\n",
       "</div>"
      ],
      "text/plain": [
       "                name platform  year_of_release   genre  na_sales  eu_sales  \\\n",
       "14244            NaN      GEN             1993     NaN       0.0      0.00   \n",
       "16230  Madden NFL 13      PS3             2012  Sports       0.0      0.01   \n",
       "\n",
       "       jp_sales  other_sales  critic_score user_score rating  \n",
       "14244      0.03          0.0           NaN        NaN    NaN  \n",
       "16230      0.00          0.0          83.0        5.5      E  "
      ]
     },
     "execution_count": 7,
     "metadata": {},
     "output_type": "execute_result"
    }
   ],
   "source": [
    "df[df[['name', 'platform', 'year_of_release']].duplicated()]"
   ]
  },
  {
   "cell_type": "code",
   "execution_count": 8,
   "metadata": {
    "scrolled": false
   },
   "outputs": [
    {
     "data": {
      "text/html": [
       "<div>\n",
       "<style scoped>\n",
       "    .dataframe tbody tr th:only-of-type {\n",
       "        vertical-align: middle;\n",
       "    }\n",
       "\n",
       "    .dataframe tbody tr th {\n",
       "        vertical-align: top;\n",
       "    }\n",
       "\n",
       "    .dataframe thead th {\n",
       "        text-align: right;\n",
       "    }\n",
       "</style>\n",
       "<table border=\"1\" class=\"dataframe\">\n",
       "  <thead>\n",
       "    <tr style=\"text-align: right;\">\n",
       "      <th></th>\n",
       "      <th>name</th>\n",
       "      <th>platform</th>\n",
       "      <th>year_of_release</th>\n",
       "      <th>genre</th>\n",
       "      <th>na_sales</th>\n",
       "      <th>eu_sales</th>\n",
       "      <th>jp_sales</th>\n",
       "      <th>other_sales</th>\n",
       "      <th>critic_score</th>\n",
       "      <th>user_score</th>\n",
       "      <th>rating</th>\n",
       "    </tr>\n",
       "  </thead>\n",
       "  <tbody>\n",
       "    <tr>\n",
       "      <td>659</td>\n",
       "      <td>NaN</td>\n",
       "      <td>GEN</td>\n",
       "      <td>1993</td>\n",
       "      <td>NaN</td>\n",
       "      <td>1.78</td>\n",
       "      <td>0.53</td>\n",
       "      <td>0.00</td>\n",
       "      <td>0.08</td>\n",
       "      <td>NaN</td>\n",
       "      <td>NaN</td>\n",
       "      <td>NaN</td>\n",
       "    </tr>\n",
       "    <tr>\n",
       "      <td>14244</td>\n",
       "      <td>NaN</td>\n",
       "      <td>GEN</td>\n",
       "      <td>1993</td>\n",
       "      <td>NaN</td>\n",
       "      <td>0.00</td>\n",
       "      <td>0.00</td>\n",
       "      <td>0.03</td>\n",
       "      <td>0.00</td>\n",
       "      <td>NaN</td>\n",
       "      <td>NaN</td>\n",
       "      <td>NaN</td>\n",
       "    </tr>\n",
       "  </tbody>\n",
       "</table>\n",
       "</div>"
      ],
      "text/plain": [
       "      name platform  year_of_release genre  na_sales  eu_sales  jp_sales  \\\n",
       "659    NaN      GEN             1993   NaN      1.78      0.53      0.00   \n",
       "14244  NaN      GEN             1993   NaN      0.00      0.00      0.03   \n",
       "\n",
       "       other_sales  critic_score user_score rating  \n",
       "659           0.08           NaN        NaN    NaN  \n",
       "14244         0.00           NaN        NaN    NaN  "
      ]
     },
     "metadata": {},
     "output_type": "display_data"
    },
    {
     "data": {
      "text/html": [
       "<div>\n",
       "<style scoped>\n",
       "    .dataframe tbody tr th:only-of-type {\n",
       "        vertical-align: middle;\n",
       "    }\n",
       "\n",
       "    .dataframe tbody tr th {\n",
       "        vertical-align: top;\n",
       "    }\n",
       "\n",
       "    .dataframe thead th {\n",
       "        text-align: right;\n",
       "    }\n",
       "</style>\n",
       "<table border=\"1\" class=\"dataframe\">\n",
       "  <thead>\n",
       "    <tr style=\"text-align: right;\">\n",
       "      <th></th>\n",
       "      <th>name</th>\n",
       "      <th>platform</th>\n",
       "      <th>year_of_release</th>\n",
       "      <th>genre</th>\n",
       "      <th>na_sales</th>\n",
       "      <th>eu_sales</th>\n",
       "      <th>jp_sales</th>\n",
       "      <th>other_sales</th>\n",
       "      <th>critic_score</th>\n",
       "      <th>user_score</th>\n",
       "      <th>rating</th>\n",
       "    </tr>\n",
       "  </thead>\n",
       "  <tbody>\n",
       "    <tr>\n",
       "      <td>604</td>\n",
       "      <td>Madden NFL 13</td>\n",
       "      <td>PS3</td>\n",
       "      <td>2012</td>\n",
       "      <td>Sports</td>\n",
       "      <td>2.11</td>\n",
       "      <td>0.22</td>\n",
       "      <td>0.0</td>\n",
       "      <td>0.23</td>\n",
       "      <td>83.0</td>\n",
       "      <td>5.5</td>\n",
       "      <td>E</td>\n",
       "    </tr>\n",
       "    <tr>\n",
       "      <td>16230</td>\n",
       "      <td>Madden NFL 13</td>\n",
       "      <td>PS3</td>\n",
       "      <td>2012</td>\n",
       "      <td>Sports</td>\n",
       "      <td>0.00</td>\n",
       "      <td>0.01</td>\n",
       "      <td>0.0</td>\n",
       "      <td>0.00</td>\n",
       "      <td>83.0</td>\n",
       "      <td>5.5</td>\n",
       "      <td>E</td>\n",
       "    </tr>\n",
       "  </tbody>\n",
       "</table>\n",
       "</div>"
      ],
      "text/plain": [
       "                name platform  year_of_release   genre  na_sales  eu_sales  \\\n",
       "604    Madden NFL 13      PS3             2012  Sports      2.11      0.22   \n",
       "16230  Madden NFL 13      PS3             2012  Sports      0.00      0.01   \n",
       "\n",
       "       jp_sales  other_sales  critic_score user_score rating  \n",
       "604         0.0         0.23          83.0        5.5      E  \n",
       "16230       0.0         0.00          83.0        5.5      E  "
      ]
     },
     "metadata": {},
     "output_type": "display_data"
    }
   ],
   "source": [
    "display(df[df.name.isna()])\n",
    "display(df.query(\"name =='Madden NFL 13' and platform == 'PS3'\"))"
   ]
  },
  {
   "cell_type": "markdown",
   "metadata": {},
   "source": [
    "Удалим строки с игрой NaN и строку с игрой Madden NFL 13 и нулевыми продажами:"
   ]
  },
  {
   "cell_type": "code",
   "execution_count": 9,
   "metadata": {},
   "outputs": [],
   "source": [
    "df.dropna(subset=['name'], inplace=True)\n",
    "df.drop(index=16230)\n",
    "df.reset_index(drop=True, inplace=True)"
   ]
  },
  {
   "cell_type": "code",
   "execution_count": 10,
   "metadata": {},
   "outputs": [
    {
     "name": "stdout",
     "output_type": "stream",
     "text": [
      "<class 'pandas.core.frame.DataFrame'>\n",
      "RangeIndex: 16444 entries, 0 to 16443\n",
      "Data columns (total 11 columns):\n",
      "name               16444 non-null object\n",
      "platform           16444 non-null object\n",
      "year_of_release    16444 non-null int64\n",
      "genre              16444 non-null object\n",
      "na_sales           16444 non-null float64\n",
      "eu_sales           16444 non-null float64\n",
      "jp_sales           16444 non-null float64\n",
      "other_sales        16444 non-null float64\n",
      "critic_score       7983 non-null float64\n",
      "user_score         9839 non-null object\n",
      "rating             9768 non-null object\n",
      "dtypes: float64(5), int64(1), object(5)\n",
      "memory usage: 1.4+ MB\n"
     ]
    }
   ],
   "source": [
    "df.info()"
   ]
  },
  {
   "cell_type": "markdown",
   "metadata": {},
   "source": [
    "приведем значения рeйтингов к одинаковой шкале от 1 до 10 для удобства:"
   ]
  },
  {
   "cell_type": "code",
   "execution_count": 11,
   "metadata": {},
   "outputs": [],
   "source": [
    "#приводим значения рeйтингов от критиков к шкале от 1 до 10. \n",
    "df.critic_score = df.critic_score / 10"
   ]
  },
  {
   "cell_type": "code",
   "execution_count": 12,
   "metadata": {},
   "outputs": [
    {
     "data": {
      "text/plain": [
       "array(['Wii', 'NES', 'GB', 'DS', 'X360', 'PS3', 'PS2', 'SNES', 'GBA',\n",
       "       'PS4', '3DS', 'N64', 'PS', 'XB', 'PC', '2600', 'PSP', 'XOne',\n",
       "       'WiiU', 'GC', 'GEN', 'DC', 'PSV', 'SAT', 'SCD', 'WS', 'NG', 'TG16',\n",
       "       '3DO', 'GG', 'PCFX'], dtype=object)"
      ]
     },
     "execution_count": 12,
     "metadata": {},
     "output_type": "execute_result"
    }
   ],
   "source": [
    "df.platform.unique() #проверили что нет дубликатов в названиях платформ"
   ]
  },
  {
   "cell_type": "code",
   "execution_count": 13,
   "metadata": {
    "scrolled": true
   },
   "outputs": [
    {
     "name": "stdout",
     "output_type": "stream",
     "text": [
      "2376\n"
     ]
    },
    {
     "data": {
      "text/plain": [
       "count    7463.000000\n",
       "mean        7.126330\n",
       "std         1.499447\n",
       "min         0.000000\n",
       "25%         6.400000\n",
       "50%         7.500000\n",
       "75%         8.200000\n",
       "max         9.700000\n",
       "Name: user_score, dtype: float64"
      ]
     },
     "execution_count": 13,
     "metadata": {},
     "output_type": "execute_result"
    }
   ],
   "source": [
    "print(len(df[df.user_score == 'tbd']))\n",
    "df[df.user_score != 'tbd']['user_score'].astype('float').describe()"
   ]
  },
  {
   "cell_type": "markdown",
   "metadata": {},
   "source": [
    "В столбце user_score 2376 рейтингов со значением tbd (to be determined). Можно это исправить: приравнять рейтингу от критиков:"
   ]
  },
  {
   "cell_type": "code",
   "execution_count": 14,
   "metadata": {},
   "outputs": [
    {
     "data": {
      "text/plain": [
       "<matplotlib.axes._subplots.AxesSubplot at 0x7f39de34ad50>"
      ]
     },
     "execution_count": 14,
     "metadata": {},
     "output_type": "execute_result"
    },
    {
     "data": {
      "image/png": "[encoded data removed]",
      "text/plain": [
       "<Figure size 432x288 with 1 Axes>"
      ]
     },
     "metadata": {
      "needs_background": "light"
     },
     "output_type": "display_data"
    }
   ],
   "source": [
    "a = df[df.user_score != 'tbd']['user_score'].astype('float')\n",
    "b = df[df.user_score != 'tbd']['critic_score']\n",
    "(a-b).hist(bins=20)"
   ]
  },
  {
   "cell_type": "code",
   "execution_count": 15,
   "metadata": {
    "scrolled": true
   },
   "outputs": [
    {
     "data": {
      "image/png": "[encoded data removed]",
      "text/plain": [
       "<Figure size 432x288 with 1 Axes>"
      ]
     },
     "metadata": {
      "needs_background": "light"
     },
     "output_type": "display_data"
    }
   ],
   "source": [
    "df.critic_score.hist(alpha=0.5, bins=20)\n",
    "df[df.user_score != 'tbd']['user_score'].astype('float').hist(alpha=0.5, bins=20)\n",
    "plt.show()"
   ]
  },
  {
   "cell_type": "code",
   "execution_count": 16,
   "metadata": {},
   "outputs": [
    {
     "name": "stderr",
     "output_type": "stream",
     "text": [
      "/opt/conda/lib/python3.7/site-packages/pandas/core/ops/__init__.py:1115: FutureWarning: elementwise comparison failed; returning scalar instead, but in the future will perform elementwise comparison\n",
      "  result = method(y)\n"
     ]
    },
    {
     "data": {
      "image/png": "[encoded data removed]",
      "text/plain": [
       "<Figure size 432x288 with 1 Axes>"
      ]
     },
     "metadata": {
      "needs_background": "light"
     },
     "output_type": "display_data"
    }
   ],
   "source": [
    "df['user_score'].values[df.user_score.values == 'tbd'] = df['critic_score'].values[df.user_score.values == 'tbd']\n",
    "df['user_score'] = df['user_score'].astype('float')\n",
    "\n",
    "df.critic_score.hist(alpha=0.5, bins=20, label='critics')\n",
    "df[df.user_score != 'tbd']['user_score'].astype('float').hist(alpha=0.5, bins=20, label='users')\n",
    "plt.legend()\n",
    "plt.show()"
   ]
  },
  {
   "cell_type": "code",
   "execution_count": 17,
   "metadata": {},
   "outputs": [
    {
     "data": {
      "text/html": [
       "<div>\n",
       "<style scoped>\n",
       "    .dataframe tbody tr th:only-of-type {\n",
       "        vertical-align: middle;\n",
       "    }\n",
       "\n",
       "    .dataframe tbody tr th {\n",
       "        vertical-align: top;\n",
       "    }\n",
       "\n",
       "    .dataframe thead th {\n",
       "        text-align: right;\n",
       "    }\n",
       "</style>\n",
       "<table border=\"1\" class=\"dataframe\">\n",
       "  <thead>\n",
       "    <tr style=\"text-align: right;\">\n",
       "      <th></th>\n",
       "      <th>critic_score</th>\n",
       "      <th>user_score</th>\n",
       "    </tr>\n",
       "  </thead>\n",
       "  <tbody>\n",
       "    <tr>\n",
       "      <td>count</td>\n",
       "      <td>7983.000000</td>\n",
       "      <td>8519.000000</td>\n",
       "    </tr>\n",
       "    <tr>\n",
       "      <td>mean</td>\n",
       "      <td>6.899436</td>\n",
       "      <td>6.996208</td>\n",
       "    </tr>\n",
       "    <tr>\n",
       "      <td>std</td>\n",
       "      <td>1.392006</td>\n",
       "      <td>1.498127</td>\n",
       "    </tr>\n",
       "    <tr>\n",
       "      <td>min</td>\n",
       "      <td>1.300000</td>\n",
       "      <td>0.000000</td>\n",
       "    </tr>\n",
       "    <tr>\n",
       "      <td>25%</td>\n",
       "      <td>6.000000</td>\n",
       "      <td>6.200000</td>\n",
       "    </tr>\n",
       "    <tr>\n",
       "      <td>50%</td>\n",
       "      <td>7.100000</td>\n",
       "      <td>7.300000</td>\n",
       "    </tr>\n",
       "    <tr>\n",
       "      <td>75%</td>\n",
       "      <td>7.900000</td>\n",
       "      <td>8.100000</td>\n",
       "    </tr>\n",
       "    <tr>\n",
       "      <td>max</td>\n",
       "      <td>9.800000</td>\n",
       "      <td>9.700000</td>\n",
       "    </tr>\n",
       "  </tbody>\n",
       "</table>\n",
       "</div>"
      ],
      "text/plain": [
       "       critic_score   user_score\n",
       "count   7983.000000  8519.000000\n",
       "mean       6.899436     6.996208\n",
       "std        1.392006     1.498127\n",
       "min        1.300000     0.000000\n",
       "25%        6.000000     6.200000\n",
       "50%        7.100000     7.300000\n",
       "75%        7.900000     8.100000\n",
       "max        9.800000     9.700000"
      ]
     },
     "execution_count": 17,
     "metadata": {},
     "output_type": "execute_result"
    }
   ],
   "source": [
    "df[['critic_score', 'user_score']].describe()"
   ]
  },
  {
   "cell_type": "code",
   "execution_count": 18,
   "metadata": {},
   "outputs": [],
   "source": [
    "df['total_sales'] = df[['na_sales','eu_sales','jp_sales','other_sales']].sum(axis=1)"
   ]
  },
  {
   "cell_type": "markdown",
   "metadata": {},
   "source": [
    "### Вывод\n",
    "Удалили дубликаты и строчки в которых не указана дата релиза.\n",
    "\n",
    "year_of_release сделали целочисленным.\n",
    "\n",
    "Привели значения рeйтингов к одинаковой шкале от 1 до 10. Значения пользовательского рейтинга 'tbd' заменили на значение из колонки с рейтингом от критиков. На распределении оценок это сильно не сказалось. Среднее упало на 0.13, медиана - на 0.20."
   ]
  },
  {
   "cell_type": "markdown",
   "metadata": {},
   "source": [
    "## Исследовательский анализ данных"
   ]
  },
  {
   "cell_type": "markdown",
   "metadata": {},
   "source": [
    "### Определение актуального период для анализа"
   ]
  },
  {
   "cell_type": "markdown",
   "metadata": {},
   "source": [
    "В датасете есть игры, которые выпускаются на разных платформах. Это нужно учесть, чтобы построить кол-во игр от года. "
   ]
  },
  {
   "cell_type": "code",
   "execution_count": 19,
   "metadata": {
    "scrolled": true
   },
   "outputs": [
    {
     "data": {
      "text/html": [
       "<div>\n",
       "<style scoped>\n",
       "    .dataframe tbody tr th:only-of-type {\n",
       "        vertical-align: middle;\n",
       "    }\n",
       "\n",
       "    .dataframe tbody tr th {\n",
       "        vertical-align: top;\n",
       "    }\n",
       "\n",
       "    .dataframe thead th {\n",
       "        text-align: right;\n",
       "    }\n",
       "</style>\n",
       "<table border=\"1\" class=\"dataframe\">\n",
       "  <thead>\n",
       "    <tr style=\"text-align: right;\">\n",
       "      <th></th>\n",
       "      <th>year_of_release</th>\n",
       "      <th>name</th>\n",
       "      <th>platform</th>\n",
       "    </tr>\n",
       "  </thead>\n",
       "  <tbody>\n",
       "    <tr>\n",
       "      <td>0</td>\n",
       "      <td>1980</td>\n",
       "      <td>Asteroids</td>\n",
       "      <td>1</td>\n",
       "    </tr>\n",
       "    <tr>\n",
       "      <td>1</td>\n",
       "      <td>1980</td>\n",
       "      <td>Boxing</td>\n",
       "      <td>1</td>\n",
       "    </tr>\n",
       "    <tr>\n",
       "      <td>2</td>\n",
       "      <td>1980</td>\n",
       "      <td>Bridge</td>\n",
       "      <td>1</td>\n",
       "    </tr>\n",
       "    <tr>\n",
       "      <td>3</td>\n",
       "      <td>1980</td>\n",
       "      <td>Checkers</td>\n",
       "      <td>1</td>\n",
       "    </tr>\n",
       "    <tr>\n",
       "      <td>4</td>\n",
       "      <td>1980</td>\n",
       "      <td>Defender</td>\n",
       "      <td>1</td>\n",
       "    </tr>\n",
       "    <tr>\n",
       "      <td>5</td>\n",
       "      <td>1980</td>\n",
       "      <td>Freeway</td>\n",
       "      <td>1</td>\n",
       "    </tr>\n",
       "    <tr>\n",
       "      <td>6</td>\n",
       "      <td>1980</td>\n",
       "      <td>Ice Hockey</td>\n",
       "      <td>1</td>\n",
       "    </tr>\n",
       "    <tr>\n",
       "      <td>7</td>\n",
       "      <td>1980</td>\n",
       "      <td>Kaboom!</td>\n",
       "      <td>1</td>\n",
       "    </tr>\n",
       "    <tr>\n",
       "      <td>8</td>\n",
       "      <td>1980</td>\n",
       "      <td>Missile Command</td>\n",
       "      <td>1</td>\n",
       "    </tr>\n",
       "    <tr>\n",
       "      <td>9</td>\n",
       "      <td>1981</td>\n",
       "      <td>Adventures of Tron</td>\n",
       "      <td>1</td>\n",
       "    </tr>\n",
       "  </tbody>\n",
       "</table>\n",
       "</div>"
      ],
      "text/plain": [
       "   year_of_release                name  platform\n",
       "0             1980           Asteroids         1\n",
       "1             1980              Boxing         1\n",
       "2             1980              Bridge         1\n",
       "3             1980            Checkers         1\n",
       "4             1980            Defender         1\n",
       "5             1980             Freeway         1\n",
       "6             1980          Ice Hockey         1\n",
       "7             1980             Kaboom!         1\n",
       "8             1980     Missile Command         1\n",
       "9             1981  Adventures of Tron         1"
      ]
     },
     "execution_count": 19,
     "metadata": {},
     "output_type": "execute_result"
    }
   ],
   "source": [
    "a = df.groupby(['year_of_release', 'name'])['platform'].count()\n",
    "a = a.reset_index()\n",
    "a.head(10)"
   ]
  },
  {
   "cell_type": "code",
   "execution_count": 20,
   "metadata": {},
   "outputs": [
    {
     "data": {
      "image/png": "[encoded data removed]",
      "text/plain": [
       "<Figure size 432x288 with 1 Axes>"
      ]
     },
     "metadata": {
      "needs_background": "light"
     },
     "output_type": "display_data"
    }
   ],
   "source": [
    "a.groupby(by=['year_of_release'])['platform'].count().plot(kind='bar', logy=True, title='Number of games per year')\n",
    "plt.show()"
   ]
  },
  {
   "cell_type": "code",
   "execution_count": 21,
   "metadata": {},
   "outputs": [
    {
     "data": {
      "text/html": [
       "<div>\n",
       "<style scoped>\n",
       "    .dataframe tbody tr th:only-of-type {\n",
       "        vertical-align: middle;\n",
       "    }\n",
       "\n",
       "    .dataframe tbody tr th {\n",
       "        vertical-align: top;\n",
       "    }\n",
       "\n",
       "    .dataframe thead th {\n",
       "        text-align: right;\n",
       "    }\n",
       "</style>\n",
       "<table border=\"1\" class=\"dataframe\">\n",
       "  <thead>\n",
       "    <tr style=\"text-align: right;\">\n",
       "      <th></th>\n",
       "      <th>total_sales</th>\n",
       "    </tr>\n",
       "    <tr>\n",
       "      <th>platform</th>\n",
       "      <th></th>\n",
       "    </tr>\n",
       "  </thead>\n",
       "  <tbody>\n",
       "    <tr>\n",
       "      <td>PS2</td>\n",
       "      <td>1233.56</td>\n",
       "    </tr>\n",
       "    <tr>\n",
       "      <td>X360</td>\n",
       "      <td>961.24</td>\n",
       "    </tr>\n",
       "    <tr>\n",
       "      <td>PS3</td>\n",
       "      <td>931.34</td>\n",
       "    </tr>\n",
       "    <tr>\n",
       "      <td>Wii</td>\n",
       "      <td>891.18</td>\n",
       "    </tr>\n",
       "    <tr>\n",
       "      <td>DS</td>\n",
       "      <td>802.78</td>\n",
       "    </tr>\n",
       "    <tr>\n",
       "      <td>PS</td>\n",
       "      <td>727.58</td>\n",
       "    </tr>\n",
       "    <tr>\n",
       "      <td>PS4</td>\n",
       "      <td>314.14</td>\n",
       "    </tr>\n",
       "    <tr>\n",
       "      <td>GBA</td>\n",
       "      <td>312.88</td>\n",
       "    </tr>\n",
       "    <tr>\n",
       "      <td>PSP</td>\n",
       "      <td>289.53</td>\n",
       "    </tr>\n",
       "    <tr>\n",
       "      <td>3DS</td>\n",
       "      <td>257.81</td>\n",
       "    </tr>\n",
       "    <tr>\n",
       "      <td>PC</td>\n",
       "      <td>255.76</td>\n",
       "    </tr>\n",
       "    <tr>\n",
       "      <td>GB</td>\n",
       "      <td>254.43</td>\n",
       "    </tr>\n",
       "    <tr>\n",
       "      <td>XB</td>\n",
       "      <td>251.57</td>\n",
       "    </tr>\n",
       "    <tr>\n",
       "      <td>NES</td>\n",
       "      <td>251.05</td>\n",
       "    </tr>\n",
       "    <tr>\n",
       "      <td>N64</td>\n",
       "      <td>218.01</td>\n",
       "    </tr>\n",
       "    <tr>\n",
       "      <td>SNES</td>\n",
       "      <td>200.04</td>\n",
       "    </tr>\n",
       "    <tr>\n",
       "      <td>GC</td>\n",
       "      <td>196.73</td>\n",
       "    </tr>\n",
       "    <tr>\n",
       "      <td>XOne</td>\n",
       "      <td>159.32</td>\n",
       "    </tr>\n",
       "    <tr>\n",
       "      <td>2600</td>\n",
       "      <td>86.48</td>\n",
       "    </tr>\n",
       "    <tr>\n",
       "      <td>WiiU</td>\n",
       "      <td>82.19</td>\n",
       "    </tr>\n",
       "    <tr>\n",
       "      <td>PSV</td>\n",
       "      <td>53.81</td>\n",
       "    </tr>\n",
       "    <tr>\n",
       "      <td>SAT</td>\n",
       "      <td>33.59</td>\n",
       "    </tr>\n",
       "    <tr>\n",
       "      <td>GEN</td>\n",
       "      <td>28.35</td>\n",
       "    </tr>\n",
       "    <tr>\n",
       "      <td>DC</td>\n",
       "      <td>15.95</td>\n",
       "    </tr>\n",
       "    <tr>\n",
       "      <td>SCD</td>\n",
       "      <td>1.86</td>\n",
       "    </tr>\n",
       "    <tr>\n",
       "      <td>NG</td>\n",
       "      <td>1.44</td>\n",
       "    </tr>\n",
       "    <tr>\n",
       "      <td>WS</td>\n",
       "      <td>1.42</td>\n",
       "    </tr>\n",
       "    <tr>\n",
       "      <td>TG16</td>\n",
       "      <td>0.16</td>\n",
       "    </tr>\n",
       "    <tr>\n",
       "      <td>3DO</td>\n",
       "      <td>0.10</td>\n",
       "    </tr>\n",
       "    <tr>\n",
       "      <td>GG</td>\n",
       "      <td>0.04</td>\n",
       "    </tr>\n",
       "    <tr>\n",
       "      <td>PCFX</td>\n",
       "      <td>0.03</td>\n",
       "    </tr>\n",
       "  </tbody>\n",
       "</table>\n",
       "</div>"
      ],
      "text/plain": [
       "          total_sales\n",
       "platform             \n",
       "PS2           1233.56\n",
       "X360           961.24\n",
       "PS3            931.34\n",
       "Wii            891.18\n",
       "DS             802.78\n",
       "PS             727.58\n",
       "PS4            314.14\n",
       "GBA            312.88\n",
       "PSP            289.53\n",
       "3DS            257.81\n",
       "PC             255.76\n",
       "GB             254.43\n",
       "XB             251.57\n",
       "NES            251.05\n",
       "N64            218.01\n",
       "SNES           200.04\n",
       "GC             196.73\n",
       "XOne           159.32\n",
       "2600            86.48\n",
       "WiiU            82.19\n",
       "PSV             53.81\n",
       "SAT             33.59\n",
       "GEN             28.35\n",
       "DC              15.95\n",
       "SCD              1.86\n",
       "NG               1.44\n",
       "WS               1.42\n",
       "TG16             0.16\n",
       "3DO              0.10\n",
       "GG               0.04\n",
       "PCFX             0.03"
      ]
     },
     "execution_count": 21,
     "metadata": {},
     "output_type": "execute_result"
    }
   ],
   "source": [
    "df.pivot_table(index=['platform'], values='total_sales', aggfunc='sum').sort_values(by='total_sales', ascending=False)"
   ]
  },
  {
   "cell_type": "code",
   "execution_count": 22,
   "metadata": {},
   "outputs": [
    {
     "data": {
      "text/plain": [
       "['PS2', 'X360', 'PS3', 'Wii', 'DS', 'PS', 'PS4']"
      ]
     },
     "execution_count": 22,
     "metadata": {},
     "output_type": "execute_result"
    }
   ],
   "source": [
    "#берем первые 7 платформ с наибольшими продажами \n",
    "popular_platforms = df.pivot_table(index=['platform'], values='total_sales', aggfunc='sum').sort_values(by='total_sales', ascending=False)[:7].index\n",
    "popular_platforms = list(popular_platforms)\n",
    "popular_platforms"
   ]
  },
  {
   "cell_type": "code",
   "execution_count": 23,
   "metadata": {
    "scrolled": false
   },
   "outputs": [
    {
     "data": {
      "image/png": "[encoded data removed]",
      "text/plain": [
       "<Figure size 432x288 with 1 Axes>"
      ]
     },
     "metadata": {
      "needs_background": "light"
     },
     "output_type": "display_data"
    }
   ],
   "source": [
    "#строим график продаж по каждой из популярных платформ\n",
    "for platf in popular_platforms:\n",
    "    plt.plot(df.query('platform == @platf').groupby(by=['year_of_release'])['total_sales'].sum().sort_index(),\n",
    "             'o-',\n",
    "             label=platf)\n",
    "plt.title(label='Sales total by platform')\n",
    "plt.legend()\n",
    "plt.show()"
   ]
  },
  {
   "cell_type": "markdown",
   "metadata": {},
   "source": [
    "Для расчета времени жизни платформы аппроксимируем графики стандартным распределением:"
   ]
  },
  {
   "cell_type": "code",
   "execution_count": 24,
   "metadata": {
    "scrolled": false
   },
   "outputs": [
    {
     "data": {
      "image/png": "[encoded data removed]",
      "text/plain": [
       "<Figure size 432x288 with 1 Axes>"
      ]
     },
     "metadata": {
      "needs_background": "light"
     },
     "output_type": "display_data"
    },
    {
     "data": {
      "image/png": "[encoded data removed]",
      "text/plain": [
       "<Figure size 432x288 with 1 Axes>"
      ]
     },
     "metadata": {
      "needs_background": "light"
     },
     "output_type": "display_data"
    },
    {
     "data": {
      "image/png": "[encoded data removed]",
      "text/plain": [
       "<Figure size 432x288 with 1 Axes>"
      ]
     },
     "metadata": {
      "needs_background": "light"
     },
     "output_type": "display_data"
    },
    {
     "data": {
      "image/png": "[encoded data removed]",
      "text/plain": [
       "<Figure size 432x288 with 1 Axes>"
      ]
     },
     "metadata": {
      "needs_background": "light"
     },
     "output_type": "display_data"
    },
    {
     "data": {
      "image/png": "[encoded data removed]",
      "text/plain": [
       "<Figure size 432x288 with 1 Axes>"
      ]
     },
     "metadata": {
      "needs_background": "light"
     },
     "output_type": "display_data"
    },
    {
     "data": {
      "image/png": "[encoded data removed]",
      "text/plain": [
       "<Figure size 432x288 with 1 Axes>"
      ]
     },
     "metadata": {
      "needs_background": "light"
     },
     "output_type": "display_data"
    },
    {
     "data": {
      "image/png": "[encoded data removed]",
      "text/plain": [
       "<Figure size 432x288 with 1 Axes>"
      ]
     },
     "metadata": {
      "needs_background": "light"
     },
     "output_type": "display_data"
    }
   ],
   "source": [
    "def gauss(x,a,x0,sigma):\n",
    "    return a*np.exp(-(x-x0)**2/(2*sigma**2))\n",
    "\n",
    "lifetime=[]\n",
    "\n",
    "for platf in popular_platforms:\n",
    "    x = df.query('platform == @platf').groupby(by=['year_of_release'])['total_sales'].sum().sort_index().index\n",
    "    y = df.query('platform == @platf').groupby(by=['year_of_release'])['total_sales'].sum().sort_index().values\n",
    "    \n",
    "    n = len(x)                          #the number of data\n",
    "    mean = sum(x * y) / sum(y)\n",
    "    sigma = np.sqrt(sum(y * (x - mean)**2) / sum(y))\n",
    "    popt,pcov = curve_fit(gauss,x,y,p0=[200,mean, sigma]) \n",
    "\n",
    "    plt.plot(range(min(x), max(x)+1), gauss(range(min(x), max(x)+1), *popt), 'r-', label='fit')\n",
    "    plt.plot(x, y, 'b+:', label=platf)\n",
    "    plt.legend()\n",
    "    plt.show()\n",
    "    \n",
    "    lifetime.append(popt[2]*6) #определяем время жизни как 6 станд отклонений для норм распределения"
   ]
  },
  {
   "cell_type": "code",
   "execution_count": 25,
   "metadata": {
    "scrolled": true
   },
   "outputs": [
    {
     "name": "stdout",
     "output_type": "stream",
     "text": [
      "PS2 \t 14.788373342996582\n",
      "X360 \t 15.130217859009118\n",
      "PS3 \t 15.179395071282705\n",
      "Wii \t 12.390592165923806\n",
      "DS \t 13.065138039827708\n",
      "PS \t 10.466939155509218\n",
      "PS4 \t 6.459733629732197\n",
      "mean lifetime: 12 years\n"
     ]
    }
   ],
   "source": [
    "#выводим времена жизни платформ\n",
    "for i in range(len(lifetime)):\n",
    "    print(popular_platforms[i],'\\t', lifetime[i])\n",
    "    \n",
    "mean_lifetime = np.mean((lifetime[1], lifetime[3], lifetime[4], lifetime[5]))\n",
    "mean_lifetime = int(mean_lifetime)\n",
    "print(f'mean lifetime: {mean_lifetime} years' )    "
   ]
  },
  {
   "cell_type": "markdown",
   "metadata": {},
   "source": [
    "#### Вывод\n",
    "Актуальный период можно взять равным 6 лет. Тогда новые платформы в теч последующих 6 лет пройдут через пик, а старые уже не будут влиять. \n",
    "\n",
    "Однаков индустрия развивается, игры становятся лучше, графика лучше, а пользователи — более требовательными. Поскольку свежая оценка, можно сократить немного этот период, до 4 лет, так как за последние 4 года продажи игр примерно на одном и том же уровне после резкого спада в 2012. К тому же в период начиная с 2012 года на рынок выходят самые последние консоли."
   ]
  },
  {
   "cell_type": "markdown",
   "metadata": {},
   "source": [
    "### Корелляция между отзывами и продажами"
   ]
  },
  {
   "cell_type": "code",
   "execution_count": 56,
   "metadata": {},
   "outputs": [
    {
     "data": {
      "text/plain": [
       "array(['PS3', 'X360', 'PS4', '3DS', 'XOne', 'WiiU', 'Wii', 'PC', 'PSV',\n",
       "       'DS', 'PSP'], dtype=object)"
      ]
     },
     "execution_count": 56,
     "metadata": {},
     "output_type": "execute_result"
    }
   ],
   "source": [
    "#оставляем только часть датасета за актуальный период\n",
    "df_actual = df.query('year_of_release > 2012')\n",
    "df_actual.platform.unique()"
   ]
  },
  {
   "cell_type": "code",
   "execution_count": 27,
   "metadata": {
    "scrolled": true
   },
   "outputs": [
    {
     "data": {
      "image/png": "[encoded data removed]",
      "text/plain": [
       "<Figure size 432x288 with 1 Axes>"
      ]
     },
     "metadata": {
      "needs_background": "light"
     },
     "output_type": "display_data"
    }
   ],
   "source": [
    "#строим кол-во продаж для каждой платформы\n",
    "for platf in df_actual.platform.unique():\n",
    "    plt.plot(df_actual.query('platform == @platf').groupby(by=['year_of_release'])['total_sales'].sum().sort_index(),\n",
    "             'o-',\n",
    "             label=platf)\n",
    "plt.plot(title='sd')    \n",
    "plt.legend()\n",
    "plt.show()"
   ]
  },
  {
   "cell_type": "markdown",
   "metadata": {},
   "source": [
    "Видно, что для всех представленных в данный момент на рынке платформ наблюдается спад в продаже. Некоторые платформы (PS4, XOne) находятся на пике или только начинают свой спад.\n",
    "\n",
    "На 2015-2016 лидируют PS4, XOne, 3DS."
   ]
  },
  {
   "cell_type": "code",
   "execution_count": 28,
   "metadata": {
    "scrolled": false
   },
   "outputs": [
    {
     "name": "stderr",
     "output_type": "stream",
     "text": [
      "/opt/conda/lib/python3.7/site-packages/numpy/core/_asarray.py:83: VisibleDeprecationWarning: Creating an ndarray from ragged nested sequences (which is a list-or-tuple of lists-or-tuples-or ndarrays with different lengths or shapes) is deprecated. If you meant to do this, you must specify 'dtype=object' when creating the ndarray\n",
      "  return array(a, dtype, copy=False, order=order)\n"
     ]
    },
    {
     "data": {
      "image/png": "[encoded data removed]",
      "text/plain": [
       "<Figure size 432x288 with 1 Axes>"
      ]
     },
     "metadata": {
      "needs_background": "light"
     },
     "output_type": "display_data"
    }
   ],
   "source": [
    "#Строим график \"ящик с усами\" для продаж по каждой платформе\n",
    "df_actual.pivot_table(index='name', columns='platform', values='total_sales').plot(kind='box', ylim=(0,2.5), title='Global sales of the games')\n",
    "plt.show()"
   ]
  },
  {
   "cell_type": "markdown",
   "metadata": {},
   "source": [
    "<b>Комментарий по распределению продаж по платформам </b>:\n",
    "Для всех платформ, кроме DS, наблюдаются выбросы значений. Однако выбросы - это какие-то популярные игры. Например, для платформы 3DS наблюдается маленький ящик и много выбросов. Это говорит о том, что большАя часть объема продаж делается за счет этих выбросов. В то же время у XOne ситуация иная: большой бокс, длинный ус и мало выбросов. Это свидетельствует о том, что на XOne покупают самые разные игры, причем, в немалом количестве. "
   ]
  },
  {
   "cell_type": "markdown",
   "metadata": {},
   "source": [
    "Смотрим, как влияют на продажи внутри популярных платформ отзывы пользователей и критиков. Строим диаграмму рассеяния и считаем корреляцию между отзывами и продажами.\n",
    "\n",
    "Для платформы не будем удалять все выбросы, так как это игры, в которые с охотой играют везде. В таком контексте это не совсем выброс. "
   ]
  },
  {
   "cell_type": "code",
   "execution_count": 30,
   "metadata": {
    "scrolled": false
   },
   "outputs": [
    {
     "data": {
      "text/html": [
       "<div>\n",
       "<style scoped>\n",
       "    .dataframe tbody tr th:only-of-type {\n",
       "        vertical-align: middle;\n",
       "    }\n",
       "\n",
       "    .dataframe tbody tr th {\n",
       "        vertical-align: top;\n",
       "    }\n",
       "\n",
       "    .dataframe thead th {\n",
       "        text-align: right;\n",
       "    }\n",
       "</style>\n",
       "<table border=\"1\" class=\"dataframe\">\n",
       "  <thead>\n",
       "    <tr style=\"text-align: right;\">\n",
       "      <th></th>\n",
       "      <th>critic_score</th>\n",
       "      <th>user_score</th>\n",
       "      <th>total_sales</th>\n",
       "    </tr>\n",
       "  </thead>\n",
       "  <tbody>\n",
       "    <tr>\n",
       "      <td>critic_score</td>\n",
       "      <td>1.000000</td>\n",
       "      <td>0.589771</td>\n",
       "      <td>0.376656</td>\n",
       "    </tr>\n",
       "    <tr>\n",
       "      <td>user_score</td>\n",
       "      <td>0.589771</td>\n",
       "      <td>1.000000</td>\n",
       "      <td>0.009941</td>\n",
       "    </tr>\n",
       "    <tr>\n",
       "      <td>total_sales</td>\n",
       "      <td>0.376656</td>\n",
       "      <td>0.009941</td>\n",
       "      <td>1.000000</td>\n",
       "    </tr>\n",
       "  </tbody>\n",
       "</table>\n",
       "</div>"
      ],
      "text/plain": [
       "              critic_score  user_score  total_sales\n",
       "critic_score      1.000000    0.589771     0.376656\n",
       "user_score        0.589771    1.000000     0.009941\n",
       "total_sales       0.376656    0.009941     1.000000"
      ]
     },
     "metadata": {},
     "output_type": "display_data"
    },
    {
     "data": {
      "image/png": "[encoded data removed]",
      "text/plain": [
       "<Figure size 432x288 with 9 Axes>"
      ]
     },
     "metadata": {
      "needs_background": "light"
     },
     "output_type": "display_data"
    }
   ],
   "source": [
    "df_PS4 = df_actual.query('platform == \"PS4\" & 0.1 <= total_sales <=4')\n",
    "display(df_PS4[['critic_score', 'user_score', 'total_sales']].corr())\n",
    "pd.plotting.scatter_matrix(df_PS4[['critic_score', 'user_score', 'total_sales']])\n",
    "plt.show()"
   ]
  },
  {
   "cell_type": "markdown",
   "metadata": {},
   "source": [
    "Даже если убрать выбросы (с суммарными продажами >4), то данные слабо коррелированы: Рейтинг критиков немного влияет на покупки игр, в то время как рейтинг пользователей не влияет совсем.  "
   ]
  },
  {
   "cell_type": "code",
   "execution_count": 31,
   "metadata": {},
   "outputs": [
    {
     "data": {
      "text/html": [
       "<div>\n",
       "<style scoped>\n",
       "    .dataframe tbody tr th:only-of-type {\n",
       "        vertical-align: middle;\n",
       "    }\n",
       "\n",
       "    .dataframe tbody tr th {\n",
       "        vertical-align: top;\n",
       "    }\n",
       "\n",
       "    .dataframe thead th {\n",
       "        text-align: right;\n",
       "    }\n",
       "</style>\n",
       "<table border=\"1\" class=\"dataframe\">\n",
       "  <thead>\n",
       "    <tr style=\"text-align: right;\">\n",
       "      <th></th>\n",
       "      <th>critic_score</th>\n",
       "      <th>user_score</th>\n",
       "      <th>total_sales</th>\n",
       "    </tr>\n",
       "  </thead>\n",
       "  <tbody>\n",
       "    <tr>\n",
       "      <td>critic_score</td>\n",
       "      <td>1.000000</td>\n",
       "      <td>0.556924</td>\n",
       "      <td>0.423603</td>\n",
       "    </tr>\n",
       "    <tr>\n",
       "      <td>user_score</td>\n",
       "      <td>0.556924</td>\n",
       "      <td>1.000000</td>\n",
       "      <td>0.079690</td>\n",
       "    </tr>\n",
       "    <tr>\n",
       "      <td>total_sales</td>\n",
       "      <td>0.423603</td>\n",
       "      <td>0.079690</td>\n",
       "      <td>1.000000</td>\n",
       "    </tr>\n",
       "  </tbody>\n",
       "</table>\n",
       "</div>"
      ],
      "text/plain": [
       "              critic_score  user_score  total_sales\n",
       "critic_score      1.000000    0.556924     0.423603\n",
       "user_score        0.556924    1.000000     0.079690\n",
       "total_sales       0.423603    0.079690     1.000000"
      ]
     },
     "metadata": {},
     "output_type": "display_data"
    },
    {
     "data": {
      "image/png": "[encoded data removed]",
      "text/plain": [
       "<Figure size 432x288 with 9 Axes>"
      ]
     },
     "metadata": {
      "needs_background": "light"
     },
     "output_type": "display_data"
    }
   ],
   "source": [
    "df_XOne = df_actual.query('platform == \"XOne\" & total_sales <=1.5')\n",
    "display(df_XOne[['critic_score', 'user_score', 'total_sales']].corr())\n",
    "pd.plotting.scatter_matrix(df_XOne[['critic_score', 'user_score', 'total_sales']])\n",
    "plt.show()"
   ]
  },
  {
   "cell_type": "markdown",
   "metadata": {},
   "source": [
    "То же верно и для других платформ (PSV, PC, 3DS)."
   ]
  },
  {
   "cell_type": "code",
   "execution_count": 32,
   "metadata": {},
   "outputs": [
    {
     "name": "stdout",
     "output_type": "stream",
     "text": [
      "PSV\n"
     ]
    },
    {
     "data": {
      "text/html": [
       "<div>\n",
       "<style scoped>\n",
       "    .dataframe tbody tr th:only-of-type {\n",
       "        vertical-align: middle;\n",
       "    }\n",
       "\n",
       "    .dataframe tbody tr th {\n",
       "        vertical-align: top;\n",
       "    }\n",
       "\n",
       "    .dataframe thead th {\n",
       "        text-align: right;\n",
       "    }\n",
       "</style>\n",
       "<table border=\"1\" class=\"dataframe\">\n",
       "  <thead>\n",
       "    <tr style=\"text-align: right;\">\n",
       "      <th></th>\n",
       "      <th>critic_score</th>\n",
       "      <th>user_score</th>\n",
       "      <th>total_sales</th>\n",
       "    </tr>\n",
       "  </thead>\n",
       "  <tbody>\n",
       "    <tr>\n",
       "      <td>critic_score</td>\n",
       "      <td>1.000000</td>\n",
       "      <td>0.609253</td>\n",
       "      <td>0.254742</td>\n",
       "    </tr>\n",
       "    <tr>\n",
       "      <td>user_score</td>\n",
       "      <td>0.609253</td>\n",
       "      <td>1.000000</td>\n",
       "      <td>0.002471</td>\n",
       "    </tr>\n",
       "    <tr>\n",
       "      <td>total_sales</td>\n",
       "      <td>0.254742</td>\n",
       "      <td>0.002471</td>\n",
       "      <td>1.000000</td>\n",
       "    </tr>\n",
       "  </tbody>\n",
       "</table>\n",
       "</div>"
      ],
      "text/plain": [
       "              critic_score  user_score  total_sales\n",
       "critic_score      1.000000    0.609253     0.254742\n",
       "user_score        0.609253    1.000000     0.002471\n",
       "total_sales       0.254742    0.002471     1.000000"
      ]
     },
     "metadata": {},
     "output_type": "display_data"
    },
    {
     "data": {
      "image/png": "[encoded data removed]",
      "text/plain": [
       "<Figure size 432x288 with 9 Axes>"
      ]
     },
     "metadata": {
      "needs_background": "light"
     },
     "output_type": "display_data"
    },
    {
     "name": "stdout",
     "output_type": "stream",
     "text": [
      "PC\n"
     ]
    },
    {
     "data": {
      "text/html": [
       "<div>\n",
       "<style scoped>\n",
       "    .dataframe tbody tr th:only-of-type {\n",
       "        vertical-align: middle;\n",
       "    }\n",
       "\n",
       "    .dataframe tbody tr th {\n",
       "        vertical-align: top;\n",
       "    }\n",
       "\n",
       "    .dataframe thead th {\n",
       "        text-align: right;\n",
       "    }\n",
       "</style>\n",
       "<table border=\"1\" class=\"dataframe\">\n",
       "  <thead>\n",
       "    <tr style=\"text-align: right;\">\n",
       "      <th></th>\n",
       "      <th>critic_score</th>\n",
       "      <th>user_score</th>\n",
       "      <th>total_sales</th>\n",
       "    </tr>\n",
       "  </thead>\n",
       "  <tbody>\n",
       "    <tr>\n",
       "      <td>critic_score</td>\n",
       "      <td>1.000000</td>\n",
       "      <td>0.424144</td>\n",
       "      <td>0.277057</td>\n",
       "    </tr>\n",
       "    <tr>\n",
       "      <td>user_score</td>\n",
       "      <td>0.424144</td>\n",
       "      <td>1.000000</td>\n",
       "      <td>-0.070090</td>\n",
       "    </tr>\n",
       "    <tr>\n",
       "      <td>total_sales</td>\n",
       "      <td>0.277057</td>\n",
       "      <td>-0.070090</td>\n",
       "      <td>1.000000</td>\n",
       "    </tr>\n",
       "  </tbody>\n",
       "</table>\n",
       "</div>"
      ],
      "text/plain": [
       "              critic_score  user_score  total_sales\n",
       "critic_score      1.000000    0.424144     0.277057\n",
       "user_score        0.424144    1.000000    -0.070090\n",
       "total_sales       0.277057   -0.070090     1.000000"
      ]
     },
     "metadata": {},
     "output_type": "display_data"
    },
    {
     "data": {
      "image/png": "[encoded data removed]",
      "text/plain": [
       "<Figure size 432x288 with 9 Axes>"
      ]
     },
     "metadata": {
      "needs_background": "light"
     },
     "output_type": "display_data"
    },
    {
     "name": "stdout",
     "output_type": "stream",
     "text": [
      "3DS\n"
     ]
    },
    {
     "data": {
      "text/html": [
       "<div>\n",
       "<style scoped>\n",
       "    .dataframe tbody tr th:only-of-type {\n",
       "        vertical-align: middle;\n",
       "    }\n",
       "\n",
       "    .dataframe tbody tr th {\n",
       "        vertical-align: top;\n",
       "    }\n",
       "\n",
       "    .dataframe thead th {\n",
       "        text-align: right;\n",
       "    }\n",
       "</style>\n",
       "<table border=\"1\" class=\"dataframe\">\n",
       "  <thead>\n",
       "    <tr style=\"text-align: right;\">\n",
       "      <th></th>\n",
       "      <th>critic_score</th>\n",
       "      <th>user_score</th>\n",
       "      <th>total_sales</th>\n",
       "    </tr>\n",
       "  </thead>\n",
       "  <tbody>\n",
       "    <tr>\n",
       "      <td>critic_score</td>\n",
       "      <td>1.000000</td>\n",
       "      <td>0.762763</td>\n",
       "      <td>0.231652</td>\n",
       "    </tr>\n",
       "    <tr>\n",
       "      <td>user_score</td>\n",
       "      <td>0.762763</td>\n",
       "      <td>1.000000</td>\n",
       "      <td>0.093478</td>\n",
       "    </tr>\n",
       "    <tr>\n",
       "      <td>total_sales</td>\n",
       "      <td>0.231652</td>\n",
       "      <td>0.093478</td>\n",
       "      <td>1.000000</td>\n",
       "    </tr>\n",
       "  </tbody>\n",
       "</table>\n",
       "</div>"
      ],
      "text/plain": [
       "              critic_score  user_score  total_sales\n",
       "critic_score      1.000000    0.762763     0.231652\n",
       "user_score        0.762763    1.000000     0.093478\n",
       "total_sales       0.231652    0.093478     1.000000"
      ]
     },
     "metadata": {},
     "output_type": "display_data"
    },
    {
     "data": {
      "image/png": "[encoded data removed]",
      "text/plain": [
       "<Figure size 432x288 with 9 Axes>"
      ]
     },
     "metadata": {
      "needs_background": "light"
     },
     "output_type": "display_data"
    }
   ],
   "source": [
    "platforms = ['PSV', 'PC', '3DS']\n",
    "for platf in platforms:\n",
    "    print(platf)\n",
    "    df_noname = df_actual.query('platform == @platf & total_sales <=4')\n",
    "    display(df_noname[['critic_score', 'user_score', 'total_sales']].corr())\n",
    "    pd.plotting.scatter_matrix(df_noname[['critic_score', 'user_score', 'total_sales']])\n",
    "    plt.show()"
   ]
  },
  {
   "cell_type": "markdown",
   "metadata": {},
   "source": [
    "#### Вывод\n",
    "Рейтинг критиков немного влияет на покупки игр, в то время как рейтинг пользователей не влияет совсем."
   ]
  },
  {
   "cell_type": "markdown",
   "metadata": {},
   "source": [
    "### Влияние жанра на продажи \n",
    "Смотрим на общее распределение игр по жанрам."
   ]
  },
  {
   "cell_type": "code",
   "execution_count": 44,
   "metadata": {
    "scrolled": false
   },
   "outputs": [
    {
     "data": {
      "image/png": "[encoded data removed]",
      "text/plain": [
       "<Figure size 432x288 with 1 Axes>"
      ]
     },
     "metadata": {
      "needs_background": "light"
     },
     "output_type": "display_data"
    },
    {
     "data": {
      "image/png": "[encoded data removed]",
      "text/plain": [
       "<Figure size 432x288 with 1 Axes>"
      ]
     },
     "metadata": {
      "needs_background": "light"
     },
     "output_type": "display_data"
    },
    {
     "data": {
      "image/png": "[encoded data removed]",
      "text/plain": [
       "<Figure size 432x288 with 1 Axes>"
      ]
     },
     "metadata": {
      "needs_background": "light"
     },
     "output_type": "display_data"
    }
   ],
   "source": [
    "df_actual.genre.value_counts().sort_index().plot(kind='bar', title='genres distribution, 2010-2016')\n",
    "plt.show()\n",
    "\n",
    "df_actual.groupby(by=['genre'])['total_sales'].sum().sort_index().plot(kind='bar', title='sales')\n",
    "plt.show()\n",
    "\n",
    "df_actual.groupby(by=['genre'])['total_sales'].mean().sort_index().plot(kind='bar', title='mean sales by genre')\n",
    "plt.show()"
   ]
  },
  {
   "cell_type": "markdown",
   "metadata": {},
   "source": [
    "#### Вывод\n",
    "Среди всех выделяется жанр Action: много игр и продаж. Большой популярностью также обладают игры жанра SHooter Role-Playing. На рынке достаточно много игр жанра Adventure, но они малопопулярны.\n",
    "Если рассматривать средние продажи по жанрам, то лидирует Shooter."
   ]
  },
  {
   "cell_type": "markdown",
   "metadata": {},
   "source": [
    "### Вывод\n",
    "\n",
    "Определили актуальный период как 4 года путем анализа продаж по наиболее популярным платформам. Анализ Провели исходя из данных за последние 4 лет.\n",
    "\n",
    "Продажи игр слабо кореллированы с пользовательским рейтингом, тогда как явно наблюдается корреляция с рейтингом критиков.\n",
    "\n",
    "Среди всех выделяется жанр Action: много игр и продаж. Большой популярностью также обладают игры жанра SHooter Role-Playing. На рынке достаточно много игр жанра Adventure, но они малопопулярны. Если рассматривать средние продажи по жанрам, то лидирует Shooter."
   ]
  },
  {
   "cell_type": "markdown",
   "metadata": {},
   "source": [
    "## Портрет пользователя каждого региона\n",
    "Определяем для пользователя каждого региона (NA, EU, JP):\n",
    "\n",
    "•\tСамые популярные платформы (топ-5)."
   ]
  },
  {
   "cell_type": "code",
   "execution_count": 46,
   "metadata": {},
   "outputs": [
    {
     "name": "stdout",
     "output_type": "stream",
     "text": [
      "platform\n",
      "PS4     0.25\n",
      "XOne    0.21\n",
      "X360    0.19\n",
      "PS3     0.15\n",
      "3DS     0.09\n",
      "Name: na_sales, dtype: float64\n",
      "platform\n",
      "PS4     0.36\n",
      "PS3     0.17\n",
      "XOne    0.13\n",
      "X360    0.11\n",
      "3DS     0.08\n",
      "Name: eu_sales, dtype: float64\n",
      "platform\n",
      "3DS     0.48\n",
      "PS3     0.17\n",
      "PSV     0.13\n",
      "PS4     0.11\n",
      "WiiU    0.08\n",
      "Name: jp_sales, dtype: float64\n"
     ]
    }
   ],
   "source": [
    "print((df_actual.groupby('platform')['na_sales'].sum().sort_values(ascending=False) / df_actual['na_sales'].sum())[:5].round(2))\n",
    "print((df_actual.groupby('platform')['eu_sales'].sum().sort_values(ascending=False) / df_actual['eu_sales'].sum())[:5].round(2))\n",
    "print((df_actual.groupby('platform')['jp_sales'].sum().sort_values(ascending=False) / df_actual['jp_sales'].sum())[:5].round(2))"
   ]
  },
  {
   "cell_type": "markdown",
   "metadata": {},
   "source": [
    "Похоже, что японцы больше любят портативные консоли и родной рынок. Игры на иксбоксы там продвигать точно не стоит.\n",
    "\n",
    "\n",
    "\n",
    "•\tСамые популярные жанры (топ-5):"
   ]
  },
  {
   "cell_type": "code",
   "execution_count": 36,
   "metadata": {
    "scrolled": false
   },
   "outputs": [
    {
     "name": "stdout",
     "output_type": "stream",
     "text": [
      "genre\n",
      "Action          0.29\n",
      "Shooter         0.25\n",
      "Sports          0.15\n",
      "Role-Playing    0.11\n",
      "Misc            0.06\n",
      "Name: na_sales, dtype: float64\n",
      "genre\n",
      "Action          0.30\n",
      "Shooter         0.22\n",
      "Sports          0.15\n",
      "Role-Playing    0.09\n",
      "Racing          0.05\n",
      "Name: eu_sales, dtype: float64\n",
      "genre\n",
      "Role-Playing    0.36\n",
      "Action          0.29\n",
      "Misc            0.07\n",
      "Fighting        0.05\n",
      "Shooter         0.05\n",
      "Name: jp_sales, dtype: float64\n"
     ]
    }
   ],
   "source": [
    "print((df_actual.groupby('genre')['na_sales'].sum().sort_values(ascending=False) / df_actual['na_sales'].sum())[:5].round(2))\n",
    "print((df_actual.groupby('genre')['eu_sales'].sum().sort_values(ascending=False) / df_actual['eu_sales'].sum())[:5].round(2))\n",
    "print((df_actual.groupby('genre')['jp_sales'].sum().sort_values(ascending=False) / df_actual['jp_sales'].sum())[:5].round(2))"
   ]
  },
  {
   "cell_type": "markdown",
   "metadata": {},
   "source": [
    "•\tСмотрим, как влияет рейтинг ESRB на продажи в отдельном регионе. ESRB (Entertainment Software Rating Board) — это ассоциация, определяющая возрастной рейтинг компьютерных игр. ESRB оценивает игровой контент и присваивает ему подходящую возрастную категорию, например, «Для взрослых», «Для детей младшего возраста» или «Для подростков».\n",
    "\n",
    "Для изучения влияния рейтинга ESRB отсутствующий возрастной рейтинг предварительно заменяем на маркерное значение (*no_rating*)."
   ]
  },
  {
   "cell_type": "code",
   "execution_count": 58,
   "metadata": {},
   "outputs": [
    {
     "name": "stdout",
     "output_type": "stream",
     "text": [
      "rating\n",
      "M            0.38\n",
      "no_rating    0.20\n",
      "E            0.18\n",
      "E10+         0.12\n",
      "T            0.11\n",
      "Name: na_sales, dtype: float64\n",
      "rating\n",
      "M            0.37\n",
      "E            0.21\n",
      "no_rating    0.20\n",
      "E10+         0.11\n",
      "T            0.11\n",
      "Name: eu_sales, dtype: float64\n",
      "rating\n",
      "no_rating    0.60\n",
      "T            0.15\n",
      "E            0.11\n",
      "M            0.10\n",
      "E10+         0.04\n",
      "Name: jp_sales, dtype: float64\n"
     ]
    }
   ],
   "source": [
    "df_actual.rating = df_actual.rating.fillna('no_rating')\n",
    "print((df_actual.groupby('rating')['na_sales'].sum().sort_values(ascending=False) /\n",
    "       df_actual['na_sales'].sum()).round(2))\n",
    "print((df_actual.groupby('rating')['eu_sales'].sum().sort_values(ascending=False) /\n",
    "       df_actual['eu_sales'].sum()).round(2))\n",
    "print((df_actual.groupby('rating')['jp_sales'].sum().sort_values(ascending=False) /\n",
    "       df_actual['jp_sales'].sum()).round(2))"
   ]
  },
  {
   "cell_type": "markdown",
   "metadata": {},
   "source": [
    "### Вывод \n",
    "В Северной америке наиболее популярны X360 и PS3, в Европе  PS3, PS4 и  X360. В Японии  с большим отрывом лидирует 3DS, хотя процент пользователей с PS3 такой же как в других регионах. \n",
    "\n",
    "Жанр Action имеет большуб популярность во всех регионах. Жанры Shooter и Sports популярны в Америке и в Европе, но не популярны в Японии, что наверное связано с культурными особенностями. Наиболее популярен в Японии жанр Role-Playing\n",
    "\n",
    "Возрастная категория влияет на продажи. Между Европой и Северной Америкой отличий нет, но Япония сильно отличается от этих регионов. Там 60% покупают контент без возрастного рейтинга, а контент для взрослых (M) покупает только 10% пользователей, в то время как в Америке и ЕС - почти треть.\n",
    "\n",
    "Япония снова отличилась. Скорее всего, дело в том, что ESRB работает только на территории Северной Америки, в Японии есть аналогичная организация: CERO. Разница в рынках (восточный и западный) наталкивает на мысль о том, что пропуски на самом деле не случайны."
   ]
  },
  {
   "cell_type": "markdown",
   "metadata": {},
   "source": [
    "## Проверка гипотез"
   ]
  },
  {
   "cell_type": "markdown",
   "metadata": {},
   "source": [
    "### Гипотеза: Средние пользовательские рейтинги платформ Xbox One и PC одинаковые"
   ]
  },
  {
   "cell_type": "code",
   "execution_count": 38,
   "metadata": {},
   "outputs": [
    {
     "data": {
      "text/html": [
       "<div>\n",
       "<style scoped>\n",
       "    .dataframe tbody tr th:only-of-type {\n",
       "        vertical-align: middle;\n",
       "    }\n",
       "\n",
       "    .dataframe tbody tr th {\n",
       "        vertical-align: top;\n",
       "    }\n",
       "\n",
       "    .dataframe thead th {\n",
       "        text-align: right;\n",
       "    }\n",
       "</style>\n",
       "<table border=\"1\" class=\"dataframe\">\n",
       "  <thead>\n",
       "    <tr style=\"text-align: right;\">\n",
       "      <th></th>\n",
       "      <th>mean</th>\n",
       "      <th>median</th>\n",
       "      <th>std</th>\n",
       "    </tr>\n",
       "    <tr>\n",
       "      <th>platform</th>\n",
       "      <th></th>\n",
       "      <th></th>\n",
       "      <th></th>\n",
       "    </tr>\n",
       "  </thead>\n",
       "  <tbody>\n",
       "    <tr>\n",
       "      <td>PC</td>\n",
       "      <td>6.27</td>\n",
       "      <td>6.8</td>\n",
       "      <td>1.74</td>\n",
       "    </tr>\n",
       "    <tr>\n",
       "      <td>XOne</td>\n",
       "      <td>6.51</td>\n",
       "      <td>6.8</td>\n",
       "      <td>1.38</td>\n",
       "    </tr>\n",
       "  </tbody>\n",
       "</table>\n",
       "</div>"
      ],
      "text/plain": [
       "          mean  median   std\n",
       "platform                    \n",
       "PC        6.27     6.8  1.74\n",
       "XOne      6.51     6.8  1.38"
      ]
     },
     "metadata": {},
     "output_type": "display_data"
    },
    {
     "data": {
      "image/png": "[encoded data removed]",
      "text/plain": [
       "<Figure size 432x288 with 1 Axes>"
      ]
     },
     "metadata": {
      "needs_background": "light"
     },
     "output_type": "display_data"
    }
   ],
   "source": [
    "display(df_actual.query('platform == \"XOne\" or platform == \"PC\"').groupby('platform')['user_score'].agg(['mean', 'median', 'std']).round(2))\n",
    "\n",
    "pc = df_actual.query('platform == \"XOne\"')['user_score']\n",
    "xone = df_actual.query('platform == \"PC\"')['user_score']\n",
    "\n",
    "pc.hist(alpha=0.5, bins=20, label='Xbox One', density=True)\n",
    "xone.hist(alpha=0.5, bins=20, label='PC', density=True)\n",
    "plt.title('User ratings')\n",
    "plt.legend()\n",
    "plt.show()"
   ]
  },
  {
   "cell_type": "code",
   "execution_count": 39,
   "metadata": {
    "scrolled": false
   },
   "outputs": [
    {
     "name": "stdout",
     "output_type": "stream",
     "text": [
      "p-значение: 0.15160735647143017\n",
      "Не получилось отвергнуть нулевую гипотезу\n"
     ]
    }
   ],
   "source": [
    "alpha = .01 # критический уровень статистической значимости\n",
    "\n",
    "results = st.ttest_ind(pc.dropna(), xone.dropna())\n",
    "results.statistic, results.pvalue\n",
    "\n",
    "print('p-значение:', results.pvalue) \n",
    "if  results.pvalue < alpha:# сравниваем получившееся p-значение с заданным уровнем статистической значимости\n",
    "    print(\"Отвергаем нулевую гипотезу\")\n",
    "else:\n",
    "    print(\"Не получилось отвергнуть нулевую гипотезу\")"
   ]
  },
  {
   "cell_type": "markdown",
   "metadata": {},
   "source": [
    "H0: Средние пользовательские рейтинги платформ Xbox One и PC равны\n",
    "\n",
    "H1: Средние пользовательские рейтинги платформ Xbox One и PC не равны\n",
    "\n",
    "Вывод: Нельзя отвергнуть нулевую гипотезу"
   ]
  },
  {
   "cell_type": "markdown",
   "metadata": {},
   "source": [
    "### Средние пользовательские рейтинги жанров Action (англ. «действие», экшен-игры) и Sports (англ. «спортивные соревнования») разные"
   ]
  },
  {
   "cell_type": "code",
   "execution_count": 40,
   "metadata": {
    "scrolled": false
   },
   "outputs": [
    {
     "data": {
      "text/html": [
       "<div>\n",
       "<style scoped>\n",
       "    .dataframe tbody tr th:only-of-type {\n",
       "        vertical-align: middle;\n",
       "    }\n",
       "\n",
       "    .dataframe tbody tr th {\n",
       "        vertical-align: top;\n",
       "    }\n",
       "\n",
       "    .dataframe thead th {\n",
       "        text-align: right;\n",
       "    }\n",
       "</style>\n",
       "<table border=\"1\" class=\"dataframe\">\n",
       "  <thead>\n",
       "    <tr style=\"text-align: right;\">\n",
       "      <th></th>\n",
       "      <th>mean</th>\n",
       "      <th>median</th>\n",
       "      <th>std</th>\n",
       "    </tr>\n",
       "    <tr>\n",
       "      <th>genre</th>\n",
       "      <th></th>\n",
       "      <th></th>\n",
       "      <th></th>\n",
       "    </tr>\n",
       "  </thead>\n",
       "  <tbody>\n",
       "    <tr>\n",
       "      <td>Action</td>\n",
       "      <td>6.83</td>\n",
       "      <td>7.1</td>\n",
       "      <td>1.33</td>\n",
       "    </tr>\n",
       "    <tr>\n",
       "      <td>Sports</td>\n",
       "      <td>5.22</td>\n",
       "      <td>5.5</td>\n",
       "      <td>1.78</td>\n",
       "    </tr>\n",
       "  </tbody>\n",
       "</table>\n",
       "</div>"
      ],
      "text/plain": [
       "        mean  median   std\n",
       "genre                     \n",
       "Action  6.83     7.1  1.33\n",
       "Sports  5.22     5.5  1.78"
      ]
     },
     "metadata": {},
     "output_type": "display_data"
    },
    {
     "data": {
      "image/png": "[encoded data removed]",
      "text/plain": [
       "<Figure size 432x288 with 1 Axes>"
      ]
     },
     "metadata": {
      "needs_background": "light"
     },
     "output_type": "display_data"
    }
   ],
   "source": [
    "display(df_actual.query('genre == \"Action\" or genre == \"Sports\"').groupby('genre')['user_score'].agg(['mean', 'median', 'std']).round(2))\n",
    "\n",
    "action = df_actual.query('genre == \"Action\"')['user_score']\n",
    "sports = df_actual.query('genre == \"Sports\"')['user_score']\n",
    "\n",
    "action.hist(alpha=0.5, bins=20, label='Xbox One', density=True)\n",
    "sports.hist(alpha=0.5, bins=20, label='PC', density=True)\n",
    "plt.title('User ratings')\n",
    "plt.legend()\n",
    "plt.show()"
   ]
  },
  {
   "cell_type": "code",
   "execution_count": 41,
   "metadata": {
    "scrolled": true
   },
   "outputs": [
    {
     "name": "stdout",
     "output_type": "stream",
     "text": [
      "p-значение: 4.708052137524622e-28\n",
      "Отвергаем нулевую гипотезу\n"
     ]
    }
   ],
   "source": [
    "alpha = .01 # критический уровень статистической значимости\n",
    "\n",
    "results = st.ttest_ind(action.dropna(), sports.dropna())\n",
    "results.statistic, results.pvalue\n",
    "\n",
    "print('p-значение:', results.pvalue) \n",
    "if  results.pvalue < alpha:# сравниваем получившееся p-значение с заданным уровнем статистической значимости\n",
    "    print(\"Отвергаем нулевую гипотезу\")\n",
    "else:\n",
    "    print(\"Не получилось отвергнуть нулевую гипотезу\")"
   ]
  },
  {
   "cell_type": "markdown",
   "metadata": {},
   "source": [
    "H0: Средние пользовательские рейтинги жанров Action и Sports равны\n",
    "\n",
    "H1: Средние пользовательские рейтингижанров Action и Sports не равны\n",
    "\n",
    "Вывод: Отвергаем нулевую гипотезу"
   ]
  },
  {
   "cell_type": "markdown",
   "metadata": {},
   "source": [
    "### Вывод\n",
    "Статистическая проверка гипотез показала, что:\n",
    "- Средние пользовательские рейтинги платформ Xbox One и PC могут быть одинаковыми\n",
    "- Средние пользовательские рейтинги жанров Action и Sports не равны"
   ]
  },
  {
   "cell_type": "markdown",
   "metadata": {},
   "source": [
    "## Общий вывод\n",
    "\n",
    "Исследовали датасет с продажами игр за 1998-2016 год. Удалили/заменили пропуски, \n",
    "\n",
    "Определили актуальный период как 4 года путем анализа продаж по наиболее популярным платформам. Анализ провели исходя из данных за последние 4 лет.\n",
    "\n",
    "Продажи игр слабо кореллированы с пользовательским рейтингом, тогда как с рейтингом критиков наблюдается слабая корреляция.\n",
    "\n",
    "Картина пользователей:\n",
    "- В Сев америке наиболее популярны X360 и PS3, в Европе PS3, PS4 и X360. В Японии с большим отрывом лидирует 3DS, хотя процент пользователей с PS3 такой же как в других регионах.\n",
    "- Жанр Action имеет большуб популярность во всех регионах. Жанры Shooter и Sports популярны в Америке и в Европе, но не популярны в Японии, что наверное связано с культурными особенностями. Наиболее популярен в Японии жанр Role-Playing\n",
    "- Возрастная категория влияет на продажи. Между Европой и Северной Америкой отличий нет, но Япония сильно отличается от этих регионов. Там 60% покупают контент без возрастного рейтинга, а контент для взрослых (M) покупает только 10% пользователей, в то время как в Америке и ЕС - почти треть.\n",
    "\n",
    "Статистическая проверка гипотез показала, что:\n",
    "- Средние пользовательские рейтинги платформ Xbox One и PC могут быть одинаковыми\n",
    "- Средние пользовательские рейтинги жанров Action и Sports не равны\n",
    "\n",
    "Рекомендации магазину на 2017 год:\n",
    "- Количество выпускаемых игр уменьшается. Возможно, стоит уменьшить объемы закупок.\n",
    "- Рейтинг критиков больше влияет на продажи, чем пользовательский рейтинг. Стоит закупать игры в соответствии с рейтингом критиков.\n",
    "- Наибольших продаж следует ожидать от жанра Action, а также SHooter и Role-Playing. Стоит быть осторожнее с играми жанра Adventure: их много на рынке, но они малопопулярны.\n",
    "- учесть географические особенности:\n",
    "    * Сев. Америка: платформы X360 и PS3, жанры Action, Shooter и Sports\n",
    "    * Европа: платформы PS3, PS4 и X360, жанры Action, Shooter и Sports\n",
    "    * Япония: платформы 3DS, PS3. жанры Action, Role-Playing. Уменьшить долю закупок игр категории М, увеличить долю игр без возрастной категории\n",
    "    \n"
   ]
  }
 ],
 "metadata": {
  "ExecuteTimeLog": [
   {
    "duration": 1835,
    "start_time": "2022-02-24T08:35:35.462Z"
   },
   {
    "duration": 4,
    "start_time": "2022-02-24T08:35:37.300Z"
   },
   {
    "duration": 7837,
    "start_time": "2022-02-24T08:35:37.311Z"
   },
   {
    "duration": -109,
    "start_time": "2022-02-24T08:35:45.263Z"
   },
   {
    "duration": -109,
    "start_time": "2022-02-24T08:35:45.265Z"
   },
   {
    "duration": -108,
    "start_time": "2022-02-24T08:35:45.266Z"
   },
   {
    "duration": -108,
    "start_time": "2022-02-24T08:35:45.268Z"
   },
   {
    "duration": -107,
    "start_time": "2022-02-24T08:35:45.269Z"
   },
   {
    "duration": -106,
    "start_time": "2022-02-24T08:35:45.270Z"
   },
   {
    "duration": -106,
    "start_time": "2022-02-24T08:35:45.272Z"
   },
   {
    "duration": -105,
    "start_time": "2022-02-24T08:35:45.273Z"
   },
   {
    "duration": -103,
    "start_time": "2022-02-24T08:35:45.274Z"
   },
   {
    "duration": -102,
    "start_time": "2022-02-24T08:35:45.275Z"
   },
   {
    "duration": -102,
    "start_time": "2022-02-24T08:35:45.277Z"
   },
   {
    "duration": -101,
    "start_time": "2022-02-24T08:35:45.278Z"
   },
   {
    "duration": -102,
    "start_time": "2022-02-24T08:35:45.280Z"
   },
   {
    "duration": -108,
    "start_time": "2022-02-24T08:35:45.287Z"
   },
   {
    "duration": -108,
    "start_time": "2022-02-24T08:35:45.289Z"
   },
   {
    "duration": -108,
    "start_time": "2022-02-24T08:35:45.290Z"
   },
   {
    "duration": -108,
    "start_time": "2022-02-24T08:35:45.291Z"
   },
   {
    "duration": -107,
    "start_time": "2022-02-24T08:35:45.292Z"
   },
   {
    "duration": -107,
    "start_time": "2022-02-24T08:35:45.293Z"
   },
   {
    "duration": -107,
    "start_time": "2022-02-24T08:35:45.294Z"
   },
   {
    "duration": -107,
    "start_time": "2022-02-24T08:35:45.296Z"
   },
   {
    "duration": -107,
    "start_time": "2022-02-24T08:35:45.297Z"
   },
   {
    "duration": -88,
    "start_time": "2022-02-24T08:35:45.298Z"
   },
   {
    "duration": -87,
    "start_time": "2022-02-24T08:35:45.299Z"
   },
   {
    "duration": -86,
    "start_time": "2022-02-24T08:35:45.300Z"
   },
   {
    "duration": -85,
    "start_time": "2022-02-24T08:35:45.301Z"
   },
   {
    "duration": -84,
    "start_time": "2022-02-24T08:35:45.302Z"
   },
   {
    "duration": -83,
    "start_time": "2022-02-24T08:35:45.303Z"
   },
   {
    "duration": -86,
    "start_time": "2022-02-24T08:35:45.308Z"
   },
   {
    "duration": -85,
    "start_time": "2022-02-24T08:35:45.309Z"
   },
   {
    "duration": -85,
    "start_time": "2022-02-24T08:35:45.311Z"
   },
   {
    "duration": -84,
    "start_time": "2022-02-24T08:35:45.312Z"
   },
   {
    "duration": -83,
    "start_time": "2022-02-24T08:35:45.313Z"
   },
   {
    "duration": -82,
    "start_time": "2022-02-24T08:35:45.314Z"
   },
   {
    "duration": -80,
    "start_time": "2022-02-24T08:35:45.315Z"
   },
   {
    "duration": -81,
    "start_time": "2022-02-24T08:35:45.319Z"
   },
   {
    "duration": 1405,
    "start_time": "2022-02-24T19:52:13.584Z"
   },
   {
    "duration": 4,
    "start_time": "2022-02-24T19:52:16.619Z"
   },
   {
    "duration": 3146,
    "start_time": "2022-02-24T19:52:18.251Z"
   },
   {
    "duration": 128,
    "start_time": "2022-02-24T19:52:39.172Z"
   },
   {
    "duration": 4,
    "start_time": "2022-02-24T19:54:18.740Z"
   },
   {
    "duration": 4,
    "start_time": "2022-02-24T19:54:18.753Z"
   },
   {
    "duration": 116,
    "start_time": "2022-02-24T19:54:18.760Z"
   },
   {
    "duration": 7,
    "start_time": "2022-02-24T19:54:18.880Z"
   },
   {
    "duration": 375,
    "start_time": "2022-02-24T19:54:18.911Z"
   },
   {
    "duration": -38,
    "start_time": "2022-02-24T19:54:19.328Z"
   },
   {
    "duration": -39,
    "start_time": "2022-02-24T19:54:19.331Z"
   },
   {
    "duration": -40,
    "start_time": "2022-02-24T19:54:19.334Z"
   },
   {
    "duration": -40,
    "start_time": "2022-02-24T19:54:19.336Z"
   },
   {
    "duration": 388,
    "start_time": "2022-02-24T19:54:58.879Z"
   },
   {
    "duration": 7,
    "start_time": "2022-02-24T19:55:01.855Z"
   },
   {
    "duration": 490,
    "start_time": "2022-02-24T19:55:03.709Z"
   },
   {
    "duration": 370,
    "start_time": "2022-02-24T19:55:06.458Z"
   },
   {
    "duration": 5,
    "start_time": "2022-02-24T19:57:23.131Z"
   },
   {
    "duration": 18,
    "start_time": "2022-02-24T19:57:23.138Z"
   },
   {
    "duration": 169,
    "start_time": "2022-02-24T19:57:23.160Z"
   },
   {
    "duration": 7,
    "start_time": "2022-02-24T19:57:26.726Z"
   },
   {
    "duration": 368,
    "start_time": "2022-02-24T19:57:28.096Z"
   },
   {
    "duration": 12,
    "start_time": "2022-02-24T19:57:49.821Z"
   },
   {
    "duration": 10,
    "start_time": "2022-02-24T19:57:53.245Z"
   },
   {
    "duration": 27,
    "start_time": "2022-02-24T19:57:55.882Z"
   },
   {
    "duration": 43,
    "start_time": "2022-02-24T19:57:57.648Z"
   },
   {
    "duration": 374,
    "start_time": "2022-02-24T19:57:59.484Z"
   },
   {
    "duration": 16,
    "start_time": "2022-02-24T19:58:04.210Z"
   },
   {
    "duration": 17,
    "start_time": "2022-02-24T19:58:05.783Z"
   },
   {
    "duration": 6,
    "start_time": "2022-02-24T19:58:30.710Z"
   },
   {
    "duration": 5,
    "start_time": "2022-02-24T19:59:35.972Z"
   },
   {
    "duration": 7,
    "start_time": "2022-02-24T19:59:38.128Z"
   },
   {
    "duration": 21,
    "start_time": "2022-02-24T19:59:39.339Z"
   },
   {
    "duration": 23,
    "start_time": "2022-02-24T20:00:17.052Z"
   },
   {
    "duration": -57,
    "start_time": "2022-02-24T20:08:08.173Z"
   },
   {
    "duration": 23,
    "start_time": "2022-02-24T20:08:15.740Z"
   },
   {
    "duration": 14,
    "start_time": "2022-02-24T20:08:24.070Z"
   },
   {
    "duration": 305,
    "start_time": "2022-02-24T20:08:31.392Z"
   },
   {
    "duration": 513,
    "start_time": "2022-02-24T20:09:15.511Z"
   },
   {
    "duration": 286,
    "start_time": "2022-02-24T20:10:03.418Z"
   },
   {
    "duration": 16,
    "start_time": "2022-02-24T20:10:09.034Z"
   },
   {
    "duration": 302,
    "start_time": "2022-02-24T20:10:18.416Z"
   },
   {
    "duration": 313,
    "start_time": "2022-02-24T20:10:47.948Z"
   },
   {
    "duration": 454,
    "start_time": "2022-02-24T20:10:51.776Z"
   },
   {
    "duration": 338,
    "start_time": "2022-02-24T20:11:08.243Z"
   },
   {
    "duration": 3689,
    "start_time": "2022-02-24T20:12:16.525Z"
   },
   {
    "duration": 504,
    "start_time": "2022-02-24T20:12:20.217Z"
   },
   {
    "duration": 28,
    "start_time": "2022-02-24T20:12:20.724Z"
   },
   {
    "duration": 7,
    "start_time": "2022-02-24T20:12:20.755Z"
   },
   {
    "duration": 78,
    "start_time": "2022-02-24T20:12:20.765Z"
   },
   {
    "duration": 1040,
    "start_time": "2022-02-24T20:12:20.846Z"
   },
   {
    "duration": 37,
    "start_time": "2022-02-24T20:12:21.888Z"
   },
   {
    "duration": 18,
    "start_time": "2022-02-24T20:12:21.928Z"
   },
   {
    "duration": 395,
    "start_time": "2022-02-24T20:12:21.950Z"
   },
   {
    "duration": 2531,
    "start_time": "2022-02-24T20:12:22.349Z"
   },
   {
    "duration": 8,
    "start_time": "2022-02-24T20:12:24.882Z"
   },
   {
    "duration": 11,
    "start_time": "2022-02-24T20:12:24.911Z"
   },
   {
    "duration": 498,
    "start_time": "2022-02-24T20:12:24.924Z"
   },
   {
    "duration": 667,
    "start_time": "2022-02-24T20:12:25.425Z"
   },
   {
    "duration": 1357,
    "start_time": "2022-02-24T20:12:26.095Z"
   },
   {
    "duration": 1314,
    "start_time": "2022-02-24T20:12:27.454Z"
   },
   {
    "duration": 22,
    "start_time": "2022-02-24T20:12:28.771Z"
   },
   {
    "duration": 621,
    "start_time": "2022-02-24T20:12:28.812Z"
   },
   {
    "duration": 19,
    "start_time": "2022-02-24T20:12:29.436Z"
   },
   {
    "duration": 19,
    "start_time": "2022-02-24T20:12:29.458Z"
   },
   {
    "duration": 29,
    "start_time": "2022-02-24T20:12:29.511Z"
   },
   {
    "duration": 503,
    "start_time": "2022-02-24T20:12:29.542Z"
   },
   {
    "duration": 10,
    "start_time": "2022-02-24T20:12:30.047Z"
   },
   {
    "duration": 494,
    "start_time": "2022-02-24T20:12:30.060Z"
   },
   {
    "duration": 11,
    "start_time": "2022-02-24T20:12:30.556Z"
   },
   {
    "duration": 387,
    "start_time": "2022-02-24T20:12:30.569Z"
   },
   {
    "duration": 20,
    "start_time": "2022-02-24T20:18:38.875Z"
   },
   {
    "duration": 363,
    "start_time": "2022-02-24T20:19:32.766Z"
   },
   {
    "duration": 678,
    "start_time": "2022-02-24T20:19:51.174Z"
   },
   {
    "duration": 379,
    "start_time": "2022-02-24T20:20:05.861Z"
   },
   {
    "duration": 701,
    "start_time": "2022-02-24T20:20:45.426Z"
   },
   {
    "duration": 371,
    "start_time": "2022-02-24T20:20:52.546Z"
   },
   {
    "duration": 373,
    "start_time": "2022-02-24T20:21:03.860Z"
   },
   {
    "duration": 9,
    "start_time": "2022-02-24T20:25:45.849Z"
   },
   {
    "duration": 11,
    "start_time": "2022-02-24T20:28:19.368Z"
   },
   {
    "duration": 10,
    "start_time": "2022-02-24T20:29:06.944Z"
   },
   {
    "duration": 10,
    "start_time": "2022-02-24T20:32:54.322Z"
   },
   {
    "duration": 458,
    "start_time": "2022-02-24T20:33:03.674Z"
   },
   {
    "duration": 447,
    "start_time": "2022-02-24T20:33:34.236Z"
   },
   {
    "duration": 511,
    "start_time": "2022-02-24T20:34:18.136Z"
   },
   {
    "duration": 1280,
    "start_time": "2022-02-24T20:39:22.551Z"
   },
   {
    "duration": 1196,
    "start_time": "2022-02-24T20:39:44.350Z"
   },
   {
    "duration": 3615,
    "start_time": "2022-02-24T20:44:56.783Z"
   },
   {
    "duration": 3718,
    "start_time": "2022-02-24T20:45:14.936Z"
   },
   {
    "duration": 4214,
    "start_time": "2022-02-24T20:45:37.079Z"
   },
   {
    "duration": 1211,
    "start_time": "2022-02-25T09:36:58.810Z"
   },
   {
    "duration": 4,
    "start_time": "2022-02-25T09:37:00.023Z"
   },
   {
    "duration": 99,
    "start_time": "2022-02-25T09:37:00.029Z"
   },
   {
    "duration": 5,
    "start_time": "2022-02-25T09:37:00.129Z"
   },
   {
    "duration": 11,
    "start_time": "2022-02-25T09:37:00.136Z"
   },
   {
    "duration": 9,
    "start_time": "2022-02-25T09:37:00.149Z"
   },
   {
    "duration": 27,
    "start_time": "2022-02-25T09:37:00.160Z"
   },
   {
    "duration": 32,
    "start_time": "2022-02-25T09:37:00.214Z"
   },
   {
    "duration": 13,
    "start_time": "2022-02-25T09:37:00.248Z"
   },
   {
    "duration": 20,
    "start_time": "2022-02-25T09:37:00.263Z"
   },
   {
    "duration": 6,
    "start_time": "2022-02-25T09:37:00.312Z"
   },
   {
    "duration": 14,
    "start_time": "2022-02-25T09:37:00.319Z"
   },
   {
    "duration": 30,
    "start_time": "2022-02-25T09:37:00.335Z"
   },
   {
    "duration": 246,
    "start_time": "2022-02-25T09:37:00.367Z"
   },
   {
    "duration": 266,
    "start_time": "2022-02-25T09:37:00.615Z"
   },
   {
    "duration": 312,
    "start_time": "2022-02-25T09:37:00.883Z"
   },
   {
    "duration": 31,
    "start_time": "2022-02-25T09:37:01.197Z"
   },
   {
    "duration": 5,
    "start_time": "2022-02-25T09:37:01.231Z"
   },
   {
    "duration": 63,
    "start_time": "2022-02-25T09:37:01.237Z"
   },
   {
    "duration": 700,
    "start_time": "2022-02-25T09:37:01.301Z"
   },
   {
    "duration": 25,
    "start_time": "2022-02-25T09:37:02.003Z"
   },
   {
    "duration": 13,
    "start_time": "2022-02-25T09:37:02.030Z"
   },
   {
    "duration": 436,
    "start_time": "2022-02-25T09:37:02.047Z"
   },
   {
    "duration": 1838,
    "start_time": "2022-02-25T09:37:02.485Z"
   },
   {
    "duration": 7,
    "start_time": "2022-02-25T09:37:04.325Z"
   },
   {
    "duration": 14,
    "start_time": "2022-02-25T09:37:04.334Z"
   },
   {
    "duration": 318,
    "start_time": "2022-02-25T09:37:04.350Z"
   },
   {
    "duration": 352,
    "start_time": "2022-02-25T09:37:04.670Z"
   },
   {
    "duration": 927,
    "start_time": "2022-02-25T09:37:05.025Z"
   },
   {
    "duration": 799,
    "start_time": "2022-02-25T09:37:05.954Z"
   },
   {
    "duration": 927,
    "start_time": "2022-02-25T09:37:06.755Z"
   },
   {
    "duration": 2485,
    "start_time": "2022-02-25T09:37:07.684Z"
   },
   {
    "duration": 18,
    "start_time": "2022-02-25T09:37:40.086Z"
   },
   {
    "duration": 401,
    "start_time": "2022-02-25T09:37:40.106Z"
   },
   {
    "duration": 15,
    "start_time": "2022-02-25T09:37:40.512Z"
   },
   {
    "duration": 13,
    "start_time": "2022-02-25T09:37:40.529Z"
   },
   {
    "duration": 18,
    "start_time": "2022-02-25T09:37:40.544Z"
   },
   {
    "duration": 347,
    "start_time": "2022-02-25T09:37:40.564Z"
   },
   {
    "duration": 7,
    "start_time": "2022-02-25T09:37:40.913Z"
   },
   {
    "duration": 409,
    "start_time": "2022-02-25T09:37:40.922Z"
   },
   {
    "duration": 8,
    "start_time": "2022-02-25T09:37:41.333Z"
   },
   {
    "duration": 652,
    "start_time": "2022-02-25T09:54:09.862Z"
   },
   {
    "duration": 606,
    "start_time": "2022-02-25T09:54:56.174Z"
   },
   {
    "duration": 646,
    "start_time": "2022-02-25T09:55:09.255Z"
   },
   {
    "duration": 5,
    "start_time": "2022-02-25T09:55:17.885Z"
   },
   {
    "duration": 15,
    "start_time": "2022-02-25T09:58:46.315Z"
   },
   {
    "duration": 5,
    "start_time": "2022-02-25T09:59:29.253Z"
   },
   {
    "duration": 8,
    "start_time": "2022-02-25T10:00:34.111Z"
   },
   {
    "duration": 8,
    "start_time": "2022-02-25T10:01:27.817Z"
   },
   {
    "duration": 12,
    "start_time": "2022-02-25T10:01:35.150Z"
   },
   {
    "duration": 9,
    "start_time": "2022-02-25T10:01:59.817Z"
   },
   {
    "duration": 8,
    "start_time": "2022-02-25T10:02:48.455Z"
   },
   {
    "duration": 10,
    "start_time": "2022-02-25T10:03:01.389Z"
   },
   {
    "duration": 9,
    "start_time": "2022-02-25T10:03:18.626Z"
   },
   {
    "duration": 8,
    "start_time": "2022-02-25T10:03:30.726Z"
   },
   {
    "duration": 8,
    "start_time": "2022-02-25T10:04:39.904Z"
   },
   {
    "duration": 9,
    "start_time": "2022-02-25T10:04:50.729Z"
   },
   {
    "duration": 15,
    "start_time": "2022-02-25T10:05:15.657Z"
   }
  ],
  "kernelspec": {
   "display_name": "Python 3",
   "language": "python",
   "name": "python3"
  },
  "language_info": {
   "codemirror_mode": {
    "name": "ipython",
    "version": 3
   },
   "file_extension": ".py",
   "mimetype": "text/x-python",
   "name": "python",
   "nbconvert_exporter": "python",
   "pygments_lexer": "ipython3",
   "version": "3.8.3"
  },
  "toc": {
   "base_numbering": 1,
   "nav_menu": {
    "height": "355.995px",
    "width": "344.005px"
   },
   "number_sections": true,
   "sideBar": true,
   "skip_h1_title": false,
   "title_cell": "Table of Contents",
   "title_sidebar": "Contents",
   "toc_cell": true,
   "toc_position": {
    "height": "calc(100% - 180px)",
    "left": "10px",
    "top": "150px",
    "width": "272.994px"
   },
   "toc_section_display": true,
   "toc_window_display": true
  }
 },
 "nbformat": 4,
 "nbformat_minor": 4
}
